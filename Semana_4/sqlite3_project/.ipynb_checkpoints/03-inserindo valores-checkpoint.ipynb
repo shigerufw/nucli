{
 "cells": [
  {
   "cell_type": "code",
   "execution_count": 1,
   "id": "9b9b8fe7-1cce-49d7-95c1-2ef72946ac76",
   "metadata": {},
   "outputs": [],
   "source": [
    "import os\n",
    "import pandas as pd"
   ]
  },
  {
   "cell_type": "code",
   "execution_count": 2,
   "id": "fb1bb203-9ce2-40ca-a397-79c7c4fc2614",
   "metadata": {},
   "outputs": [],
   "source": [
    "path_schema = './tables/'"
   ]
  },
  {
   "cell_type": "code",
   "execution_count": 3,
   "id": "c0aa2bbf-bb21-46d5-a04e-73d67bd63dd5",
   "metadata": {},
   "outputs": [
    {
     "name": "stdout",
     "output_type": "stream",
     "text": [
      "customers.csv\n",
      "employees.csv\n",
      "offices.csv\n",
      "orderdetails.csv\n",
      "orders.csv\n",
      "payments.csv\n",
      "productlines.csv\n",
      "products.csv\n",
      "reviews.csv\n",
      "reviews_sql.csv\n"
     ]
    }
   ],
   "source": [
    "lst_schema_names = []\n",
    "lst_schema_tables = []\n",
    "for filename in os.listdir(path_schema):\n",
    "    if filename[-3:] == 'csv':\n",
    "        if 'classic' not in filename:\n",
    "            lst_schema_names.append(filename[:-4])\n",
    "            lst_schema_tables.append(pd.read_csv(path_schema+filename))\n",
    "            print(filename)\n",
    "        else:\n",
    "            df_schema = pd.read_csv(path_schema+filename) "
   ]
  },
  {
   "cell_type": "code",
   "execution_count": 4,
   "id": "e900f77e-3daf-49f9-a3a0-50cc2e01b4f4",
   "metadata": {},
   "outputs": [],
   "source": [
    "dict_all = {}\n",
    "for i_range in range(len(lst_schema_names)):\n",
    "    #print(i_range)\n",
    "    dict_all[lst_schema_names[i_range]] = lst_schema_tables[i_range].fillna('')"
   ]
  },
  {
   "cell_type": "code",
   "execution_count": 5,
   "id": "e2d4873d-90d2-432d-a783-613f98b7ee80",
   "metadata": {},
   "outputs": [
    {
     "data": {
      "text/plain": [
       "dict_keys(['customers', 'employees', 'offices', 'orderdetails', 'orders', 'payments', 'productlines', 'products', 'reviews', 'reviews_sql'])"
      ]
     },
     "execution_count": 5,
     "metadata": {},
     "output_type": "execute_result"
    }
   ],
   "source": [
    "dict_all.keys()"
   ]
  },
  {
   "cell_type": "code",
   "execution_count": 6,
   "id": "9b01efa2-83c8-4f1c-b5b2-903bdbe8c95c",
   "metadata": {},
   "outputs": [],
   "source": [
    "import json\n",
    "import sqlite3\n",
    "from sqlalchemy import create_engine, text"
   ]
  },
  {
   "cell_type": "code",
   "execution_count": 7,
   "id": "3f2d987e-1960-41a8-ae24-dc462109724f",
   "metadata": {},
   "outputs": [],
   "source": [
    "conn = sqlite3.connect('classic_model.sqlite')\n",
    "cur = conn.cursor()"
   ]
  },
  {
   "cell_type": "markdown",
   "id": "ccc35ba8-b489-4de6-93d5-dc0788dd2acc",
   "metadata": {},
   "source": [
    "# Testando Tabelas Criadas"
   ]
  },
  {
   "cell_type": "code",
   "execution_count": 8,
   "id": "758eaa24-1380-4061-a4df-4720d51f075a",
   "metadata": {},
   "outputs": [],
   "source": [
    "def ret_values(table_name:str)->None:\n",
    "    try:\n",
    "        cur.execute(f\"\"\"\n",
    "            SELECT \n",
    "                *\n",
    "            FROM {table_name}\n",
    "        \"\"\")\n",
    "        print(cur.fetchall())\n",
    "    except Exception as e:\n",
    "        print(e)\n",
    "    "
   ]
  },
  {
   "cell_type": "code",
   "execution_count": 9,
   "id": "295be943-d34b-4b69-b5e2-772d3479df63",
   "metadata": {},
   "outputs": [],
   "source": [
    "def ret_schema(table_name:str)-> None:\n",
    "    \"\"\"cid      name          type     notnull  dflt_value  pk\"\"\"\n",
    "    try:\n",
    "        cur.execute(f\"\"\"\n",
    "        pragma table_info({table_name});\n",
    "        \"\"\")\n",
    "        lst = cur.fetchall()\n",
    "        for item in lst:\n",
    "            print(item)\n",
    "    except Exception as e:\n",
    "        print(e)"
   ]
  },
  {
   "cell_type": "markdown",
   "id": "95cd8280-b20b-4720-ba76-b40ef1e744ff",
   "metadata": {},
   "source": [
    "# Inserindo Valores"
   ]
  },
  {
   "cell_type": "code",
   "execution_count": 10,
   "id": "01368da4-cdf7-4b9a-97fa-f9cfa44fc826",
   "metadata": {},
   "outputs": [
    {
     "data": {
      "text/html": [
       "<div>\n",
       "<style scoped>\n",
       "    .dataframe tbody tr th:only-of-type {\n",
       "        vertical-align: middle;\n",
       "    }\n",
       "\n",
       "    .dataframe tbody tr th {\n",
       "        vertical-align: top;\n",
       "    }\n",
       "\n",
       "    .dataframe thead th {\n",
       "        text-align: right;\n",
       "    }\n",
       "</style>\n",
       "<table border=\"1\" class=\"dataframe\">\n",
       "  <thead>\n",
       "    <tr style=\"text-align: right;\">\n",
       "      <th></th>\n",
       "      <th>customerNumber</th>\n",
       "      <th>customerName</th>\n",
       "      <th>contactLastName</th>\n",
       "      <th>contactFirstName</th>\n",
       "      <th>phone</th>\n",
       "      <th>addressLine1</th>\n",
       "      <th>addressLine2</th>\n",
       "      <th>city</th>\n",
       "      <th>state</th>\n",
       "      <th>postalCode</th>\n",
       "      <th>country</th>\n",
       "      <th>salesRepEmployeeNumber</th>\n",
       "      <th>creditLimit</th>\n",
       "    </tr>\n",
       "  </thead>\n",
       "  <tbody>\n",
       "    <tr>\n",
       "      <th>0</th>\n",
       "      <td>103</td>\n",
       "      <td>Atelier graphique</td>\n",
       "      <td>Schmitt</td>\n",
       "      <td>Carine</td>\n",
       "      <td>40.32.2555</td>\n",
       "      <td>54, rue Royale</td>\n",
       "      <td></td>\n",
       "      <td>Nantes</td>\n",
       "      <td></td>\n",
       "      <td>44000</td>\n",
       "      <td>France</td>\n",
       "      <td>1370.0</td>\n",
       "      <td>21000.0</td>\n",
       "    </tr>\n",
       "    <tr>\n",
       "      <th>1</th>\n",
       "      <td>112</td>\n",
       "      <td>Signal Gift Stores</td>\n",
       "      <td>King</td>\n",
       "      <td>Jean</td>\n",
       "      <td>7025551838</td>\n",
       "      <td>8489 Strong St.</td>\n",
       "      <td></td>\n",
       "      <td>Las Vegas</td>\n",
       "      <td>NV</td>\n",
       "      <td>83030</td>\n",
       "      <td>USA</td>\n",
       "      <td>1166.0</td>\n",
       "      <td>71800.0</td>\n",
       "    </tr>\n",
       "    <tr>\n",
       "      <th>2</th>\n",
       "      <td>114</td>\n",
       "      <td>Australian Collectors, Co.</td>\n",
       "      <td>Ferguson</td>\n",
       "      <td>Peter</td>\n",
       "      <td>03 9520 4555</td>\n",
       "      <td>636 St Kilda Road</td>\n",
       "      <td>Level 3</td>\n",
       "      <td>Melbourne</td>\n",
       "      <td>Victoria</td>\n",
       "      <td>3004</td>\n",
       "      <td>Australia</td>\n",
       "      <td>1611.0</td>\n",
       "      <td>117300.0</td>\n",
       "    </tr>\n",
       "  </tbody>\n",
       "</table>\n",
       "</div>"
      ],
      "text/plain": [
       "   customerNumber                customerName contactLastName  \\\n",
       "0             103           Atelier graphique         Schmitt   \n",
       "1             112          Signal Gift Stores            King   \n",
       "2             114  Australian Collectors, Co.        Ferguson   \n",
       "\n",
       "  contactFirstName         phone       addressLine1 addressLine2       city  \\\n",
       "0          Carine     40.32.2555     54, rue Royale                  Nantes   \n",
       "1             Jean    7025551838    8489 Strong St.               Las Vegas   \n",
       "2            Peter  03 9520 4555  636 St Kilda Road      Level 3  Melbourne   \n",
       "\n",
       "      state postalCode    country salesRepEmployeeNumber  creditLimit  \n",
       "0                44000     France                 1370.0      21000.0  \n",
       "1        NV      83030        USA                 1166.0      71800.0  \n",
       "2  Victoria       3004  Australia                 1611.0     117300.0  "
      ]
     },
     "execution_count": 10,
     "metadata": {},
     "output_type": "execute_result"
    }
   ],
   "source": [
    "dict_all['customers'].head(3)"
   ]
  },
  {
   "cell_type": "code",
   "execution_count": 11,
   "id": "dd3e9f00-c1b1-421e-9658-e798eea85489",
   "metadata": {},
   "outputs": [
    {
     "data": {
      "text/plain": [
       "Index(['customerNumber', 'customerName', 'contactLastName', 'contactFirstName',\n",
       "       'phone', 'addressLine1', 'addressLine2', 'city', 'state', 'postalCode',\n",
       "       'country', 'salesRepEmployeeNumber', 'creditLimit'],\n",
       "      dtype='object')"
      ]
     },
     "execution_count": 11,
     "metadata": {},
     "output_type": "execute_result"
    }
   ],
   "source": [
    "dict_all['customers'].columns"
   ]
  },
  {
   "cell_type": "code",
   "execution_count": 12,
   "id": "9e56b07d-6d6e-4f7a-b41d-e3d619254d4c",
   "metadata": {},
   "outputs": [
    {
     "data": {
      "text/plain": [
       "dict_keys(['customers', 'employees', 'offices', 'orderdetails', 'orders', 'payments', 'productlines', 'products', 'reviews', 'reviews_sql'])"
      ]
     },
     "execution_count": 12,
     "metadata": {},
     "output_type": "execute_result"
    }
   ],
   "source": [
    "dict_all.keys()"
   ]
  },
  {
   "cell_type": "code",
   "execution_count": 13,
   "id": "b2c12273-7db0-40d4-b506-97cd381983c1",
   "metadata": {},
   "outputs": [
    {
     "name": "stdout",
     "output_type": "stream",
     "text": [
      "customers\n",
      "employees\n",
      "offices\n",
      "orderdetails\n",
      "orders\n",
      "payments\n",
      "productlines\n",
      "products\n",
      "reviews\n",
      "reviews_sql\n"
     ]
    }
   ],
   "source": [
    "for key_a in dict_all.keys():\n",
    "    print(key_a)"
   ]
  },
  {
   "cell_type": "code",
   "execution_count": 14,
   "id": "cbb56368-6850-4d53-9ec4-e8761a07dfb0",
   "metadata": {
    "scrolled": true
   },
   "outputs": [
    {
     "name": "stdout",
     "output_type": "stream",
     "text": [
      "customers\n",
      "employees\n",
      "offices\n",
      "orderdetails\n",
      "orders\n",
      "payments\n",
      "productlines\n",
      "products\n",
      "reviews\n",
      "reviews_sql\n"
     ]
    }
   ],
   "source": [
    "for key_a in dict_all.keys():\n",
    "    \n",
    "    key = key_a\n",
    "    \n",
    "    feat_names = list(dict_all[key].columns)\n",
    "    lst_values = ','.join(feat_names)\n",
    "    p_feat_names = [':'+x for x in feat_names] # feat_with :\n",
    "    p_feat_names = ','.join(p_feat_names)\n",
    "    print(key)\n",
    "    for index in range(len(dict_all[key])):\n",
    "        dict_t = {}\n",
    "        for feat in feat_names:\n",
    "            dict_t[str(feat)] = dict_all[key].iloc[index][feat]\n",
    "\n",
    "        a = str(dict_t)\n",
    "        exec(f'dict_a = {a}')\n",
    "        str_in = f'INSERT or IGNORE INTO {key} values ({p_feat_names})'  \n",
    "\n",
    "        cur.execute(str_in, dict_a)"
   ]
  },
  {
   "cell_type": "code",
   "execution_count": 15,
   "id": "7960b337-d8cf-4dcc-86a9-c8c90df86162",
   "metadata": {},
   "outputs": [
    {
     "data": {
      "text/html": [
       "<div>\n",
       "<style scoped>\n",
       "    .dataframe tbody tr th:only-of-type {\n",
       "        vertical-align: middle;\n",
       "    }\n",
       "\n",
       "    .dataframe tbody tr th {\n",
       "        vertical-align: top;\n",
       "    }\n",
       "\n",
       "    .dataframe thead th {\n",
       "        text-align: right;\n",
       "    }\n",
       "</style>\n",
       "<table border=\"1\" class=\"dataframe\">\n",
       "  <thead>\n",
       "    <tr style=\"text-align: right;\">\n",
       "      <th></th>\n",
       "      <th>customerNumber</th>\n",
       "      <th>customerName</th>\n",
       "      <th>contactLastName</th>\n",
       "      <th>contactFirstName</th>\n",
       "      <th>phone</th>\n",
       "      <th>addressLine1</th>\n",
       "      <th>addressLine2</th>\n",
       "      <th>city</th>\n",
       "      <th>state</th>\n",
       "      <th>postalCode</th>\n",
       "      <th>country</th>\n",
       "      <th>salesRepEmployeeNumber</th>\n",
       "      <th>creditLimit</th>\n",
       "    </tr>\n",
       "  </thead>\n",
       "  <tbody>\n",
       "    <tr>\n",
       "      <th>0</th>\n",
       "      <td>103</td>\n",
       "      <td>Atelier graphique</td>\n",
       "      <td>Schmitt</td>\n",
       "      <td>Carine</td>\n",
       "      <td>40.32.2555</td>\n",
       "      <td>54, rue Royale</td>\n",
       "      <td></td>\n",
       "      <td>Nantes</td>\n",
       "      <td></td>\n",
       "      <td>44000</td>\n",
       "      <td>France</td>\n",
       "      <td>1370</td>\n",
       "      <td>21000.0</td>\n",
       "    </tr>\n",
       "    <tr>\n",
       "      <th>1</th>\n",
       "      <td>112</td>\n",
       "      <td>Signal Gift Stores</td>\n",
       "      <td>King</td>\n",
       "      <td>Jean</td>\n",
       "      <td>7025551838</td>\n",
       "      <td>8489 Strong St.</td>\n",
       "      <td></td>\n",
       "      <td>Las Vegas</td>\n",
       "      <td>NV</td>\n",
       "      <td>83030</td>\n",
       "      <td>USA</td>\n",
       "      <td>1166</td>\n",
       "      <td>71800.0</td>\n",
       "    </tr>\n",
       "    <tr>\n",
       "      <th>2</th>\n",
       "      <td>114</td>\n",
       "      <td>Australian Collectors, Co.</td>\n",
       "      <td>Ferguson</td>\n",
       "      <td>Peter</td>\n",
       "      <td>03 9520 4555</td>\n",
       "      <td>636 St Kilda Road</td>\n",
       "      <td>Level 3</td>\n",
       "      <td>Melbourne</td>\n",
       "      <td>Victoria</td>\n",
       "      <td>3004</td>\n",
       "      <td>Australia</td>\n",
       "      <td>1611</td>\n",
       "      <td>117300.0</td>\n",
       "    </tr>\n",
       "  </tbody>\n",
       "</table>\n",
       "</div>"
      ],
      "text/plain": [
       "   customerNumber                customerName contactLastName  \\\n",
       "0             103           Atelier graphique         Schmitt   \n",
       "1             112          Signal Gift Stores            King   \n",
       "2             114  Australian Collectors, Co.        Ferguson   \n",
       "\n",
       "  contactFirstName         phone       addressLine1 addressLine2       city  \\\n",
       "0          Carine     40.32.2555     54, rue Royale                  Nantes   \n",
       "1             Jean    7025551838    8489 Strong St.               Las Vegas   \n",
       "2            Peter  03 9520 4555  636 St Kilda Road      Level 3  Melbourne   \n",
       "\n",
       "      state postalCode    country salesRepEmployeeNumber  creditLimit  \n",
       "0                44000     France                   1370      21000.0  \n",
       "1        NV      83030        USA                   1166      71800.0  \n",
       "2  Victoria       3004  Australia                   1611     117300.0  "
      ]
     },
     "execution_count": 15,
     "metadata": {},
     "output_type": "execute_result"
    }
   ],
   "source": [
    "pd.read_sql('select * from customers', conn).head(3)"
   ]
  },
  {
   "cell_type": "code",
   "execution_count": 16,
   "id": "e60896c0-a21d-440c-b103-2a36a538e7a6",
   "metadata": {},
   "outputs": [
    {
     "data": {
      "text/html": [
       "<div>\n",
       "<style scoped>\n",
       "    .dataframe tbody tr th:only-of-type {\n",
       "        vertical-align: middle;\n",
       "    }\n",
       "\n",
       "    .dataframe tbody tr th {\n",
       "        vertical-align: top;\n",
       "    }\n",
       "\n",
       "    .dataframe thead th {\n",
       "        text-align: right;\n",
       "    }\n",
       "</style>\n",
       "<table border=\"1\" class=\"dataframe\">\n",
       "  <thead>\n",
       "    <tr style=\"text-align: right;\">\n",
       "      <th></th>\n",
       "      <th>officeCode</th>\n",
       "      <th>city</th>\n",
       "      <th>phone</th>\n",
       "      <th>addressLine1</th>\n",
       "      <th>addressLine2</th>\n",
       "      <th>state</th>\n",
       "      <th>country</th>\n",
       "      <th>postalCode</th>\n",
       "      <th>territory</th>\n",
       "    </tr>\n",
       "  </thead>\n",
       "  <tbody>\n",
       "    <tr>\n",
       "      <th>0</th>\n",
       "      <td>1</td>\n",
       "      <td>San Francisco</td>\n",
       "      <td>+1 650 219 4782</td>\n",
       "      <td>100 Market Street</td>\n",
       "      <td>Suite 300</td>\n",
       "      <td>CA</td>\n",
       "      <td>USA</td>\n",
       "      <td>94080</td>\n",
       "      <td></td>\n",
       "    </tr>\n",
       "    <tr>\n",
       "      <th>1</th>\n",
       "      <td>2</td>\n",
       "      <td>Boston</td>\n",
       "      <td>+1 215 837 0825</td>\n",
       "      <td>1550 Court Place</td>\n",
       "      <td>Suite 102</td>\n",
       "      <td>MA</td>\n",
       "      <td>USA</td>\n",
       "      <td>02107</td>\n",
       "      <td></td>\n",
       "    </tr>\n",
       "    <tr>\n",
       "      <th>2</th>\n",
       "      <td>3</td>\n",
       "      <td>NYC</td>\n",
       "      <td>+1 212 555 3000</td>\n",
       "      <td>523 East 53rd Street</td>\n",
       "      <td>apt. 5A</td>\n",
       "      <td>NY</td>\n",
       "      <td>USA</td>\n",
       "      <td>10022</td>\n",
       "      <td></td>\n",
       "    </tr>\n",
       "  </tbody>\n",
       "</table>\n",
       "</div>"
      ],
      "text/plain": [
       "  officeCode           city            phone          addressLine1  \\\n",
       "0          1  San Francisco  +1 650 219 4782     100 Market Street   \n",
       "1          2         Boston  +1 215 837 0825      1550 Court Place   \n",
       "2          3            NYC  +1 212 555 3000  523 East 53rd Street   \n",
       "\n",
       "  addressLine2 state country postalCode territory  \n",
       "0    Suite 300    CA     USA      94080            \n",
       "1    Suite 102    MA     USA      02107            \n",
       "2      apt. 5A    NY     USA      10022            "
      ]
     },
     "execution_count": 16,
     "metadata": {},
     "output_type": "execute_result"
    }
   ],
   "source": [
    "pd.read_sql('select * from offices', conn).head(3)"
   ]
  },
  {
   "cell_type": "code",
   "execution_count": 17,
   "id": "2fe2f7d2-3400-4c9f-9203-8c35532da764",
   "metadata": {},
   "outputs": [],
   "source": [
    "def ret_schema(table_name:str)-> None:\n",
    "    \"\"\"cid      name          type     notnull  dflt_value  pk\"\"\"\n",
    "    try:\n",
    "        cur.execute(f\"\"\"\n",
    "        pragma table_info({table_name});\n",
    "        \"\"\")\n",
    "        lst = cur.fetchall()\n",
    "        for item in lst:\n",
    "            print(item)\n",
    "    except Exception as e:\n",
    "        print(e)"
   ]
  },
  {
   "cell_type": "code",
   "execution_count": 18,
   "id": "1c8e3822-aa0c-4535-920e-c897bb705019",
   "metadata": {},
   "outputs": [
    {
     "name": "stdout",
     "output_type": "stream",
     "text": [
      "(0, 'customerNumber', 'INTEGER', 1, None, 1)\n",
      "(1, 'customerName', 'TEXT', 1, None, 0)\n",
      "(2, 'contactLastName', 'TEXT', 1, None, 0)\n",
      "(3, 'contactFirstName', 'TEXT', 1, None, 0)\n",
      "(4, 'phone', 'TEXT', 1, None, 0)\n",
      "(5, 'addressLine1', 'TEXT', 1, None, 0)\n",
      "(6, 'addressLine2', 'TEXT', 0, None, 0)\n",
      "(7, 'city', 'TEXT', 1, None, 0)\n",
      "(8, 'state', 'TEXT', 0, None, 0)\n",
      "(9, 'postalCode', 'TEXT', 0, None, 0)\n",
      "(10, 'country', 'TEXT', 1, None, 0)\n",
      "(11, 'salesRepEmployeeNumber', 'INTEGER', 0, None, 0)\n",
      "(12, 'creditLimit', 'REAL', 0, None, 0)\n"
     ]
    }
   ],
   "source": [
    "ret_schema('customers')"
   ]
  },
  {
   "cell_type": "code",
   "execution_count": null,
   "id": "dbc3c8a1-9f3a-4d16-b967-7a3cd6a242b1",
   "metadata": {},
   "outputs": [],
   "source": []
  }
 ],
 "metadata": {
  "kernelspec": {
   "display_name": "Python 3 (ipykernel)",
   "language": "python",
   "name": "python3"
  },
  "language_info": {
   "codemirror_mode": {
    "name": "ipython",
    "version": 3
   },
   "file_extension": ".py",
   "mimetype": "text/x-python",
   "name": "python",
   "nbconvert_exporter": "python",
   "pygments_lexer": "ipython3",
   "version": "3.10.10"
  }
 },
 "nbformat": 4,
 "nbformat_minor": 5
}
