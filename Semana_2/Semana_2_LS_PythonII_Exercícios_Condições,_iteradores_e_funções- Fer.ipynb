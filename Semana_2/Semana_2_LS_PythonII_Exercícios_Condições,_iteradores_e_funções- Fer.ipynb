{
 "cells": [
  {
   "cell_type": "markdown",
   "metadata": {
    "id": "5DZmWhqmbCXm"
   },
   "source": [
    "![Nuclio logo](https://nuclio.school/wp-content/uploads/2018/12/nucleoDS-newBlack.png)"
   ]
  },
  {
   "cell_type": "markdown",
   "metadata": {
    "id": "JXsNVkPNbCXp"
   },
   "source": [
    "# Exercícios - Condições, iteradores e funções\n",
    "\n",
    "Neste notebook encontram 12 exercícios que vos permitirão testar os vossos conhecimentos sobre condições, iteradores e funções em Python."
   ]
  },
  {
   "cell_type": "markdown",
   "metadata": {
    "id": "LRNazDAkVn6M"
   },
   "source": [
    "## Condições"
   ]
  },
  {
   "cell_type": "markdown",
   "metadata": {
    "id": "r2MCDhOYVs2i"
   },
   "source": [
    "1 - Indique um número inteiro, verifique se o mesmo é par ou ímpar (imprimindo se é par ou ímpar)."
   ]
  },
  {
   "cell_type": "code",
   "execution_count": 9,
   "metadata": {},
   "outputs": [
    {
     "name": "stdin",
     "output_type": "stream",
     "text": [
      "digite um número e verifique se é impar 3\n"
     ]
    },
    {
     "name": "stdout",
     "output_type": "stream",
     "text": [
      "3 é ímpar\n"
     ]
    }
   ],
   "source": [
    "n = int(input('digite um número e verifique se é impar'))\n",
    "\n",
    "if (n % 2) == 1:\n",
    "    print(f'{n} é ímpar')\n",
    "elif (n % 2) == 0:\n",
    "    print(f'{n} é par')\n",
    "          "
   ]
  },
  {
   "cell_type": "markdown",
   "metadata": {
    "id": "SFS-3RscWjVF"
   },
   "source": [
    "2 - Insira três números do tipo float e determine qual deles é o maior."
   ]
  },
  {
   "cell_type": "code",
   "execution_count": 15,
   "metadata": {},
   "outputs": [
    {
     "name": "stdout",
     "output_type": "stream",
     "text": [
      "digite 3 números\n"
     ]
    },
    {
     "name": "stdin",
     "output_type": "stream",
     "text": [
      "digite o primeiro número 1\n",
      "digite o segundo número 3\n",
      "digite o terceiro número 2\n"
     ]
    },
    {
     "data": {
      "text/plain": [
       "3.0"
      ]
     },
     "execution_count": 15,
     "metadata": {},
     "output_type": "execute_result"
    }
   ],
   "source": [
    "print('digite 3 números')\n",
    "lst_n  = []\n",
    "n1 = float(input('digite o primeiro número'))\n",
    "lst_n.append(n1)\n",
    "n2 = float(input('digite o segundo número'))\n",
    "lst_n.append(n2)\n",
    "n3 = float(input('digite o terceiro número'))\n",
    "lst_n.append(n3)\n",
    "max(lst_n)"
   ]
  },
  {
   "cell_type": "markdown",
   "metadata": {
    "id": "JpUiw6eHbCXq"
   },
   "source": [
    "## Loops"
   ]
  },
  {
   "cell_type": "markdown",
   "metadata": {
    "id": "ETr902cFbCXq"
   },
   "source": [
    "3 - Escreva um programa que imprima o quadrado dos números de 0 a 10."
   ]
  },
  {
   "cell_type": "code",
   "execution_count": 18,
   "metadata": {},
   "outputs": [
    {
     "name": "stdout",
     "output_type": "stream",
     "text": [
      "1\n",
      "4\n",
      "9\n",
      "16\n",
      "25\n",
      "36\n",
      "49\n",
      "64\n",
      "81\n",
      "100\n"
     ]
    }
   ],
   "source": [
    "for i in range(1,11,1):\n",
    "    print(i**2)"
   ]
  },
  {
   "cell_type": "markdown",
   "metadata": {
    "id": "jbwvhoWubCXq"
   },
   "source": [
    "4 - Calcule a soma de todos os números pares de 0 a 10."
   ]
  },
  {
   "cell_type": "code",
   "execution_count": 21,
   "metadata": {},
   "outputs": [
    {
     "name": "stdout",
     "output_type": "stream",
     "text": [
      "a soma é 30\n"
     ]
    }
   ],
   "source": [
    "n = 0\n",
    "for i in range(0,11,1):    \n",
    "    if (i % 2) == 0:\n",
    "        n = n+i\n",
    "print('a soma é {}'.format(n))"
   ]
  },
  {
   "cell_type": "markdown",
   "metadata": {
    "id": "TTX6RmZYbCXq"
   },
   "source": [
    "5 - Escreva um programa que imprima o seguinte padrão numérico:\n",
    "\n",
    "1 --- 99  \n",
    "2 --- 98\n",
    "\n",
    "..  \n",
    "..  \n",
    "\n",
    "98 -- 2   \n",
    "99 -- 1\n"
   ]
  },
  {
   "cell_type": "code",
   "execution_count": 23,
   "metadata": {
    "collapsed": true,
    "jupyter": {
     "outputs_hidden": true
    }
   },
   "outputs": [
    {
     "name": "stdout",
     "output_type": "stream",
     "text": [
      "1 --- 99\n",
      "2 --- 98\n",
      "3 --- 97\n",
      "4 --- 96\n",
      "5 --- 95\n",
      "6 --- 94\n",
      "7 --- 93\n",
      "8 --- 92\n",
      "9 --- 91\n",
      "10 --- 90\n",
      "11 --- 89\n",
      "12 --- 88\n",
      "13 --- 87\n",
      "14 --- 86\n",
      "15 --- 85\n",
      "16 --- 84\n",
      "17 --- 83\n",
      "18 --- 82\n",
      "19 --- 81\n",
      "20 --- 80\n",
      "21 --- 79\n",
      "22 --- 78\n",
      "23 --- 77\n",
      "24 --- 76\n",
      "25 --- 75\n",
      "26 --- 74\n",
      "27 --- 73\n",
      "28 --- 72\n",
      "29 --- 71\n",
      "30 --- 70\n",
      "31 --- 69\n",
      "32 --- 68\n",
      "33 --- 67\n",
      "34 --- 66\n",
      "35 --- 65\n",
      "36 --- 64\n",
      "37 --- 63\n",
      "38 --- 62\n",
      "39 --- 61\n",
      "40 --- 60\n",
      "41 --- 59\n",
      "42 --- 58\n",
      "43 --- 57\n",
      "44 --- 56\n",
      "45 --- 55\n",
      "46 --- 54\n",
      "47 --- 53\n",
      "48 --- 52\n",
      "49 --- 51\n",
      "50 --- 50\n",
      "51 --- 49\n",
      "52 --- 48\n",
      "53 --- 47\n",
      "54 --- 46\n",
      "55 --- 45\n",
      "56 --- 44\n",
      "57 --- 43\n",
      "58 --- 42\n",
      "59 --- 41\n",
      "60 --- 40\n",
      "61 --- 39\n",
      "62 --- 38\n",
      "63 --- 37\n",
      "64 --- 36\n",
      "65 --- 35\n",
      "66 --- 34\n",
      "67 --- 33\n",
      "68 --- 32\n",
      "69 --- 31\n",
      "70 --- 30\n",
      "71 --- 29\n",
      "72 --- 28\n",
      "73 --- 27\n",
      "74 --- 26\n",
      "75 --- 25\n",
      "76 --- 24\n",
      "77 --- 23\n",
      "78 --- 22\n",
      "79 --- 21\n",
      "80 --- 20\n",
      "81 --- 19\n",
      "82 --- 18\n",
      "83 --- 17\n",
      "84 --- 16\n",
      "85 --- 15\n",
      "86 --- 14\n",
      "87 --- 13\n",
      "88 --- 12\n",
      "89 --- 11\n",
      "90 --- 10\n",
      "91 --- 9\n",
      "92 --- 8\n",
      "93 --- 7\n",
      "94 --- 6\n",
      "95 --- 5\n",
      "96 --- 4\n",
      "97 --- 3\n",
      "98 --- 2\n",
      "99 --- 1\n"
     ]
    }
   ],
   "source": [
    "for i in range(1,100,1):\n",
    "    print(f'{i} --- {100-i}')"
   ]
  },
  {
   "cell_type": "markdown",
   "metadata": {
    "id": "0O9xpO5MbCXr"
   },
   "source": [
    "6 - Escreva um programa que imprima o seguinte padrão numérico usando um loop, sendo que o número de linhas deve ser dado por um valor escolhido pelo utilizador (entre 1 e 10).\n",
    "\n",
    "1  \n",
    "1 2  \n",
    "1 2 3  \n",
    "1 2 3 4  \n",
    "1 2 3 4 5  "
   ]
  },
  {
   "cell_type": "code",
   "execution_count": 24,
   "metadata": {},
   "outputs": [
    {
     "name": "stdin",
     "output_type": "stream",
     "text": [
      "Número entre 1 e 10:  3\n"
     ]
    },
    {
     "name": "stdout",
     "output_type": "stream",
     "text": [
      "1 \n",
      "1 2 \n",
      "1 2 3 \n"
     ]
    }
   ],
   "source": [
    "linhas = int(input(\"Número entre 1 e 10: \"))\n",
    "for i in range(1, linhas + 1, 1):\n",
    "    for j in range(1, i + 1):\n",
    "        print(j, end=' ')\n",
    "    print(\"\")\n",
    "    "
   ]
  },
  {
   "cell_type": "markdown",
   "metadata": {
    "id": "_r8jW15mbCXs"
   },
   "source": [
    "## Funções"
   ]
  },
  {
   "cell_type": "markdown",
   "metadata": {
    "id": "f54bBMVqbCXs"
   },
   "source": [
    "7 - Escreva uma função que retorna o quadrado de um número."
   ]
  },
  {
   "cell_type": "code",
   "execution_count": 25,
   "metadata": {},
   "outputs": [],
   "source": [
    "def ret_quad(n:int)->n:\n",
    "    return n**2"
   ]
  },
  {
   "cell_type": "code",
   "execution_count": 26,
   "metadata": {},
   "outputs": [
    {
     "data": {
      "text/plain": [
       "9"
      ]
     },
     "execution_count": 26,
     "metadata": {},
     "output_type": "execute_result"
    }
   ],
   "source": [
    "ret_quad(3)"
   ]
  },
  {
   "cell_type": "markdown",
   "metadata": {
    "id": "QmnTaY_fbCXt"
   },
   "source": [
    "8 - Escreva uma função que imprima os primeiros n termos da sequência Fibonacci, onde n é uma entrada inteira positiva do usuário\n",
    "\n",
    "Em matemática, os números Fibonacci formam uma sequência chamada sequência Fibonacci, de tal forma que cada número é a soma dos dois anteriores, começando de 0 e 1.\n",
    "Exemplo: Os primeiros 10 termos da sequência de Fibonacci são 0 1 1 2 3 5 8 13 21 34"
   ]
  },
  {
   "cell_type": "code",
   "execution_count": 27,
   "metadata": {},
   "outputs": [
    {
     "name": "stdin",
     "output_type": "stream",
     "text": [
      "Número de termos:  3\n"
     ]
    },
    {
     "name": "stdout",
     "output_type": "stream",
     "text": [
      "Fibonacci:\n",
      "0 1 1 "
     ]
    }
   ],
   "source": [
    "def fib(n:int)-> None:\n",
    "    num1, num2 = 0, 1\n",
    "    print(\"Fibonacci:\")\n",
    "    for i in range(n):\n",
    "        print(num1, end=\" \")\n",
    "        res = num1 + num2\n",
    "\n",
    "        num1 = num2\n",
    "        num2 = res\n",
    "\n",
    "num = int(input(\"Número de termos: \"))\n",
    "fib(num)"
   ]
  },
  {
   "cell_type": "code",
   "execution_count": 29,
   "metadata": {},
   "outputs": [
    {
     "data": {
      "text/plain": [
       "{'n': int, 'return': None}"
      ]
     },
     "execution_count": 29,
     "metadata": {},
     "output_type": "execute_result"
    }
   ],
   "source": [
    "fib.__annotations__"
   ]
  },
  {
   "cell_type": "markdown",
   "metadata": {
    "id": "B8HV7x5sbCXt"
   },
   "source": [
    "9 - Refaça a sua resposta à questão anterior usando recursividade."
   ]
  },
  {
   "cell_type": "code",
   "execution_count": 30,
   "metadata": {},
   "outputs": [
    {
     "name": "stdin",
     "output_type": "stream",
     "text": [
      "Número de termos: 3\n"
     ]
    },
    {
     "name": "stdout",
     "output_type": "stream",
     "text": [
      "0 1 1 "
     ]
    }
   ],
   "source": [
    "def fib(n:int)-> None:\n",
    "    if n > 1:\n",
    "       return(fib(n-1) + fib(n-2))\n",
    "    else:\n",
    "       return n\n",
    "\n",
    "num = int(input(\"Número de termos:\"))\n",
    "for i in range(num):\n",
    "   print(fib(i), end=\" \")"
   ]
  },
  {
   "cell_type": "markdown",
   "metadata": {
    "id": "4KZ5OMM8bCXt"
   },
   "source": [
    "10 - Dado um número inteiro n, encontre a soma para n números. Tente encontrar uma solução que use um while loop, outra que use for loop e uma última que use recursividade.\n",
    "\n",
    "Exemplo: Se n é 5, soma para n = 1 + 2 + 3 + 4 + 4 + 5 = 15"
   ]
  },
  {
   "cell_type": "code",
   "execution_count": 32,
   "metadata": {},
   "outputs": [
    {
     "name": "stdin",
     "output_type": "stream",
     "text": [
      "Número: 3\n"
     ]
    },
    {
     "name": "stdout",
     "output_type": "stream",
     "text": [
      "Somatório de 3 números é 6\n"
     ]
    }
   ],
   "source": [
    "# for\n",
    "\n",
    "num = int(input(\"Número:\"))\n",
    "sum_n = 0\n",
    "\n",
    "for i in range(num+1):\n",
    "    sum_n += i\n",
    "\n",
    "print(\"Somatório de\",num,\"números é\",sum_n)"
   ]
  },
  {
   "cell_type": "code",
   "execution_count": 33,
   "metadata": {},
   "outputs": [
    {
     "name": "stdin",
     "output_type": "stream",
     "text": [
      "Número: 4\n"
     ]
    },
    {
     "name": "stdout",
     "output_type": "stream",
     "text": [
      "Somatório de  4 números é 10\n"
     ]
    }
   ],
   "source": [
    "#Recursividade\n",
    "\n",
    "def sum_n(n):\n",
    "    if n > 1:\n",
    "        return (n + sum_n(n-1))\n",
    "    else:\n",
    "        return 1\n",
    "\n",
    "\n",
    "num = int(input(\"Número:\"))\n",
    "print(\"Somatório de \",num,\"números é\",sum_n(num))"
   ]
  },
  {
   "cell_type": "code",
   "execution_count": 31,
   "metadata": {},
   "outputs": [
    {
     "name": "stdin",
     "output_type": "stream",
     "text": [
      "Número: 3\n"
     ]
    },
    {
     "name": "stdout",
     "output_type": "stream",
     "text": [
      "Somatório de 3 números é 6\n"
     ]
    }
   ],
   "source": [
    "# while\n",
    "\n",
    "num = int(input(\"Número:\"))\n",
    "sum_n = 0\n",
    "i = 1\n",
    "\n",
    "while i <= num:\n",
    "    sum_n += i\n",
    "    i+=1\n",
    "\n",
    "print(\"Somatório de\",num,\"números é\",sum_n)"
   ]
  },
  {
   "cell_type": "markdown",
   "metadata": {
    "id": "7wPRv_pVbCXu"
   },
   "source": [
    "11 - Encontre a média da seguinte lista de floast usando um while loop, um for loop e uma função recursiva.\n",
    "\n",
    "num_list = [1.23, 6.234, 8.34256, 3.01]"
   ]
  },
  {
   "cell_type": "code",
   "execution_count": 34,
   "metadata": {},
   "outputs": [
    {
     "name": "stdout",
     "output_type": "stream",
     "text": [
      "Média = 4.704140000000001\n"
     ]
    }
   ],
   "source": [
    "#while\n",
    "\n",
    "num_list = [1.23, 6.234, 8.34256, 3.01]\n",
    "\n",
    "sum_n = 0\n",
    "i=0\n",
    "\n",
    "while i<len(num_list):\n",
    "    sum_n += num_list[i]\n",
    "    i += 1\n",
    "\n",
    "print(\"Média =\",sum_n/len(num_list))"
   ]
  },
  {
   "cell_type": "code",
   "execution_count": 35,
   "metadata": {},
   "outputs": [
    {
     "name": "stdout",
     "output_type": "stream",
     "text": [
      "Média = 4.704140000000001\n"
     ]
    }
   ],
   "source": [
    "#for\n",
    "\n",
    "num_list = [1.23, 6.234, 8.34256, 3.01]\n",
    "\n",
    "sum_n = 0\n",
    "\n",
    "for n in num_list:\n",
    "    sum_n += n\n",
    "\n",
    "print(\"Média =\",sum_n/len(num_list))\n"
   ]
  },
  {
   "cell_type": "code",
   "execution_count": 36,
   "metadata": {},
   "outputs": [
    {
     "name": "stdout",
     "output_type": "stream",
     "text": [
      "Média = 4.70414\n"
     ]
    }
   ],
   "source": [
    "#recursividade\n",
    "\n",
    "def avg(nums):\n",
    "    if len(nums) == 1:\n",
    "        return nums[0]\n",
    "    else:\n",
    "        n = len(nums)\n",
    "        return (nums[0]+ (avg(nums[1:]) * (n-1))) / n\n",
    "\n",
    "\n",
    "num_list = [1.23, 6.234, 8.34256, 3.01]\n",
    "print(\"Média =\",avg(num_list))"
   ]
  },
  {
   "cell_type": "markdown",
   "metadata": {
    "id": "FJJqKa28Zg2D"
   },
   "source": [
    "12 - Suponha que tem uma lista de números inteiros:\n",
    "\n",
    "números = [1, 2, 3, 4, 5, 6, 7, 8, 9]\n",
    "\n",
    "Crie uma nova lista que contenha o dobro de cada número da lista original."
   ]
  },
  {
   "cell_type": "code",
   "execution_count": 37,
   "metadata": {},
   "outputs": [
    {
     "data": {
      "text/plain": [
       "[2, 4, 6, 8, 10, 12, 14, 16, 18]"
      ]
     },
     "execution_count": 37,
     "metadata": {},
     "output_type": "execute_result"
    }
   ],
   "source": [
    "números = [1, 2, 3, 4, 5, 6, 7, 8, 9]\n",
    "dobro = list(map(lambda x: x * 2, números))\n",
    "dobro"
   ]
  },
  {
   "cell_type": "code",
   "execution_count": null,
   "metadata": {},
   "outputs": [],
   "source": []
  }
 ],
 "metadata": {
  "colab": {
   "provenance": []
  },
  "interpreter": {
   "hash": "a890e96c5bc2e34e713687d667dc1e925660c2a0af9c3a409dd6c550ddd944d3"
  },
  "kernelspec": {
   "display_name": "Python 3 (ipykernel)",
   "language": "python",
   "name": "python3"
  },
  "language_info": {
   "codemirror_mode": {
    "name": "ipython",
    "version": 3
   },
   "file_extension": ".py",
   "mimetype": "text/x-python",
   "name": "python",
   "nbconvert_exporter": "python",
   "pygments_lexer": "ipython3",
   "version": "3.10.10"
  },
  "latex_envs": {
   "LaTeX_envs_menu_present": true,
   "autoclose": false,
   "autocomplete": true,
   "bibliofile": "biblio.bib",
   "cite_by": "apalike",
   "current_citInitial": 1,
   "eqLabelWithNumbers": true,
   "eqNumInitial": 1,
   "hotkeys": {
    "equation": "Ctrl-E",
    "itemize": "Ctrl-I"
   },
   "labels_anchors": false,
   "latex_user_defs": false,
   "report_style_numbering": false,
   "user_envs_cfg": false
  },
  "toc": {
   "base_numbering": 1,
   "nav_menu": {},
   "number_sections": true,
   "sideBar": true,
   "skip_h1_title": false,
   "title_cell": "Table of Contents",
   "title_sidebar": "Contents",
   "toc_cell": false,
   "toc_position": {
    "height": "calc(100% - 180px)",
    "left": "10px",
    "top": "150px",
    "width": "418.3831481933594px"
   },
   "toc_section_display": true,
   "toc_window_display": false
  },
  "varInspector": {
   "cols": {
    "lenName": 16,
    "lenType": 16,
    "lenVar": 40
   },
   "kernels_config": {
    "python": {
     "delete_cmd_postfix": "",
     "delete_cmd_prefix": "del ",
     "library": "var_list.py",
     "varRefreshCmd": "print(var_dic_list())"
    },
    "r": {
     "delete_cmd_postfix": ") ",
     "delete_cmd_prefix": "rm(",
     "library": "var_list.r",
     "varRefreshCmd": "cat(var_dic_list()) "
    }
   },
   "types_to_exclude": [
    "module",
    "function",
    "builtin_function_or_method",
    "instance",
    "_Feature"
   ],
   "window_display": false
  }
 },
 "nbformat": 4,
 "nbformat_minor": 4
}
