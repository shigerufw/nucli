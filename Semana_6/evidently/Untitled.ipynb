{
 "cells": [
  {
   "cell_type": "code",
   "execution_count": 1,
   "id": "bbc1d339-7fdc-4862-93eb-db59e0aaa3ae",
   "metadata": {
    "collapsed": true,
    "jupyter": {
     "outputs_hidden": true
    }
   },
   "outputs": [
    {
     "name": "stdout",
     "output_type": "stream",
     "text": [
      "Collecting evidently\n",
      "  Downloading evidently-0.4.12-py3-none-any.whl (16.6 MB)\n",
      "     ---------------------------------------- 0.0/16.6 MB ? eta -:--:--\n",
      "     -- ------------------------------------- 1.1/16.6 MB 35.3 MB/s eta 0:00:01\n",
      "     ------- -------------------------------- 3.1/16.6 MB 40.2 MB/s eta 0:00:01\n",
      "     --------------- ------------------------ 6.5/16.6 MB 51.7 MB/s eta 0:00:01\n",
      "     --------------------------- ----------- 11.5/16.6 MB 81.8 MB/s eta 0:00:01\n",
      "     -------------------------------------  16.5/16.6 MB 108.8 MB/s eta 0:00:01\n",
      "     -------------------------------------  16.5/16.6 MB 108.8 MB/s eta 0:00:01\n",
      "     --------------------------------------- 16.6/16.6 MB 65.5 MB/s eta 0:00:00\n",
      "Collecting fastapi-restful>=0.5.0\n",
      "  Downloading fastapi_restful-0.5.0-py3-none-any.whl (18 kB)\n",
      "Collecting iterative-telemetry>=0.0.5\n",
      "  Downloading iterative_telemetry-0.0.8-py3-none-any.whl (10 kB)\n",
      "Collecting typing-inspect>=0.9.0\n",
      "  Downloading typing_inspect-0.9.0-py3-none-any.whl (8.8 kB)\n",
      "Collecting plotly>=5.5.0\n",
      "  Downloading plotly-5.18.0-py3-none-any.whl (15.6 MB)\n",
      "     ---------------------------------------- 0.0/15.6 MB ? eta -:--:--\n",
      "     ------------- ------------------------- 5.2/15.6 MB 163.5 MB/s eta 0:00:01\n",
      "     --------------------- ----------------- 8.8/15.6 MB 111.3 MB/s eta 0:00:01\n",
      "     ---------------------------------- --- 14.2/15.6 MB 110.0 MB/s eta 0:00:01\n",
      "     -------------------------------------  15.6/15.6 MB 131.2 MB/s eta 0:00:01\n",
      "     -------------------------------------  15.6/15.6 MB 131.2 MB/s eta 0:00:01\n",
      "     --------------------------------------- 15.6/15.6 MB 59.5 MB/s eta 0:00:00\n",
      "Requirement already satisfied: numpy>=1.19.5 in c:\\users\\home_041\\miniconda3\\lib\\site-packages (from evidently) (1.25.2)\n",
      "Requirement already satisfied: scikit-learn>=0.24.0 in c:\\users\\home_041\\miniconda3\\lib\\site-packages (from evidently) (1.3.0)\n",
      "Collecting watchdog>=3\n",
      "  Downloading watchdog-3.0.0-py3-none-win_amd64.whl (82 kB)\n",
      "     ---------------------------------------- 0.0/82.0 kB ? eta -:--:--\n",
      "     ---------------------------------------- 82.0/82.0 kB ? eta 0:00:00\n",
      "Collecting typer>=0.3\n",
      "  Downloading typer-0.9.0-py3-none-any.whl (45 kB)\n",
      "     ---------------------------------------- 0.0/45.9 kB ? eta -:--:--\n",
      "     ---------------------------------------- 45.9/45.9 kB ? eta 0:00:00\n",
      "Requirement already satisfied: scipy>=1.5.4 in c:\\users\\home_041\\miniconda3\\lib\\site-packages (from evidently) (1.11.2)\n",
      "Requirement already satisfied: pandas[parquet]>=1.3.5 in c:\\users\\home_041\\miniconda3\\lib\\site-packages (from evidently) (2.0.3)\n",
      "Requirement already satisfied: PyYAML>=5.1 in c:\\users\\home_041\\miniconda3\\lib\\site-packages (from evidently) (6.0.1)\n",
      "Collecting uvicorn>=0.22.0\n",
      "  Downloading uvicorn-0.25.0-py3-none-any.whl (60 kB)\n",
      "     ---------------------------------------- 0.0/60.3 kB ? eta -:--:--\n",
      "     ---------------------------------------- 60.3/60.3 kB ? eta 0:00:00\n",
      "Requirement already satisfied: rich>=13 in c:\\users\\home_041\\miniconda3\\lib\\site-packages (from evidently) (13.6.0)\n",
      "Collecting pydantic<2\n",
      "  Downloading pydantic-1.10.13-cp310-cp310-win_amd64.whl (2.1 MB)\n",
      "     ---------------------------------------- 0.0/2.1 MB ? eta -:--:--\n",
      "     ---------------------------------------- 2.1/2.1 MB 68.3 MB/s eta 0:00:00\n",
      "Requirement already satisfied: fsspec in c:\\users\\home_041\\miniconda3\\lib\\site-packages (from evidently) (2023.10.0)\n",
      "Collecting fastapi>=0.100.0\n",
      "  Downloading fastapi-0.105.0-py3-none-any.whl (93 kB)\n",
      "     ---------------------------------------- 0.0/93.1 kB ? eta -:--:--\n",
      "     ---------------------------------------- 93.1/93.1 kB ? eta 0:00:00\n",
      "Requirement already satisfied: requests>=2.21.0 in c:\\users\\home_041\\miniconda3\\lib\\site-packages (from evidently) (2.28.1)\n",
      "Collecting nltk>=3.6.7\n",
      "  Downloading nltk-3.8.1-py3-none-any.whl (1.5 MB)\n",
      "     ---------------------------------------- 0.0/1.5 MB ? eta -:--:--\n",
      "     ---------------------------------------- 1.5/1.5 MB 100.0 MB/s eta 0:00:00\n",
      "Requirement already satisfied: statsmodels>=0.12.2 in c:\\users\\home_041\\miniconda3\\lib\\site-packages (from evidently) (0.14.1)\n",
      "Collecting typing-extensions>=4.8.0\n",
      "  Downloading typing_extensions-4.9.0-py3-none-any.whl (32 kB)\n",
      "Collecting anyio<4.0.0,>=3.7.1\n",
      "  Downloading anyio-3.7.1-py3-none-any.whl (80 kB)\n",
      "     ---------------------------------------- 0.0/80.9 kB ? eta -:--:--\n",
      "     ---------------------------------------- 80.9/80.9 kB ? eta 0:00:00\n",
      "Collecting starlette<0.28.0,>=0.27.0\n",
      "  Downloading starlette-0.27.0-py3-none-any.whl (66 kB)\n",
      "     ---------------------------------------- 0.0/67.0 kB ? eta -:--:--\n",
      "     ---------------------------------------- 67.0/67.0 kB ? eta 0:00:00\n",
      "Requirement already satisfied: psutil<6,>=5 in c:\\users\\home_041\\miniconda3\\lib\\site-packages (from fastapi-restful>=0.5.0->evidently) (5.9.5)\n",
      "Collecting appdirs\n",
      "  Downloading appdirs-1.4.4-py2.py3-none-any.whl (9.6 kB)\n",
      "Requirement already satisfied: filelock in c:\\users\\home_041\\miniconda3\\lib\\site-packages (from iterative-telemetry>=0.0.5->evidently) (3.13.1)\n",
      "Collecting distro\n",
      "  Downloading distro-1.8.0-py3-none-any.whl (20 kB)\n",
      "Collecting regex>=2021.8.3\n",
      "  Downloading regex-2023.10.3-cp310-cp310-win_amd64.whl (269 kB)\n",
      "     ---------------------------------------- 0.0/269.6 kB ? eta -:--:--\n",
      "     ---------------------------------------- 269.6/269.6 kB ? eta 0:00:00\n",
      "Requirement already satisfied: tqdm in c:\\users\\home_041\\miniconda3\\lib\\site-packages (from nltk>=3.6.7->evidently) (4.65.0)\n",
      "Requirement already satisfied: click in c:\\users\\home_041\\miniconda3\\lib\\site-packages (from nltk>=3.6.7->evidently) (8.1.7)\n",
      "Requirement already satisfied: joblib in c:\\users\\home_041\\miniconda3\\lib\\site-packages (from nltk>=3.6.7->evidently) (1.3.2)\n",
      "Requirement already satisfied: python-dateutil>=2.8.2 in c:\\users\\home_041\\miniconda3\\lib\\site-packages (from pandas[parquet]>=1.3.5->evidently) (2.8.2)\n",
      "Requirement already satisfied: pytz>=2020.1 in c:\\users\\home_041\\miniconda3\\lib\\site-packages (from pandas[parquet]>=1.3.5->evidently) (2023.3)\n",
      "Requirement already satisfied: tzdata>=2022.1 in c:\\users\\home_041\\miniconda3\\lib\\site-packages (from pandas[parquet]>=1.3.5->evidently) (2023.3)\n",
      "Collecting pyarrow>=7.0.0\n",
      "  Downloading pyarrow-14.0.2-cp310-cp310-win_amd64.whl (24.6 MB)\n",
      "     ---------------------------------------- 0.0/24.6 MB ? eta -:--:--\n",
      "     ---- ----------------------------------- 2.7/24.6 MB 85.6 MB/s eta 0:00:01\n",
      "     ------------ -------------------------- 8.1/24.6 MB 104.1 MB/s eta 0:00:01\n",
      "     --------------------- ---------------- 13.7/24.6 MB 131.2 MB/s eta 0:00:01\n",
      "     ----------------------------- -------- 19.1/24.6 MB 131.2 MB/s eta 0:00:01\n",
      "     -------------------------------------  24.6/24.6 MB 108.8 MB/s eta 0:00:01\n",
      "     -------------------------------------  24.6/24.6 MB 108.8 MB/s eta 0:00:01\n",
      "     --------------------------------------- 24.6/24.6 MB 54.7 MB/s eta 0:00:00\n",
      "Collecting tenacity>=6.2.0\n",
      "  Downloading tenacity-8.2.3-py3-none-any.whl (24 kB)\n",
      "Requirement already satisfied: packaging in c:\\users\\home_041\\miniconda3\\lib\\site-packages (from plotly>=5.5.0->evidently) (23.0)\n",
      "Requirement already satisfied: charset-normalizer<3,>=2 in c:\\users\\home_041\\miniconda3\\lib\\site-packages (from requests>=2.21.0->evidently) (2.0.4)\n",
      "Requirement already satisfied: certifi>=2017.4.17 in c:\\users\\home_041\\miniconda3\\lib\\site-packages (from requests>=2.21.0->evidently) (2022.12.7)\n",
      "Requirement already satisfied: urllib3<1.27,>=1.21.1 in c:\\users\\home_041\\miniconda3\\lib\\site-packages (from requests>=2.21.0->evidently) (1.26.15)\n",
      "Requirement already satisfied: idna<4,>=2.5 in c:\\users\\home_041\\miniconda3\\lib\\site-packages (from requests>=2.21.0->evidently) (3.4)\n",
      "Requirement already satisfied: pygments<3.0.0,>=2.13.0 in c:\\users\\home_041\\miniconda3\\lib\\site-packages (from rich>=13->evidently) (2.16.1)\n",
      "Requirement already satisfied: markdown-it-py>=2.2.0 in c:\\users\\home_041\\miniconda3\\lib\\site-packages (from rich>=13->evidently) (3.0.0)\n",
      "Requirement already satisfied: threadpoolctl>=2.0.0 in c:\\users\\home_041\\miniconda3\\lib\\site-packages (from scikit-learn>=0.24.0->evidently) (3.2.0)\n",
      "Requirement already satisfied: patsy>=0.5.4 in c:\\users\\home_041\\miniconda3\\lib\\site-packages (from statsmodels>=0.12.2->evidently) (0.5.4)\n",
      "Collecting mypy-extensions>=0.3.0\n",
      "  Downloading mypy_extensions-1.0.0-py3-none-any.whl (4.7 kB)\n",
      "Collecting h11>=0.8\n",
      "  Downloading h11-0.14.0-py3-none-any.whl (58 kB)\n",
      "     ---------------------------------------- 0.0/58.3 kB ? eta -:--:--\n",
      "     ---------------------------------------- 58.3/58.3 kB ? eta 0:00:00\n",
      "Requirement already satisfied: sniffio>=1.1 in c:\\users\\home_041\\miniconda3\\lib\\site-packages (from anyio<4.0.0,>=3.7.1->fastapi>=0.100.0->evidently) (1.3.0)\n",
      "Requirement already satisfied: exceptiongroup in c:\\users\\home_041\\miniconda3\\lib\\site-packages (from anyio<4.0.0,>=3.7.1->fastapi>=0.100.0->evidently) (1.1.3)\n",
      "Requirement already satisfied: colorama in c:\\users\\home_041\\miniconda3\\lib\\site-packages (from click->nltk>=3.6.7->evidently) (0.4.6)\n",
      "Requirement already satisfied: mdurl~=0.1 in c:\\users\\home_041\\miniconda3\\lib\\site-packages (from markdown-it-py>=2.2.0->rich>=13->evidently) (0.1.2)\n",
      "Requirement already satisfied: six in c:\\users\\home_041\\miniconda3\\lib\\site-packages (from patsy>=0.5.4->statsmodels>=0.12.2->evidently) (1.16.0)\n",
      "Installing collected packages: appdirs, watchdog, typing-extensions, tenacity, regex, pyarrow, mypy-extensions, h11, distro, anyio, uvicorn, typing-inspect, typer, starlette, pydantic, plotly, nltk, iterative-telemetry, fastapi, fastapi-restful, evidently\n",
      "  Attempting uninstall: typing-extensions\n",
      "    Found existing installation: typing_extensions 4.7.1\n",
      "    Uninstalling typing_extensions-4.7.1:\n",
      "      Successfully uninstalled typing_extensions-4.7.1\n",
      "  Attempting uninstall: anyio\n",
      "    Found existing installation: anyio 4.0.0\n",
      "    Uninstalling anyio-4.0.0:\n",
      "      Successfully uninstalled anyio-4.0.0\n",
      "  Attempting uninstall: pydantic\n",
      "    Found existing installation: pydantic 2.5.2\n",
      "    Uninstalling pydantic-2.5.2:\n",
      "      Successfully uninstalled pydantic-2.5.2\n",
      "Successfully installed anyio-3.7.1 appdirs-1.4.4 distro-1.8.0 evidently-0.4.12 fastapi-0.105.0 fastapi-restful-0.5.0 h11-0.14.0 iterative-telemetry-0.0.8 mypy-extensions-1.0.0 nltk-3.8.1 plotly-5.18.0 pyarrow-14.0.2 pydantic-1.10.13 regex-2023.10.3 starlette-0.27.0 tenacity-8.2.3 typer-0.9.0 typing-extensions-4.9.0 typing-inspect-0.9.0 uvicorn-0.25.0 watchdog-3.0.0\n"
     ]
    },
    {
     "name": "stderr",
     "output_type": "stream",
     "text": [
      "ERROR: pip's dependency resolver does not currently take into account all the packages that are installed. This behaviour is the source of the following dependency conflicts.\n",
      "ydata-profiling 4.6.3 requires pydantic>=2, but you have pydantic 1.10.13 which is incompatible.\n"
     ]
    }
   ],
   "source": [
    "!pip install evidently"
   ]
  },
  {
   "cell_type": "code",
   "execution_count": 2,
   "id": "263d37cd-5b09-412d-bb44-d1dca01b8ca6",
   "metadata": {},
   "outputs": [
    {
     "data": {
      "text/plain": [
       "2"
      ]
     },
     "execution_count": 2,
     "metadata": {},
     "output_type": "execute_result"
    }
   ],
   "source": [
    "1+1 "
   ]
  }
 ],
 "metadata": {
  "kernelspec": {
   "display_name": "Python 3 (ipykernel)",
   "language": "python",
   "name": "python3"
  },
  "language_info": {
   "codemirror_mode": {
    "name": "ipython",
    "version": 3
   },
   "file_extension": ".py",
   "mimetype": "text/x-python",
   "name": "python",
   "nbconvert_exporter": "python",
   "pygments_lexer": "ipython3",
   "version": "3.10.10"
  }
 },
 "nbformat": 4,
 "nbformat_minor": 5
}
