{
 "cells": [
  {
   "cell_type": "markdown",
   "metadata": {},
   "source": [
    "# Importar dados e pacotes essenciais"
   ]
  },
  {
   "cell_type": "code",
   "execution_count": 1,
   "metadata": {},
   "outputs": [],
   "source": [
    "import pandas as pd\n",
    "import numpy as np\n",
    "import matplotlib.pyplot as plt\n",
    "import seaborn as sns\n",
    "import math\n",
    "from sklearn.model_selection import train_test_split\n",
    "from pandas_profiling import ProfileReport\n",
    "%matplotlib inline\n",
    "\n",
    "pd.set_option('display.max_columns', None)"
   ]
  },
  {
   "cell_type": "code",
   "execution_count": 2,
   "metadata": {},
   "outputs": [],
   "source": [
    "df = pd.read_csv(\"data/credit_default.csv\")"
   ]
  },
  {
   "cell_type": "code",
   "execution_count": 3,
   "metadata": {},
   "outputs": [
    {
     "data": {
      "text/plain": [
       "Index(['id', 'year', 'gender', 'approv_in_adv', 'loan_type', 'loan_purpose',\n",
       "       'business_or_commercial', 'loan_amount', 'rate_of_interest',\n",
       "       'upfront_charges', 'term', 'property_value', 'construction_type',\n",
       "       'income', 'credit_type', 'credit_score', 'age', 'ltv', 'region',\n",
       "       'status'],\n",
       "      dtype='object')"
      ]
     },
     "execution_count": 3,
     "metadata": {},
     "output_type": "execute_result"
    }
   ],
   "source": [
    "df.columns"
   ]
  },
  {
   "cell_type": "code",
   "execution_count": 4,
   "metadata": {},
   "outputs": [],
   "source": [
    "# para simplicidade vamos colocar os nomes das colunas em minusculas\n",
    "df.columns = [col.lower() for col in df.columns]"
   ]
  },
  {
   "cell_type": "code",
   "execution_count": 5,
   "metadata": {},
   "outputs": [
    {
     "data": {
      "text/html": [
       "<div>\n",
       "<style scoped>\n",
       "    .dataframe tbody tr th:only-of-type {\n",
       "        vertical-align: middle;\n",
       "    }\n",
       "\n",
       "    .dataframe tbody tr th {\n",
       "        vertical-align: top;\n",
       "    }\n",
       "\n",
       "    .dataframe thead th {\n",
       "        text-align: right;\n",
       "    }\n",
       "</style>\n",
       "<table border=\"1\" class=\"dataframe\">\n",
       "  <thead>\n",
       "    <tr style=\"text-align: right;\">\n",
       "      <th></th>\n",
       "      <th>id</th>\n",
       "      <th>year</th>\n",
       "      <th>gender</th>\n",
       "      <th>approv_in_adv</th>\n",
       "      <th>loan_type</th>\n",
       "      <th>loan_purpose</th>\n",
       "      <th>business_or_commercial</th>\n",
       "      <th>loan_amount</th>\n",
       "      <th>rate_of_interest</th>\n",
       "      <th>upfront_charges</th>\n",
       "      <th>term</th>\n",
       "      <th>property_value</th>\n",
       "      <th>construction_type</th>\n",
       "      <th>income</th>\n",
       "      <th>credit_type</th>\n",
       "      <th>credit_score</th>\n",
       "      <th>age</th>\n",
       "      <th>ltv</th>\n",
       "      <th>region</th>\n",
       "      <th>status</th>\n",
       "    </tr>\n",
       "  </thead>\n",
       "  <tbody>\n",
       "    <tr>\n",
       "      <th>0</th>\n",
       "      <td>24890</td>\n",
       "      <td>2019</td>\n",
       "      <td>Sex Not Available</td>\n",
       "      <td>nopre</td>\n",
       "      <td>type1</td>\n",
       "      <td>p1</td>\n",
       "      <td>nob/c</td>\n",
       "      <td>116500</td>\n",
       "      <td>NaN</td>\n",
       "      <td>NaN</td>\n",
       "      <td>360.0</td>\n",
       "      <td>118000.0</td>\n",
       "      <td>sb</td>\n",
       "      <td>1740.0</td>\n",
       "      <td>EXP</td>\n",
       "      <td>758</td>\n",
       "      <td>25-34</td>\n",
       "      <td>98.728814</td>\n",
       "      <td>south</td>\n",
       "      <td>1</td>\n",
       "    </tr>\n",
       "  </tbody>\n",
       "</table>\n",
       "</div>"
      ],
      "text/plain": [
       "      id  year             gender approv_in_adv loan_type loan_purpose  \\\n",
       "0  24890  2019  Sex Not Available         nopre     type1           p1   \n",
       "\n",
       "  business_or_commercial  loan_amount  rate_of_interest  upfront_charges  \\\n",
       "0                  nob/c       116500               NaN              NaN   \n",
       "\n",
       "    term  property_value construction_type  income credit_type  credit_score  \\\n",
       "0  360.0        118000.0                sb  1740.0         EXP           758   \n",
       "\n",
       "     age        ltv region  status  \n",
       "0  25-34  98.728814  south       1  "
      ]
     },
     "execution_count": 5,
     "metadata": {},
     "output_type": "execute_result"
    }
   ],
   "source": [
    "# ver 1a linha do dataset\n",
    "df.head(1)"
   ]
  },
  {
   "cell_type": "code",
   "execution_count": 6,
   "metadata": {},
   "outputs": [
    {
     "data": {
      "text/plain": [
       "(148670, 20)"
      ]
     },
     "execution_count": 6,
     "metadata": {},
     "output_type": "execute_result"
    }
   ],
   "source": [
    "#dimensão do dataset: (nr linhas, nr colunas)\n",
    "df.shape"
   ]
  },
  {
   "cell_type": "markdown",
   "metadata": {},
   "source": [
    "##### $\\color{red}{\\text{Não esquecer que antes de avançar é importante conhecer o significado de cada variável!}}$\n",
    "###### $\\color{red}{\\text{Neste caso ver excel \"metadata\"!}}$"
   ]
  },
  {
   "cell_type": "markdown",
   "metadata": {},
   "source": [
    "# Tipos de dados"
   ]
  },
  {
   "cell_type": "code",
   "execution_count": 7,
   "metadata": {},
   "outputs": [
    {
     "data": {
      "text/plain": [
       "id                          int64\n",
       "year                        int64\n",
       "gender                     object\n",
       "approv_in_adv              object\n",
       "loan_type                  object\n",
       "loan_purpose               object\n",
       "business_or_commercial     object\n",
       "loan_amount                 int64\n",
       "rate_of_interest          float64\n",
       "upfront_charges           float64\n",
       "term                      float64\n",
       "property_value            float64\n",
       "construction_type          object\n",
       "income                    float64\n",
       "credit_type                object\n",
       "credit_score                int64\n",
       "age                        object\n",
       "ltv                       float64\n",
       "region                     object\n",
       "status                      int64\n",
       "dtype: object"
      ]
     },
     "execution_count": 7,
     "metadata": {},
     "output_type": "execute_result"
    }
   ],
   "source": [
    "df.dtypes"
   ]
  },
  {
   "cell_type": "markdown",
   "metadata": {},
   "source": [
    "***Algumas observações:***\n",
    "- o formato das variáveis term e status deve ser trocado para string;\n",
    "- os restantes formatos parecem estar coerentes;\n",
    "- para efeitos de exercicio vamos ver como mudar o formato da variável year para datetime;"
   ]
  },
  {
   "cell_type": "code",
   "execution_count": 8,
   "metadata": {},
   "outputs": [],
   "source": [
    "#mudar para string\n",
    "df['term'] = df.term.astype(str)\n",
    "df['status'] = df.status.astype(str)"
   ]
  },
  {
   "cell_type": "code",
   "execution_count": 9,
   "metadata": {},
   "outputs": [],
   "source": [
    "# mudar para date\n",
    "df['year_date'] = pd.to_datetime(df.year, format='%Y')"
   ]
  },
  {
   "cell_type": "code",
   "execution_count": 10,
   "metadata": {},
   "outputs": [
    {
     "data": {
      "text/plain": [
       "0    360.0\n",
       "Name: term, dtype: float64"
      ]
     },
     "execution_count": 10,
     "metadata": {},
     "output_type": "execute_result"
    }
   ],
   "source": [
    "#mudar para numeric (não há necessidade de criar variável nova)\n",
    "df.term.astype('float64').head(1)"
   ]
  },
  {
   "cell_type": "code",
   "execution_count": 11,
   "metadata": {},
   "outputs": [
    {
     "data": {
      "text/html": [
       "<div>\n",
       "<style scoped>\n",
       "    .dataframe tbody tr th:only-of-type {\n",
       "        vertical-align: middle;\n",
       "    }\n",
       "\n",
       "    .dataframe tbody tr th {\n",
       "        vertical-align: top;\n",
       "    }\n",
       "\n",
       "    .dataframe thead th {\n",
       "        text-align: right;\n",
       "    }\n",
       "</style>\n",
       "<table border=\"1\" class=\"dataframe\">\n",
       "  <thead>\n",
       "    <tr style=\"text-align: right;\">\n",
       "      <th></th>\n",
       "      <th>id</th>\n",
       "      <th>year</th>\n",
       "      <th>loan_amount</th>\n",
       "      <th>rate_of_interest</th>\n",
       "      <th>upfront_charges</th>\n",
       "      <th>property_value</th>\n",
       "      <th>income</th>\n",
       "      <th>credit_score</th>\n",
       "      <th>ltv</th>\n",
       "      <th>year_date</th>\n",
       "    </tr>\n",
       "  </thead>\n",
       "  <tbody>\n",
       "    <tr>\n",
       "      <th>count</th>\n",
       "      <td>148670.000000</td>\n",
       "      <td>148670.0</td>\n",
       "      <td>1.486700e+05</td>\n",
       "      <td>112231.000000</td>\n",
       "      <td>109028.000000</td>\n",
       "      <td>1.335720e+05</td>\n",
       "      <td>139520.000000</td>\n",
       "      <td>148670.000000</td>\n",
       "      <td>133572.000000</td>\n",
       "      <td>148670</td>\n",
       "    </tr>\n",
       "    <tr>\n",
       "      <th>mean</th>\n",
       "      <td>99224.500000</td>\n",
       "      <td>2019.0</td>\n",
       "      <td>3.311177e+05</td>\n",
       "      <td>4.045476</td>\n",
       "      <td>3224.996127</td>\n",
       "      <td>4.978935e+05</td>\n",
       "      <td>6957.338876</td>\n",
       "      <td>699.789103</td>\n",
       "      <td>72.746457</td>\n",
       "      <td>2019-01-01 00:00:00</td>\n",
       "    </tr>\n",
       "    <tr>\n",
       "      <th>min</th>\n",
       "      <td>24890.000000</td>\n",
       "      <td>2019.0</td>\n",
       "      <td>1.650000e+04</td>\n",
       "      <td>0.000000</td>\n",
       "      <td>0.000000</td>\n",
       "      <td>8.000000e+03</td>\n",
       "      <td>0.000000</td>\n",
       "      <td>500.000000</td>\n",
       "      <td>0.967478</td>\n",
       "      <td>2019-01-01 00:00:00</td>\n",
       "    </tr>\n",
       "    <tr>\n",
       "      <th>25%</th>\n",
       "      <td>62057.250000</td>\n",
       "      <td>2019.0</td>\n",
       "      <td>1.965000e+05</td>\n",
       "      <td>3.625000</td>\n",
       "      <td>581.490000</td>\n",
       "      <td>2.680000e+05</td>\n",
       "      <td>3720.000000</td>\n",
       "      <td>599.000000</td>\n",
       "      <td>60.474860</td>\n",
       "      <td>2019-01-01 00:00:00</td>\n",
       "    </tr>\n",
       "    <tr>\n",
       "      <th>50%</th>\n",
       "      <td>99224.500000</td>\n",
       "      <td>2019.0</td>\n",
       "      <td>2.965000e+05</td>\n",
       "      <td>3.990000</td>\n",
       "      <td>2596.450000</td>\n",
       "      <td>4.180000e+05</td>\n",
       "      <td>5760.000000</td>\n",
       "      <td>699.000000</td>\n",
       "      <td>75.135870</td>\n",
       "      <td>2019-01-01 00:00:00</td>\n",
       "    </tr>\n",
       "    <tr>\n",
       "      <th>75%</th>\n",
       "      <td>136391.750000</td>\n",
       "      <td>2019.0</td>\n",
       "      <td>4.365000e+05</td>\n",
       "      <td>4.375000</td>\n",
       "      <td>4812.500000</td>\n",
       "      <td>6.280000e+05</td>\n",
       "      <td>8520.000000</td>\n",
       "      <td>800.000000</td>\n",
       "      <td>86.184211</td>\n",
       "      <td>2019-01-01 00:00:00</td>\n",
       "    </tr>\n",
       "    <tr>\n",
       "      <th>max</th>\n",
       "      <td>173559.000000</td>\n",
       "      <td>2019.0</td>\n",
       "      <td>3.576500e+06</td>\n",
       "      <td>8.000000</td>\n",
       "      <td>60000.000000</td>\n",
       "      <td>1.650800e+07</td>\n",
       "      <td>578580.000000</td>\n",
       "      <td>900.000000</td>\n",
       "      <td>7831.250000</td>\n",
       "      <td>2019-01-01 00:00:00</td>\n",
       "    </tr>\n",
       "    <tr>\n",
       "      <th>std</th>\n",
       "      <td>42917.476598</td>\n",
       "      <td>0.0</td>\n",
       "      <td>1.839093e+05</td>\n",
       "      <td>0.561391</td>\n",
       "      <td>3251.121510</td>\n",
       "      <td>3.599353e+05</td>\n",
       "      <td>6496.586382</td>\n",
       "      <td>115.875857</td>\n",
       "      <td>39.967603</td>\n",
       "      <td>NaN</td>\n",
       "    </tr>\n",
       "  </tbody>\n",
       "</table>\n",
       "</div>"
      ],
      "text/plain": [
       "                  id      year   loan_amount  rate_of_interest  \\\n",
       "count  148670.000000  148670.0  1.486700e+05     112231.000000   \n",
       "mean    99224.500000    2019.0  3.311177e+05          4.045476   \n",
       "min     24890.000000    2019.0  1.650000e+04          0.000000   \n",
       "25%     62057.250000    2019.0  1.965000e+05          3.625000   \n",
       "50%     99224.500000    2019.0  2.965000e+05          3.990000   \n",
       "75%    136391.750000    2019.0  4.365000e+05          4.375000   \n",
       "max    173559.000000    2019.0  3.576500e+06          8.000000   \n",
       "std     42917.476598       0.0  1.839093e+05          0.561391   \n",
       "\n",
       "       upfront_charges  property_value         income   credit_score  \\\n",
       "count    109028.000000    1.335720e+05  139520.000000  148670.000000   \n",
       "mean       3224.996127    4.978935e+05    6957.338876     699.789103   \n",
       "min           0.000000    8.000000e+03       0.000000     500.000000   \n",
       "25%         581.490000    2.680000e+05    3720.000000     599.000000   \n",
       "50%        2596.450000    4.180000e+05    5760.000000     699.000000   \n",
       "75%        4812.500000    6.280000e+05    8520.000000     800.000000   \n",
       "max       60000.000000    1.650800e+07  578580.000000     900.000000   \n",
       "std        3251.121510    3.599353e+05    6496.586382     115.875857   \n",
       "\n",
       "                 ltv            year_date  \n",
       "count  133572.000000               148670  \n",
       "mean       72.746457  2019-01-01 00:00:00  \n",
       "min         0.967478  2019-01-01 00:00:00  \n",
       "25%        60.474860  2019-01-01 00:00:00  \n",
       "50%        75.135870  2019-01-01 00:00:00  \n",
       "75%        86.184211  2019-01-01 00:00:00  \n",
       "max      7831.250000  2019-01-01 00:00:00  \n",
       "std        39.967603                  NaN  "
      ]
     },
     "execution_count": 11,
     "metadata": {},
     "output_type": "execute_result"
    }
   ],
   "source": [
    "df.describe(datetime_is_numeric=True)"
   ]
  },
  {
   "cell_type": "markdown",
   "metadata": {},
   "source": [
    "***Algumas observações:***\n",
    "- com este código conseguimos ver algumas estatísticas das variáveis numérias + datetime;\n",
    "- esta primeira visão pode alertar para alguma falta de qualidade de dados;\n",
    "- a variável id não é muito relevante para a nossa exploração -> drop;\n",
    "- a variável year tem apenas 1 valor -> drop;\n",
    "- pelo comparativo entre o (min, max) com o (25%, 75%) conseguimos ter uma primeira ideia sobre variáveis com outliers; \n",
    "- pelo count conseguimos já perceber se temos missing values;"
   ]
  },
  {
   "cell_type": "code",
   "execution_count": 12,
   "metadata": {},
   "outputs": [
    {
     "data": {
      "text/html": [
       "<div>\n",
       "<style scoped>\n",
       "    .dataframe tbody tr th:only-of-type {\n",
       "        vertical-align: middle;\n",
       "    }\n",
       "\n",
       "    .dataframe tbody tr th {\n",
       "        vertical-align: top;\n",
       "    }\n",
       "\n",
       "    .dataframe thead th {\n",
       "        text-align: right;\n",
       "    }\n",
       "</style>\n",
       "<table border=\"1\" class=\"dataframe\">\n",
       "  <thead>\n",
       "    <tr style=\"text-align: right;\">\n",
       "      <th></th>\n",
       "      <th>gender</th>\n",
       "      <th>approv_in_adv</th>\n",
       "      <th>loan_type</th>\n",
       "      <th>loan_purpose</th>\n",
       "      <th>business_or_commercial</th>\n",
       "      <th>term</th>\n",
       "      <th>construction_type</th>\n",
       "      <th>credit_type</th>\n",
       "      <th>age</th>\n",
       "      <th>region</th>\n",
       "      <th>status</th>\n",
       "    </tr>\n",
       "  </thead>\n",
       "  <tbody>\n",
       "    <tr>\n",
       "      <th>count</th>\n",
       "      <td>148670</td>\n",
       "      <td>147762</td>\n",
       "      <td>148670</td>\n",
       "      <td>148536</td>\n",
       "      <td>148670</td>\n",
       "      <td>148670</td>\n",
       "      <td>148670</td>\n",
       "      <td>148670</td>\n",
       "      <td>148470</td>\n",
       "      <td>148670</td>\n",
       "      <td>148670</td>\n",
       "    </tr>\n",
       "    <tr>\n",
       "      <th>unique</th>\n",
       "      <td>4</td>\n",
       "      <td>2</td>\n",
       "      <td>3</td>\n",
       "      <td>4</td>\n",
       "      <td>2</td>\n",
       "      <td>27</td>\n",
       "      <td>2</td>\n",
       "      <td>4</td>\n",
       "      <td>7</td>\n",
       "      <td>4</td>\n",
       "      <td>2</td>\n",
       "    </tr>\n",
       "    <tr>\n",
       "      <th>top</th>\n",
       "      <td>Male</td>\n",
       "      <td>nopre</td>\n",
       "      <td>type1</td>\n",
       "      <td>p3</td>\n",
       "      <td>nob/c</td>\n",
       "      <td>360.0</td>\n",
       "      <td>sb</td>\n",
       "      <td>CIB</td>\n",
       "      <td>45-54</td>\n",
       "      <td>North</td>\n",
       "      <td>0</td>\n",
       "    </tr>\n",
       "    <tr>\n",
       "      <th>freq</th>\n",
       "      <td>42346</td>\n",
       "      <td>124621</td>\n",
       "      <td>113173</td>\n",
       "      <td>55934</td>\n",
       "      <td>127908</td>\n",
       "      <td>121685</td>\n",
       "      <td>148637</td>\n",
       "      <td>48152</td>\n",
       "      <td>34720</td>\n",
       "      <td>74722</td>\n",
       "      <td>112031</td>\n",
       "    </tr>\n",
       "  </tbody>\n",
       "</table>\n",
       "</div>"
      ],
      "text/plain": [
       "        gender approv_in_adv loan_type loan_purpose business_or_commercial  \\\n",
       "count   148670        147762    148670       148536                 148670   \n",
       "unique       4             2         3            4                      2   \n",
       "top       Male         nopre     type1           p3                  nob/c   \n",
       "freq     42346        124621    113173        55934                 127908   \n",
       "\n",
       "          term construction_type credit_type     age  region  status  \n",
       "count   148670            148670      148670  148470  148670  148670  \n",
       "unique      27                 2           4       7       4       2  \n",
       "top      360.0                sb         CIB   45-54   North       0  \n",
       "freq    121685            148637       48152   34720   74722  112031  "
      ]
     },
     "execution_count": 12,
     "metadata": {},
     "output_type": "execute_result"
    }
   ],
   "source": [
    "df.describe(include=[object])"
   ]
  },
  {
   "cell_type": "markdown",
   "metadata": {},
   "source": [
    "Observações semelhantes podem ser feitas aqui!"
   ]
  },
  {
   "cell_type": "code",
   "execution_count": 13,
   "metadata": {},
   "outputs": [],
   "source": [
    "# remover colunas\n",
    "df.drop(columns=[\"id\", \"year\", \"year_date\"], inplace=True)"
   ]
  },
  {
   "cell_type": "markdown",
   "metadata": {},
   "source": [
    "# Rápido relatório sobre os dados"
   ]
  },
  {
   "cell_type": "code",
   "execution_count": 14,
   "metadata": {},
   "outputs": [],
   "source": [
    "profile = ProfileReport(df, title=\"Pandas Profiling Report\")"
   ]
  },
  {
   "cell_type": "code",
   "execution_count": 15,
   "metadata": {},
   "outputs": [
    {
     "data": {
      "application/vnd.jupyter.widget-view+json": {
       "model_id": "eb78d0d8a7e4478d976a4dece0b03913",
       "version_major": 2,
       "version_minor": 0
      },
      "text/plain": [
       "Summarize dataset:   0%|          | 0/5 [00:00<?, ?it/s]"
      ]
     },
     "metadata": {},
     "output_type": "display_data"
    },
    {
     "data": {
      "application/vnd.jupyter.widget-view+json": {
       "model_id": "d0078fc906f240ce9dd1dc8880ab2e39",
       "version_major": 2,
       "version_minor": 0
      },
      "text/plain": [
       "Generate report structure:   0%|          | 0/1 [00:00<?, ?it/s]"
      ]
     },
     "metadata": {},
     "output_type": "display_data"
    },
    {
     "data": {
      "application/vnd.jupyter.widget-view+json": {
       "model_id": "5071e4393d154cc58c85f59bc7dccf3c",
       "version_major": 2,
       "version_minor": 0
      },
      "text/plain": [
       "Render HTML:   0%|          | 0/1 [00:00<?, ?it/s]"
      ]
     },
     "metadata": {},
     "output_type": "display_data"
    },
    {
     "data": {
      "application/vnd.jupyter.widget-view+json": {
       "model_id": "1f455513d7ca47a7b75ca46fb131fc92",
       "version_major": 2,
       "version_minor": 0
      },
      "text/plain": [
       "Export report to file:   0%|          | 0/1 [00:00<?, ?it/s]"
      ]
     },
     "metadata": {},
     "output_type": "display_data"
    },
    {
     "name": "stdout",
     "output_type": "stream",
     "text": [
      "Wall time: 34.5 s\n"
     ]
    }
   ],
   "source": [
    "%%time\n",
    "profile.to_file(\"reports/EDA.html\")"
   ]
  },
  {
   "cell_type": "markdown",
   "metadata": {},
   "source": [
    "# Estudo de ouliers\n",
    "- Para este estudo vou propor separamos aleatoriamente o dataset inicial em 2\n",
    "- Vamos estudar os outliers em apenas 1 deles e aplicar alterações em ambos\n",
    "- Assim ficam a saber como proceder quando receberem dados novos"
   ]
  },
  {
   "cell_type": "code",
   "execution_count": 15,
   "metadata": {},
   "outputs": [],
   "source": [
    "#separação aleatória em 70%/30%;\n",
    "#random_state servirá para garantirmos que a divisão é a mesma quando corrermos o código outra vez\n",
    "df1, df2 = train_test_split(df, test_size=0.3, random_state=0)"
   ]
  },
  {
   "cell_type": "code",
   "execution_count": 16,
   "metadata": {},
   "outputs": [
    {
     "data": {
      "text/plain": [
       "(104069, 18)"
      ]
     },
     "execution_count": 16,
     "metadata": {},
     "output_type": "execute_result"
    }
   ],
   "source": [
    "df1.shape"
   ]
  },
  {
   "cell_type": "code",
   "execution_count": 17,
   "metadata": {},
   "outputs": [
    {
     "data": {
      "text/plain": [
       "(44601, 18)"
      ]
     },
     "execution_count": 17,
     "metadata": {},
     "output_type": "execute_result"
    }
   ],
   "source": [
    "df2.shape"
   ]
  },
  {
   "cell_type": "code",
   "execution_count": 18,
   "metadata": {},
   "outputs": [],
   "source": [
    "#selecionar automaticamente variáveis numericas\n",
    "df_num = df1._get_numeric_data()"
   ]
  },
  {
   "cell_type": "code",
   "execution_count": 19,
   "metadata": {},
   "outputs": [
    {
     "data": {
      "text/html": [
       "<div>\n",
       "<style scoped>\n",
       "    .dataframe tbody tr th:only-of-type {\n",
       "        vertical-align: middle;\n",
       "    }\n",
       "\n",
       "    .dataframe tbody tr th {\n",
       "        vertical-align: top;\n",
       "    }\n",
       "\n",
       "    .dataframe thead th {\n",
       "        text-align: right;\n",
       "    }\n",
       "</style>\n",
       "<table border=\"1\" class=\"dataframe\">\n",
       "  <thead>\n",
       "    <tr style=\"text-align: right;\">\n",
       "      <th></th>\n",
       "      <th>loan_amount</th>\n",
       "      <th>rate_of_interest</th>\n",
       "      <th>upfront_charges</th>\n",
       "      <th>property_value</th>\n",
       "      <th>income</th>\n",
       "      <th>credit_score</th>\n",
       "      <th>ltv</th>\n",
       "    </tr>\n",
       "  </thead>\n",
       "  <tbody>\n",
       "    <tr>\n",
       "      <th>61856</th>\n",
       "      <td>216500</td>\n",
       "      <td>2.99</td>\n",
       "      <td>5548.89</td>\n",
       "      <td>308000.0</td>\n",
       "      <td>4440.0</td>\n",
       "      <td>768</td>\n",
       "      <td>70.292208</td>\n",
       "    </tr>\n",
       "  </tbody>\n",
       "</table>\n",
       "</div>"
      ],
      "text/plain": [
       "       loan_amount  rate_of_interest  upfront_charges  property_value  income  \\\n",
       "61856       216500              2.99          5548.89        308000.0  4440.0   \n",
       "\n",
       "       credit_score        ltv  \n",
       "61856           768  70.292208  "
      ]
     },
     "execution_count": 19,
     "metadata": {},
     "output_type": "execute_result"
    }
   ],
   "source": [
    "df_num.head(1)"
   ]
  },
  {
   "cell_type": "code",
   "execution_count": 20,
   "metadata": {},
   "outputs": [],
   "source": [
    "# função para criar boxplots de todas as variáveis de uma dada dataframe\n",
    "def plot_box_plots(df, fig_size = (12, 20)):\n",
    "    \"\"\"\n",
    "    df: dataframe with only numerical variables\n",
    "    fig_size: size of each sub plot\n",
    "    output: box plots of each variable\n",
    "    \"\"\"\n",
    "    \n",
    "    #create structure\n",
    "    fig, axes = plt.subplots(math.ceil(len(df.columns) / 3), 3, figsize = fig_size)\n",
    "\n",
    "    #iteration by column\n",
    "    for i, ax in enumerate(fig.axes):\n",
    "        if i < len(df.columns):\n",
    "            sns.boxplot(x=df.columns[i], data=df, ax=ax)\n",
    "    \n",
    "    # choose when hide figure\n",
    "    if round((len(df.columns) / 3) % 1, 2) == 0.33:\n",
    "        axes.flat[-2].set_visible(False)\n",
    "        axes.flat[-1].set_visible(False)\n",
    "    elif round((len(df.columns) / 3) % 1, 2) == 0.67:\n",
    "        axes.flat[-1].set_visible(False)\n",
    "    else:\n",
    "        pass\n",
    "    \n",
    "    fig.tight_layout()"
   ]
  },
  {
   "cell_type": "code",
   "execution_count": 22,
   "metadata": {},
   "outputs": [
    {
     "data": {
      "image/png": "[encoded data removed]",
      "text/plain": [
       "<Figure size 864x720 with 9 Axes>"
      ]
     },
     "metadata": {
      "needs_background": "light"
     },
     "output_type": "display_data"
    }
   ],
   "source": [
    "plot_box_plots(df_num, (12, 10))"
   ]
  },
  {
   "cell_type": "markdown",
   "metadata": {},
   "source": [
    "***Algumas observações:***\n",
    "- loan_amount: é possível alguém fazer um emprestimo de 3M€, portanto vamos manter estes outliers;\n",
    "- rate_of_interest: todos estes valores são possíveis, mas devemos validar com o negócio se, por exemplo, queremos manter no estudo casos com 0%;\n",
    "- upfront_charges: todos estes valores são possíveis;\n",
    "- property value: todos estes valores são possíveis;\n",
    "- income: vamos utilizar para exemplo o limite máximo para outliers severos;\n",
    "- ltv: variável calculada, validar com negócio se querem manter todos os casos em estudo;"
   ]
  },
  {
   "cell_type": "code",
   "execution_count": 21,
   "metadata": {},
   "outputs": [],
   "source": [
    "Q1 = df_num.quantile(0.25)\n",
    "Q3 = df_num.quantile(0.75)\n",
    "IQR = Q3 - Q1"
   ]
  },
  {
   "cell_type": "code",
   "execution_count": 22,
   "metadata": {},
   "outputs": [
    {
     "data": {
      "text/plain": [
       "{'loan_amount': -523500.0,\n",
       " 'rate_of_interest': 1.375,\n",
       " 'upfront_charges': -12074.855000000001,\n",
       " 'property_value': -812000.0,\n",
       " 'income': -10680.0,\n",
       " 'credit_score': -4.0,\n",
       " 'ltv': -16.91752293000001}"
      ]
     },
     "execution_count": 22,
     "metadata": {},
     "output_type": "execute_result"
    }
   ],
   "source": [
    "# limites inferiores para outliers severos \n",
    "lim_inf = dict(Q1-3*IQR)\n",
    "lim_inf"
   ]
  },
  {
   "cell_type": "code",
   "execution_count": 23,
   "metadata": {},
   "outputs": [
    {
     "data": {
      "text/plain": [
       "{'loan_amount': 1156500.0,\n",
       " 'rate_of_interest': 6.625,\n",
       " 'upfront_charges': 17460.2975,\n",
       " 'property_value': 1708000.0,\n",
       " 'income': 22920.0,\n",
       " 'credit_score': 1403.0,\n",
       " 'ltv': 163.66470470000002}"
      ]
     },
     "execution_count": 23,
     "metadata": {},
     "output_type": "execute_result"
    }
   ],
   "source": [
    "# limites superiores para outliers severos \n",
    "lim_sup = dict(Q3+3*IQR)\n",
    "lim_sup"
   ]
  },
  {
   "cell_type": "markdown",
   "metadata": {},
   "source": [
    "## tratamento"
   ]
  },
  {
   "cell_type": "code",
   "execution_count": 24,
   "metadata": {},
   "outputs": [],
   "source": [
    "df1['outlier_income'] = np.where(df1.income >= lim_sup['income'], 1, 0)\n",
    "df1['outlier_income'] = df1['outlier_income'].astype(str)\n",
    "df1.loc[df1.income >= lim_sup['income'], 'income'] = lim_sup['income']"
   ]
  },
  {
   "cell_type": "code",
   "execution_count": 25,
   "metadata": {},
   "outputs": [],
   "source": [
    "#aplicar o mesmo tratamento em novos dados (sabendo que os limites podem ter mudado)\n",
    "df2['outlier_income'] = np.where(df2.income >= lim_sup['income'], 1, 0)\n",
    "df2['outlier_income'] = df2['outlier_income'].astype(str)\n",
    "df2.loc[df2.income >= lim_sup['income'], 'income'] = lim_sup['income']"
   ]
  },
  {
   "cell_type": "markdown",
   "metadata": {},
   "source": [
    "# Dados em falta"
   ]
  },
  {
   "cell_type": "code",
   "execution_count": 26,
   "metadata": {},
   "outputs": [],
   "source": [
    "soma_missings_por_coluna = df1.isnull().sum()"
   ]
  },
  {
   "cell_type": "code",
   "execution_count": 27,
   "metadata": {},
   "outputs": [
    {
     "data": {
      "text/plain": [
       "approv_in_adv         652\n",
       "loan_purpose          102\n",
       "rate_of_interest    25483\n",
       "upfront_charges     27763\n",
       "property_value      10526\n",
       "income               6481\n",
       "age                   139\n",
       "ltv                 10526\n",
       "dtype: int64"
      ]
     },
     "execution_count": 27,
     "metadata": {},
     "output_type": "execute_result"
    }
   ],
   "source": [
    "#resultados absolutos\n",
    "soma_missings_por_coluna[soma_missings_por_coluna>0]"
   ]
  },
  {
   "cell_type": "code",
   "execution_count": 28,
   "metadata": {},
   "outputs": [
    {
     "data": {
      "text/plain": [
       "approv_in_adv        0.63\n",
       "loan_purpose         0.10\n",
       "rate_of_interest    24.49\n",
       "upfront_charges     26.68\n",
       "property_value      10.11\n",
       "income               6.23\n",
       "age                  0.13\n",
       "ltv                 10.11\n",
       "dtype: float64"
      ]
     },
     "execution_count": 28,
     "metadata": {},
     "output_type": "execute_result"
    }
   ],
   "source": [
    "#resultados em percentagem\n",
    "tamanho_df1 = len(df1)\n",
    "round(soma_missings_por_coluna[soma_missings_por_coluna>0]/tamanho_df1*100,2)"
   ]
  },
  {
   "cell_type": "markdown",
   "metadata": {},
   "source": [
    "***Algumas observações:***\n",
    "- a validarmos com o negócio se para algumas variáveis não termos informação significa que devemos preencher com 0 (ou outro valor default); \n",
    "- alguns missings estão correlacionados: por exemplo sempre que temos missings na variável property_value também temos na variável ltv (a ter em conta no tratamento);\n",
    "- por simplicidade, para exemplo, vamos preencher os missings com a mediana ou a moda; "
   ]
  },
  {
   "cell_type": "markdown",
   "metadata": {},
   "source": [
    "## tratamento"
   ]
  },
  {
   "cell_type": "code",
   "execution_count": 29,
   "metadata": {},
   "outputs": [],
   "source": [
    "vars_com_missings = soma_missings_por_coluna[soma_missings_por_coluna>0].index"
   ]
  },
  {
   "cell_type": "code",
   "execution_count": 30,
   "metadata": {},
   "outputs": [
    {
     "data": {
      "text/plain": [
       "Index(['approv_in_adv', 'loan_purpose', 'rate_of_interest', 'upfront_charges',\n",
       "       'property_value', 'income', 'age', 'ltv'],\n",
       "      dtype='object')"
      ]
     },
     "execution_count": 30,
     "metadata": {},
     "output_type": "execute_result"
    }
   ],
   "source": [
    "vars_com_missings"
   ]
  },
  {
   "cell_type": "code",
   "execution_count": 31,
   "metadata": {},
   "outputs": [],
   "source": [
    "num_vars_com_missings = [el for el in vars_com_missings if el in df_num.columns]"
   ]
  },
  {
   "cell_type": "code",
   "execution_count": 32,
   "metadata": {},
   "outputs": [
    {
     "data": {
      "text/plain": [
       "['rate_of_interest', 'upfront_charges', 'property_value', 'income', 'ltv']"
      ]
     },
     "execution_count": 32,
     "metadata": {},
     "output_type": "execute_result"
    }
   ],
   "source": [
    "num_vars_com_missings"
   ]
  },
  {
   "cell_type": "code",
   "execution_count": 33,
   "metadata": {},
   "outputs": [],
   "source": [
    "cat_vars_com_missings = [el for el in vars_com_missings if el not in df_num.columns]"
   ]
  },
  {
   "cell_type": "code",
   "execution_count": 34,
   "metadata": {},
   "outputs": [
    {
     "data": {
      "text/plain": [
       "['approv_in_adv', 'loan_purpose', 'age']"
      ]
     },
     "execution_count": 34,
     "metadata": {},
     "output_type": "execute_result"
    }
   ],
   "source": [
    "cat_vars_com_missings"
   ]
  },
  {
   "cell_type": "code",
   "execution_count": 35,
   "metadata": {},
   "outputs": [],
   "source": [
    "missing_median = dict(df1[num_vars_com_missings].median())"
   ]
  },
  {
   "cell_type": "code",
   "execution_count": 36,
   "metadata": {},
   "outputs": [
    {
     "data": {
      "text/plain": [
       "{'rate_of_interest': 3.99,\n",
       " 'upfront_charges': 2588.24,\n",
       " 'property_value': 418000.0,\n",
       " 'income': 5700.0,\n",
       " 'ltv': 75.13586957}"
      ]
     },
     "execution_count": 36,
     "metadata": {},
     "output_type": "execute_result"
    }
   ],
   "source": [
    "missing_median"
   ]
  },
  {
   "cell_type": "code",
   "execution_count": 37,
   "metadata": {},
   "outputs": [],
   "source": [
    "missing_mode = df1[cat_vars_com_missings].mode() #aqui os resultados são apresentados em dataframe"
   ]
  },
  {
   "cell_type": "code",
   "execution_count": 38,
   "metadata": {},
   "outputs": [
    {
     "data": {
      "text/html": [
       "<div>\n",
       "<style scoped>\n",
       "    .dataframe tbody tr th:only-of-type {\n",
       "        vertical-align: middle;\n",
       "    }\n",
       "\n",
       "    .dataframe tbody tr th {\n",
       "        vertical-align: top;\n",
       "    }\n",
       "\n",
       "    .dataframe thead th {\n",
       "        text-align: right;\n",
       "    }\n",
       "</style>\n",
       "<table border=\"1\" class=\"dataframe\">\n",
       "  <thead>\n",
       "    <tr style=\"text-align: right;\">\n",
       "      <th></th>\n",
       "      <th>approv_in_adv</th>\n",
       "      <th>loan_purpose</th>\n",
       "      <th>age</th>\n",
       "    </tr>\n",
       "  </thead>\n",
       "  <tbody>\n",
       "    <tr>\n",
       "      <th>0</th>\n",
       "      <td>nopre</td>\n",
       "      <td>p3</td>\n",
       "      <td>45-54</td>\n",
       "    </tr>\n",
       "  </tbody>\n",
       "</table>\n",
       "</div>"
      ],
      "text/plain": [
       "  approv_in_adv loan_purpose    age\n",
       "0         nopre           p3  45-54"
      ]
     },
     "execution_count": 38,
     "metadata": {},
     "output_type": "execute_result"
    }
   ],
   "source": [
    "missing_mode"
   ]
  },
  {
   "cell_type": "code",
   "execution_count": 39,
   "metadata": {},
   "outputs": [],
   "source": [
    "for var in num_vars_com_missings:\n",
    "    df1['miss_' + var] = np.where(df1[var].isnull(), 1, 0)\n",
    "    df1[var].fillna(missing_median[var], inplace=True)\n",
    "    df2['miss_' + var] = np.where(df2[var].isnull(), 1, 0)\n",
    "    df2[var].fillna(missing_median[var], inplace=True) #aplicar o mesmo tratamento em novos dados"
   ]
  },
  {
   "cell_type": "code",
   "execution_count": 40,
   "metadata": {},
   "outputs": [],
   "source": [
    "for var in cat_vars_com_missings:\n",
    "    df1['miss_' + var] = np.where(df1[var].isnull(), 1, 0)\n",
    "    df1[var].fillna(missing_mode[var].values[0], inplace=True)\n",
    "    df2['miss_' + var] = np.where(df2[var].isnull(), 1, 0)\n",
    "    df2[var].fillna(missing_mode[var].values[0], inplace=True) #aplicar o mesmo tratamento em novos dados"
   ]
  },
  {
   "cell_type": "code",
   "execution_count": 41,
   "metadata": {},
   "outputs": [],
   "source": [
    "#tratar tipos das novas variáveis\n",
    "vars_to_treat = [el for el in df1.columns if \"miss_\" in el]"
   ]
  },
  {
   "cell_type": "code",
   "execution_count": 42,
   "metadata": {},
   "outputs": [
    {
     "data": {
      "text/plain": [
       "['miss_rate_of_interest',\n",
       " 'miss_upfront_charges',\n",
       " 'miss_property_value',\n",
       " 'miss_income',\n",
       " 'miss_ltv',\n",
       " 'miss_approv_in_adv',\n",
       " 'miss_loan_purpose',\n",
       " 'miss_age']"
      ]
     },
     "execution_count": 42,
     "metadata": {},
     "output_type": "execute_result"
    }
   ],
   "source": [
    "vars_to_treat"
   ]
  },
  {
   "cell_type": "code",
   "execution_count": 43,
   "metadata": {},
   "outputs": [],
   "source": [
    "for var in vars_to_treat:\n",
    "    df1[var] = df1[var].astype(str)\n",
    "    df2[var] = df2[var].astype(str)"
   ]
  },
  {
   "cell_type": "markdown",
   "metadata": {},
   "source": [
    "# Exportar dados"
   ]
  },
  {
   "cell_type": "code",
   "execution_count": 44,
   "metadata": {},
   "outputs": [
    {
     "data": {
      "text/html": [
       "<div>\n",
       "<style scoped>\n",
       "    .dataframe tbody tr th:only-of-type {\n",
       "        vertical-align: middle;\n",
       "    }\n",
       "\n",
       "    .dataframe tbody tr th {\n",
       "        vertical-align: top;\n",
       "    }\n",
       "\n",
       "    .dataframe thead th {\n",
       "        text-align: right;\n",
       "    }\n",
       "</style>\n",
       "<table border=\"1\" class=\"dataframe\">\n",
       "  <thead>\n",
       "    <tr style=\"text-align: right;\">\n",
       "      <th></th>\n",
       "      <th>gender</th>\n",
       "      <th>approv_in_adv</th>\n",
       "      <th>loan_type</th>\n",
       "      <th>loan_purpose</th>\n",
       "      <th>business_or_commercial</th>\n",
       "      <th>loan_amount</th>\n",
       "      <th>rate_of_interest</th>\n",
       "      <th>upfront_charges</th>\n",
       "      <th>term</th>\n",
       "      <th>property_value</th>\n",
       "      <th>construction_type</th>\n",
       "      <th>income</th>\n",
       "      <th>credit_type</th>\n",
       "      <th>credit_score</th>\n",
       "      <th>age</th>\n",
       "      <th>ltv</th>\n",
       "      <th>region</th>\n",
       "      <th>status</th>\n",
       "      <th>outlier_income</th>\n",
       "      <th>miss_rate_of_interest</th>\n",
       "      <th>miss_upfront_charges</th>\n",
       "      <th>miss_property_value</th>\n",
       "      <th>miss_income</th>\n",
       "      <th>miss_ltv</th>\n",
       "      <th>miss_approv_in_adv</th>\n",
       "      <th>miss_loan_purpose</th>\n",
       "      <th>miss_age</th>\n",
       "    </tr>\n",
       "  </thead>\n",
       "  <tbody>\n",
       "    <tr>\n",
       "      <th>61856</th>\n",
       "      <td>Sex Not Available</td>\n",
       "      <td>nopre</td>\n",
       "      <td>type1</td>\n",
       "      <td>p4</td>\n",
       "      <td>nob/c</td>\n",
       "      <td>216500</td>\n",
       "      <td>2.990</td>\n",
       "      <td>5548.89</td>\n",
       "      <td>180.0</td>\n",
       "      <td>308000.0</td>\n",
       "      <td>sb</td>\n",
       "      <td>4440.0</td>\n",
       "      <td>CRIF</td>\n",
       "      <td>768</td>\n",
       "      <td>25-34</td>\n",
       "      <td>70.292208</td>\n",
       "      <td>south</td>\n",
       "      <td>0</td>\n",
       "      <td>0</td>\n",
       "      <td>0</td>\n",
       "      <td>0</td>\n",
       "      <td>0</td>\n",
       "      <td>0</td>\n",
       "      <td>0</td>\n",
       "      <td>0</td>\n",
       "      <td>0</td>\n",
       "      <td>0</td>\n",
       "    </tr>\n",
       "    <tr>\n",
       "      <th>4577</th>\n",
       "      <td>Joint</td>\n",
       "      <td>nopre</td>\n",
       "      <td>type1</td>\n",
       "      <td>p3</td>\n",
       "      <td>nob/c</td>\n",
       "      <td>246500</td>\n",
       "      <td>4.125</td>\n",
       "      <td>2465.00</td>\n",
       "      <td>240.0</td>\n",
       "      <td>478000.0</td>\n",
       "      <td>sb</td>\n",
       "      <td>7680.0</td>\n",
       "      <td>CRIF</td>\n",
       "      <td>620</td>\n",
       "      <td>35-44</td>\n",
       "      <td>51.569038</td>\n",
       "      <td>North</td>\n",
       "      <td>0</td>\n",
       "      <td>0</td>\n",
       "      <td>0</td>\n",
       "      <td>0</td>\n",
       "      <td>0</td>\n",
       "      <td>0</td>\n",
       "      <td>0</td>\n",
       "      <td>0</td>\n",
       "      <td>0</td>\n",
       "      <td>0</td>\n",
       "    </tr>\n",
       "    <tr>\n",
       "      <th>21513</th>\n",
       "      <td>Joint</td>\n",
       "      <td>nopre</td>\n",
       "      <td>type1</td>\n",
       "      <td>p4</td>\n",
       "      <td>nob/c</td>\n",
       "      <td>326500</td>\n",
       "      <td>2.875</td>\n",
       "      <td>4728.00</td>\n",
       "      <td>180.0</td>\n",
       "      <td>508000.0</td>\n",
       "      <td>sb</td>\n",
       "      <td>18120.0</td>\n",
       "      <td>EXP</td>\n",
       "      <td>585</td>\n",
       "      <td>35-44</td>\n",
       "      <td>64.271654</td>\n",
       "      <td>North</td>\n",
       "      <td>0</td>\n",
       "      <td>0</td>\n",
       "      <td>0</td>\n",
       "      <td>0</td>\n",
       "      <td>0</td>\n",
       "      <td>0</td>\n",
       "      <td>0</td>\n",
       "      <td>0</td>\n",
       "      <td>0</td>\n",
       "      <td>0</td>\n",
       "    </tr>\n",
       "    <tr>\n",
       "      <th>72925</th>\n",
       "      <td>Joint</td>\n",
       "      <td>nopre</td>\n",
       "      <td>type1</td>\n",
       "      <td>p3</td>\n",
       "      <td>nob/c</td>\n",
       "      <td>186500</td>\n",
       "      <td>3.990</td>\n",
       "      <td>2588.24</td>\n",
       "      <td>360.0</td>\n",
       "      <td>518000.0</td>\n",
       "      <td>sb</td>\n",
       "      <td>10380.0</td>\n",
       "      <td>CIB</td>\n",
       "      <td>788</td>\n",
       "      <td>55-64</td>\n",
       "      <td>36.003861</td>\n",
       "      <td>North</td>\n",
       "      <td>1</td>\n",
       "      <td>0</td>\n",
       "      <td>1</td>\n",
       "      <td>1</td>\n",
       "      <td>0</td>\n",
       "      <td>0</td>\n",
       "      <td>0</td>\n",
       "      <td>0</td>\n",
       "      <td>0</td>\n",
       "      <td>0</td>\n",
       "    </tr>\n",
       "    <tr>\n",
       "      <th>143412</th>\n",
       "      <td>Joint</td>\n",
       "      <td>nopre</td>\n",
       "      <td>type1</td>\n",
       "      <td>p3</td>\n",
       "      <td>nob/c</td>\n",
       "      <td>156500</td>\n",
       "      <td>4.250</td>\n",
       "      <td>4107.50</td>\n",
       "      <td>360.0</td>\n",
       "      <td>318000.0</td>\n",
       "      <td>sb</td>\n",
       "      <td>3060.0</td>\n",
       "      <td>CRIF</td>\n",
       "      <td>751</td>\n",
       "      <td>65-74</td>\n",
       "      <td>49.213836</td>\n",
       "      <td>North</td>\n",
       "      <td>0</td>\n",
       "      <td>0</td>\n",
       "      <td>0</td>\n",
       "      <td>0</td>\n",
       "      <td>0</td>\n",
       "      <td>0</td>\n",
       "      <td>0</td>\n",
       "      <td>0</td>\n",
       "      <td>0</td>\n",
       "      <td>0</td>\n",
       "    </tr>\n",
       "  </tbody>\n",
       "</table>\n",
       "</div>"
      ],
      "text/plain": [
       "                   gender approv_in_adv loan_type loan_purpose  \\\n",
       "61856   Sex Not Available         nopre     type1           p4   \n",
       "4577                Joint         nopre     type1           p3   \n",
       "21513               Joint         nopre     type1           p4   \n",
       "72925               Joint         nopre     type1           p3   \n",
       "143412              Joint         nopre     type1           p3   \n",
       "\n",
       "       business_or_commercial  loan_amount  rate_of_interest  upfront_charges  \\\n",
       "61856                   nob/c       216500             2.990          5548.89   \n",
       "4577                    nob/c       246500             4.125          2465.00   \n",
       "21513                   nob/c       326500             2.875          4728.00   \n",
       "72925                   nob/c       186500             3.990          2588.24   \n",
       "143412                  nob/c       156500             4.250          4107.50   \n",
       "\n",
       "         term  property_value construction_type   income credit_type  \\\n",
       "61856   180.0        308000.0                sb   4440.0        CRIF   \n",
       "4577    240.0        478000.0                sb   7680.0        CRIF   \n",
       "21513   180.0        508000.0                sb  18120.0         EXP   \n",
       "72925   360.0        518000.0                sb  10380.0         CIB   \n",
       "143412  360.0        318000.0                sb   3060.0        CRIF   \n",
       "\n",
       "        credit_score    age        ltv region status outlier_income  \\\n",
       "61856            768  25-34  70.292208  south      0              0   \n",
       "4577             620  35-44  51.569038  North      0              0   \n",
       "21513            585  35-44  64.271654  North      0              0   \n",
       "72925            788  55-64  36.003861  North      1              0   \n",
       "143412           751  65-74  49.213836  North      0              0   \n",
       "\n",
       "       miss_rate_of_interest miss_upfront_charges miss_property_value  \\\n",
       "61856                      0                    0                   0   \n",
       "4577                       0                    0                   0   \n",
       "21513                      0                    0                   0   \n",
       "72925                      1                    1                   0   \n",
       "143412                     0                    0                   0   \n",
       "\n",
       "       miss_income miss_ltv miss_approv_in_adv miss_loan_purpose miss_age  \n",
       "61856            0        0                  0                 0        0  \n",
       "4577             0        0                  0                 0        0  \n",
       "21513            0        0                  0                 0        0  \n",
       "72925            0        0                  0                 0        0  \n",
       "143412           0        0                  0                 0        0  "
      ]
     },
     "execution_count": 44,
     "metadata": {},
     "output_type": "execute_result"
    }
   ],
   "source": [
    "df1.head()"
   ]
  },
  {
   "cell_type": "code",
   "execution_count": 46,
   "metadata": {},
   "outputs": [],
   "source": [
    "df1.to_csv('data/new_df1.csv', index=False)\n",
    "df2.to_csv('data/new_df2.csv', index=False)"
   ]
  },
  {
   "cell_type": "markdown",
   "metadata": {},
   "source": [
    "# Correlações"
   ]
  },
  {
   "cell_type": "code",
   "execution_count": 47,
   "metadata": {},
   "outputs": [],
   "source": [
    "from dython import nominal"
   ]
  },
  {
   "cell_type": "code",
   "execution_count": 48,
   "metadata": {},
   "outputs": [
    {
     "name": "stdout",
     "output_type": "stream",
     "text": [
      "Wall time: 8.41 s\n"
     ]
    }
   ],
   "source": [
    "%%time\n",
    "corr = nominal.associations(df1, compute_only = True)"
   ]
  },
  {
   "cell_type": "code",
   "execution_count": 49,
   "metadata": {},
   "outputs": [],
   "source": [
    "corr_matrix = corr['corr']"
   ]
  },
  {
   "cell_type": "code",
   "execution_count": 50,
   "metadata": {},
   "outputs": [],
   "source": [
    "def plot_heatmap(data, title, fig_size=(12, 10)):\n",
    "    \"\"\"\n",
    "    data: dataframe to get heatmap\n",
    "    title: title of the plot\n",
    "    fig_size: size of the figure\n",
    "    output: heatmap\n",
    "    \"\"\"\n",
    "    plt.figure(figsize = fig_size)\n",
    "    plt.title(title, fontsize=20)\n",
    "\n",
    "    sns.heatmap(data, \n",
    "                cmap='viridis', vmax=1.0, vmin=-1.0, linewidths=0.1,\n",
    "                annot=True, annot_kws={\"size\": 8}, square=True)"
   ]
  },
  {
   "cell_type": "code",
   "execution_count": 51,
   "metadata": {},
   "outputs": [
    {
     "data": {
      "image/png": "[encoded data removed]",
      "text/plain": [
       "<Figure size 864x720 with 2 Axes>"
      ]
     },
     "metadata": {
      "needs_background": "light"
     },
     "output_type": "display_data"
    }
   ],
   "source": [
    "plot_heatmap(corr_matrix[(corr_matrix >= 0.5) | (corr_matrix <= -0.5)], \"Correlations\")"
   ]
  },
  {
   "cell_type": "markdown",
   "metadata": {},
   "source": [
    "## Caso particular"
   ]
  },
  {
   "cell_type": "code",
   "execution_count": 52,
   "metadata": {},
   "outputs": [],
   "source": [
    "corr2 = nominal.associations(df1[['loan_amount', 'income']], compute_only = True, num_num_assoc='spearman')"
   ]
  },
  {
   "cell_type": "code",
   "execution_count": 53,
   "metadata": {},
   "outputs": [
    {
     "data": {
      "text/html": [
       "<div>\n",
       "<style scoped>\n",
       "    .dataframe tbody tr th:only-of-type {\n",
       "        vertical-align: middle;\n",
       "    }\n",
       "\n",
       "    .dataframe tbody tr th {\n",
       "        vertical-align: top;\n",
       "    }\n",
       "\n",
       "    .dataframe thead th {\n",
       "        text-align: right;\n",
       "    }\n",
       "</style>\n",
       "<table border=\"1\" class=\"dataframe\">\n",
       "  <thead>\n",
       "    <tr style=\"text-align: right;\">\n",
       "      <th></th>\n",
       "      <th>loan_amount</th>\n",
       "      <th>income</th>\n",
       "    </tr>\n",
       "  </thead>\n",
       "  <tbody>\n",
       "    <tr>\n",
       "      <th>loan_amount</th>\n",
       "      <td>1.000000</td>\n",
       "      <td>0.624077</td>\n",
       "    </tr>\n",
       "    <tr>\n",
       "      <th>income</th>\n",
       "      <td>0.624077</td>\n",
       "      <td>1.000000</td>\n",
       "    </tr>\n",
       "  </tbody>\n",
       "</table>\n",
       "</div>"
      ],
      "text/plain": [
       "             loan_amount    income\n",
       "loan_amount     1.000000  0.624077\n",
       "income          0.624077  1.000000"
      ]
     },
     "execution_count": 53,
     "metadata": {},
     "output_type": "execute_result"
    }
   ],
   "source": [
    "corr2['corr']"
   ]
  },
  {
   "cell_type": "markdown",
   "metadata": {},
   "source": [
    "# Pandas - exemplos extra"
   ]
  },
  {
   "cell_type": "markdown",
   "metadata": {},
   "source": [
    "#### Merge entre duas bases de dados"
   ]
  },
  {
   "cell_type": "code",
   "execution_count": 18,
   "metadata": {},
   "outputs": [],
   "source": [
    "df.reset_index(inplace=True)"
   ]
  },
  {
   "cell_type": "code",
   "execution_count": 19,
   "metadata": {},
   "outputs": [
    {
     "data": {
      "text/html": [
       "<div>\n",
       "<style scoped>\n",
       "    .dataframe tbody tr th:only-of-type {\n",
       "        vertical-align: middle;\n",
       "    }\n",
       "\n",
       "    .dataframe tbody tr th {\n",
       "        vertical-align: top;\n",
       "    }\n",
       "\n",
       "    .dataframe thead th {\n",
       "        text-align: right;\n",
       "    }\n",
       "</style>\n",
       "<table border=\"1\" class=\"dataframe\">\n",
       "  <thead>\n",
       "    <tr style=\"text-align: right;\">\n",
       "      <th></th>\n",
       "      <th>index</th>\n",
       "      <th>gender</th>\n",
       "      <th>approv_in_adv</th>\n",
       "      <th>loan_type</th>\n",
       "      <th>loan_purpose</th>\n",
       "      <th>business_or_commercial</th>\n",
       "      <th>loan_amount</th>\n",
       "      <th>rate_of_interest</th>\n",
       "      <th>upfront_charges</th>\n",
       "      <th>term</th>\n",
       "      <th>property_value</th>\n",
       "      <th>construction_type</th>\n",
       "      <th>income</th>\n",
       "      <th>credit_type</th>\n",
       "      <th>credit_score</th>\n",
       "      <th>age</th>\n",
       "      <th>ltv</th>\n",
       "      <th>region</th>\n",
       "      <th>status</th>\n",
       "    </tr>\n",
       "  </thead>\n",
       "  <tbody>\n",
       "    <tr>\n",
       "      <th>0</th>\n",
       "      <td>0</td>\n",
       "      <td>Sex Not Available</td>\n",
       "      <td>nopre</td>\n",
       "      <td>type1</td>\n",
       "      <td>p1</td>\n",
       "      <td>nob/c</td>\n",
       "      <td>116500</td>\n",
       "      <td>NaN</td>\n",
       "      <td>NaN</td>\n",
       "      <td>360.0</td>\n",
       "      <td>118000.0</td>\n",
       "      <td>sb</td>\n",
       "      <td>1740.0</td>\n",
       "      <td>EXP</td>\n",
       "      <td>758</td>\n",
       "      <td>25-34</td>\n",
       "      <td>98.728814</td>\n",
       "      <td>south</td>\n",
       "      <td>1</td>\n",
       "    </tr>\n",
       "  </tbody>\n",
       "</table>\n",
       "</div>"
      ],
      "text/plain": [
       "   index             gender approv_in_adv loan_type loan_purpose  \\\n",
       "0      0  Sex Not Available         nopre     type1           p1   \n",
       "\n",
       "  business_or_commercial  loan_amount  rate_of_interest  upfront_charges  \\\n",
       "0                  nob/c       116500               NaN              NaN   \n",
       "\n",
       "    term  property_value construction_type  income credit_type  credit_score  \\\n",
       "0  360.0        118000.0                sb  1740.0         EXP           758   \n",
       "\n",
       "     age        ltv region status  \n",
       "0  25-34  98.728814  south      1  "
      ]
     },
     "execution_count": 19,
     "metadata": {},
     "output_type": "execute_result"
    }
   ],
   "source": [
    "df.head(1)"
   ]
  },
  {
   "cell_type": "code",
   "execution_count": 20,
   "metadata": {},
   "outputs": [],
   "source": [
    "df_ficticia = df.copy()"
   ]
  },
  {
   "cell_type": "code",
   "execution_count": 21,
   "metadata": {},
   "outputs": [],
   "source": [
    "df_ficticia = df_ficticia[['index']]"
   ]
  },
  {
   "cell_type": "code",
   "execution_count": 23,
   "metadata": {},
   "outputs": [],
   "source": [
    "df_ficticia['col_random'] = np.random.randint(0, 2, len(df_ficticia))"
   ]
  },
  {
   "cell_type": "code",
   "execution_count": 24,
   "metadata": {},
   "outputs": [
    {
     "data": {
      "text/html": [
       "<div>\n",
       "<style scoped>\n",
       "    .dataframe tbody tr th:only-of-type {\n",
       "        vertical-align: middle;\n",
       "    }\n",
       "\n",
       "    .dataframe tbody tr th {\n",
       "        vertical-align: top;\n",
       "    }\n",
       "\n",
       "    .dataframe thead th {\n",
       "        text-align: right;\n",
       "    }\n",
       "</style>\n",
       "<table border=\"1\" class=\"dataframe\">\n",
       "  <thead>\n",
       "    <tr style=\"text-align: right;\">\n",
       "      <th></th>\n",
       "      <th>index</th>\n",
       "      <th>col_random</th>\n",
       "    </tr>\n",
       "  </thead>\n",
       "  <tbody>\n",
       "    <tr>\n",
       "      <th>0</th>\n",
       "      <td>0</td>\n",
       "      <td>0</td>\n",
       "    </tr>\n",
       "    <tr>\n",
       "      <th>1</th>\n",
       "      <td>1</td>\n",
       "      <td>1</td>\n",
       "    </tr>\n",
       "    <tr>\n",
       "      <th>2</th>\n",
       "      <td>2</td>\n",
       "      <td>1</td>\n",
       "    </tr>\n",
       "    <tr>\n",
       "      <th>3</th>\n",
       "      <td>3</td>\n",
       "      <td>1</td>\n",
       "    </tr>\n",
       "    <tr>\n",
       "      <th>4</th>\n",
       "      <td>4</td>\n",
       "      <td>0</td>\n",
       "    </tr>\n",
       "  </tbody>\n",
       "</table>\n",
       "</div>"
      ],
      "text/plain": [
       "   index  col_random\n",
       "0      0           0\n",
       "1      1           1\n",
       "2      2           1\n",
       "3      3           1\n",
       "4      4           0"
      ]
     },
     "execution_count": 24,
     "metadata": {},
     "output_type": "execute_result"
    }
   ],
   "source": [
    "df_ficticia.head()"
   ]
  },
  {
   "cell_type": "code",
   "execution_count": 31,
   "metadata": {},
   "outputs": [],
   "source": [
    "df_ficticia['gender'] = np.random.randint(0, 2, len(df_ficticia))"
   ]
  },
  {
   "cell_type": "code",
   "execution_count": 27,
   "metadata": {},
   "outputs": [],
   "source": [
    "df.rename(columns={'index':'index2'}, inplace=True)"
   ]
  },
  {
   "cell_type": "code",
   "execution_count": 34,
   "metadata": {},
   "outputs": [],
   "source": [
    "df_merge = df.merge(df_ficticia, how='inner', left_on='index2', right_on='index', suffixes=('_left', '_right'))"
   ]
  },
  {
   "cell_type": "code",
   "execution_count": 35,
   "metadata": {},
   "outputs": [
    {
     "data": {
      "text/html": [
       "<div>\n",
       "<style scoped>\n",
       "    .dataframe tbody tr th:only-of-type {\n",
       "        vertical-align: middle;\n",
       "    }\n",
       "\n",
       "    .dataframe tbody tr th {\n",
       "        vertical-align: top;\n",
       "    }\n",
       "\n",
       "    .dataframe thead th {\n",
       "        text-align: right;\n",
       "    }\n",
       "</style>\n",
       "<table border=\"1\" class=\"dataframe\">\n",
       "  <thead>\n",
       "    <tr style=\"text-align: right;\">\n",
       "      <th></th>\n",
       "      <th>index2</th>\n",
       "      <th>gender_left</th>\n",
       "      <th>approv_in_adv</th>\n",
       "      <th>loan_type</th>\n",
       "      <th>loan_purpose</th>\n",
       "      <th>business_or_commercial</th>\n",
       "      <th>loan_amount</th>\n",
       "      <th>rate_of_interest</th>\n",
       "      <th>upfront_charges</th>\n",
       "      <th>term</th>\n",
       "      <th>property_value</th>\n",
       "      <th>construction_type</th>\n",
       "      <th>income</th>\n",
       "      <th>credit_type</th>\n",
       "      <th>credit_score</th>\n",
       "      <th>age</th>\n",
       "      <th>ltv</th>\n",
       "      <th>region</th>\n",
       "      <th>status</th>\n",
       "      <th>index</th>\n",
       "      <th>col_random</th>\n",
       "      <th>gender_right</th>\n",
       "    </tr>\n",
       "  </thead>\n",
       "  <tbody>\n",
       "    <tr>\n",
       "      <th>0</th>\n",
       "      <td>0</td>\n",
       "      <td>Sex Not Available</td>\n",
       "      <td>nopre</td>\n",
       "      <td>type1</td>\n",
       "      <td>p1</td>\n",
       "      <td>nob/c</td>\n",
       "      <td>116500</td>\n",
       "      <td>NaN</td>\n",
       "      <td>NaN</td>\n",
       "      <td>360.0</td>\n",
       "      <td>118000.0</td>\n",
       "      <td>sb</td>\n",
       "      <td>1740.0</td>\n",
       "      <td>EXP</td>\n",
       "      <td>758</td>\n",
       "      <td>25-34</td>\n",
       "      <td>98.728814</td>\n",
       "      <td>south</td>\n",
       "      <td>1</td>\n",
       "      <td>0</td>\n",
       "      <td>0</td>\n",
       "      <td>0</td>\n",
       "    </tr>\n",
       "    <tr>\n",
       "      <th>1</th>\n",
       "      <td>1</td>\n",
       "      <td>Male</td>\n",
       "      <td>nopre</td>\n",
       "      <td>type2</td>\n",
       "      <td>p1</td>\n",
       "      <td>b/c</td>\n",
       "      <td>206500</td>\n",
       "      <td>NaN</td>\n",
       "      <td>NaN</td>\n",
       "      <td>360.0</td>\n",
       "      <td>NaN</td>\n",
       "      <td>sb</td>\n",
       "      <td>4980.0</td>\n",
       "      <td>EQUI</td>\n",
       "      <td>552</td>\n",
       "      <td>55-64</td>\n",
       "      <td>NaN</td>\n",
       "      <td>North</td>\n",
       "      <td>1</td>\n",
       "      <td>1</td>\n",
       "      <td>1</td>\n",
       "      <td>1</td>\n",
       "    </tr>\n",
       "    <tr>\n",
       "      <th>2</th>\n",
       "      <td>2</td>\n",
       "      <td>Male</td>\n",
       "      <td>pre</td>\n",
       "      <td>type1</td>\n",
       "      <td>p1</td>\n",
       "      <td>nob/c</td>\n",
       "      <td>406500</td>\n",
       "      <td>4.56</td>\n",
       "      <td>595.0</td>\n",
       "      <td>360.0</td>\n",
       "      <td>508000.0</td>\n",
       "      <td>sb</td>\n",
       "      <td>9480.0</td>\n",
       "      <td>EXP</td>\n",
       "      <td>834</td>\n",
       "      <td>35-44</td>\n",
       "      <td>80.019685</td>\n",
       "      <td>south</td>\n",
       "      <td>0</td>\n",
       "      <td>2</td>\n",
       "      <td>1</td>\n",
       "      <td>0</td>\n",
       "    </tr>\n",
       "    <tr>\n",
       "      <th>3</th>\n",
       "      <td>3</td>\n",
       "      <td>Male</td>\n",
       "      <td>nopre</td>\n",
       "      <td>type1</td>\n",
       "      <td>p4</td>\n",
       "      <td>nob/c</td>\n",
       "      <td>456500</td>\n",
       "      <td>4.25</td>\n",
       "      <td>NaN</td>\n",
       "      <td>360.0</td>\n",
       "      <td>658000.0</td>\n",
       "      <td>sb</td>\n",
       "      <td>11880.0</td>\n",
       "      <td>EXP</td>\n",
       "      <td>587</td>\n",
       "      <td>45-54</td>\n",
       "      <td>69.376900</td>\n",
       "      <td>North</td>\n",
       "      <td>0</td>\n",
       "      <td>3</td>\n",
       "      <td>1</td>\n",
       "      <td>1</td>\n",
       "    </tr>\n",
       "    <tr>\n",
       "      <th>4</th>\n",
       "      <td>4</td>\n",
       "      <td>Joint</td>\n",
       "      <td>pre</td>\n",
       "      <td>type1</td>\n",
       "      <td>p1</td>\n",
       "      <td>nob/c</td>\n",
       "      <td>696500</td>\n",
       "      <td>4.00</td>\n",
       "      <td>0.0</td>\n",
       "      <td>360.0</td>\n",
       "      <td>758000.0</td>\n",
       "      <td>sb</td>\n",
       "      <td>10440.0</td>\n",
       "      <td>CRIF</td>\n",
       "      <td>602</td>\n",
       "      <td>25-34</td>\n",
       "      <td>91.886544</td>\n",
       "      <td>North</td>\n",
       "      <td>0</td>\n",
       "      <td>4</td>\n",
       "      <td>0</td>\n",
       "      <td>1</td>\n",
       "    </tr>\n",
       "  </tbody>\n",
       "</table>\n",
       "</div>"
      ],
      "text/plain": [
       "   index2        gender_left approv_in_adv loan_type loan_purpose  \\\n",
       "0       0  Sex Not Available         nopre     type1           p1   \n",
       "1       1               Male         nopre     type2           p1   \n",
       "2       2               Male           pre     type1           p1   \n",
       "3       3               Male         nopre     type1           p4   \n",
       "4       4              Joint           pre     type1           p1   \n",
       "\n",
       "  business_or_commercial  loan_amount  rate_of_interest  upfront_charges  \\\n",
       "0                  nob/c       116500               NaN              NaN   \n",
       "1                    b/c       206500               NaN              NaN   \n",
       "2                  nob/c       406500              4.56            595.0   \n",
       "3                  nob/c       456500              4.25              NaN   \n",
       "4                  nob/c       696500              4.00              0.0   \n",
       "\n",
       "    term  property_value construction_type   income credit_type  credit_score  \\\n",
       "0  360.0        118000.0                sb   1740.0         EXP           758   \n",
       "1  360.0             NaN                sb   4980.0        EQUI           552   \n",
       "2  360.0        508000.0                sb   9480.0         EXP           834   \n",
       "3  360.0        658000.0                sb  11880.0         EXP           587   \n",
       "4  360.0        758000.0                sb  10440.0        CRIF           602   \n",
       "\n",
       "     age        ltv region status  index  col_random  gender_right  \n",
       "0  25-34  98.728814  south      1      0           0             0  \n",
       "1  55-64        NaN  North      1      1           1             1  \n",
       "2  35-44  80.019685  south      0      2           1             0  \n",
       "3  45-54  69.376900  North      0      3           1             1  \n",
       "4  25-34  91.886544  North      0      4           0             1  "
      ]
     },
     "execution_count": 35,
     "metadata": {},
     "output_type": "execute_result"
    }
   ],
   "source": [
    "df_merge.head()"
   ]
  },
  {
   "cell_type": "markdown",
   "metadata": {},
   "source": [
    "#### Distribuição das categorias de uma variável categórica"
   ]
  },
  {
   "cell_type": "code",
   "execution_count": 36,
   "metadata": {},
   "outputs": [
    {
     "data": {
      "text/plain": [
       "array(['25-34', '55-64', '35-44', '45-54', '65-74', '>74', '<25', nan],\n",
       "      dtype=object)"
      ]
     },
     "execution_count": 36,
     "metadata": {},
     "output_type": "execute_result"
    }
   ],
   "source": [
    "df.age.unique()"
   ]
  },
  {
   "cell_type": "code",
   "execution_count": 40,
   "metadata": {},
   "outputs": [
    {
     "data": {
      "text/plain": [
       "45-54    23.353736\n",
       "35-44    22.074393\n",
       "55-64    21.883366\n",
       "65-74    13.953050\n",
       "25-34    12.875496\n",
       ">74       4.826125\n",
       "<25       0.899307\n",
       "NaN       0.134526\n",
       "Name: age, dtype: float64"
      ]
     },
     "execution_count": 40,
     "metadata": {},
     "output_type": "execute_result"
    }
   ],
   "source": [
    "df.age.value_counts(dropna=False, normalize=True)*100"
   ]
  },
  {
   "cell_type": "markdown",
   "metadata": {},
   "source": [
    "#### groupby "
   ]
  },
  {
   "cell_type": "code",
   "execution_count": 49,
   "metadata": {},
   "outputs": [],
   "source": [
    "gb = df.groupby('age').loan_amount.mean().sort_values().reset_index()"
   ]
  },
  {
   "cell_type": "code",
   "execution_count": 51,
   "metadata": {},
   "outputs": [],
   "source": [
    "gb.columns = ['age', 'loan_amount_mean']"
   ]
  },
  {
   "cell_type": "code",
   "execution_count": 52,
   "metadata": {},
   "outputs": [
    {
     "data": {
      "text/html": [
       "<div>\n",
       "<style scoped>\n",
       "    .dataframe tbody tr th:only-of-type {\n",
       "        vertical-align: middle;\n",
       "    }\n",
       "\n",
       "    .dataframe tbody tr th {\n",
       "        vertical-align: top;\n",
       "    }\n",
       "\n",
       "    .dataframe thead th {\n",
       "        text-align: right;\n",
       "    }\n",
       "</style>\n",
       "<table border=\"1\" class=\"dataframe\">\n",
       "  <thead>\n",
       "    <tr style=\"text-align: right;\">\n",
       "      <th></th>\n",
       "      <th>age</th>\n",
       "      <th>loan_amount_mean</th>\n",
       "    </tr>\n",
       "  </thead>\n",
       "  <tbody>\n",
       "    <tr>\n",
       "      <th>0</th>\n",
       "      <td>&lt;25</td>\n",
       "      <td>250695.961107</td>\n",
       "    </tr>\n",
       "    <tr>\n",
       "      <th>1</th>\n",
       "      <td>&gt;74</td>\n",
       "      <td>260732.752613</td>\n",
       "    </tr>\n",
       "    <tr>\n",
       "      <th>2</th>\n",
       "      <td>65-74</td>\n",
       "      <td>269091.592750</td>\n",
       "    </tr>\n",
       "    <tr>\n",
       "      <th>3</th>\n",
       "      <td>55-64</td>\n",
       "      <td>305933.515707</td>\n",
       "    </tr>\n",
       "    <tr>\n",
       "      <th>4</th>\n",
       "      <td>45-54</td>\n",
       "      <td>352737.327189</td>\n",
       "    </tr>\n",
       "    <tr>\n",
       "      <th>5</th>\n",
       "      <td>25-34</td>\n",
       "      <td>357481.088705</td>\n",
       "    </tr>\n",
       "    <tr>\n",
       "      <th>6</th>\n",
       "      <td>35-44</td>\n",
       "      <td>376490.553964</td>\n",
       "    </tr>\n",
       "  </tbody>\n",
       "</table>\n",
       "</div>"
      ],
      "text/plain": [
       "     age  loan_amount_mean\n",
       "0    <25     250695.961107\n",
       "1    >74     260732.752613\n",
       "2  65-74     269091.592750\n",
       "3  55-64     305933.515707\n",
       "4  45-54     352737.327189\n",
       "5  25-34     357481.088705\n",
       "6  35-44     376490.553964"
      ]
     },
     "execution_count": 52,
     "metadata": {},
     "output_type": "execute_result"
    }
   ],
   "source": [
    "gb"
   ]
  },
  {
   "cell_type": "markdown",
   "metadata": {},
   "source": [
    "#### crosstab"
   ]
  },
  {
   "cell_type": "code",
   "execution_count": 59,
   "metadata": {},
   "outputs": [
    {
     "data": {
      "text/html": [
       "<div>\n",
       "<style scoped>\n",
       "    .dataframe tbody tr th:only-of-type {\n",
       "        vertical-align: middle;\n",
       "    }\n",
       "\n",
       "    .dataframe tbody tr th {\n",
       "        vertical-align: top;\n",
       "    }\n",
       "\n",
       "    .dataframe thead th {\n",
       "        text-align: right;\n",
       "    }\n",
       "</style>\n",
       "<table border=\"1\" class=\"dataframe\">\n",
       "  <thead>\n",
       "    <tr style=\"text-align: right;\">\n",
       "      <th>gender</th>\n",
       "      <th>Female</th>\n",
       "      <th>Joint</th>\n",
       "      <th>Male</th>\n",
       "      <th>Sex Not Available</th>\n",
       "    </tr>\n",
       "    <tr>\n",
       "      <th>age</th>\n",
       "      <th></th>\n",
       "      <th></th>\n",
       "      <th></th>\n",
       "      <th></th>\n",
       "    </tr>\n",
       "  </thead>\n",
       "  <tbody>\n",
       "    <tr>\n",
       "      <th>25-34</th>\n",
       "      <td>3016</td>\n",
       "      <td>5797</td>\n",
       "      <td>6762</td>\n",
       "      <td>3567</td>\n",
       "    </tr>\n",
       "    <tr>\n",
       "      <th>35-44</th>\n",
       "      <td>5354</td>\n",
       "      <td>9713</td>\n",
       "      <td>10362</td>\n",
       "      <td>7389</td>\n",
       "    </tr>\n",
       "    <tr>\n",
       "      <th>45-54</th>\n",
       "      <td>6494</td>\n",
       "      <td>9463</td>\n",
       "      <td>10133</td>\n",
       "      <td>8630</td>\n",
       "    </tr>\n",
       "    <tr>\n",
       "      <th>55-64</th>\n",
       "      <td>6581</td>\n",
       "      <td>8385</td>\n",
       "      <td>8374</td>\n",
       "      <td>9194</td>\n",
       "    </tr>\n",
       "    <tr>\n",
       "      <th>65-74</th>\n",
       "      <td>4160</td>\n",
       "      <td>5811</td>\n",
       "      <td>4541</td>\n",
       "      <td>6232</td>\n",
       "    </tr>\n",
       "    <tr>\n",
       "      <th>&lt;25</th>\n",
       "      <td>237</td>\n",
       "      <td>294</td>\n",
       "      <td>570</td>\n",
       "      <td>236</td>\n",
       "    </tr>\n",
       "    <tr>\n",
       "      <th>&gt;74</th>\n",
       "      <td>1424</td>\n",
       "      <td>1936</td>\n",
       "      <td>1604</td>\n",
       "      <td>2211</td>\n",
       "    </tr>\n",
       "  </tbody>\n",
       "</table>\n",
       "</div>"
      ],
      "text/plain": [
       "gender  Female  Joint   Male  Sex Not Available\n",
       "age                                            \n",
       "25-34     3016   5797   6762               3567\n",
       "35-44     5354   9713  10362               7389\n",
       "45-54     6494   9463  10133               8630\n",
       "55-64     6581   8385   8374               9194\n",
       "65-74     4160   5811   4541               6232\n",
       "<25        237    294    570                236\n",
       ">74       1424   1936   1604               2211"
      ]
     },
     "execution_count": 59,
     "metadata": {},
     "output_type": "execute_result"
    }
   ],
   "source": [
    "pd.crosstab(df.age, df.gender)"
   ]
  },
  {
   "cell_type": "markdown",
   "metadata": {},
   "source": [
    "#### pivot_table"
   ]
  },
  {
   "cell_type": "code",
   "execution_count": 69,
   "metadata": {},
   "outputs": [],
   "source": [
    "pv = pd.pivot_table(df, 'loan_amount', 'age', 'gender', 'sum', fill_value=0)"
   ]
  },
  {
   "cell_type": "markdown",
   "metadata": {},
   "source": [
    "#### lambda x"
   ]
  },
  {
   "cell_type": "code",
   "execution_count": 70,
   "metadata": {},
   "outputs": [
    {
     "data": {
      "text/html": [
       "<div>\n",
       "<style scoped>\n",
       "    .dataframe tbody tr th:only-of-type {\n",
       "        vertical-align: middle;\n",
       "    }\n",
       "\n",
       "    .dataframe tbody tr th {\n",
       "        vertical-align: top;\n",
       "    }\n",
       "\n",
       "    .dataframe thead th {\n",
       "        text-align: right;\n",
       "    }\n",
       "</style>\n",
       "<table border=\"1\" class=\"dataframe\">\n",
       "  <thead>\n",
       "    <tr style=\"text-align: right;\">\n",
       "      <th>gender</th>\n",
       "      <th>Female</th>\n",
       "      <th>Joint</th>\n",
       "      <th>Male</th>\n",
       "      <th>Sex Not Available</th>\n",
       "    </tr>\n",
       "    <tr>\n",
       "      <th>age</th>\n",
       "      <th></th>\n",
       "      <th></th>\n",
       "      <th></th>\n",
       "      <th></th>\n",
       "    </tr>\n",
       "  </thead>\n",
       "  <tbody>\n",
       "    <tr>\n",
       "      <th>25-34</th>\n",
       "      <td>983264000</td>\n",
       "      <td>2432580500</td>\n",
       "      <td>2355813000</td>\n",
       "      <td>1071245500</td>\n",
       "    </tr>\n",
       "    <tr>\n",
       "      <th>35-44</th>\n",
       "      <td>1826671000</td>\n",
       "      <td>4280374500</td>\n",
       "      <td>3807933000</td>\n",
       "      <td>2440688500</td>\n",
       "    </tr>\n",
       "    <tr>\n",
       "      <th>45-54</th>\n",
       "      <td>2070891000</td>\n",
       "      <td>3883899500</td>\n",
       "      <td>3553644500</td>\n",
       "      <td>2738605000</td>\n",
       "    </tr>\n",
       "    <tr>\n",
       "      <th>55-64</th>\n",
       "      <td>1802386500</td>\n",
       "      <td>3023242500</td>\n",
       "      <td>2549321000</td>\n",
       "      <td>2578291000</td>\n",
       "    </tr>\n",
       "    <tr>\n",
       "      <th>65-74</th>\n",
       "      <td>991500000</td>\n",
       "      <td>1799511500</td>\n",
       "      <td>1211996500</td>\n",
       "      <td>1579028000</td>\n",
       "    </tr>\n",
       "    <tr>\n",
       "      <th>&lt;25</th>\n",
       "      <td>56030500</td>\n",
       "      <td>87061000</td>\n",
       "      <td>139035000</td>\n",
       "      <td>53054000</td>\n",
       "    </tr>\n",
       "    <tr>\n",
       "      <th>&gt;74</th>\n",
       "      <td>336216000</td>\n",
       "      <td>580454000</td>\n",
       "      <td>416606000</td>\n",
       "      <td>537481500</td>\n",
       "    </tr>\n",
       "  </tbody>\n",
       "</table>\n",
       "</div>"
      ],
      "text/plain": [
       "gender      Female       Joint        Male  Sex Not Available\n",
       "age                                                          \n",
       "25-34    983264000  2432580500  2355813000         1071245500\n",
       "35-44   1826671000  4280374500  3807933000         2440688500\n",
       "45-54   2070891000  3883899500  3553644500         2738605000\n",
       "55-64   1802386500  3023242500  2549321000         2578291000\n",
       "65-74    991500000  1799511500  1211996500         1579028000\n",
       "<25       56030500    87061000   139035000           53054000\n",
       ">74      336216000   580454000   416606000          537481500"
      ]
     },
     "execution_count": 70,
     "metadata": {},
     "output_type": "execute_result"
    }
   ],
   "source": [
    "pv"
   ]
  },
  {
   "cell_type": "code",
   "execution_count": 68,
   "metadata": {},
   "outputs": [
    {
     "data": {
      "text/html": [
       "<div>\n",
       "<style scoped>\n",
       "    .dataframe tbody tr th:only-of-type {\n",
       "        vertical-align: middle;\n",
       "    }\n",
       "\n",
       "    .dataframe tbody tr th {\n",
       "        vertical-align: top;\n",
       "    }\n",
       "\n",
       "    .dataframe thead th {\n",
       "        text-align: right;\n",
       "    }\n",
       "</style>\n",
       "<table border=\"1\" class=\"dataframe\">\n",
       "  <thead>\n",
       "    <tr style=\"text-align: right;\">\n",
       "      <th>gender</th>\n",
       "      <th>Female</th>\n",
       "      <th>Joint</th>\n",
       "      <th>Male</th>\n",
       "      <th>Sex Not Available</th>\n",
       "    </tr>\n",
       "    <tr>\n",
       "      <th>age</th>\n",
       "      <th></th>\n",
       "      <th></th>\n",
       "      <th></th>\n",
       "      <th></th>\n",
       "    </tr>\n",
       "  </thead>\n",
       "  <tbody>\n",
       "    <tr>\n",
       "      <th>25-34</th>\n",
       "      <td>12.188781</td>\n",
       "      <td>15.121289</td>\n",
       "      <td>16.786051</td>\n",
       "      <td>9.740018</td>\n",
       "    </tr>\n",
       "    <tr>\n",
       "      <th>35-44</th>\n",
       "      <td>22.643861</td>\n",
       "      <td>26.607457</td>\n",
       "      <td>27.132951</td>\n",
       "      <td>22.191318</td>\n",
       "    </tr>\n",
       "    <tr>\n",
       "      <th>45-54</th>\n",
       "      <td>25.671272</td>\n",
       "      <td>24.142908</td>\n",
       "      <td>25.321050</td>\n",
       "      <td>24.900046</td>\n",
       "    </tr>\n",
       "    <tr>\n",
       "      <th>55-64</th>\n",
       "      <td>22.342825</td>\n",
       "      <td>18.792934</td>\n",
       "      <td>18.164868</td>\n",
       "      <td>23.442433</td>\n",
       "    </tr>\n",
       "    <tr>\n",
       "      <th>65-74</th>\n",
       "      <td>12.290877</td>\n",
       "      <td>11.186036</td>\n",
       "      <td>8.635930</td>\n",
       "      <td>14.356897</td>\n",
       "    </tr>\n",
       "    <tr>\n",
       "      <th>&lt;25</th>\n",
       "      <td>0.694568</td>\n",
       "      <td>0.541184</td>\n",
       "      <td>0.990677</td>\n",
       "      <td>0.482380</td>\n",
       "    </tr>\n",
       "    <tr>\n",
       "      <th>&gt;74</th>\n",
       "      <td>4.167816</td>\n",
       "      <td>3.608190</td>\n",
       "      <td>2.968474</td>\n",
       "      <td>4.886909</td>\n",
       "    </tr>\n",
       "  </tbody>\n",
       "</table>\n",
       "</div>"
      ],
      "text/plain": [
       "gender     Female      Joint       Male  Sex Not Available\n",
       "age                                                       \n",
       "25-34   12.188781  15.121289  16.786051           9.740018\n",
       "35-44   22.643861  26.607457  27.132951          22.191318\n",
       "45-54   25.671272  24.142908  25.321050          24.900046\n",
       "55-64   22.342825  18.792934  18.164868          23.442433\n",
       "65-74   12.290877  11.186036   8.635930          14.356897\n",
       "<25      0.694568   0.541184   0.990677           0.482380\n",
       ">74      4.167816   3.608190   2.968474           4.886909"
      ]
     },
     "execution_count": 68,
     "metadata": {},
     "output_type": "execute_result"
    }
   ],
   "source": [
    "pv.apply(lambda x: x/x.sum().sum())*100"
   ]
  },
  {
   "cell_type": "markdown",
   "metadata": {},
   "source": [
    "#### Guardar bases dados em formato zip"
   ]
  },
  {
   "cell_type": "code",
   "execution_count": 71,
   "metadata": {},
   "outputs": [],
   "source": [
    "df.to_excel('data/df_excel.xlsx', index=False)"
   ]
  },
  {
   "cell_type": "code",
   "execution_count": 72,
   "metadata": {},
   "outputs": [],
   "source": [
    "df.to_csv('data/df_zip.gzip', index=False, compression='gzip')"
   ]
  },
  {
   "cell_type": "markdown",
   "metadata": {},
   "source": [
    "# próximos passos"
   ]
  },
  {
   "cell_type": "markdown",
   "metadata": {},
   "source": [
    "Esta área está em constante desenvolvimento portanto se quiserem evoluir rápido aconselho explorarem:\n",
    "- towardsdatascience;\n",
    "- analyticsvidhya;\n",
    "- Medium;\n",
    "- Kaggle;\n",
    "- stackoverflow"
   ]
  },
  {
   "cell_type": "code",
   "execution_count": null,
   "metadata": {},
   "outputs": [],
   "source": []
  }
 ],
 "metadata": {
  "kernelspec": {
   "display_name": "venv",
   "language": "python",
   "name": "venv"
  },
  "language_info": {
   "codemirror_mode": {
    "name": "ipython",
    "version": 3
   },
   "file_extension": ".py",
   "mimetype": "text/x-python",
   "name": "python",
   "nbconvert_exporter": "python",
   "pygments_lexer": "ipython3",
   "version": "3.7.6"
  }
 },
 "nbformat": 4,
 "nbformat_minor": 4
}
