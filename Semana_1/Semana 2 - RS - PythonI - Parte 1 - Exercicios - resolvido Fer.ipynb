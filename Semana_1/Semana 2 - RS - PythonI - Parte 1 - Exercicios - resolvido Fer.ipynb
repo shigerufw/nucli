{
 "cells": [
  {
   "cell_type": "markdown",
   "metadata": {
    "id": "8k-0ZhsxVxt9"
   },
   "source": [
    "![Nuclio logo](https://nuclio.school/wp-content/uploads/2018/12/nucleoDS-newBlack.png)"
   ]
  },
  {
   "cell_type": "markdown",
   "metadata": {
    "id": "tKImzbe4VxuB"
   },
   "source": [
    "# Exercícios - Introdução a Python\n",
    "\n",
    "Nesta folha de exercícios, encontram 31 questões de resposta rápida que vos permitirão aprender o básico da programação em Python.\n",
    "\n",
    "Boa sorte!"
   ]
  },
  {
   "cell_type": "markdown",
   "metadata": {
    "id": "FUbvQBx5VxuC"
   },
   "source": [
    "## Execução de código em Python"
   ]
  },
  {
   "cell_type": "markdown",
   "metadata": {
    "id": "AEaxKWJfVxuC"
   },
   "source": [
    "1 - Crie um programa em Python que imprima o seu nome."
   ]
  },
  {
   "cell_type": "code",
   "execution_count": 3,
   "metadata": {
    "colab": {
     "base_uri": "https://localhost:8080/"
    },
    "executionInfo": {
     "elapsed": 3288,
     "status": "ok",
     "timestamp": 1698192966939,
     "user": {
      "displayName": "Fernando Wakabayashi",
      "userId": "12223867740119059233"
     },
     "user_tz": 180
    },
    "id": "n-ysKFvbL4QY",
    "outputId": "f575c642-63c7-43ef-923b-55ac796fb8d2"
   },
   "outputs": [
    {
     "name": "stdout",
     "output_type": "stream",
     "text": [
      "Fernando\n",
      "Fernando\n"
     ]
    }
   ],
   "source": [
    "name = input('Qual seu nome?')\n",
    "print('{}'.format(name))"
   ]
  },
  {
   "cell_type": "markdown",
   "metadata": {
    "id": "-34E6-gJVxuD"
   },
   "source": [
    "2 - Crie um programa em Python que imprima os seus dados pessoais (nome e idade)."
   ]
  },
  {
   "cell_type": "code",
   "execution_count": 5,
   "metadata": {
    "colab": {
     "base_uri": "https://localhost:8080/"
    },
    "executionInfo": {
     "elapsed": 4240,
     "status": "ok",
     "timestamp": 1698193056058,
     "user": {
      "displayName": "Fernando Wakabayashi",
      "userId": "12223867740119059233"
     },
     "user_tz": 180
    },
    "id": "5nvkQOWAL7Mz",
    "outputId": "8b49e820-51a1-4f68-9f35-327aea77f8c9"
   },
   "outputs": [
    {
     "name": "stdout",
     "output_type": "stream",
     "text": [
      "Qual sua idade? 34\n",
      "Meu nome é Fernando e minha idade é 34\n"
     ]
    }
   ],
   "source": [
    "idade = input('Qual sua idade? ')\n",
    "print(f'Meu nome é {name} e minha idade é {idade}')"
   ]
  },
  {
   "cell_type": "markdown",
   "metadata": {
    "id": "-rYWeEMeVxuD"
   },
   "source": [
    "## Tipos de dados"
   ]
  },
  {
   "cell_type": "markdown",
   "metadata": {
    "ExecuteTime": {
     "end_time": "2020-02-16T10:05:45.645202Z",
     "start_time": "2020-02-16T10:05:45.632210Z"
    },
    "id": "QURde117VxuE"
   },
   "source": [
    "3 - Qual é o tipo de dados da variável x se esta for x = 3.15?"
   ]
  },
  {
   "cell_type": "code",
   "execution_count": 7,
   "metadata": {
    "colab": {
     "base_uri": "https://localhost:8080/"
    },
    "executionInfo": {
     "elapsed": 362,
     "status": "ok",
     "timestamp": 1698193235560,
     "user": {
      "displayName": "Fernando Wakabayashi",
      "userId": "12223867740119059233"
     },
     "user_tz": 180
    },
    "id": "1ymJiqahMcVE",
    "outputId": "bba3263f-8001-48cd-fb45-ad90d554bc25"
   },
   "outputs": [
    {
     "name": "stdout",
     "output_type": "stream",
     "text": [
      "<class 'float'>\n"
     ]
    }
   ],
   "source": [
    "x = 3.15\n",
    "print(type(x))"
   ]
  },
  {
   "cell_type": "markdown",
   "metadata": {
    "ExecuteTime": {
     "end_time": "2020-02-16T10:06:00.049094Z",
     "start_time": "2020-02-16T10:06:00.038969Z"
    },
    "id": "hmJ0DzyVVxuF"
   },
   "source": [
    "4 - Qual é o tipo de dados da variável x se esta for x = \"Hi!\"?"
   ]
  },
  {
   "cell_type": "code",
   "execution_count": 9,
   "metadata": {
    "colab": {
     "base_uri": "https://localhost:8080/"
    },
    "executionInfo": {
     "elapsed": 259,
     "status": "ok",
     "timestamp": 1698193249835,
     "user": {
      "displayName": "Fernando Wakabayashi",
      "userId": "12223867740119059233"
     },
     "user_tz": 180
    },
    "id": "xKdJOl26NE30",
    "outputId": "c57391c1-e1f6-46f5-c06a-82b8378c599d"
   },
   "outputs": [
    {
     "name": "stdout",
     "output_type": "stream",
     "text": [
      "<class 'str'>\n"
     ]
    }
   ],
   "source": [
    "x = 'Hi!'\n",
    "print(type(x))"
   ]
  },
  {
   "cell_type": "markdown",
   "metadata": {
    "id": "mEJ9xv5gShyZ"
   },
   "source": [
    "5 - Qual é o tipo de dados da variável x se esta x = True?"
   ]
  },
  {
   "cell_type": "code",
   "execution_count": 10,
   "metadata": {
    "colab": {
     "base_uri": "https://localhost:8080/"
    },
    "executionInfo": {
     "elapsed": 248,
     "status": "ok",
     "timestamp": 1698193255756,
     "user": {
      "displayName": "Fernando Wakabayashi",
      "userId": "12223867740119059233"
     },
     "user_tz": 180
    },
    "id": "-a6uXMWGNJmY",
    "outputId": "d07e8928-e2d1-476d-95bc-0d94ff50edb8"
   },
   "outputs": [
    {
     "name": "stdout",
     "output_type": "stream",
     "text": [
      "<class 'bool'>\n"
     ]
    }
   ],
   "source": [
    "x = True\n",
    "print(type(x))"
   ]
  },
  {
   "cell_type": "markdown",
   "metadata": {
    "ExecuteTime": {
     "end_time": "2020-02-16T10:06:07.841243Z",
     "start_time": "2020-02-16T10:06:07.831573Z"
    },
    "id": "jdpVn9MdVxuF"
   },
   "source": [
    "6 - Qual é o tipo de dados da variável x se esta for x = 3?"
   ]
  },
  {
   "cell_type": "code",
   "execution_count": 11,
   "metadata": {
    "colab": {
     "base_uri": "https://localhost:8080/"
    },
    "executionInfo": {
     "elapsed": 5,
     "status": "ok",
     "timestamp": 1698193263096,
     "user": {
      "displayName": "Fernando Wakabayashi",
      "userId": "12223867740119059233"
     },
     "user_tz": 180
    },
    "id": "DV_-yPy7NLPs",
    "outputId": "3b9ab451-4407-45e6-ead9-686e7d2e3e66"
   },
   "outputs": [
    {
     "name": "stdout",
     "output_type": "stream",
     "text": [
      "<class 'int'>\n"
     ]
    }
   ],
   "source": [
    "x = 3\n",
    "print(type(x))"
   ]
  },
  {
   "cell_type": "markdown",
   "metadata": {
    "id": "iAAUbtDgVxuG"
   },
   "source": [
    "7 - Crie uma variável (pode escolher o nome a dar à variável) e declare-a com um valor à sua escolha."
   ]
  },
  {
   "cell_type": "code",
   "execution_count": 12,
   "metadata": {
    "executionInfo": {
     "elapsed": 259,
     "status": "ok",
     "timestamp": 1698193304213,
     "user": {
      "displayName": "Fernando Wakabayashi",
      "userId": "12223867740119059233"
     },
     "user_tz": 180
    },
    "id": "OHX5EOesNTL5"
   },
   "outputs": [],
   "source": [
    "var = 2"
   ]
  },
  {
   "cell_type": "markdown",
   "metadata": {
    "id": "Xl22p-VTTC4Q"
   },
   "source": [
    "8 - Ainda usando a variável que criou, imprima o tipo de dados que lhe foi atribuído."
   ]
  },
  {
   "cell_type": "code",
   "execution_count": 13,
   "metadata": {
    "colab": {
     "base_uri": "https://localhost:8080/"
    },
    "executionInfo": {
     "elapsed": 7,
     "status": "ok",
     "timestamp": 1698193314982,
     "user": {
      "displayName": "Fernando Wakabayashi",
      "userId": "12223867740119059233"
     },
     "user_tz": 180
    },
    "id": "drFWx3SqNXXB",
    "outputId": "96e3da42-ea59-4eda-fec9-f6c3833b172b"
   },
   "outputs": [
    {
     "name": "stdout",
     "output_type": "stream",
     "text": [
      "2\n",
      "<class 'int'>\n"
     ]
    }
   ],
   "source": [
    "print(var)\n",
    "print(type(var))"
   ]
  },
  {
   "cell_type": "markdown",
   "metadata": {
    "ExecuteTime": {
     "end_time": "2020-02-16T10:04:44.143890Z",
     "start_time": "2020-02-16T10:04:44.133191Z"
    },
    "id": "dGMnl0ieVxuG"
   },
   "source": [
    "9 - Converta as seguintes variáveis x = 3.15 e y = \"25\" em números inteiros."
   ]
  },
  {
   "cell_type": "code",
   "execution_count": 14,
   "metadata": {
    "colab": {
     "base_uri": "https://localhost:8080/"
    },
    "executionInfo": {
     "elapsed": 267,
     "status": "ok",
     "timestamp": 1698193360284,
     "user": {
      "displayName": "Fernando Wakabayashi",
      "userId": "12223867740119059233"
     },
     "user_tz": 180
    },
    "id": "GN7giTH5Nae7",
    "outputId": "daab7129-0b91-4a67-8fd1-e2c3498a87ea"
   },
   "outputs": [
    {
     "data": {
      "text/plain": [
       "int"
      ]
     },
     "execution_count": 14,
     "metadata": {},
     "output_type": "execute_result"
    }
   ],
   "source": [
    "x = 3.15\n",
    "y = '25'\n",
    "type(x)\n",
    "type(y)\n",
    "x = int(x)\n",
    "y = int(y)\n",
    "type(x)\n",
    "type(y)\n"
   ]
  },
  {
   "cell_type": "markdown",
   "metadata": {
    "id": "0WADzbbrVxuH"
   },
   "source": [
    "10 - Converta x = 3 e y = \"25\" em números decimais."
   ]
  },
  {
   "cell_type": "code",
   "execution_count": 15,
   "metadata": {
    "colab": {
     "base_uri": "https://localhost:8080/"
    },
    "executionInfo": {
     "elapsed": 274,
     "status": "ok",
     "timestamp": 1698193380182,
     "user": {
      "displayName": "Fernando Wakabayashi",
      "userId": "12223867740119059233"
     },
     "user_tz": 180
    },
    "id": "pLNmjjkQNmI1",
    "outputId": "f1a11860-a6f9-4f35-e165-ec64c1aab6b6"
   },
   "outputs": [
    {
     "data": {
      "text/plain": [
       "float"
      ]
     },
     "execution_count": 15,
     "metadata": {},
     "output_type": "execute_result"
    }
   ],
   "source": [
    "x = 3\n",
    "y = '25'\n",
    "type(x)\n",
    "type(y)\n",
    "x = float(x)\n",
    "y = float(y)\n",
    "type(x)\n",
    "type(y)"
   ]
  },
  {
   "cell_type": "markdown",
   "metadata": {
    "id": "N62wabauVxuH"
   },
   "source": [
    "11 - Converta x = 3 e y = -1.5 em texto (strings)."
   ]
  },
  {
   "cell_type": "code",
   "execution_count": 17,
   "metadata": {
    "colab": {
     "base_uri": "https://localhost:8080/"
    },
    "executionInfo": {
     "elapsed": 4,
     "status": "ok",
     "timestamp": 1698193419430,
     "user": {
      "displayName": "Fernando Wakabayashi",
      "userId": "12223867740119059233"
     },
     "user_tz": 180
    },
    "id": "Cqvma1y2Nvr8",
    "outputId": "d4293ff0-9a04-471a-da67-999b915de327"
   },
   "outputs": [
    {
     "data": {
      "text/plain": [
       "str"
      ]
     },
     "execution_count": 17,
     "metadata": {},
     "output_type": "execute_result"
    }
   ],
   "source": [
    "x = 3\n",
    "y = -1.5\n",
    "type(x)\n",
    "type(y)\n",
    "x = str(x)\n",
    "y = str(y)\n",
    "type(x)\n",
    "type(y)"
   ]
  },
  {
   "cell_type": "markdown",
   "metadata": {
    "id": "1fxLR-raVxuI"
   },
   "source": [
    "12 - Imprima os 3 tipos mais básicos de dados numéricos que existem e dê um exemplo para cada um."
   ]
  },
  {
   "cell_type": "code",
   "execution_count": 22,
   "metadata": {
    "colab": {
     "base_uri": "https://localhost:8080/"
    },
    "executionInfo": {
     "elapsed": 5,
     "status": "ok",
     "timestamp": 1698193565735,
     "user": {
      "displayName": "Fernando Wakabayashi",
      "userId": "12223867740119059233"
     },
     "user_tz": 180
    },
    "id": "Ik9-xbMUN0Ck",
    "outputId": "f6219474-b4c2-43d2-97a4-6298a7dbaef8"
   },
   "outputs": [
    {
     "name": "stdout",
     "output_type": "stream",
     "text": [
      "<class 'int'>\n",
      "<class 'bool'>\n",
      "<class 'float'>\n"
     ]
    }
   ],
   "source": [
    "n_int = 2\n",
    "n_bool = True\n",
    "n_float = 2.0\n",
    "lst_n = [n_int, n_bool, n_float]\n",
    "\n",
    "for x in lst_n:\n",
    "  print(type(x))\n"
   ]
  },
  {
   "cell_type": "markdown",
   "metadata": {
    "id": "1oIqrdW3VxuI"
   },
   "source": [
    "13 - Converta x = 3.15 para os outros tipos de dados numéricos."
   ]
  },
  {
   "cell_type": "code",
   "execution_count": 24,
   "metadata": {
    "colab": {
     "base_uri": "https://localhost:8080/"
    },
    "executionInfo": {
     "elapsed": 8,
     "status": "ok",
     "timestamp": 1698193630880,
     "user": {
      "displayName": "Fernando Wakabayashi",
      "userId": "12223867740119059233"
     },
     "user_tz": 180
    },
    "id": "gXqvqz1OObfW",
    "outputId": "93b3e262-6430-453d-a326-01192104ac71"
   },
   "outputs": [
    {
     "name": "stdout",
     "output_type": "stream",
     "text": [
      "3\n",
      "True\n"
     ]
    }
   ],
   "source": [
    "x = 3.15\n",
    "x_int = int(x)\n",
    "x_bool = bool(x)\n",
    "print(x_int)\n",
    "print(x_bool)"
   ]
  },
  {
   "cell_type": "markdown",
   "metadata": {
    "id": "_JQx_gW6VxuI"
   },
   "source": [
    "## Variáveis numéricas"
   ]
  },
  {
   "cell_type": "markdown",
   "metadata": {
    "id": "UMxvRs-aVxuJ"
   },
   "source": [
    "14 - Calcule a soma de 64 + 32."
   ]
  },
  {
   "cell_type": "code",
   "execution_count": 26,
   "metadata": {
    "colab": {
     "base_uri": "https://localhost:8080/"
    },
    "executionInfo": {
     "elapsed": 255,
     "status": "ok",
     "timestamp": 1698193653889,
     "user": {
      "displayName": "Fernando Wakabayashi",
      "userId": "12223867740119059233"
     },
     "user_tz": 180
    },
    "id": "pxASuS0sOnx9",
    "outputId": "65cf4856-e587-4314-cc35-3c558e9dc72f"
   },
   "outputs": [
    {
     "data": {
      "text/plain": [
       "96"
      ]
     },
     "execution_count": 26,
     "metadata": {},
     "output_type": "execute_result"
    }
   ],
   "source": [
    "64+32"
   ]
  },
  {
   "cell_type": "markdown",
   "metadata": {
    "id": "k9q_ZjmrVxuJ"
   },
   "source": [
    "15 - Agora calcule a subtração, produto e divisão desses mesmos números."
   ]
  },
  {
   "cell_type": "code",
   "execution_count": 46,
   "metadata": {
    "colab": {
     "base_uri": "https://localhost:8080/"
    },
    "executionInfo": {
     "elapsed": 273,
     "status": "ok",
     "timestamp": 1698194039793,
     "user": {
      "displayName": "Fernando Wakabayashi",
      "userId": "12223867740119059233"
     },
     "user_tz": 180
    },
    "id": "RawdP9nPOqpn",
    "outputId": "c9ec0b08-4966-4bc1-cd2b-b39db9ab8a9a"
   },
   "outputs": [
    {
     "name": "stdout",
     "output_type": "stream",
     "text": [
      "subtracao a - b = 96\n",
      "produto a * b = 2048\n",
      "divisao a / b = 2\n"
     ]
    }
   ],
   "source": [
    "a = 64\n",
    "b = 32\n",
    "acc = {}\n",
    "acc['sum'] = a+b\n",
    "acc['prod']  = a*b\n",
    "acc['div'] = a/b\n",
    "print('subtracao a - b = {sum}'.format(sum = acc['sum']))\n",
    "print('produto a * b = %.0f'  %acc['prod'] )\n",
    "print('divisao a / b = {:.0f}'.format(acc['div']))"
   ]
  },
  {
   "cell_type": "markdown",
   "metadata": {
    "id": "GQghOU74Ufvj"
   },
   "source": [
    "16 - Se tivermos x = 2 e y = 0, qual será o resultado da divisão de x por y?"
   ]
  },
  {
   "cell_type": "code",
   "execution_count": 47,
   "metadata": {
    "colab": {
     "base_uri": "https://localhost:8080/",
     "height": 215
    },
    "executionInfo": {
     "elapsed": 5,
     "status": "error",
     "timestamp": 1698194254683,
     "user": {
      "displayName": "Fernando Wakabayashi",
      "userId": "12223867740119059233"
     },
     "user_tz": 180
    },
    "id": "T9R2FQZeQ7Lk",
    "outputId": "63569b84-6dbb-4a9b-bd05-4dd7ab6a9b74"
   },
   "outputs": [
    {
     "ename": "ZeroDivisionError",
     "evalue": "ignored",
     "output_type": "error",
     "traceback": [
      "\u001b[0;31m---------------------------------------------------------------------------\u001b[0m",
      "\u001b[0;31mZeroDivisionError\u001b[0m                         Traceback (most recent call last)",
      "\u001b[0;32m<ipython-input-47-65b555cec561>\u001b[0m in \u001b[0;36m<cell line: 3>\u001b[0;34m()\u001b[0m\n\u001b[1;32m      1\u001b[0m \u001b[0mx\u001b[0m \u001b[0;34m=\u001b[0m \u001b[0;36m2\u001b[0m\u001b[0;34m\u001b[0m\u001b[0;34m\u001b[0m\u001b[0m\n\u001b[1;32m      2\u001b[0m \u001b[0my\u001b[0m \u001b[0;34m=\u001b[0m \u001b[0;36m0\u001b[0m\u001b[0;34m\u001b[0m\u001b[0;34m\u001b[0m\u001b[0m\n\u001b[0;32m----> 3\u001b[0;31m \u001b[0mx\u001b[0m\u001b[0;34m/\u001b[0m\u001b[0my\u001b[0m\u001b[0;34m\u001b[0m\u001b[0;34m\u001b[0m\u001b[0m\n\u001b[0m",
      "\u001b[0;31mZeroDivisionError\u001b[0m: division by zero"
     ]
    }
   ],
   "source": [
    "x = 2\n",
    "y = 0\n",
    "x/y"
   ]
  },
  {
   "cell_type": "markdown",
   "metadata": {
    "id": "jipVkMBYWWu6"
   },
   "source": [
    "17 - Se tivermos x = 4 e y = 2, qual é o resto da divisão de x por y (x%y)?\n",
    "\n"
   ]
  },
  {
   "cell_type": "code",
   "execution_count": 48,
   "metadata": {
    "colab": {
     "base_uri": "https://localhost:8080/"
    },
    "executionInfo": {
     "elapsed": 9,
     "status": "ok",
     "timestamp": 1698194273964,
     "user": {
      "displayName": "Fernando Wakabayashi",
      "userId": "12223867740119059233"
     },
     "user_tz": 180
    },
    "id": "4-qs8C8wRAvs",
    "outputId": "a8c674e0-e7c8-4375-8d9e-f1c83dac7023"
   },
   "outputs": [
    {
     "data": {
      "text/plain": [
       "0"
      ]
     },
     "execution_count": 48,
     "metadata": {},
     "output_type": "execute_result"
    }
   ],
   "source": [
    "x = 4\n",
    "y = 2\n",
    "x%y"
   ]
  },
  {
   "cell_type": "markdown",
   "metadata": {
    "id": "LyprbbHmVxuJ"
   },
   "source": [
    "18 - Imagine que tem um quadrado como o seguinte. Qual é a sua área e perímetro?\n",
    "\n",
    "![square.png](data:image/png;base64,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)"
   ]
  },
  {
   "cell_type": "code",
   "execution_count": 49,
   "metadata": {
    "colab": {
     "base_uri": "https://localhost:8080/"
    },
    "executionInfo": {
     "elapsed": 408,
     "status": "ok",
     "timestamp": 1698194321246,
     "user": {
      "displayName": "Fernando Wakabayashi",
      "userId": "12223867740119059233"
     },
     "user_tz": 180
    },
    "id": "OojLJMJRREkC",
    "outputId": "03666d49-a5ff-47c3-9a4c-347b55de2414"
   },
   "outputs": [
    {
     "name": "stdout",
     "output_type": "stream",
     "text": [
      "A área é 9 e o perímetro é 12\n"
     ]
    }
   ],
   "source": [
    "l = 3\n",
    "a = l**2\n",
    "p = 4*l\n",
    "print(f'A área é {a} e o perímetro é {p}')"
   ]
  },
  {
   "cell_type": "markdown",
   "metadata": {
    "id": "kcJuca3PVxuK"
   },
   "source": [
    "19 - Calcule a área e perímetro do seguinte círculo.\n",
    "\n",
    "![circle.png](data:image/png;base64,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)"
   ]
  },
  {
   "cell_type": "code",
   "execution_count": 57,
   "metadata": {
    "colab": {
     "base_uri": "https://localhost:8080/"
    },
    "executionInfo": {
     "elapsed": 3,
     "status": "ok",
     "timestamp": 1698194432098,
     "user": {
      "displayName": "Fernando Wakabayashi",
      "userId": "12223867740119059233"
     },
     "user_tz": 180
    },
    "id": "EaqeCmd8RPfY",
    "outputId": "84a08b99-3b3d-4e3e-89fc-abade62f2360"
   },
   "outputs": [
    {
     "name": "stdout",
     "output_type": "stream",
     "text": [
      "A área é 12.57 e o perímetro é 12.57\n"
     ]
    }
   ],
   "source": [
    "import math\n",
    "r = 2\n",
    "pi = math.pi\n",
    "a = pi*r**2\n",
    "p = 2*pi*r\n",
    "print(f'A área é {a:.2f} e o perímetro é {p:.2f}')"
   ]
  },
  {
   "cell_type": "markdown",
   "metadata": {
    "id": "Js3kSCLKVxuK"
   },
   "source": [
    "20 - Calcule o volume do seguinte cubo.\n",
    "\n",
    "![cube.png](data:image/png;base64,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)"
   ]
  },
  {
   "cell_type": "code",
   "execution_count": 61,
   "metadata": {
    "colab": {
     "base_uri": "https://localhost:8080/"
    },
    "executionInfo": {
     "elapsed": 337,
     "status": "ok",
     "timestamp": 1698194485469,
     "user": {
      "displayName": "Fernando Wakabayashi",
      "userId": "12223867740119059233"
     },
     "user_tz": 180
    },
    "id": "b3iPz0SgRshK",
    "outputId": "afa168e4-0f0f-49d8-c999-f886e7fa1ca1"
   },
   "outputs": [
    {
     "name": "stdout",
     "output_type": "stream",
     "text": [
      "volumne é  64\n"
     ]
    }
   ],
   "source": [
    "l = 4\n",
    "v = 4**3\n",
    "print(f'volumne é  {v}')"
   ]
  },
  {
   "cell_type": "markdown",
   "metadata": {
    "id": "yX8U_hBsVxuK"
   },
   "source": [
    "21 - Se eu tiver 24 lápis e desejar distribuí-los igualmente entre 8 alunos, quantos lápis cada aluno deverá receber?"
   ]
  },
  {
   "cell_type": "code",
   "execution_count": 63,
   "metadata": {
    "colab": {
     "base_uri": "https://localhost:8080/"
    },
    "executionInfo": {
     "elapsed": 4,
     "status": "ok",
     "timestamp": 1698194530307,
     "user": {
      "displayName": "Fernando Wakabayashi",
      "userId": "12223867740119059233"
     },
     "user_tz": 180
    },
    "id": "C6zJp2gUR5Az",
    "outputId": "3529bd46-d359-41cd-e061-c007c4e41cb0"
   },
   "outputs": [
    {
     "name": "stdout",
     "output_type": "stream",
     "text": [
      "cada aluno recebera 3 lápis\n"
     ]
    }
   ],
   "source": [
    "qtd = 24\n",
    "n = 8\n",
    "print('cada aluno recebera {} lápis'.format(int(qtd/n)))"
   ]
  },
  {
   "cell_type": "markdown",
   "metadata": {
    "id": "rz2ptsCLW1fw"
   },
   "source": [
    "22 - Suponha que tem 34 chocolates, e deseja colocá-los em caixas com 6 chocolates em cada uma. Quantas caixas poderá fazer e quantos chocolates sobrarão?"
   ]
  },
  {
   "cell_type": "code",
   "execution_count": 65,
   "metadata": {
    "colab": {
     "base_uri": "https://localhost:8080/"
    },
    "executionInfo": {
     "elapsed": 8,
     "status": "ok",
     "timestamp": 1698194633176,
     "user": {
      "displayName": "Fernando Wakabayashi",
      "userId": "12223867740119059233"
     },
     "user_tz": 180
    },
    "id": "e_j9Z2McSElD",
    "outputId": "f88bbf78-2744-4668-eb12-4078304ad32e"
   },
   "outputs": [
    {
     "name": "stdout",
     "output_type": "stream",
     "text": [
      "podera fazer 5 e sobram 4 de chocolates\n"
     ]
    }
   ],
   "source": [
    "bombom = 34\n",
    "cx = 6\n",
    "qtd_caixas = 34//6\n",
    "restante = 34%6\n",
    "print(f'podera fazer {qtd_caixas} e sobram {restante} de chocolates')\n"
   ]
  },
  {
   "cell_type": "markdown",
   "metadata": {
    "id": "nqHBnhXCVxuL"
   },
   "source": [
    "## Booleans"
   ]
  },
  {
   "cell_type": "markdown",
   "metadata": {
    "id": "am4Bo2fzVxuL"
   },
   "source": [
    "23 - Se a Ana tem 15 anos e o Jorge tem 20, verifique quem é mais velho."
   ]
  },
  {
   "cell_type": "code",
   "execution_count": 67,
   "metadata": {
    "colab": {
     "base_uri": "https://localhost:8080/"
    },
    "executionInfo": {
     "elapsed": 7,
     "status": "ok",
     "timestamp": 1698194757118,
     "user": {
      "displayName": "Fernando Wakabayashi",
      "userId": "12223867740119059233"
     },
     "user_tz": 180
    },
    "id": "jSn1yRfGScSQ",
    "outputId": "92bd2049-cf12-4ff1-fc14-167e24b7c455"
   },
   "outputs": [
    {
     "name": "stdout",
     "output_type": "stream",
     "text": [
      "Jorge é mais velho e tem: 20 anos\n"
     ]
    }
   ],
   "source": [
    "ana = 15\n",
    "jorge = 20\n",
    "if ana > jorge:\n",
    "  print(f'Ana é mais velha e tem: {ana} anos')\n",
    "if jorge > ana:\n",
    "  print(f'Jorge é mais velho e tem: {jorge} anos')"
   ]
  },
  {
   "cell_type": "markdown",
   "metadata": {
    "ExecuteTime": {
     "end_time": "2020-02-16T10:14:37.853694Z",
     "start_time": "2020-02-16T10:14:37.843040Z"
    },
    "id": "rJCNq3BhVxuL"
   },
   "source": [
    "24 - As variáveis x e y têm os seguintes valores: x = 123 e y = \"123\". Como pode ver, x e y pertencem a tipos de dados diferentes. Converta-os no mesmo tipo de dados e depois verifique se x e y representam o mesmo valor."
   ]
  },
  {
   "cell_type": "code",
   "execution_count": 68,
   "metadata": {
    "colab": {
     "base_uri": "https://localhost:8080/"
    },
    "executionInfo": {
     "elapsed": 11,
     "status": "ok",
     "timestamp": 1698194812148,
     "user": {
      "displayName": "Fernando Wakabayashi",
      "userId": "12223867740119059233"
     },
     "user_tz": 180
    },
    "id": "5YM35ViwS9Bj",
    "outputId": "6c63a660-480b-43bd-9ebe-5be88138a592"
   },
   "outputs": [
    {
     "name": "stdout",
     "output_type": "stream",
     "text": [
      "True\n"
     ]
    }
   ],
   "source": [
    "x = 123\n",
    "y = '123'\n",
    "y = int(123)\n",
    "\n",
    "print(x == y)\n"
   ]
  },
  {
   "cell_type": "markdown",
   "metadata": {
    "id": "cS_gsRisVxuL"
   },
   "source": [
    "## Strings"
   ]
  },
  {
   "cell_type": "markdown",
   "metadata": {
    "id": "oMgPLi_kVxuL"
   },
   "source": [
    "25 - Crie uma lista contendo o seu nome completo separado por vírgulas. Depois imprima a lista."
   ]
  },
  {
   "cell_type": "code",
   "execution_count": 71,
   "metadata": {
    "colab": {
     "base_uri": "https://localhost:8080/"
    },
    "executionInfo": {
     "elapsed": 4,
     "status": "ok",
     "timestamp": 1698194904240,
     "user": {
      "displayName": "Fernando Wakabayashi",
      "userId": "12223867740119059233"
     },
     "user_tz": 180
    },
    "id": "hCiaHHffTI4O",
    "outputId": "8528dcb5-82b8-42e6-e441-4c4a991fd8f0"
   },
   "outputs": [
    {
     "name": "stdout",
     "output_type": "stream",
     "text": [
      "Fernando\n",
      " Shigeru\n",
      " Wakabayashi\n"
     ]
    }
   ],
   "source": [
    "lst_nome = \"Fernando, Shigeru, Wakabayashi\".split(',')\n",
    "for name in lst_nome:\n",
    "  print(name)"
   ]
  },
  {
   "cell_type": "markdown",
   "metadata": {
    "id": "s9Wn0UJTVxuM"
   },
   "source": [
    "26 - Quantas letras tem a palavra 'ornitorrinco'?"
   ]
  },
  {
   "cell_type": "code",
   "execution_count": 72,
   "metadata": {
    "colab": {
     "base_uri": "https://localhost:8080/"
    },
    "executionInfo": {
     "elapsed": 7,
     "status": "ok",
     "timestamp": 1698194921444,
     "user": {
      "displayName": "Fernando Wakabayashi",
      "userId": "12223867740119059233"
     },
     "user_tz": 180
    },
    "id": "ehm0fRx3TeBO",
    "outputId": "d89b7651-6c76-4015-8879-8a8dcb4ae743"
   },
   "outputs": [
    {
     "data": {
      "text/plain": [
       "12"
      ]
     },
     "execution_count": 72,
     "metadata": {},
     "output_type": "execute_result"
    }
   ],
   "source": [
    "len('ornitorrinco')"
   ]
  },
  {
   "cell_type": "markdown",
   "metadata": {
    "id": "Cc65oTd1VxuM"
   },
   "source": [
    "27 - Capitalize a palavra 'amanhecer'."
   ]
  },
  {
   "cell_type": "code",
   "execution_count": 73,
   "metadata": {
    "colab": {
     "base_uri": "https://localhost:8080/",
     "height": 35
    },
    "executionInfo": {
     "elapsed": 274,
     "status": "ok",
     "timestamp": 1698194943435,
     "user": {
      "displayName": "Fernando Wakabayashi",
      "userId": "12223867740119059233"
     },
     "user_tz": 180
    },
    "id": "CPTQ4GffTi8J",
    "outputId": "1b604551-3782-460f-f9f5-45e509fa18fc"
   },
   "outputs": [
    {
     "data": {
      "application/vnd.google.colaboratory.intrinsic+json": {
       "type": "string"
      },
      "text/plain": [
       "'AMANHECER'"
      ]
     },
     "execution_count": 73,
     "metadata": {},
     "output_type": "execute_result"
    }
   ],
   "source": [
    "('amanhecer').upper()"
   ]
  },
  {
   "cell_type": "markdown",
   "metadata": {
    "id": "1_gChQhdVxuN"
   },
   "source": [
    "28 - Capitalize a primeira letra de cada palavra no seguinte texto:\n",
    "\n",
    "\"o rio amazonas é o rio mais longo do mundo e é conhecido por sua vasta bacia hidrográfica. ele atravessa várias nações da América do Sul, incluindo Brasil, Peru e Colômbia. a floresta amazônica, que o rio amazonas corta, é famosa por sua rica biodiversidade e é considerada a maior floresta tropical do planeta.\"\n"
   ]
  },
  {
   "cell_type": "code",
   "execution_count": 78,
   "metadata": {
    "colab": {
     "base_uri": "https://localhost:8080/",
     "height": 53
    },
    "executionInfo": {
     "elapsed": 9,
     "status": "ok",
     "timestamp": 1698195116312,
     "user": {
      "displayName": "Fernando Wakabayashi",
      "userId": "12223867740119059233"
     },
     "user_tz": 180
    },
    "id": "LKKJTGyITzNU",
    "outputId": "7daad402-1b72-4147-fcd4-07c43f0ac03b"
   },
   "outputs": [
    {
     "data": {
      "application/vnd.google.colaboratory.intrinsic+json": {
       "type": "string"
      },
      "text/plain": [
       "'O Rio Amazonas É O Rio Mais Longo Do Mundo E É Conhecido Por Sua Vasta Bacia Hidrográfica. Ele Atravessa Várias Nações Da América Do Sul, Incluindo Brasil, Peru E Colômbia. A Floresta Amazônica, Que O Rio Amazonas Corta, É Famosa Por Sua Rica Biodiversidade E É Considerada A Maior Floresta Tropical Do Planeta.'"
      ]
     },
     "execution_count": 78,
     "metadata": {},
     "output_type": "execute_result"
    }
   ],
   "source": [
    "f = \"o rio amazonas é o rio mais longo do mundo e é conhecido por sua vasta bacia hidrográfica. ele atravessa várias nações da América do Sul, incluindo Brasil, Peru e Colômbia. a floresta amazônica, que o rio amazonas corta, é famosa por sua rica biodiversidade e é considerada a maior floresta tropical do planeta.\"\n",
    "f.title()\n"
   ]
  },
  {
   "cell_type": "markdown",
   "metadata": {
    "id": "XLtQp9DdVxuM"
   },
   "source": [
    "29 - Limpe os espaços no seguinte texto: \"i w a n t o l e a r n p y t h o n\"."
   ]
  },
  {
   "cell_type": "code",
   "execution_count": 79,
   "metadata": {
    "colab": {
     "base_uri": "https://localhost:8080/",
     "height": 35
    },
    "executionInfo": {
     "elapsed": 9,
     "status": "ok",
     "timestamp": 1698195137078,
     "user": {
      "displayName": "Fernando Wakabayashi",
      "userId": "12223867740119059233"
     },
     "user_tz": 180
    },
    "id": "axYJCO9pUSGy",
    "outputId": "495efc87-5397-4d55-e986-6d66f642ffd1"
   },
   "outputs": [
    {
     "data": {
      "application/vnd.google.colaboratory.intrinsic+json": {
       "type": "string"
      },
      "text/plain": [
       "'iwantolearnpython'"
      ]
     },
     "execution_count": 79,
     "metadata": {},
     "output_type": "execute_result"
    }
   ],
   "source": [
    "\"i w a n t o l e a r n p y t h o n\".replace(' ', '')"
   ]
  },
  {
   "cell_type": "markdown",
   "metadata": {
    "id": "TQ1N6W-mVxuM"
   },
   "source": [
    "30 - Substitua o \"não\" por um \"Eu\" no seguinte texto: \"não quero aprender python, não quero me divertir muito!\"."
   ]
  },
  {
   "cell_type": "code",
   "execution_count": 80,
   "metadata": {
    "colab": {
     "base_uri": "https://localhost:8080/",
     "height": 35
    },
    "executionInfo": {
     "elapsed": 280,
     "status": "ok",
     "timestamp": 1698195166205,
     "user": {
      "displayName": "Fernando Wakabayashi",
      "userId": "12223867740119059233"
     },
     "user_tz": 180
    },
    "id": "qgR-CEtjUZNn",
    "outputId": "6925309b-7eb8-4ae0-c119-4da7a2a8f9d8"
   },
   "outputs": [
    {
     "data": {
      "application/vnd.google.colaboratory.intrinsic+json": {
       "type": "string"
      },
      "text/plain": [
       "'Eu quero aprender python, Eu quero me divertir muito!'"
      ]
     },
     "execution_count": 80,
     "metadata": {},
     "output_type": "execute_result"
    }
   ],
   "source": [
    " \"não quero aprender python, não quero me divertir muito!\".replace('não', 'Eu')"
   ]
  },
  {
   "cell_type": "markdown",
   "metadata": {
    "id": "jnNLYxL9VxuM"
   },
   "source": [
    "31 - Quantas vezes a palavra **\"tecnologia\"** aparece no seguinte texto?\n",
    "\n",
    "\"Nos dias de hoje, a tecnologia desempenha um papel crucial em nossas vidas. A velocidade com que a tecnologia avança é impressionante. A educação está cada vez mais incorporando a tecnologia em suas práticas pedagógicas. Além disso, a indústria de tecnologia da informação está em constante crescimento, oferecendo oportunidades de emprego para profissionais qualificados em tecnologia. A tecnologia também está revolucionando a medicina, permitindo diagnósticos mais precisos e tratamentos inovadores. Em resumo, a tecnologia é uma parte essencial do nosso mundo moderno.\"\n"
   ]
  },
  {
   "cell_type": "code",
   "execution_count": 82,
   "metadata": {
    "colab": {
     "base_uri": "https://localhost:8080/"
    },
    "executionInfo": {
     "elapsed": 3,
     "status": "ok",
     "timestamp": 1698195257618,
     "user": {
      "displayName": "Fernando Wakabayashi",
      "userId": "12223867740119059233"
     },
     "user_tz": 180
    },
    "id": "r1yGLuC5UhaE",
    "outputId": "2ba50832-e1df-4b84-a4c2-ba54bce5060e"
   },
   "outputs": [
    {
     "name": "stdout",
     "output_type": "stream",
     "text": [
      "6\n"
     ]
    }
   ],
   "source": [
    "f = \"Nos dias de hoje, a tecnologia desempenha um papel crucial em nossas vidas. A velocidade com que a tecnologia avança é impressionante. A educação está cada vez mais incorporando a tecnologia em suas práticas pedagógicas. Além disso, a indústria de tecnologia da informação está em constante crescimento, oferecendo oportunidades de emprego para profissionais qualificados em tecnologia. A tecnologia também está revolucionando a medicina, permitindo diagnósticos mais precisos e tratamentos inovadores. Em resumo, a tecnologia é uma parte essencial do nosso mundo moderno.\"\n",
    "f_l = f.split(' ')\n",
    "print(f_l.count('tecnologia'))"
   ]
  }
 ],
 "metadata": {
  "colab": {
   "provenance": []
  },
  "kernelspec": {
   "display_name": "Python 3 (ipykernel)",
   "language": "python",
   "name": "python3"
  },
  "language_info": {
   "codemirror_mode": {
    "name": "ipython",
    "version": 3
   },
   "file_extension": ".py",
   "mimetype": "text/x-python",
   "name": "python",
   "nbconvert_exporter": "python",
   "pygments_lexer": "ipython3",
   "version": "3.10.10"
  },
  "latex_envs": {
   "LaTeX_envs_menu_present": true,
   "autoclose": false,
   "autocomplete": true,
   "bibliofile": "biblio.bib",
   "cite_by": "apalike",
   "current_citInitial": 1,
   "eqLabelWithNumbers": true,
   "eqNumInitial": 1,
   "hotkeys": {
    "equation": "Ctrl-E",
    "itemize": "Ctrl-I"
   },
   "labels_anchors": false,
   "latex_user_defs": false,
   "report_style_numbering": false,
   "user_envs_cfg": false
  },
  "toc": {
   "base_numbering": 1,
   "nav_menu": {},
   "number_sections": true,
   "sideBar": true,
   "skip_h1_title": false,
   "title_cell": "Table of Contents",
   "title_sidebar": "Contents",
   "toc_cell": false,
   "toc_position": {
    "height": "calc(100% - 180px)",
    "left": "10px",
    "top": "150px",
    "width": "418.3831481933594px"
   },
   "toc_section_display": true,
   "toc_window_display": false
  },
  "varInspector": {
   "cols": {
    "lenName": 16,
    "lenType": 16,
    "lenVar": 40
   },
   "kernels_config": {
    "python": {
     "delete_cmd_postfix": "",
     "delete_cmd_prefix": "del ",
     "library": "var_list.py",
     "varRefreshCmd": "print(var_dic_list())"
    },
    "r": {
     "delete_cmd_postfix": ") ",
     "delete_cmd_prefix": "rm(",
     "library": "var_list.r",
     "varRefreshCmd": "cat(var_dic_list()) "
    }
   },
   "types_to_exclude": [
    "module",
    "function",
    "builtin_function_or_method",
    "instance",
    "_Feature"
   ],
   "window_display": false
  }
 },
 "nbformat": 4,
 "nbformat_minor": 4
}
