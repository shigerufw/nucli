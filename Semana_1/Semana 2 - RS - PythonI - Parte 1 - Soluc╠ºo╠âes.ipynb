{
  "cells": [
    {
      "cell_type": "markdown",
      "metadata": {
        "id": "8k-0ZhsxVxt9"
      },
      "source": [
        "![Nuclio logo](https://nuclio.school/wp-content/uploads/2018/12/nucleoDS-newBlack.png)"
      ]
    },
    {
      "cell_type": "markdown",
      "metadata": {
        "id": "tKImzbe4VxuB"
      },
      "source": [
        "# Exercícios - Introdução a Python\n",
        "\n",
        "Nesta folha de exercícios, encontram 31 questões de resposta rápida que vos permitirão aprender o básico da programação em Python.\n",
        "\n",
        "Boa sorte!"
      ]
    },
    {
      "cell_type": "markdown",
      "metadata": {
        "id": "FUbvQBx5VxuC"
      },
      "source": [
        "## Execução de código em Python"
      ]
    },
    {
      "cell_type": "markdown",
      "metadata": {
        "id": "AEaxKWJfVxuC"
      },
      "source": [
        "1 - Crie um programa em Python que imprima o seu nome."
      ]
    },
    {
      "cell_type": "code",
      "source": [
        "name = 'Sara'\n",
        "print(\"O meu nome é\", name)"
      ],
      "metadata": {
        "colab": {
          "base_uri": "https://localhost:8080/"
        },
        "id": "5mI8vaxOaliZ",
        "outputId": "c9f755e7-0218-4033-e7f4-bb39fe7decbe"
      },
      "execution_count": 1,
      "outputs": [
        {
          "output_type": "stream",
          "name": "stdout",
          "text": [
            "O meu nome é Sara\n"
          ]
        }
      ]
    },
    {
      "cell_type": "markdown",
      "metadata": {
        "id": "-34E6-gJVxuD"
      },
      "source": [
        "2 - Crie um programa em Python que imprima os seus dados pessoais (nome e idade)."
      ]
    },
    {
      "cell_type": "code",
      "source": [
        "name = 'Sara'\n",
        "age = '27'\n",
        "\n",
        "print(\"O meu nome é \", name, \" e tenho \", age, \" anos.\")"
      ],
      "metadata": {
        "colab": {
          "base_uri": "https://localhost:8080/"
        },
        "id": "CYQ5LbRSa4iR",
        "outputId": "a4817052-68c8-4213-9b91-48f0bbf11dea"
      },
      "execution_count": 2,
      "outputs": [
        {
          "output_type": "stream",
          "name": "stdout",
          "text": [
            "O meu nome é  Sara  e tenho  27  anos.\n"
          ]
        }
      ]
    },
    {
      "cell_type": "markdown",
      "metadata": {
        "id": "-rYWeEMeVxuD"
      },
      "source": [
        "## Tipos de dados"
      ]
    },
    {
      "cell_type": "markdown",
      "metadata": {
        "ExecuteTime": {
          "end_time": "2020-02-16T10:05:45.645202Z",
          "start_time": "2020-02-16T10:05:45.632210Z"
        },
        "id": "QURde117VxuE"
      },
      "source": [
        "3 - Qual é o tipo de dados da variável x se esta for x = 3.15?"
      ]
    },
    {
      "cell_type": "code",
      "source": [
        "x = 3.15\n",
        "type(x)"
      ],
      "metadata": {
        "colab": {
          "base_uri": "https://localhost:8080/"
        },
        "id": "FjT2PFqwbOQD",
        "outputId": "be531b8f-8160-49b7-e12b-7fd2aed0615b"
      },
      "execution_count": 3,
      "outputs": [
        {
          "output_type": "execute_result",
          "data": {
            "text/plain": [
              "float"
            ]
          },
          "metadata": {},
          "execution_count": 3
        }
      ]
    },
    {
      "cell_type": "markdown",
      "metadata": {
        "ExecuteTime": {
          "end_time": "2020-02-16T10:06:00.049094Z",
          "start_time": "2020-02-16T10:06:00.038969Z"
        },
        "id": "hmJ0DzyVVxuF"
      },
      "source": [
        "4 - Qual é o tipo de dados da variável x se esta for x = \"Hi!\"?"
      ]
    },
    {
      "cell_type": "code",
      "source": [
        "x = \"Hi!\"\n",
        "type(x)"
      ],
      "metadata": {
        "colab": {
          "base_uri": "https://localhost:8080/"
        },
        "id": "pqR43ohgbSSW",
        "outputId": "3e3d413a-c417-41e4-e7e5-a2d0e3c40b58"
      },
      "execution_count": 4,
      "outputs": [
        {
          "output_type": "execute_result",
          "data": {
            "text/plain": [
              "str"
            ]
          },
          "metadata": {},
          "execution_count": 4
        }
      ]
    },
    {
      "cell_type": "markdown",
      "source": [
        "5 - Qual é o tipo de dados da variável x se esta x = True?"
      ],
      "metadata": {
        "id": "mEJ9xv5gShyZ"
      }
    },
    {
      "cell_type": "code",
      "source": [
        "x = True\n",
        "type(x)"
      ],
      "metadata": {
        "colab": {
          "base_uri": "https://localhost:8080/"
        },
        "id": "CVfuq_2gbWqZ",
        "outputId": "8dfe6abd-09f9-46f9-f58a-0870ccc2d62a"
      },
      "execution_count": 5,
      "outputs": [
        {
          "output_type": "execute_result",
          "data": {
            "text/plain": [
              "bool"
            ]
          },
          "metadata": {},
          "execution_count": 5
        }
      ]
    },
    {
      "cell_type": "markdown",
      "metadata": {
        "ExecuteTime": {
          "end_time": "2020-02-16T10:06:07.841243Z",
          "start_time": "2020-02-16T10:06:07.831573Z"
        },
        "id": "jdpVn9MdVxuF"
      },
      "source": [
        "6 - Qual é o tipo de dados da variável x se esta for x = 3?"
      ]
    },
    {
      "cell_type": "code",
      "source": [
        "x = 3\n",
        "type(x)"
      ],
      "metadata": {
        "colab": {
          "base_uri": "https://localhost:8080/"
        },
        "id": "D8lgfa5Bbaec",
        "outputId": "f736c9d9-8c89-492a-cf0f-44051ab8ee19"
      },
      "execution_count": 6,
      "outputs": [
        {
          "output_type": "execute_result",
          "data": {
            "text/plain": [
              "int"
            ]
          },
          "metadata": {},
          "execution_count": 6
        }
      ]
    },
    {
      "cell_type": "markdown",
      "metadata": {
        "id": "iAAUbtDgVxuG"
      },
      "source": [
        "7 - Crie uma variável (pode escolher o nome a dar à variável) e declare-a com um valor à sua escolha."
      ]
    },
    {
      "cell_type": "code",
      "source": [
        "x = 2\n",
        "print(x)"
      ],
      "metadata": {
        "colab": {
          "base_uri": "https://localhost:8080/"
        },
        "id": "PBfvMpblbiUP",
        "outputId": "2ba5b06a-c4ff-4fd0-de50-ad904de7b069"
      },
      "execution_count": 7,
      "outputs": [
        {
          "output_type": "stream",
          "name": "stdout",
          "text": [
            "2\n"
          ]
        }
      ]
    },
    {
      "cell_type": "markdown",
      "source": [
        "8 - Ainda usando a variável que criou, imprima o tipo de dados que lhe foi atribuído."
      ],
      "metadata": {
        "id": "Xl22p-VTTC4Q"
      }
    },
    {
      "cell_type": "code",
      "source": [
        "type(x)"
      ],
      "metadata": {
        "colab": {
          "base_uri": "https://localhost:8080/"
        },
        "id": "vefbGO5dbqhC",
        "outputId": "086e7edc-eca5-4264-87d5-8aadb0ddf58e"
      },
      "execution_count": 20,
      "outputs": [
        {
          "output_type": "execute_result",
          "data": {
            "text/plain": [
              "int"
            ]
          },
          "metadata": {},
          "execution_count": 20
        }
      ]
    },
    {
      "cell_type": "markdown",
      "metadata": {
        "ExecuteTime": {
          "end_time": "2020-02-16T10:04:44.143890Z",
          "start_time": "2020-02-16T10:04:44.133191Z"
        },
        "id": "dGMnl0ieVxuG"
      },
      "source": [
        "9 - Converta as seguintes variáveis x = 3.15 e y = \"25\" em números inteiros."
      ]
    },
    {
      "cell_type": "code",
      "source": [
        "x = 3.15\n",
        "y = \"25\"\n",
        "\n",
        "x = int(x)\n",
        "y = int(y)\n",
        "\n",
        "print(type(x),type(y))"
      ],
      "metadata": {
        "colab": {
          "base_uri": "https://localhost:8080/"
        },
        "id": "E2fxsm3HbstA",
        "outputId": "2b273f27-d414-465c-f3be-5109fa58a5c5"
      },
      "execution_count": 11,
      "outputs": [
        {
          "output_type": "stream",
          "name": "stdout",
          "text": [
            "<class 'int'> <class 'int'>\n"
          ]
        }
      ]
    },
    {
      "cell_type": "markdown",
      "metadata": {
        "id": "0WADzbbrVxuH"
      },
      "source": [
        "10 - Converta x = 3 e y = \"25\" em números decimais."
      ]
    },
    {
      "cell_type": "code",
      "source": [
        "x = 3\n",
        "y = \"25\"\n",
        "\n",
        "x = float(x)\n",
        "y = float(y)\n",
        "\n",
        "print(type(x),type(y))"
      ],
      "metadata": {
        "colab": {
          "base_uri": "https://localhost:8080/"
        },
        "id": "K1697qDfcBdK",
        "outputId": "db23461f-6261-461e-df45-09cc14620e52"
      },
      "execution_count": 12,
      "outputs": [
        {
          "output_type": "stream",
          "name": "stdout",
          "text": [
            "<class 'float'> <class 'float'>\n"
          ]
        }
      ]
    },
    {
      "cell_type": "markdown",
      "metadata": {
        "id": "N62wabauVxuH"
      },
      "source": [
        "11 - Converta x = 3 e y = -1.5 em texto (strings)."
      ]
    },
    {
      "cell_type": "code",
      "source": [
        "x = 3\n",
        "y = -1.5\n",
        "\n",
        "x = str(x)\n",
        "y = str(y)\n",
        "\n",
        "print(type(x),type(y))"
      ],
      "metadata": {
        "colab": {
          "base_uri": "https://localhost:8080/"
        },
        "id": "mQBSbSivcJs2",
        "outputId": "772348e1-5a44-4f2b-a706-ca00c20550ee"
      },
      "execution_count": 14,
      "outputs": [
        {
          "output_type": "stream",
          "name": "stdout",
          "text": [
            "<class 'str'> <class 'str'>\n"
          ]
        }
      ]
    },
    {
      "cell_type": "markdown",
      "metadata": {
        "id": "1fxLR-raVxuI"
      },
      "source": [
        "12 - Imprima os 3 tipos mais básicos de dados numéricos que existem e dê um exemplo para cada um."
      ]
    },
    {
      "cell_type": "code",
      "source": [
        "x = 1.5 #float\n",
        "y = 3 #int\n",
        "z = 2j #complex\n",
        "\n",
        "print(x, y, z)"
      ],
      "metadata": {
        "colab": {
          "base_uri": "https://localhost:8080/"
        },
        "id": "gXCrs5bpcUYw",
        "outputId": "c1b0880c-18fb-4fe6-d779-ba75840073c0"
      },
      "execution_count": 17,
      "outputs": [
        {
          "output_type": "stream",
          "name": "stdout",
          "text": [
            "1.5 3 2j\n"
          ]
        }
      ]
    },
    {
      "cell_type": "markdown",
      "metadata": {
        "id": "1oIqrdW3VxuI"
      },
      "source": [
        "13 - Converta x = 3.15 para os outros tipos de dados numéricos."
      ]
    },
    {
      "cell_type": "code",
      "source": [
        "x = 3.15\n",
        "\n",
        "print(int(x), complex(x))"
      ],
      "metadata": {
        "colab": {
          "base_uri": "https://localhost:8080/"
        },
        "id": "rwnwHkoaci_c",
        "outputId": "68b10cb2-7ef4-4066-cd09-8c94da99bc1e"
      },
      "execution_count": 18,
      "outputs": [
        {
          "output_type": "stream",
          "name": "stdout",
          "text": [
            "3 (3.15+0j)\n"
          ]
        }
      ]
    },
    {
      "cell_type": "markdown",
      "metadata": {
        "id": "_JQx_gW6VxuI"
      },
      "source": [
        "## Variáveis numéricas"
      ]
    },
    {
      "cell_type": "markdown",
      "metadata": {
        "id": "UMxvRs-aVxuJ"
      },
      "source": [
        "14 - Calcule a soma de 64 + 32."
      ]
    },
    {
      "cell_type": "code",
      "source": [
        "x = 64 + 32\n",
        "print(x)"
      ],
      "metadata": {
        "colab": {
          "base_uri": "https://localhost:8080/"
        },
        "id": "UkQX2bzNc4WX",
        "outputId": "fc93ce6f-b194-4a98-eff3-bbc343b98f23"
      },
      "execution_count": 19,
      "outputs": [
        {
          "output_type": "stream",
          "name": "stdout",
          "text": [
            "96\n"
          ]
        }
      ]
    },
    {
      "cell_type": "markdown",
      "metadata": {
        "id": "k9q_ZjmrVxuJ"
      },
      "source": [
        "15 - Agora calcule a subtração, produto e divisão desses mesmos números."
      ]
    },
    {
      "cell_type": "code",
      "source": [
        "print(x - y, \"\", x*y, \"\", x/y)"
      ],
      "metadata": {
        "colab": {
          "base_uri": "https://localhost:8080/"
        },
        "id": "o6hQRD2pc-qv",
        "outputId": "f74b8eb7-de82-42bd-ab44-6b473880bad5"
      },
      "execution_count": 21,
      "outputs": [
        {
          "output_type": "stream",
          "name": "stdout",
          "text": [
            "93  288  32.0\n"
          ]
        }
      ]
    },
    {
      "cell_type": "markdown",
      "source": [
        "16 - Se tivermos x = 2 e y = 0, qual será o resultado da divisão de x por y?"
      ],
      "metadata": {
        "id": "GQghOU74Ufvj"
      }
    },
    {
      "cell_type": "code",
      "source": [
        "x = 2\n",
        "y = 0\n",
        "print(x/y)"
      ],
      "metadata": {
        "colab": {
          "base_uri": "https://localhost:8080/",
          "height": 208
        },
        "id": "NBU_i86xdBX9",
        "outputId": "0c0623ed-c7a6-4309-efc0-bcbf6049a3da"
      },
      "execution_count": 22,
      "outputs": [
        {
          "output_type": "error",
          "ename": "ZeroDivisionError",
          "evalue": "ignored",
          "traceback": [
            "\u001b[0;31m---------------------------------------------------------------------------\u001b[0m",
            "\u001b[0;31mZeroDivisionError\u001b[0m                         Traceback (most recent call last)",
            "\u001b[0;32m<ipython-input-22-7fa8214bde87>\u001b[0m in \u001b[0;36m<cell line: 3>\u001b[0;34m()\u001b[0m\n\u001b[1;32m      1\u001b[0m \u001b[0mx\u001b[0m \u001b[0;34m=\u001b[0m \u001b[0;36m2\u001b[0m\u001b[0;34m\u001b[0m\u001b[0;34m\u001b[0m\u001b[0m\n\u001b[1;32m      2\u001b[0m \u001b[0my\u001b[0m \u001b[0;34m=\u001b[0m \u001b[0;36m0\u001b[0m\u001b[0;34m\u001b[0m\u001b[0;34m\u001b[0m\u001b[0m\n\u001b[0;32m----> 3\u001b[0;31m \u001b[0mprint\u001b[0m\u001b[0;34m(\u001b[0m\u001b[0mx\u001b[0m\u001b[0;34m/\u001b[0m\u001b[0my\u001b[0m\u001b[0;34m)\u001b[0m\u001b[0;34m\u001b[0m\u001b[0;34m\u001b[0m\u001b[0m\n\u001b[0m",
            "\u001b[0;31mZeroDivisionError\u001b[0m: division by zero"
          ]
        }
      ]
    },
    {
      "cell_type": "markdown",
      "source": [
        "17 - Se tivermos x = 4 e y = 2, qual é o resto da divisão de x por y (x%y)?\n",
        "\n"
      ],
      "metadata": {
        "id": "jipVkMBYWWu6"
      }
    },
    {
      "cell_type": "code",
      "source": [
        "x = 4\n",
        "y = 2\n",
        "print(x%y)"
      ],
      "metadata": {
        "colab": {
          "base_uri": "https://localhost:8080/"
        },
        "id": "CR-9euWidGEY",
        "outputId": "e38973aa-1356-4c90-ed65-f49f07e9dea4"
      },
      "execution_count": 23,
      "outputs": [
        {
          "output_type": "stream",
          "name": "stdout",
          "text": [
            "0\n"
          ]
        }
      ]
    },
    {
      "cell_type": "markdown",
      "metadata": {
        "id": "LyprbbHmVxuJ"
      },
      "source": [
        "18 - Imagine que tem um quadrado como o seguinte. Qual é a sua área e perímetro?\n",
        "\n",
        "![square.png](data:image/png;base64,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)"
      ]
    },
    {
      "cell_type": "code",
      "source": [
        "square = 3\n",
        "area = square**2\n",
        "perimetro = square*4\n",
        "\n",
        "print(\"Area: \", area, \" Perimetro: \", perimetro)"
      ],
      "metadata": {
        "colab": {
          "base_uri": "https://localhost:8080/"
        },
        "id": "ofEnHBHkdMM4",
        "outputId": "ed7ac364-9ff7-43b7-99a7-e606f240a894"
      },
      "execution_count": 24,
      "outputs": [
        {
          "output_type": "stream",
          "name": "stdout",
          "text": [
            "Area:  9  Perimetro:  12\n"
          ]
        }
      ]
    },
    {
      "cell_type": "markdown",
      "metadata": {
        "id": "kcJuca3PVxuK"
      },
      "source": [
        "19 - Calcule a área e perímetro do seguinte círculo.\n",
        "\n",
        "![circle.png](data:image/png;base64,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)"
      ]
    },
    {
      "cell_type": "code",
      "source": [
        "import numpy as np\n",
        "\n",
        "circle = 3\n",
        "area = (np.pi*circle**2)/2\n",
        "perimetro = 2*np.pi*circle\n",
        "\n",
        "print(\"Area: \", area, \" Perimetro: \", perimetro)"
      ],
      "metadata": {
        "colab": {
          "base_uri": "https://localhost:8080/"
        },
        "id": "YBeCCPgVdesw",
        "outputId": "f9bef7ce-f9b2-4aae-ae76-c9bed1e7bc33"
      },
      "execution_count": 25,
      "outputs": [
        {
          "output_type": "stream",
          "name": "stdout",
          "text": [
            "Area:  14.137166941154069  Perimetro:  18.84955592153876\n"
          ]
        }
      ]
    },
    {
      "cell_type": "markdown",
      "metadata": {
        "id": "Js3kSCLKVxuK"
      },
      "source": [
        "20 - Calcule o volume do seguinte cubo.\n",
        "\n",
        "![cube.png](data:image/png;base64,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)"
      ]
    },
    {
      "cell_type": "code",
      "source": [
        "cube = 4\n",
        "volume = cube**3\n",
        "\n",
        "print(\"Volume: \", volume)"
      ],
      "metadata": {
        "colab": {
          "base_uri": "https://localhost:8080/"
        },
        "id": "oNlFGgRndrK2",
        "outputId": "494b7d2b-622f-429c-b6c6-419626360c6b"
      },
      "execution_count": 26,
      "outputs": [
        {
          "output_type": "stream",
          "name": "stdout",
          "text": [
            "Volume:  64\n"
          ]
        }
      ]
    },
    {
      "cell_type": "markdown",
      "metadata": {
        "id": "yX8U_hBsVxuK"
      },
      "source": [
        "21 - Se eu tiver 24 lápis e desejar distribuí-los igualmente entre 8 alunos, quantos lápis cada aluno deverá receber?"
      ]
    },
    {
      "cell_type": "code",
      "source": [
        "number = 24\n",
        "students = 8\n",
        "result = number / 8\n",
        "\n",
        "print(\"Resultado: \", result)"
      ],
      "metadata": {
        "colab": {
          "base_uri": "https://localhost:8080/"
        },
        "id": "oMsGY5ZRd1NQ",
        "outputId": "c9ad1afa-57e5-49f2-f4de-a5a3c124fb4d"
      },
      "execution_count": 27,
      "outputs": [
        {
          "output_type": "stream",
          "name": "stdout",
          "text": [
            "Resultado:  3.0\n"
          ]
        }
      ]
    },
    {
      "cell_type": "markdown",
      "source": [
        "22 - Suponha que tem 34 chocolates, e deseja colocá-los em caixas com 6 chocolates em cada uma. Quantas caixas poderá fazer e quantos chocolates sobrarão?"
      ],
      "metadata": {
        "id": "rz2ptsCLW1fw"
      }
    },
    {
      "cell_type": "code",
      "source": [
        "chocolates = 34\n",
        "boxes = 6\n",
        "result = 34 // 6\n",
        "rest = 34 % 6\n",
        "\n",
        "print(\"Resultado: \", result)\n",
        "print(\"Resto: \", rest)"
      ],
      "metadata": {
        "colab": {
          "base_uri": "https://localhost:8080/"
        },
        "id": "25bT6zmSeBUa",
        "outputId": "c8f2094b-c0fa-4eae-9fb7-51b053c5270b"
      },
      "execution_count": 30,
      "outputs": [
        {
          "output_type": "stream",
          "name": "stdout",
          "text": [
            "Resultado:  5\n",
            "Resto:  4\n"
          ]
        }
      ]
    },
    {
      "cell_type": "markdown",
      "metadata": {
        "id": "nqHBnhXCVxuL"
      },
      "source": [
        "## Booleans"
      ]
    },
    {
      "cell_type": "markdown",
      "metadata": {
        "id": "am4Bo2fzVxuL"
      },
      "source": [
        "23 - Se a Ana tem 15 anos e o Jorge tem 20, verifique quem é mais velho."
      ]
    },
    {
      "cell_type": "code",
      "source": [
        "ana = 15\n",
        "jorge = 20\n",
        "print(\"Ana é mais velha que Jorge (T/F)?\", ana > jorge)"
      ],
      "metadata": {
        "colab": {
          "base_uri": "https://localhost:8080/"
        },
        "id": "c85xcA-OeaKe",
        "outputId": "1be2c288-19d9-4b93-d504-98282e0546cd"
      },
      "execution_count": 31,
      "outputs": [
        {
          "output_type": "stream",
          "name": "stdout",
          "text": [
            "Ana é mais velha que Jorge (T/F)? False\n"
          ]
        }
      ]
    },
    {
      "cell_type": "markdown",
      "metadata": {
        "ExecuteTime": {
          "end_time": "2020-02-16T10:14:37.853694Z",
          "start_time": "2020-02-16T10:14:37.843040Z"
        },
        "id": "rJCNq3BhVxuL"
      },
      "source": [
        "24 - As variáveis x e y têm os seguintes valores: x = 123 e y = \"123\". Como pode ver, x e y pertencem a tipos de dados diferentes. Converta-os no mesmo tipo de dados e depois verifique se x e y representam o mesmo valor."
      ]
    },
    {
      "cell_type": "code",
      "source": [
        "x = 123\n",
        "y = \"123\"\n",
        "print(\"x e y têm o mesmo valor (T/F)?\", x == int(y))"
      ],
      "metadata": {
        "colab": {
          "base_uri": "https://localhost:8080/"
        },
        "id": "P4yGi8B3efSR",
        "outputId": "e50e5c3d-3e3e-47b5-dbf7-2b1fe1003050"
      },
      "execution_count": 32,
      "outputs": [
        {
          "output_type": "stream",
          "name": "stdout",
          "text": [
            "x e y têm o mesmo valor (T/F)? True\n"
          ]
        }
      ]
    },
    {
      "cell_type": "markdown",
      "metadata": {
        "id": "cS_gsRisVxuL"
      },
      "source": [
        "## Strings"
      ]
    },
    {
      "cell_type": "markdown",
      "metadata": {
        "id": "oMgPLi_kVxuL"
      },
      "source": [
        "25 - Crie uma lista contendo o seu nome completo separado por vírgulas. Depois imprima a lista."
      ]
    },
    {
      "cell_type": "code",
      "source": [
        "name = [\"sara\", \"fernandes\"]\n",
        "print(name)"
      ],
      "metadata": {
        "colab": {
          "base_uri": "https://localhost:8080/"
        },
        "id": "eLKEW0PHergH",
        "outputId": "12c09aa8-b07e-4cd6-ceff-234609492b1e"
      },
      "execution_count": 33,
      "outputs": [
        {
          "output_type": "stream",
          "name": "stdout",
          "text": [
            "['sara', 'fernandes']\n"
          ]
        }
      ]
    },
    {
      "cell_type": "markdown",
      "metadata": {
        "id": "s9Wn0UJTVxuM"
      },
      "source": [
        "26 - Quantas letras tem a palavra 'ornitorrinco'?"
      ]
    },
    {
      "cell_type": "code",
      "source": [
        "word = 'ornitorrinco'\n",
        "print(len(word))"
      ],
      "metadata": {
        "colab": {
          "base_uri": "https://localhost:8080/"
        },
        "id": "otYne5qLewhS",
        "outputId": "2ca0061a-0462-450f-bdb2-03e125569abe"
      },
      "execution_count": 34,
      "outputs": [
        {
          "output_type": "stream",
          "name": "stdout",
          "text": [
            "12\n"
          ]
        }
      ]
    },
    {
      "cell_type": "markdown",
      "metadata": {
        "id": "Cc65oTd1VxuM"
      },
      "source": [
        "27 - Capitalize a palavra 'amanhecer'."
      ]
    },
    {
      "cell_type": "code",
      "source": [
        "word = \"amanhecer\"\n",
        "word.upper()"
      ],
      "metadata": {
        "colab": {
          "base_uri": "https://localhost:8080/",
          "height": 35
        },
        "id": "B63VKTg5e1o2",
        "outputId": "b2919186-9f46-4da0-c2af-d52d80737089"
      },
      "execution_count": 35,
      "outputs": [
        {
          "output_type": "execute_result",
          "data": {
            "text/plain": [
              "'AMANHECER'"
            ],
            "application/vnd.google.colaboratory.intrinsic+json": {
              "type": "string"
            }
          },
          "metadata": {},
          "execution_count": 35
        }
      ]
    },
    {
      "cell_type": "markdown",
      "metadata": {
        "id": "1_gChQhdVxuN"
      },
      "source": [
        "28 - Capitalize a primeira letra de cada palavra no seguinte texto:\n",
        "\n",
        "\"o rio amazonas é o rio mais longo do mundo e é conhecido por sua vasta bacia hidrográfica. ele atravessa várias nações da América do Sul, incluindo Brasil, Peru e Colômbia. a floresta amazônica, que o rio amazonas corta, é famosa por sua rica biodiversidade e é considerada a maior floresta tropical do planeta.\"\n"
      ]
    },
    {
      "cell_type": "code",
      "source": [
        "text = \"\"\"o rio amazonas é o rio mais longo do mundo e é conhecido por sua vasta bacia hidrográfica. ele atravessa várias nações da América do Sul, incluindo Brasil, Peru e Colômbia. a floresta amazônica, que o rio amazonas corta, é famosa por sua rica biodiversidade e é considerada a maior floresta tropical do planeta.\"\"\"\n",
        "\n",
        "text.title()"
      ],
      "metadata": {
        "colab": {
          "base_uri": "https://localhost:8080/",
          "height": 69
        },
        "id": "gXqKLoexe7iE",
        "outputId": "a555fa88-2621-4b1f-f56e-25e47314464a"
      },
      "execution_count": 39,
      "outputs": [
        {
          "output_type": "execute_result",
          "data": {
            "text/plain": [
              "'O Rio Amazonas É O Rio Mais Longo Do Mundo E É Conhecido Por Sua Vasta Bacia Hidrográfica. Ele Atravessa Várias Nações Da América Do Sul, Incluindo Brasil, Peru E Colômbia. A Floresta Amazônica, Que O Rio Amazonas Corta, É Famosa Por Sua Rica Biodiversidade E É Considerada A Maior Floresta Tropical Do Planeta.'"
            ],
            "application/vnd.google.colaboratory.intrinsic+json": {
              "type": "string"
            }
          },
          "metadata": {},
          "execution_count": 39
        }
      ]
    },
    {
      "cell_type": "markdown",
      "metadata": {
        "id": "XLtQp9DdVxuM"
      },
      "source": [
        "29 - Limpe os espaços no seguinte texto: \"i w a n t o l e a r n p y t h o n\"."
      ]
    },
    {
      "cell_type": "code",
      "source": [
        "text = \"i w a n t t o l e a r n p y t h o n\"\n",
        "text.replace(\" \",\"\")"
      ],
      "metadata": {
        "colab": {
          "base_uri": "https://localhost:8080/",
          "height": 35
        },
        "id": "JsXGVD6We-V6",
        "outputId": "e9aa512c-b271-4b53-f32e-75c29bd59623"
      },
      "execution_count": 36,
      "outputs": [
        {
          "output_type": "execute_result",
          "data": {
            "text/plain": [
              "'iwanttolearnpython'"
            ],
            "application/vnd.google.colaboratory.intrinsic+json": {
              "type": "string"
            }
          },
          "metadata": {},
          "execution_count": 36
        }
      ]
    },
    {
      "cell_type": "markdown",
      "metadata": {
        "id": "TQ1N6W-mVxuM"
      },
      "source": [
        "30 - Substitua o \"não\" por um \"Eu\" no seguinte texto: \"não quero aprender python, não quero me divertir muito!\"."
      ]
    },
    {
      "cell_type": "code",
      "source": [
        "text =  \"don't want to learn python, don't want to have a great time!\"\n",
        "text.replace(\"don't\",\"I\")"
      ],
      "metadata": {
        "colab": {
          "base_uri": "https://localhost:8080/",
          "height": 35
        },
        "id": "CDGMfhgjfBsV",
        "outputId": "0ae61553-16a5-40a7-b72a-716c8bd5a2b8"
      },
      "execution_count": 37,
      "outputs": [
        {
          "output_type": "execute_result",
          "data": {
            "text/plain": [
              "'I want to learn python, I want to have a great time!'"
            ],
            "application/vnd.google.colaboratory.intrinsic+json": {
              "type": "string"
            }
          },
          "metadata": {},
          "execution_count": 37
        }
      ]
    },
    {
      "cell_type": "markdown",
      "metadata": {
        "id": "jnNLYxL9VxuM"
      },
      "source": [
        "31 - Quantas vezes a palavra **\"tecnologia\"** aparece no seguinte texto?\n",
        "\n",
        "\"Nos dias de hoje, a tecnologia desempenha um papel crucial em nossas vidas. A velocidade com que a tecnologia avança é impressionante. A educação está cada vez mais incorporando a tecnologia em suas práticas pedagógicas. Além disso, a indústria de tecnologia da informação está em constante crescimento, oferecendo oportunidades de emprego para profissionais qualificados em tecnologia. A tecnologia também está revolucionando a medicina, permitindo diagnósticos mais precisos e tratamentos inovadores. Em resumo, a tecnologia é uma parte essencial do nosso mundo moderno.\"\n"
      ]
    },
    {
      "cell_type": "code",
      "source": [
        "text = \"\"\"Nos dias de hoje, a tecnologia desempenha um papel crucial em nossas vidas. A velocidade com que a tecnologia avança é impressionante. A educação está cada vez mais incorporando a tecnologia em suas práticas pedagógicas. Além disso, a indústria de tecnologia da informação está em constante crescimento, oferecendo oportunidades de emprego para profissionais qualificados em tecnologia. A tecnologia também está revolucionando a medicina, permitindo diagnósticos mais precisos e tratamentos inovadores. Em resumo, a tecnologia é uma parte essencial do nosso mundo moderno.\"\"\"\n",
        "text.count('tecnologia')"
      ],
      "metadata": {
        "colab": {
          "base_uri": "https://localhost:8080/"
        },
        "id": "zxHSvexVfKtv",
        "outputId": "156c7418-232d-476e-ad50-d50f6dfa481a"
      },
      "execution_count": 38,
      "outputs": [
        {
          "output_type": "execute_result",
          "data": {
            "text/plain": [
              "7"
            ]
          },
          "metadata": {},
          "execution_count": 38
        }
      ]
    }
  ],
  "metadata": {
    "kernelspec": {
      "display_name": "Python 3",
      "language": "python",
      "name": "python3"
    },
    "language_info": {
      "codemirror_mode": {
        "name": "ipython",
        "version": 3
      },
      "file_extension": ".py",
      "mimetype": "text/x-python",
      "name": "python",
      "nbconvert_exporter": "python",
      "pygments_lexer": "ipython3",
      "version": "3.8.8"
    },
    "latex_envs": {
      "LaTeX_envs_menu_present": true,
      "autoclose": false,
      "autocomplete": true,
      "bibliofile": "biblio.bib",
      "cite_by": "apalike",
      "current_citInitial": 1,
      "eqLabelWithNumbers": true,
      "eqNumInitial": 1,
      "hotkeys": {
        "equation": "Ctrl-E",
        "itemize": "Ctrl-I"
      },
      "labels_anchors": false,
      "latex_user_defs": false,
      "report_style_numbering": false,
      "user_envs_cfg": false
    },
    "toc": {
      "base_numbering": 1,
      "nav_menu": {},
      "number_sections": true,
      "sideBar": true,
      "skip_h1_title": false,
      "title_cell": "Table of Contents",
      "title_sidebar": "Contents",
      "toc_cell": false,
      "toc_position": {
        "height": "calc(100% - 180px)",
        "left": "10px",
        "top": "150px",
        "width": "418.3831481933594px"
      },
      "toc_section_display": true,
      "toc_window_display": false
    },
    "varInspector": {
      "cols": {
        "lenName": 16,
        "lenType": 16,
        "lenVar": 40
      },
      "kernels_config": {
        "python": {
          "delete_cmd_postfix": "",
          "delete_cmd_prefix": "del ",
          "library": "var_list.py",
          "varRefreshCmd": "print(var_dic_list())"
        },
        "r": {
          "delete_cmd_postfix": ") ",
          "delete_cmd_prefix": "rm(",
          "library": "var_list.r",
          "varRefreshCmd": "cat(var_dic_list()) "
        }
      },
      "types_to_exclude": [
        "module",
        "function",
        "builtin_function_or_method",
        "instance",
        "_Feature"
      ],
      "window_display": false
    },
    "colab": {
      "provenance": []
    }
  },
  "nbformat": 4,
  "nbformat_minor": 0
}