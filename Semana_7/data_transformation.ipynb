{
 "cells": [
  {
   "cell_type": "markdown",
   "metadata": {},
   "source": [
    "# Importar dados e pacotes essenciais"
   ]
  },
  {
   "cell_type": "code",
   "execution_count": 1,
   "metadata": {},
   "outputs": [],
   "source": [
    "import pandas as pd\n",
    "import matplotlib.pyplot as plt\n",
    "%matplotlib inline\n",
    "import seaborn as sns\n",
    "from dython import nominal\n",
    "from sklearn.preprocessing import KBinsDiscretizer, OneHotEncoder, MinMaxScaler, StandardScaler\n",
    "\n",
    "pd.set_option('display.max_columns', None)"
   ]
  },
  {
   "cell_type": "code",
   "execution_count": 2,
   "metadata": {},
   "outputs": [],
   "source": [
    "df1 = pd.read_csv(\"data/new_df1.csv\")\n",
    "df2 = pd.read_csv(\"data/new_df2.csv\")"
   ]
  },
  {
   "cell_type": "markdown",
   "metadata": {},
   "source": [
    "# Criação de novas variáveis"
   ]
  },
  {
   "cell_type": "code",
   "execution_count": 3,
   "metadata": {},
   "outputs": [
    {
     "data": {
      "text/html": [
       "<div>\n",
       "<style scoped>\n",
       "    .dataframe tbody tr th:only-of-type {\n",
       "        vertical-align: middle;\n",
       "    }\n",
       "\n",
       "    .dataframe tbody tr th {\n",
       "        vertical-align: top;\n",
       "    }\n",
       "\n",
       "    .dataframe thead th {\n",
       "        text-align: right;\n",
       "    }\n",
       "</style>\n",
       "<table border=\"1\" class=\"dataframe\">\n",
       "  <thead>\n",
       "    <tr style=\"text-align: right;\">\n",
       "      <th></th>\n",
       "      <th>gender</th>\n",
       "      <th>approv_in_adv</th>\n",
       "      <th>loan_type</th>\n",
       "      <th>loan_purpose</th>\n",
       "      <th>business_or_commercial</th>\n",
       "      <th>loan_amount</th>\n",
       "      <th>rate_of_interest</th>\n",
       "      <th>upfront_charges</th>\n",
       "      <th>term</th>\n",
       "      <th>property_value</th>\n",
       "      <th>construction_type</th>\n",
       "      <th>income</th>\n",
       "      <th>credit_type</th>\n",
       "      <th>credit_score</th>\n",
       "      <th>age</th>\n",
       "      <th>ltv</th>\n",
       "      <th>region</th>\n",
       "      <th>status</th>\n",
       "      <th>outlier_income</th>\n",
       "      <th>miss_rate_of_interest</th>\n",
       "      <th>miss_upfront_charges</th>\n",
       "      <th>miss_property_value</th>\n",
       "      <th>miss_income</th>\n",
       "      <th>miss_ltv</th>\n",
       "      <th>miss_approv_in_adv</th>\n",
       "      <th>miss_loan_purpose</th>\n",
       "      <th>miss_age</th>\n",
       "    </tr>\n",
       "  </thead>\n",
       "  <tbody>\n",
       "    <tr>\n",
       "      <th>0</th>\n",
       "      <td>Sex Not Available</td>\n",
       "      <td>nopre</td>\n",
       "      <td>type1</td>\n",
       "      <td>p4</td>\n",
       "      <td>nob/c</td>\n",
       "      <td>216500</td>\n",
       "      <td>2.99</td>\n",
       "      <td>5548.89</td>\n",
       "      <td>180.0</td>\n",
       "      <td>308000.0</td>\n",
       "      <td>sb</td>\n",
       "      <td>4440.0</td>\n",
       "      <td>CRIF</td>\n",
       "      <td>768</td>\n",
       "      <td>25-34</td>\n",
       "      <td>70.292208</td>\n",
       "      <td>south</td>\n",
       "      <td>0</td>\n",
       "      <td>0</td>\n",
       "      <td>0</td>\n",
       "      <td>0</td>\n",
       "      <td>0</td>\n",
       "      <td>0</td>\n",
       "      <td>0</td>\n",
       "      <td>0</td>\n",
       "      <td>0</td>\n",
       "      <td>0</td>\n",
       "    </tr>\n",
       "  </tbody>\n",
       "</table>\n",
       "</div>"
      ],
      "text/plain": [
       "              gender approv_in_adv loan_type loan_purpose  \\\n",
       "0  Sex Not Available         nopre     type1           p4   \n",
       "\n",
       "  business_or_commercial  loan_amount  rate_of_interest  upfront_charges  \\\n",
       "0                  nob/c       216500              2.99          5548.89   \n",
       "\n",
       "    term  property_value construction_type  income credit_type  credit_score  \\\n",
       "0  180.0        308000.0                sb  4440.0        CRIF           768   \n",
       "\n",
       "     age        ltv region  status  outlier_income  miss_rate_of_interest  \\\n",
       "0  25-34  70.292208  south       0               0                      0   \n",
       "\n",
       "   miss_upfront_charges  miss_property_value  miss_income  miss_ltv  \\\n",
       "0                     0                    0            0         0   \n",
       "\n",
       "   miss_approv_in_adv  miss_loan_purpose  miss_age  \n",
       "0                   0                  0         0  "
      ]
     },
     "execution_count": 3,
     "metadata": {},
     "output_type": "execute_result"
    }
   ],
   "source": [
    "df1.head(1)"
   ]
  },
  {
   "cell_type": "markdown",
   "metadata": {},
   "source": [
    "***Algumas observações:***\n",
    "- em secções anteriores já criamos novas variáveis, tal como flags de existencia de missing values ou a flag the existencia de outliers;\n",
    "- nesta secção iremos criar mais informações que possam ser relevantes ao negócio;\n",
    "- é também importante dar visibilidade de possíveis variáveis que podiam ser interessantes mais que não temos acesso no momento!"
   ]
  },
  {
   "cell_type": "code",
   "execution_count": 4,
   "metadata": {},
   "outputs": [],
   "source": [
    "df1['ratio_upfrontcharges_loanamount'] = df1['upfront_charges']/df1['loan_amount']*100\n",
    "df2['ratio_upfrontcharges_loanamount'] = df2['upfront_charges']/df2['loan_amount']*100"
   ]
  },
  {
   "cell_type": "code",
   "execution_count": 5,
   "metadata": {},
   "outputs": [],
   "source": [
    "df1['ratio_income_loanamount'] = df1['income']/df1['loan_amount']*100\n",
    "df2['ratio_income_loanamount'] = df2['income']/df2['loan_amount']*100"
   ]
  },
  {
   "cell_type": "code",
   "execution_count": 6,
   "metadata": {},
   "outputs": [],
   "source": [
    "df1['paid_in_adv'] = df1.property_value - df1.loan_amount"
   ]
  },
  {
   "cell_type": "markdown",
   "metadata": {},
   "source": [
    "# Correlações"
   ]
  },
  {
   "cell_type": "code",
   "execution_count": 7,
   "metadata": {},
   "outputs": [
    {
     "name": "stdout",
     "output_type": "stream",
     "text": [
      "Wall time: 6.67 s\n"
     ]
    }
   ],
   "source": [
    "%%time\n",
    "corr = nominal.associations(df1, compute_only = True)"
   ]
  },
  {
   "cell_type": "code",
   "execution_count": 8,
   "metadata": {},
   "outputs": [],
   "source": [
    "corr_matrix = corr['corr']"
   ]
  },
  {
   "cell_type": "code",
   "execution_count": 9,
   "metadata": {},
   "outputs": [],
   "source": [
    "def plot_heatmap(data, title, fig_size=(12, 10)):\n",
    "    \"\"\"\n",
    "    data: dataframe to get heatmap\n",
    "    title: title of the plot\n",
    "    fig_size: size of the figure\n",
    "    output: heatmap\n",
    "    \"\"\"\n",
    "    plt.figure(figsize = fig_size)\n",
    "    plt.title(title, fontsize=20)\n",
    "\n",
    "    sns.heatmap(data, \n",
    "                cmap='viridis', vmax=1.0, vmin=-1.0, linewidths=0.1,\n",
    "                annot=True, annot_kws={\"size\": 8}, square=True)"
   ]
  },
  {
   "cell_type": "code",
   "execution_count": 10,
   "metadata": {},
   "outputs": [
    {
     "data": {
      "image/png": "[encoded data removed]",
      "text/plain": [
       "<Figure size 864x720 with 2 Axes>"
      ]
     },
     "metadata": {
      "needs_background": "light"
     },
     "output_type": "display_data"
    }
   ],
   "source": [
    "plot_heatmap(corr_matrix[(corr_matrix >= 0.5) | (corr_matrix <= -0.5)], \"Correlations\")"
   ]
  },
  {
   "cell_type": "code",
   "execution_count": 11,
   "metadata": {},
   "outputs": [],
   "source": [
    "def get_cor_features(corr_matrix, lim_inf = -0.5, lim_sup = 0.5, round_values = 4):\n",
    "    \"\"\"\n",
    "    corr_matrix: dataframe with correlations\n",
    "    lim_inf: see correlations <= this number\n",
    "    lim_sup: see correlations >= this number\n",
    "    round_values: see correlations rounded to this value\n",
    "    output: list with correlated variables and correlation value\n",
    "    \"\"\"\n",
    "    correlated = []\n",
    "\n",
    "    for i in range(0,len(corr_matrix)):\n",
    "            for j in range(i,len(corr_matrix)):\n",
    "                if i == j:\n",
    "                    pass\n",
    "                else:\n",
    "                    if (corr_matrix[corr_matrix.index[j]][corr_matrix.columns[i]] >= lim_sup) | (corr_matrix[corr_matrix.index[j]][corr_matrix.columns[i]] <= lim_inf):\n",
    "                        correlated.append([corr_matrix.index[j],corr_matrix.columns[i], round(corr_matrix[corr_matrix.index[j]][corr_matrix.columns[i]], round_values)])\n",
    "                    else:\n",
    "                        pass\n",
    "    return correlated"
   ]
  },
  {
   "cell_type": "code",
   "execution_count": 12,
   "metadata": {},
   "outputs": [
    {
     "data": {
      "text/plain": [
       "[['business_or_commercial', 'loan_type', 1.0],\n",
       " ['property_value', 'loan_amount', 0.6866],\n",
       " ['income', 'loan_amount', 0.5576],\n",
       " ['ratio_upfrontcharges_loanamount', 'loan_amount', -0.5155],\n",
       " ['ratio_upfrontcharges_loanamount', 'upfront_charges', 0.6409],\n",
       " ['paid_in_adv', 'property_value', 0.8451],\n",
       " ['status', 'credit_type', 0.5912],\n",
       " ['miss_rate_of_interest', 'credit_type', 0.5831],\n",
       " ['miss_upfront_charges', 'credit_type', 0.5525],\n",
       " ['miss_property_value', 'credit_type', 0.9926],\n",
       " ['miss_ltv', 'credit_type', 0.9926],\n",
       " ['miss_rate_of_interest', 'status', 0.9964],\n",
       " ['miss_upfront_charges', 'status', 0.9421],\n",
       " ['miss_property_value', 'status', 0.5868],\n",
       " ['miss_ltv', 'status', 0.5868],\n",
       " ['miss_upfront_charges', 'miss_rate_of_interest', 0.9441],\n",
       " ['miss_property_value', 'miss_rate_of_interest', 0.5889],\n",
       " ['miss_ltv', 'miss_rate_of_interest', 0.5889],\n",
       " ['miss_property_value', 'miss_upfront_charges', 0.5561],\n",
       " ['miss_ltv', 'miss_upfront_charges', 0.5561],\n",
       " ['miss_ltv', 'miss_property_value', 1.0]]"
      ]
     },
     "execution_count": 12,
     "metadata": {},
     "output_type": "execute_result"
    }
   ],
   "source": [
    "get_cor_features(corr_matrix)"
   ]
  },
  {
   "cell_type": "code",
   "execution_count": 13,
   "metadata": {},
   "outputs": [],
   "source": [
    "# remover algumas variáveis muito correlacionadas\n",
    "to_drop = ['business_or_commercial', 'credit_type', 'miss_property_value',\n",
    "          'miss_upfront_charges']\n",
    "\n",
    "df1.drop(columns=to_drop, inplace=True)\n",
    "df2.drop(columns=to_drop, inplace=True)"
   ]
  },
  {
   "cell_type": "markdown",
   "metadata": {},
   "source": [
    "# Discretização de variáveis numéricas"
   ]
  },
  {
   "cell_type": "markdown",
   "metadata": {},
   "source": [
    "## bins com mesmo tamanho"
   ]
  },
  {
   "cell_type": "code",
   "execution_count": 14,
   "metadata": {},
   "outputs": [
    {
     "data": {
      "text/plain": [
       "KBinsDiscretizer(encode='ordinal', n_bins=10, strategy='uniform')"
      ]
     },
     "execution_count": 14,
     "metadata": {},
     "output_type": "execute_result"
    }
   ],
   "source": [
    "variaveis_para_discretizar = ['loan_amount','income']\n",
    "disc_width = KBinsDiscretizer(n_bins=10, encode='ordinal', strategy='uniform')\n",
    "disc_width.fit(df1[variaveis_para_discretizar])"
   ]
  },
  {
   "cell_type": "code",
   "execution_count": 15,
   "metadata": {},
   "outputs": [
    {
     "data": {
      "text/plain": [
       "array([array([  16500.,  349500.,  682500., 1015500., 1348500., 1681500.,\n",
       "              2014500., 2347500., 2680500., 3013500., 3346500.])         ,\n",
       "       array([    0.,  2292.,  4584.,  6876.,  9168., 11460., 13752., 16044.,\n",
       "              18336., 20628., 22920.])                                       ],\n",
       "      dtype=object)"
      ]
     },
     "execution_count": 15,
     "metadata": {},
     "output_type": "execute_result"
    }
   ],
   "source": [
    "#saber quais os pontos de corte\n",
    "disc_width.bin_edges_"
   ]
  },
  {
   "cell_type": "code",
   "execution_count": 16,
   "metadata": {},
   "outputs": [],
   "source": [
    "#aplicar discretização à df1\n",
    "disc_data1 = pd.DataFrame(disc_width.transform(df1[variaveis_para_discretizar]), columns = variaveis_para_discretizar)"
   ]
  },
  {
   "cell_type": "code",
   "execution_count": 17,
   "metadata": {},
   "outputs": [
    {
     "data": {
      "text/plain": [
       "0.0    0.608125\n",
       "1.0    0.352151\n",
       "2.0    0.034900\n",
       "3.0    0.003229\n",
       "4.0    0.001028\n",
       "5.0    0.000336\n",
       "6.0    0.000115\n",
       "8.0    0.000058\n",
       "7.0    0.000048\n",
       "9.0    0.000010\n",
       "Name: loan_amount, dtype: float64"
      ]
     },
     "execution_count": 17,
     "metadata": {},
     "output_type": "execute_result"
    }
   ],
   "source": [
    "# será que faz sentido manter estas categorias?\n",
    "disc_data1.loan_amount.value_counts(normalize=True) "
   ]
  },
  {
   "cell_type": "code",
   "execution_count": 18,
   "metadata": {},
   "outputs": [],
   "source": [
    "#agrupamento\n",
    "disc_data1.loc[disc_data1.loan_amount>=3, 'loan_amount'] = 3"
   ]
  },
  {
   "cell_type": "code",
   "execution_count": 19,
   "metadata": {},
   "outputs": [
    {
     "data": {
      "text/plain": [
       "0.0    0.608125\n",
       "1.0    0.352151\n",
       "2.0    0.034900\n",
       "3.0    0.004824\n",
       "Name: loan_amount, dtype: float64"
      ]
     },
     "execution_count": 19,
     "metadata": {},
     "output_type": "execute_result"
    }
   ],
   "source": [
    "disc_data1.loan_amount.value_counts(normalize=True) "
   ]
  },
  {
   "cell_type": "code",
   "execution_count": 20,
   "metadata": {},
   "outputs": [],
   "source": [
    "#aplicar discretização à df2\n",
    "disc_data2 = pd.DataFrame(disc_width.transform(df2[variaveis_para_discretizar]), columns = variaveis_para_discretizar)"
   ]
  },
  {
   "cell_type": "code",
   "execution_count": 21,
   "metadata": {},
   "outputs": [
    {
     "data": {
      "text/plain": [
       "0.0    0.607610\n",
       "1.0    0.352234\n",
       "2.0    0.034865\n",
       "3.0    0.003543\n",
       "4.0    0.001121\n",
       "5.0    0.000404\n",
       "7.0    0.000090\n",
       "6.0    0.000090\n",
       "8.0    0.000022\n",
       "9.0    0.000022\n",
       "Name: loan_amount, dtype: float64"
      ]
     },
     "execution_count": 21,
     "metadata": {},
     "output_type": "execute_result"
    }
   ],
   "source": [
    "disc_data2.loan_amount.value_counts(normalize=True)"
   ]
  },
  {
   "cell_type": "code",
   "execution_count": 22,
   "metadata": {},
   "outputs": [],
   "source": [
    "#agrupamento\n",
    "disc_data2.loc[disc_data2.loan_amount>=3, 'loan_amount'] = 3"
   ]
  },
  {
   "cell_type": "code",
   "execution_count": 23,
   "metadata": {},
   "outputs": [
    {
     "data": {
      "text/plain": [
       "0.0    0.607610\n",
       "1.0    0.352234\n",
       "2.0    0.034865\n",
       "3.0    0.005291\n",
       "Name: loan_amount, dtype: float64"
      ]
     },
     "execution_count": 23,
     "metadata": {},
     "output_type": "execute_result"
    }
   ],
   "source": [
    "disc_data2.loan_amount.value_counts(normalize=True) "
   ]
  },
  {
   "cell_type": "markdown",
   "metadata": {},
   "source": [
    "## bins com mesmo volume"
   ]
  },
  {
   "cell_type": "code",
   "execution_count": 24,
   "metadata": {},
   "outputs": [
    {
     "data": {
      "text/plain": [
       "KBinsDiscretizer(encode='ordinal', n_bins=10)"
      ]
     },
     "execution_count": 24,
     "metadata": {},
     "output_type": "execute_result"
    }
   ],
   "source": [
    "variaveis_para_discretizar = ['loan_amount','income']\n",
    "disc_volume = KBinsDiscretizer(n_bins=10, encode='ordinal', strategy='quantile')\n",
    "disc_volume.fit(df1[variaveis_para_discretizar])"
   ]
  },
  {
   "cell_type": "code",
   "execution_count": 25,
   "metadata": {},
   "outputs": [
    {
     "data": {
      "text/plain": [
       "array([array([  16500.,  126500.,  176500.,  216500.,  256500.,  296500.,\n",
       "               346500.,  406500.,  466500.,  566500., 3346500.])         ,\n",
       "       array([    0.,  2580.,  3420.,  4260.,  5100.,  5700.,  6420.,  7560.,\n",
       "               9120., 11880., 22920.])                                       ],\n",
       "      dtype=object)"
      ]
     },
     "execution_count": 25,
     "metadata": {},
     "output_type": "execute_result"
    }
   ],
   "source": [
    "#saber quais os pontos de corte\n",
    "disc_volume.bin_edges_"
   ]
  },
  {
   "cell_type": "code",
   "execution_count": 26,
   "metadata": {},
   "outputs": [],
   "source": [
    "#aplicar discretização à df1\n",
    "disc_data1 = pd.DataFrame(disc_volume.transform(df1[variaveis_para_discretizar]), columns = variaveis_para_discretizar)"
   ]
  },
  {
   "cell_type": "code",
   "execution_count": 27,
   "metadata": {},
   "outputs": [
    {
     "data": {
      "text/plain": [
       "1.0    11273\n",
       "9.0    11112\n",
       "8.0    11000\n",
       "5.0    10877\n",
       "6.0    10854\n",
       "3.0    10336\n",
       "4.0    10124\n",
       "2.0    10089\n",
       "7.0     9707\n",
       "0.0     8697\n",
       "Name: loan_amount, dtype: int64"
      ]
     },
     "execution_count": 27,
     "metadata": {},
     "output_type": "execute_result"
    }
   ],
   "source": [
    "disc_data1.loan_amount.value_counts()"
   ]
  },
  {
   "cell_type": "code",
   "execution_count": 28,
   "metadata": {},
   "outputs": [],
   "source": [
    "#aplicar discretização à df2\n",
    "disc_data2 = pd.DataFrame(disc_volume.transform(df2[variaveis_para_discretizar]), columns = variaveis_para_discretizar)"
   ]
  },
  {
   "cell_type": "code",
   "execution_count": 29,
   "metadata": {},
   "outputs": [
    {
     "data": {
      "text/plain": [
       "1.0    4815\n",
       "9.0    4796\n",
       "8.0    4711\n",
       "6.0    4654\n",
       "5.0    4648\n",
       "3.0    4479\n",
       "2.0    4346\n",
       "4.0    4291\n",
       "7.0    4145\n",
       "0.0    3716\n",
       "Name: loan_amount, dtype: int64"
      ]
     },
     "execution_count": 29,
     "metadata": {},
     "output_type": "execute_result"
    }
   ],
   "source": [
    "disc_data2.loan_amount.value_counts()"
   ]
  },
  {
   "cell_type": "markdown",
   "metadata": {},
   "source": [
    "# Encodings de variáveis categóricas"
   ]
  },
  {
   "cell_type": "markdown",
   "metadata": {},
   "source": [
    "- antes de fazer o enconding faz sentido verificarmos quantas categorias temos e qual a sua percentagem"
   ]
  },
  {
   "cell_type": "code",
   "execution_count": 30,
   "metadata": {},
   "outputs": [
    {
     "name": "stdout",
     "output_type": "stream",
     "text": [
      "gender : \n",
      " Male                 28.442668\n",
      "Joint                27.867088\n",
      "Sex Not Available    25.270734\n",
      "Female               18.419510\n",
      "Name: gender, dtype: float64\n",
      "\n",
      "\n",
      "approv_in_adv : \n",
      " nopre    84.416109\n",
      "pre      15.583891\n",
      "Name: approv_in_adv, dtype: float64\n",
      "\n",
      "\n",
      "loan_type : \n",
      " type1    76.111042\n",
      "type2    13.951321\n",
      "type3     9.937638\n",
      "Name: loan_type, dtype: float64\n",
      "\n",
      "\n",
      "loan_purpose : \n",
      " p3    37.529908\n",
      "p4    37.063871\n",
      "p1    23.219210\n",
      "p2     2.187011\n",
      "Name: loan_purpose, dtype: float64\n",
      "\n",
      "\n",
      "construction_type : \n",
      " sb    99.975977\n",
      "mh     0.024023\n",
      "Name: construction_type, dtype: float64\n",
      "\n",
      "\n",
      "age : \n",
      " 45-54    23.589157\n",
      "35-44    22.096878\n",
      "55-64    21.832630\n",
      "65-74    13.860996\n",
      "25-34    12.889525\n",
      ">74       4.848706\n",
      "<25       0.882107\n",
      "Name: age, dtype: float64\n",
      "\n",
      "\n",
      "region : \n",
      " North         50.263767\n",
      "south         43.030105\n",
      "central        5.871105\n",
      "North-East     0.835023\n",
      "Name: region, dtype: float64\n",
      "\n",
      "\n"
     ]
    }
   ],
   "source": [
    "for col in df1.select_dtypes('object').columns:\n",
    "    print(col, ': \\n', df1[col].value_counts(dropna=False, normalize=True)*100)\n",
    "    print('\\n')"
   ]
  },
  {
   "cell_type": "code",
   "execution_count": 31,
   "metadata": {},
   "outputs": [
    {
     "data": {
      "text/plain": [
       "OneHotEncoder(sparse=False)"
      ]
     },
     "execution_count": 31,
     "metadata": {},
     "output_type": "execute_result"
    }
   ],
   "source": [
    "variaveis_para_encode = ['gender', 'loan_type']\n",
    "enc_oh = OneHotEncoder(sparse=False, handle_unknown='error')\n",
    "enc_oh.fit(df1[variaveis_para_encode])"
   ]
  },
  {
   "cell_type": "code",
   "execution_count": 32,
   "metadata": {},
   "outputs": [
    {
     "data": {
      "text/plain": [
       "[array(['Female', 'Joint', 'Male', 'Sex Not Available'], dtype=object),\n",
       " array(['type1', 'type2', 'type3'], dtype=object)]"
      ]
     },
     "execution_count": 32,
     "metadata": {},
     "output_type": "execute_result"
    }
   ],
   "source": [
    "enc_oh.categories_"
   ]
  },
  {
   "cell_type": "code",
   "execution_count": 33,
   "metadata": {},
   "outputs": [
    {
     "data": {
      "text/plain": [
       "array(['gender', 'loan_type'], dtype=object)"
      ]
     },
     "execution_count": 33,
     "metadata": {},
     "output_type": "execute_result"
    }
   ],
   "source": [
    "enc_oh.feature_names_in_"
   ]
  },
  {
   "cell_type": "code",
   "execution_count": 34,
   "metadata": {},
   "outputs": [
    {
     "data": {
      "text/html": [
       "<div>\n",
       "<style scoped>\n",
       "    .dataframe tbody tr th:only-of-type {\n",
       "        vertical-align: middle;\n",
       "    }\n",
       "\n",
       "    .dataframe tbody tr th {\n",
       "        vertical-align: top;\n",
       "    }\n",
       "\n",
       "    .dataframe thead th {\n",
       "        text-align: right;\n",
       "    }\n",
       "</style>\n",
       "<table border=\"1\" class=\"dataframe\">\n",
       "  <thead>\n",
       "    <tr style=\"text-align: right;\">\n",
       "      <th></th>\n",
       "      <th>gender</th>\n",
       "      <th>loan_type</th>\n",
       "    </tr>\n",
       "  </thead>\n",
       "  <tbody>\n",
       "    <tr>\n",
       "      <th>0</th>\n",
       "      <td>Sex Not Available</td>\n",
       "      <td>type1</td>\n",
       "    </tr>\n",
       "    <tr>\n",
       "      <th>1</th>\n",
       "      <td>Joint</td>\n",
       "      <td>type1</td>\n",
       "    </tr>\n",
       "    <tr>\n",
       "      <th>2</th>\n",
       "      <td>Joint</td>\n",
       "      <td>type1</td>\n",
       "    </tr>\n",
       "    <tr>\n",
       "      <th>3</th>\n",
       "      <td>Joint</td>\n",
       "      <td>type1</td>\n",
       "    </tr>\n",
       "    <tr>\n",
       "      <th>4</th>\n",
       "      <td>Joint</td>\n",
       "      <td>type1</td>\n",
       "    </tr>\n",
       "  </tbody>\n",
       "</table>\n",
       "</div>"
      ],
      "text/plain": [
       "              gender loan_type\n",
       "0  Sex Not Available     type1\n",
       "1              Joint     type1\n",
       "2              Joint     type1\n",
       "3              Joint     type1\n",
       "4              Joint     type1"
      ]
     },
     "execution_count": 34,
     "metadata": {},
     "output_type": "execute_result"
    }
   ],
   "source": [
    "df1[variaveis_para_encode].head()"
   ]
  },
  {
   "cell_type": "code",
   "execution_count": 35,
   "metadata": {},
   "outputs": [],
   "source": [
    "#aplicar discretização à df1\n",
    "enc_data1 = pd.DataFrame(enc_oh.transform(df1[variaveis_para_encode]))"
   ]
  },
  {
   "cell_type": "code",
   "execution_count": 36,
   "metadata": {},
   "outputs": [
    {
     "data": {
      "text/html": [
       "<div>\n",
       "<style scoped>\n",
       "    .dataframe tbody tr th:only-of-type {\n",
       "        vertical-align: middle;\n",
       "    }\n",
       "\n",
       "    .dataframe tbody tr th {\n",
       "        vertical-align: top;\n",
       "    }\n",
       "\n",
       "    .dataframe thead th {\n",
       "        text-align: right;\n",
       "    }\n",
       "</style>\n",
       "<table border=\"1\" class=\"dataframe\">\n",
       "  <thead>\n",
       "    <tr style=\"text-align: right;\">\n",
       "      <th></th>\n",
       "      <th>0</th>\n",
       "      <th>1</th>\n",
       "      <th>2</th>\n",
       "      <th>3</th>\n",
       "      <th>4</th>\n",
       "      <th>5</th>\n",
       "      <th>6</th>\n",
       "    </tr>\n",
       "  </thead>\n",
       "  <tbody>\n",
       "    <tr>\n",
       "      <th>0</th>\n",
       "      <td>0.0</td>\n",
       "      <td>0.0</td>\n",
       "      <td>0.0</td>\n",
       "      <td>1.0</td>\n",
       "      <td>1.0</td>\n",
       "      <td>0.0</td>\n",
       "      <td>0.0</td>\n",
       "    </tr>\n",
       "    <tr>\n",
       "      <th>1</th>\n",
       "      <td>0.0</td>\n",
       "      <td>1.0</td>\n",
       "      <td>0.0</td>\n",
       "      <td>0.0</td>\n",
       "      <td>1.0</td>\n",
       "      <td>0.0</td>\n",
       "      <td>0.0</td>\n",
       "    </tr>\n",
       "    <tr>\n",
       "      <th>2</th>\n",
       "      <td>0.0</td>\n",
       "      <td>1.0</td>\n",
       "      <td>0.0</td>\n",
       "      <td>0.0</td>\n",
       "      <td>1.0</td>\n",
       "      <td>0.0</td>\n",
       "      <td>0.0</td>\n",
       "    </tr>\n",
       "    <tr>\n",
       "      <th>3</th>\n",
       "      <td>0.0</td>\n",
       "      <td>1.0</td>\n",
       "      <td>0.0</td>\n",
       "      <td>0.0</td>\n",
       "      <td>1.0</td>\n",
       "      <td>0.0</td>\n",
       "      <td>0.0</td>\n",
       "    </tr>\n",
       "    <tr>\n",
       "      <th>4</th>\n",
       "      <td>0.0</td>\n",
       "      <td>1.0</td>\n",
       "      <td>0.0</td>\n",
       "      <td>0.0</td>\n",
       "      <td>1.0</td>\n",
       "      <td>0.0</td>\n",
       "      <td>0.0</td>\n",
       "    </tr>\n",
       "  </tbody>\n",
       "</table>\n",
       "</div>"
      ],
      "text/plain": [
       "     0    1    2    3    4    5    6\n",
       "0  0.0  0.0  0.0  1.0  1.0  0.0  0.0\n",
       "1  0.0  1.0  0.0  0.0  1.0  0.0  0.0\n",
       "2  0.0  1.0  0.0  0.0  1.0  0.0  0.0\n",
       "3  0.0  1.0  0.0  0.0  1.0  0.0  0.0\n",
       "4  0.0  1.0  0.0  0.0  1.0  0.0  0.0"
      ]
     },
     "execution_count": 36,
     "metadata": {},
     "output_type": "execute_result"
    }
   ],
   "source": [
    "enc_data1.head()"
   ]
  },
  {
   "cell_type": "code",
   "execution_count": 37,
   "metadata": {},
   "outputs": [],
   "source": [
    "#aplicar discretização à df2\n",
    "enc_data2 = pd.DataFrame(enc_oh.transform(df2[variaveis_para_encode]))"
   ]
  },
  {
   "cell_type": "code",
   "execution_count": 38,
   "metadata": {},
   "outputs": [
    {
     "data": {
      "text/html": [
       "<div>\n",
       "<style scoped>\n",
       "    .dataframe tbody tr th:only-of-type {\n",
       "        vertical-align: middle;\n",
       "    }\n",
       "\n",
       "    .dataframe tbody tr th {\n",
       "        vertical-align: top;\n",
       "    }\n",
       "\n",
       "    .dataframe thead th {\n",
       "        text-align: right;\n",
       "    }\n",
       "</style>\n",
       "<table border=\"1\" class=\"dataframe\">\n",
       "  <thead>\n",
       "    <tr style=\"text-align: right;\">\n",
       "      <th></th>\n",
       "      <th>0</th>\n",
       "      <th>1</th>\n",
       "      <th>2</th>\n",
       "      <th>3</th>\n",
       "      <th>4</th>\n",
       "      <th>5</th>\n",
       "      <th>6</th>\n",
       "    </tr>\n",
       "  </thead>\n",
       "  <tbody>\n",
       "    <tr>\n",
       "      <th>0</th>\n",
       "      <td>0.0</td>\n",
       "      <td>0.0</td>\n",
       "      <td>0.0</td>\n",
       "      <td>1.0</td>\n",
       "      <td>1.0</td>\n",
       "      <td>0.0</td>\n",
       "      <td>0.0</td>\n",
       "    </tr>\n",
       "    <tr>\n",
       "      <th>1</th>\n",
       "      <td>0.0</td>\n",
       "      <td>0.0</td>\n",
       "      <td>1.0</td>\n",
       "      <td>0.0</td>\n",
       "      <td>1.0</td>\n",
       "      <td>0.0</td>\n",
       "      <td>0.0</td>\n",
       "    </tr>\n",
       "    <tr>\n",
       "      <th>2</th>\n",
       "      <td>0.0</td>\n",
       "      <td>0.0</td>\n",
       "      <td>1.0</td>\n",
       "      <td>0.0</td>\n",
       "      <td>1.0</td>\n",
       "      <td>0.0</td>\n",
       "      <td>0.0</td>\n",
       "    </tr>\n",
       "    <tr>\n",
       "      <th>3</th>\n",
       "      <td>0.0</td>\n",
       "      <td>0.0</td>\n",
       "      <td>1.0</td>\n",
       "      <td>0.0</td>\n",
       "      <td>1.0</td>\n",
       "      <td>0.0</td>\n",
       "      <td>0.0</td>\n",
       "    </tr>\n",
       "    <tr>\n",
       "      <th>4</th>\n",
       "      <td>1.0</td>\n",
       "      <td>0.0</td>\n",
       "      <td>0.0</td>\n",
       "      <td>0.0</td>\n",
       "      <td>1.0</td>\n",
       "      <td>0.0</td>\n",
       "      <td>0.0</td>\n",
       "    </tr>\n",
       "  </tbody>\n",
       "</table>\n",
       "</div>"
      ],
      "text/plain": [
       "     0    1    2    3    4    5    6\n",
       "0  0.0  0.0  0.0  1.0  1.0  0.0  0.0\n",
       "1  0.0  0.0  1.0  0.0  1.0  0.0  0.0\n",
       "2  0.0  0.0  1.0  0.0  1.0  0.0  0.0\n",
       "3  0.0  0.0  1.0  0.0  1.0  0.0  0.0\n",
       "4  1.0  0.0  0.0  0.0  1.0  0.0  0.0"
      ]
     },
     "execution_count": 38,
     "metadata": {},
     "output_type": "execute_result"
    }
   ],
   "source": [
    "enc_data2.head()"
   ]
  },
  {
   "cell_type": "markdown",
   "metadata": {},
   "source": [
    "# Escalonamento dos dados"
   ]
  },
  {
   "cell_type": "markdown",
   "metadata": {},
   "source": [
    "Para exercicio vamos criar uma dataframe com variáveis da df1, disc_data1 e enc_data1"
   ]
  },
  {
   "cell_type": "code",
   "execution_count": 39,
   "metadata": {},
   "outputs": [],
   "source": [
    "nova_df1 = pd.concat([df1[['ratio_income_loanamount', 'credit_score']].reset_index(drop=True), disc_data1, enc_data1], axis=1)"
   ]
  },
  {
   "cell_type": "code",
   "execution_count": 40,
   "metadata": {},
   "outputs": [
    {
     "data": {
      "text/html": [
       "<div>\n",
       "<style scoped>\n",
       "    .dataframe tbody tr th:only-of-type {\n",
       "        vertical-align: middle;\n",
       "    }\n",
       "\n",
       "    .dataframe tbody tr th {\n",
       "        vertical-align: top;\n",
       "    }\n",
       "\n",
       "    .dataframe thead th {\n",
       "        text-align: right;\n",
       "    }\n",
       "</style>\n",
       "<table border=\"1\" class=\"dataframe\">\n",
       "  <thead>\n",
       "    <tr style=\"text-align: right;\">\n",
       "      <th></th>\n",
       "      <th>ratio_income_loanamount</th>\n",
       "      <th>credit_score</th>\n",
       "      <th>loan_amount</th>\n",
       "      <th>income</th>\n",
       "      <th>0</th>\n",
       "      <th>1</th>\n",
       "      <th>2</th>\n",
       "      <th>3</th>\n",
       "      <th>4</th>\n",
       "      <th>5</th>\n",
       "      <th>6</th>\n",
       "    </tr>\n",
       "  </thead>\n",
       "  <tbody>\n",
       "    <tr>\n",
       "      <th>0</th>\n",
       "      <td>2.050808</td>\n",
       "      <td>768</td>\n",
       "      <td>3.0</td>\n",
       "      <td>3.0</td>\n",
       "      <td>0.0</td>\n",
       "      <td>0.0</td>\n",
       "      <td>0.0</td>\n",
       "      <td>1.0</td>\n",
       "      <td>1.0</td>\n",
       "      <td>0.0</td>\n",
       "      <td>0.0</td>\n",
       "    </tr>\n",
       "    <tr>\n",
       "      <th>1</th>\n",
       "      <td>3.115619</td>\n",
       "      <td>620</td>\n",
       "      <td>3.0</td>\n",
       "      <td>7.0</td>\n",
       "      <td>0.0</td>\n",
       "      <td>1.0</td>\n",
       "      <td>0.0</td>\n",
       "      <td>0.0</td>\n",
       "      <td>1.0</td>\n",
       "      <td>0.0</td>\n",
       "      <td>0.0</td>\n",
       "    </tr>\n",
       "    <tr>\n",
       "      <th>2</th>\n",
       "      <td>5.549770</td>\n",
       "      <td>585</td>\n",
       "      <td>5.0</td>\n",
       "      <td>9.0</td>\n",
       "      <td>0.0</td>\n",
       "      <td>1.0</td>\n",
       "      <td>0.0</td>\n",
       "      <td>0.0</td>\n",
       "      <td>1.0</td>\n",
       "      <td>0.0</td>\n",
       "      <td>0.0</td>\n",
       "    </tr>\n",
       "    <tr>\n",
       "      <th>3</th>\n",
       "      <td>5.565684</td>\n",
       "      <td>788</td>\n",
       "      <td>2.0</td>\n",
       "      <td>8.0</td>\n",
       "      <td>0.0</td>\n",
       "      <td>1.0</td>\n",
       "      <td>0.0</td>\n",
       "      <td>0.0</td>\n",
       "      <td>1.0</td>\n",
       "      <td>0.0</td>\n",
       "      <td>0.0</td>\n",
       "    </tr>\n",
       "    <tr>\n",
       "      <th>4</th>\n",
       "      <td>1.955272</td>\n",
       "      <td>751</td>\n",
       "      <td>1.0</td>\n",
       "      <td>1.0</td>\n",
       "      <td>0.0</td>\n",
       "      <td>1.0</td>\n",
       "      <td>0.0</td>\n",
       "      <td>0.0</td>\n",
       "      <td>1.0</td>\n",
       "      <td>0.0</td>\n",
       "      <td>0.0</td>\n",
       "    </tr>\n",
       "    <tr>\n",
       "      <th>...</th>\n",
       "      <td>...</td>\n",
       "      <td>...</td>\n",
       "      <td>...</td>\n",
       "      <td>...</td>\n",
       "      <td>...</td>\n",
       "      <td>...</td>\n",
       "      <td>...</td>\n",
       "      <td>...</td>\n",
       "      <td>...</td>\n",
       "      <td>...</td>\n",
       "      <td>...</td>\n",
       "    </tr>\n",
       "    <tr>\n",
       "      <th>104064</th>\n",
       "      <td>1.190349</td>\n",
       "      <td>866</td>\n",
       "      <td>2.0</td>\n",
       "      <td>0.0</td>\n",
       "      <td>1.0</td>\n",
       "      <td>0.0</td>\n",
       "      <td>0.0</td>\n",
       "      <td>0.0</td>\n",
       "      <td>1.0</td>\n",
       "      <td>0.0</td>\n",
       "      <td>0.0</td>\n",
       "    </tr>\n",
       "    <tr>\n",
       "      <th>104065</th>\n",
       "      <td>0.774869</td>\n",
       "      <td>702</td>\n",
       "      <td>4.0</td>\n",
       "      <td>0.0</td>\n",
       "      <td>0.0</td>\n",
       "      <td>0.0</td>\n",
       "      <td>0.0</td>\n",
       "      <td>1.0</td>\n",
       "      <td>0.0</td>\n",
       "      <td>0.0</td>\n",
       "      <td>1.0</td>\n",
       "    </tr>\n",
       "    <tr>\n",
       "      <th>104066</th>\n",
       "      <td>1.597734</td>\n",
       "      <td>613</td>\n",
       "      <td>2.0</td>\n",
       "      <td>1.0</td>\n",
       "      <td>1.0</td>\n",
       "      <td>0.0</td>\n",
       "      <td>0.0</td>\n",
       "      <td>0.0</td>\n",
       "      <td>1.0</td>\n",
       "      <td>0.0</td>\n",
       "      <td>0.0</td>\n",
       "    </tr>\n",
       "    <tr>\n",
       "      <th>104067</th>\n",
       "      <td>2.834437</td>\n",
       "      <td>573</td>\n",
       "      <td>3.0</td>\n",
       "      <td>6.0</td>\n",
       "      <td>0.0</td>\n",
       "      <td>0.0</td>\n",
       "      <td>0.0</td>\n",
       "      <td>1.0</td>\n",
       "      <td>1.0</td>\n",
       "      <td>0.0</td>\n",
       "      <td>0.0</td>\n",
       "    </tr>\n",
       "    <tr>\n",
       "      <th>104068</th>\n",
       "      <td>3.450479</td>\n",
       "      <td>670</td>\n",
       "      <td>1.0</td>\n",
       "      <td>4.0</td>\n",
       "      <td>0.0</td>\n",
       "      <td>0.0</td>\n",
       "      <td>0.0</td>\n",
       "      <td>1.0</td>\n",
       "      <td>1.0</td>\n",
       "      <td>0.0</td>\n",
       "      <td>0.0</td>\n",
       "    </tr>\n",
       "  </tbody>\n",
       "</table>\n",
       "<p>104069 rows × 11 columns</p>\n",
       "</div>"
      ],
      "text/plain": [
       "        ratio_income_loanamount  credit_score  loan_amount  income    0    1  \\\n",
       "0                      2.050808           768          3.0     3.0  0.0  0.0   \n",
       "1                      3.115619           620          3.0     7.0  0.0  1.0   \n",
       "2                      5.549770           585          5.0     9.0  0.0  1.0   \n",
       "3                      5.565684           788          2.0     8.0  0.0  1.0   \n",
       "4                      1.955272           751          1.0     1.0  0.0  1.0   \n",
       "...                         ...           ...          ...     ...  ...  ...   \n",
       "104064                 1.190349           866          2.0     0.0  1.0  0.0   \n",
       "104065                 0.774869           702          4.0     0.0  0.0  0.0   \n",
       "104066                 1.597734           613          2.0     1.0  1.0  0.0   \n",
       "104067                 2.834437           573          3.0     6.0  0.0  0.0   \n",
       "104068                 3.450479           670          1.0     4.0  0.0  0.0   \n",
       "\n",
       "          2    3    4    5    6  \n",
       "0       0.0  1.0  1.0  0.0  0.0  \n",
       "1       0.0  0.0  1.0  0.0  0.0  \n",
       "2       0.0  0.0  1.0  0.0  0.0  \n",
       "3       0.0  0.0  1.0  0.0  0.0  \n",
       "4       0.0  0.0  1.0  0.0  0.0  \n",
       "...     ...  ...  ...  ...  ...  \n",
       "104064  0.0  0.0  1.0  0.0  0.0  \n",
       "104065  0.0  1.0  0.0  0.0  1.0  \n",
       "104066  0.0  0.0  1.0  0.0  0.0  \n",
       "104067  0.0  1.0  1.0  0.0  0.0  \n",
       "104068  0.0  1.0  1.0  0.0  0.0  \n",
       "\n",
       "[104069 rows x 11 columns]"
      ]
     },
     "execution_count": 40,
     "metadata": {},
     "output_type": "execute_result"
    }
   ],
   "source": [
    "nova_df1"
   ]
  },
  {
   "cell_type": "code",
   "execution_count": 41,
   "metadata": {},
   "outputs": [],
   "source": [
    "#mesma estrategia para dados df2\n",
    "nova_df2 = pd.concat([df2[['ratio_income_loanamount', 'credit_score']].reset_index(drop=True), disc_data2, enc_data2], axis=1)"
   ]
  },
  {
   "cell_type": "code",
   "execution_count": 42,
   "metadata": {},
   "outputs": [
    {
     "name": "stderr",
     "output_type": "stream",
     "text": [
      "c:\\users\\fabio\\desktop\\nds\\dctp\\venv_dctp2\\lib\\site-packages\\sklearn\\utils\\validation.py:1692: FutureWarning: Feature names only support names that are all strings. Got feature names with dtypes: ['int', 'str']. An error will be raised in 1.2.\n",
      "  FutureWarning,\n"
     ]
    },
    {
     "data": {
      "text/plain": [
       "MinMaxScaler()"
      ]
     },
     "execution_count": 42,
     "metadata": {},
     "output_type": "execute_result"
    }
   ],
   "source": [
    "minmax_scaler = MinMaxScaler()\n",
    "minmax_scaler.fit(nova_df1)"
   ]
  },
  {
   "cell_type": "code",
   "execution_count": 43,
   "metadata": {},
   "outputs": [
    {
     "name": "stderr",
     "output_type": "stream",
     "text": [
      "c:\\users\\fabio\\desktop\\nds\\dctp\\venv_dctp2\\lib\\site-packages\\sklearn\\utils\\validation.py:1692: FutureWarning: Feature names only support names that are all strings. Got feature names with dtypes: ['int', 'str']. An error will be raised in 1.2.\n",
      "  FutureWarning,\n"
     ]
    }
   ],
   "source": [
    "nova_df1_transf = pd.DataFrame(minmax_scaler.transform(nova_df1), columns = nova_df1.columns)"
   ]
  },
  {
   "cell_type": "code",
   "execution_count": 44,
   "metadata": {},
   "outputs": [
    {
     "data": {
      "text/html": [
       "<div>\n",
       "<style scoped>\n",
       "    .dataframe tbody tr th:only-of-type {\n",
       "        vertical-align: middle;\n",
       "    }\n",
       "\n",
       "    .dataframe tbody tr th {\n",
       "        vertical-align: top;\n",
       "    }\n",
       "\n",
       "    .dataframe thead th {\n",
       "        text-align: right;\n",
       "    }\n",
       "</style>\n",
       "<table border=\"1\" class=\"dataframe\">\n",
       "  <thead>\n",
       "    <tr style=\"text-align: right;\">\n",
       "      <th></th>\n",
       "      <th>ratio_income_loanamount</th>\n",
       "      <th>credit_score</th>\n",
       "      <th>loan_amount</th>\n",
       "      <th>income</th>\n",
       "      <th>0</th>\n",
       "      <th>1</th>\n",
       "      <th>2</th>\n",
       "      <th>3</th>\n",
       "      <th>4</th>\n",
       "      <th>5</th>\n",
       "      <th>6</th>\n",
       "    </tr>\n",
       "  </thead>\n",
       "  <tbody>\n",
       "    <tr>\n",
       "      <th>0</th>\n",
       "      <td>0.050554</td>\n",
       "      <td>0.6700</td>\n",
       "      <td>0.333333</td>\n",
       "      <td>0.333333</td>\n",
       "      <td>0.0</td>\n",
       "      <td>0.0</td>\n",
       "      <td>0.0</td>\n",
       "      <td>1.0</td>\n",
       "      <td>1.0</td>\n",
       "      <td>0.0</td>\n",
       "      <td>0.0</td>\n",
       "    </tr>\n",
       "    <tr>\n",
       "      <th>1</th>\n",
       "      <td>0.076803</td>\n",
       "      <td>0.3000</td>\n",
       "      <td>0.333333</td>\n",
       "      <td>0.777778</td>\n",
       "      <td>0.0</td>\n",
       "      <td>1.0</td>\n",
       "      <td>0.0</td>\n",
       "      <td>0.0</td>\n",
       "      <td>1.0</td>\n",
       "      <td>0.0</td>\n",
       "      <td>0.0</td>\n",
       "    </tr>\n",
       "    <tr>\n",
       "      <th>2</th>\n",
       "      <td>0.136807</td>\n",
       "      <td>0.2125</td>\n",
       "      <td>0.555556</td>\n",
       "      <td>1.000000</td>\n",
       "      <td>0.0</td>\n",
       "      <td>1.0</td>\n",
       "      <td>0.0</td>\n",
       "      <td>0.0</td>\n",
       "      <td>1.0</td>\n",
       "      <td>0.0</td>\n",
       "      <td>0.0</td>\n",
       "    </tr>\n",
       "    <tr>\n",
       "      <th>3</th>\n",
       "      <td>0.137199</td>\n",
       "      <td>0.7200</td>\n",
       "      <td>0.222222</td>\n",
       "      <td>0.888889</td>\n",
       "      <td>0.0</td>\n",
       "      <td>1.0</td>\n",
       "      <td>0.0</td>\n",
       "      <td>0.0</td>\n",
       "      <td>1.0</td>\n",
       "      <td>0.0</td>\n",
       "      <td>0.0</td>\n",
       "    </tr>\n",
       "    <tr>\n",
       "      <th>4</th>\n",
       "      <td>0.048199</td>\n",
       "      <td>0.6275</td>\n",
       "      <td>0.111111</td>\n",
       "      <td>0.111111</td>\n",
       "      <td>0.0</td>\n",
       "      <td>1.0</td>\n",
       "      <td>0.0</td>\n",
       "      <td>0.0</td>\n",
       "      <td>1.0</td>\n",
       "      <td>0.0</td>\n",
       "      <td>0.0</td>\n",
       "    </tr>\n",
       "  </tbody>\n",
       "</table>\n",
       "</div>"
      ],
      "text/plain": [
       "   ratio_income_loanamount  credit_score  loan_amount    income    0    1  \\\n",
       "0                 0.050554        0.6700     0.333333  0.333333  0.0  0.0   \n",
       "1                 0.076803        0.3000     0.333333  0.777778  0.0  1.0   \n",
       "2                 0.136807        0.2125     0.555556  1.000000  0.0  1.0   \n",
       "3                 0.137199        0.7200     0.222222  0.888889  0.0  1.0   \n",
       "4                 0.048199        0.6275     0.111111  0.111111  0.0  1.0   \n",
       "\n",
       "     2    3    4    5    6  \n",
       "0  0.0  1.0  1.0  0.0  0.0  \n",
       "1  0.0  0.0  1.0  0.0  0.0  \n",
       "2  0.0  0.0  1.0  0.0  0.0  \n",
       "3  0.0  0.0  1.0  0.0  0.0  \n",
       "4  0.0  0.0  1.0  0.0  0.0  "
      ]
     },
     "execution_count": 44,
     "metadata": {},
     "output_type": "execute_result"
    }
   ],
   "source": [
    "nova_df1_transf.head()"
   ]
  },
  {
   "cell_type": "code",
   "execution_count": 45,
   "metadata": {},
   "outputs": [
    {
     "data": {
      "text/plain": [
       "ratio_income_loanamount    0.0\n",
       "credit_score               0.0\n",
       "loan_amount                0.0\n",
       "income                     0.0\n",
       "0                          0.0\n",
       "1                          0.0\n",
       "2                          0.0\n",
       "3                          0.0\n",
       "4                          0.0\n",
       "5                          0.0\n",
       "6                          0.0\n",
       "dtype: float64"
      ]
     },
     "execution_count": 45,
     "metadata": {},
     "output_type": "execute_result"
    }
   ],
   "source": [
    "nova_df1_transf.min()"
   ]
  },
  {
   "cell_type": "code",
   "execution_count": 46,
   "metadata": {},
   "outputs": [
    {
     "data": {
      "text/plain": [
       "array([  2.05080831, 768.        ,   3.        ,   3.        ,\n",
       "         0.        ,   0.        ,   0.        ,   1.        ,\n",
       "         1.        ,   0.        ,   0.        ])"
      ]
     },
     "execution_count": 46,
     "metadata": {},
     "output_type": "execute_result"
    }
   ],
   "source": [
    "#É sempre possível reverter o scaling\n",
    "minmax_scaler.inverse_transform(nova_df1_transf)[0]"
   ]
  },
  {
   "cell_type": "code",
   "execution_count": 47,
   "metadata": {},
   "outputs": [
    {
     "data": {
      "text/html": [
       "<div>\n",
       "<style scoped>\n",
       "    .dataframe tbody tr th:only-of-type {\n",
       "        vertical-align: middle;\n",
       "    }\n",
       "\n",
       "    .dataframe tbody tr th {\n",
       "        vertical-align: top;\n",
       "    }\n",
       "\n",
       "    .dataframe thead th {\n",
       "        text-align: right;\n",
       "    }\n",
       "</style>\n",
       "<table border=\"1\" class=\"dataframe\">\n",
       "  <thead>\n",
       "    <tr style=\"text-align: right;\">\n",
       "      <th></th>\n",
       "      <th>ratio_income_loanamount</th>\n",
       "      <th>credit_score</th>\n",
       "      <th>loan_amount</th>\n",
       "      <th>income</th>\n",
       "      <th>0</th>\n",
       "      <th>1</th>\n",
       "      <th>2</th>\n",
       "      <th>3</th>\n",
       "      <th>4</th>\n",
       "      <th>5</th>\n",
       "      <th>6</th>\n",
       "    </tr>\n",
       "  </thead>\n",
       "  <tbody>\n",
       "    <tr>\n",
       "      <th>0</th>\n",
       "      <td>2.050808</td>\n",
       "      <td>768</td>\n",
       "      <td>3.0</td>\n",
       "      <td>3.0</td>\n",
       "      <td>0.0</td>\n",
       "      <td>0.0</td>\n",
       "      <td>0.0</td>\n",
       "      <td>1.0</td>\n",
       "      <td>1.0</td>\n",
       "      <td>0.0</td>\n",
       "      <td>0.0</td>\n",
       "    </tr>\n",
       "  </tbody>\n",
       "</table>\n",
       "</div>"
      ],
      "text/plain": [
       "   ratio_income_loanamount  credit_score  loan_amount  income    0    1    2  \\\n",
       "0                 2.050808           768          3.0     3.0  0.0  0.0  0.0   \n",
       "\n",
       "     3    4    5    6  \n",
       "0  1.0  1.0  0.0  0.0  "
      ]
     },
     "execution_count": 47,
     "metadata": {},
     "output_type": "execute_result"
    }
   ],
   "source": [
    "#Confirmação...\n",
    "nova_df1.head(1)"
   ]
  },
  {
   "cell_type": "code",
   "execution_count": 48,
   "metadata": {},
   "outputs": [
    {
     "name": "stderr",
     "output_type": "stream",
     "text": [
      "c:\\users\\fabio\\desktop\\nds\\dctp\\venv_dctp2\\lib\\site-packages\\sklearn\\utils\\validation.py:1692: FutureWarning: Feature names only support names that are all strings. Got feature names with dtypes: ['int', 'str']. An error will be raised in 1.2.\n",
      "  FutureWarning,\n"
     ]
    }
   ],
   "source": [
    "nova_df2_transf = pd.DataFrame(minmax_scaler.transform(nova_df2), columns = nova_df2.columns)"
   ]
  },
  {
   "cell_type": "code",
   "execution_count": 49,
   "metadata": {},
   "outputs": [
    {
     "data": {
      "text/html": [
       "<div>\n",
       "<style scoped>\n",
       "    .dataframe tbody tr th:only-of-type {\n",
       "        vertical-align: middle;\n",
       "    }\n",
       "\n",
       "    .dataframe tbody tr th {\n",
       "        vertical-align: top;\n",
       "    }\n",
       "\n",
       "    .dataframe thead th {\n",
       "        text-align: right;\n",
       "    }\n",
       "</style>\n",
       "<table border=\"1\" class=\"dataframe\">\n",
       "  <thead>\n",
       "    <tr style=\"text-align: right;\">\n",
       "      <th></th>\n",
       "      <th>ratio_income_loanamount</th>\n",
       "      <th>credit_score</th>\n",
       "      <th>loan_amount</th>\n",
       "      <th>income</th>\n",
       "      <th>0</th>\n",
       "      <th>1</th>\n",
       "      <th>2</th>\n",
       "      <th>3</th>\n",
       "      <th>4</th>\n",
       "      <th>5</th>\n",
       "      <th>6</th>\n",
       "    </tr>\n",
       "  </thead>\n",
       "  <tbody>\n",
       "    <tr>\n",
       "      <th>0</th>\n",
       "      <td>0.033030</td>\n",
       "      <td>0.8050</td>\n",
       "      <td>1.000000</td>\n",
       "      <td>1.000000</td>\n",
       "      <td>0.0</td>\n",
       "      <td>0.0</td>\n",
       "      <td>0.0</td>\n",
       "      <td>1.0</td>\n",
       "      <td>1.0</td>\n",
       "      <td>0.0</td>\n",
       "      <td>0.0</td>\n",
       "    </tr>\n",
       "    <tr>\n",
       "      <th>1</th>\n",
       "      <td>0.100884</td>\n",
       "      <td>0.0075</td>\n",
       "      <td>0.000000</td>\n",
       "      <td>0.222222</td>\n",
       "      <td>0.0</td>\n",
       "      <td>0.0</td>\n",
       "      <td>1.0</td>\n",
       "      <td>0.0</td>\n",
       "      <td>1.0</td>\n",
       "      <td>0.0</td>\n",
       "      <td>0.0</td>\n",
       "    </tr>\n",
       "    <tr>\n",
       "      <th>2</th>\n",
       "      <td>0.077954</td>\n",
       "      <td>0.3975</td>\n",
       "      <td>0.444444</td>\n",
       "      <td>0.777778</td>\n",
       "      <td>0.0</td>\n",
       "      <td>0.0</td>\n",
       "      <td>1.0</td>\n",
       "      <td>0.0</td>\n",
       "      <td>1.0</td>\n",
       "      <td>0.0</td>\n",
       "      <td>0.0</td>\n",
       "    </tr>\n",
       "    <tr>\n",
       "      <th>3</th>\n",
       "      <td>0.023534</td>\n",
       "      <td>0.2025</td>\n",
       "      <td>0.888889</td>\n",
       "      <td>0.333333</td>\n",
       "      <td>0.0</td>\n",
       "      <td>0.0</td>\n",
       "      <td>1.0</td>\n",
       "      <td>0.0</td>\n",
       "      <td>1.0</td>\n",
       "      <td>0.0</td>\n",
       "      <td>0.0</td>\n",
       "    </tr>\n",
       "    <tr>\n",
       "      <th>4</th>\n",
       "      <td>0.026430</td>\n",
       "      <td>0.0275</td>\n",
       "      <td>0.777778</td>\n",
       "      <td>0.333333</td>\n",
       "      <td>1.0</td>\n",
       "      <td>0.0</td>\n",
       "      <td>0.0</td>\n",
       "      <td>0.0</td>\n",
       "      <td>1.0</td>\n",
       "      <td>0.0</td>\n",
       "      <td>0.0</td>\n",
       "    </tr>\n",
       "  </tbody>\n",
       "</table>\n",
       "</div>"
      ],
      "text/plain": [
       "   ratio_income_loanamount  credit_score  loan_amount    income    0    1  \\\n",
       "0                 0.033030        0.8050     1.000000  1.000000  0.0  0.0   \n",
       "1                 0.100884        0.0075     0.000000  0.222222  0.0  0.0   \n",
       "2                 0.077954        0.3975     0.444444  0.777778  0.0  0.0   \n",
       "3                 0.023534        0.2025     0.888889  0.333333  0.0  0.0   \n",
       "4                 0.026430        0.0275     0.777778  0.333333  1.0  0.0   \n",
       "\n",
       "     2    3    4    5    6  \n",
       "0  0.0  1.0  1.0  0.0  0.0  \n",
       "1  1.0  0.0  1.0  0.0  0.0  \n",
       "2  1.0  0.0  1.0  0.0  0.0  \n",
       "3  1.0  0.0  1.0  0.0  0.0  \n",
       "4  0.0  0.0  1.0  0.0  0.0  "
      ]
     },
     "execution_count": 49,
     "metadata": {},
     "output_type": "execute_result"
    }
   ],
   "source": [
    "nova_df2_transf.head()"
   ]
  },
  {
   "cell_type": "code",
   "execution_count": 50,
   "metadata": {},
   "outputs": [
    {
     "data": {
      "text/plain": [
       "ratio_income_loanamount    0.78534\n",
       "credit_score               1.00000\n",
       "loan_amount                1.00000\n",
       "income                     1.00000\n",
       "0                          1.00000\n",
       "1                          1.00000\n",
       "2                          1.00000\n",
       "3                          1.00000\n",
       "4                          1.00000\n",
       "5                          1.00000\n",
       "6                          1.00000\n",
       "dtype: float64"
      ]
     },
     "execution_count": 50,
     "metadata": {},
     "output_type": "execute_result"
    }
   ],
   "source": [
    "nova_df2_transf.max()"
   ]
  },
  {
   "cell_type": "code",
   "execution_count": 51,
   "metadata": {},
   "outputs": [
    {
     "name": "stderr",
     "output_type": "stream",
     "text": [
      "c:\\users\\fabio\\desktop\\nds\\dctp\\venv_dctp2\\lib\\site-packages\\sklearn\\utils\\validation.py:1692: FutureWarning: Feature names only support names that are all strings. Got feature names with dtypes: ['int', 'str']. An error will be raised in 1.2.\n",
      "  FutureWarning,\n"
     ]
    },
    {
     "data": {
      "text/plain": [
       "StandardScaler()"
      ]
     },
     "execution_count": 51,
     "metadata": {},
     "output_type": "execute_result"
    }
   ],
   "source": [
    "stand_scaler = StandardScaler()\n",
    "stand_scaler.fit(nova_df1)"
   ]
  },
  {
   "cell_type": "code",
   "execution_count": 52,
   "metadata": {},
   "outputs": [
    {
     "name": "stderr",
     "output_type": "stream",
     "text": [
      "c:\\users\\fabio\\desktop\\nds\\dctp\\venv_dctp2\\lib\\site-packages\\sklearn\\utils\\validation.py:1692: FutureWarning: Feature names only support names that are all strings. Got feature names with dtypes: ['int', 'str']. An error will be raised in 1.2.\n",
      "  FutureWarning,\n"
     ]
    }
   ],
   "source": [
    "nova_df1_transf = pd.DataFrame(stand_scaler.transform(nova_df1), columns = nova_df1.columns)"
   ]
  },
  {
   "cell_type": "code",
   "execution_count": 53,
   "metadata": {},
   "outputs": [
    {
     "data": {
      "text/plain": [
       "ratio_income_loanamount    8.971482e-17\n",
       "credit_score              -6.035609e-17\n",
       "loan_amount               -4.192154e-17\n",
       "income                    -3.447944e-17\n",
       "0                         -4.192154e-17\n",
       "1                          7.237269e-17\n",
       "2                         -8.124858e-18\n",
       "3                         -1.379178e-16\n",
       "4                          4.028291e-17\n",
       "5                         -4.560845e-17\n",
       "6                         -4.547189e-17\n",
       "dtype: float64"
      ]
     },
     "execution_count": 53,
     "metadata": {},
     "output_type": "execute_result"
    }
   ],
   "source": [
    "nova_df1_transf.mean()"
   ]
  },
  {
   "cell_type": "code",
   "execution_count": 54,
   "metadata": {},
   "outputs": [
    {
     "data": {
      "text/plain": [
       "ratio_income_loanamount    1.000005\n",
       "credit_score               1.000005\n",
       "loan_amount                1.000005\n",
       "income                     1.000005\n",
       "0                          1.000005\n",
       "1                          1.000005\n",
       "2                          1.000005\n",
       "3                          1.000005\n",
       "4                          1.000005\n",
       "5                          1.000005\n",
       "6                          1.000005\n",
       "dtype: float64"
      ]
     },
     "execution_count": 54,
     "metadata": {},
     "output_type": "execute_result"
    }
   ],
   "source": [
    "nova_df1_transf.std()"
   ]
  },
  {
   "cell_type": "code",
   "execution_count": null,
   "metadata": {},
   "outputs": [],
   "source": []
  }
 ],
 "metadata": {
  "kernelspec": {
   "display_name": "Python 3 (ipykernel)",
   "language": "python",
   "name": "python3"
  },
  "language_info": {
   "codemirror_mode": {
    "name": "ipython",
    "version": 3
   },
   "file_extension": ".py",
   "mimetype": "text/x-python",
   "name": "python",
   "nbconvert_exporter": "python",
   "pygments_lexer": "ipython3",
   "version": "3.11.5"
  }
 },
 "nbformat": 4,
 "nbformat_minor": 4
}
