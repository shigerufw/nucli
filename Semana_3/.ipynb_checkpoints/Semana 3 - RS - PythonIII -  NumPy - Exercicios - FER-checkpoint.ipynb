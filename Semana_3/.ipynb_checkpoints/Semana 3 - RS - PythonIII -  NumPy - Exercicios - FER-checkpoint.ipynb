{
 "cells": [
  {
   "cell_type": "markdown",
   "metadata": {
    "id": "6bkRUOcOWEB3"
   },
   "source": [
    "![Nuclio logo](https://nuclio.school/wp-content/uploads/2018/12/nucleoDS-newBlack.png)"
   ]
  },
  {
   "cell_type": "markdown",
   "metadata": {
    "id": "DrBzzG9gWEB9"
   },
   "source": [
    "# Exercícios - NumPy Arrays\n",
    "\n",
    "Neste notebook, encontram 20 exercícios que vos permitirão aprender as bases acerca de NumPy Arrays."
   ]
  },
  {
   "cell_type": "markdown",
   "metadata": {
    "id": "4TpGLtMYWEB9"
   },
   "source": [
    "1 - Importe a biblioteca numpy."
   ]
  },
  {
   "cell_type": "code",
   "execution_count": 1,
   "metadata": {},
   "outputs": [],
   "source": [
    "import numpy as np"
   ]
  },
  {
   "cell_type": "markdown",
   "metadata": {
    "id": "XzaZ-Tl0WECC"
   },
   "source": [
    "2 - Crie um numpy array com valores inteiros entre 0 e 9."
   ]
  },
  {
   "cell_type": "code",
   "execution_count": 2,
   "metadata": {},
   "outputs": [
    {
     "name": "stdout",
     "output_type": "stream",
     "text": [
      "[0 1 2 3 4 5 6 7 8 9]\n"
     ]
    }
   ],
   "source": [
    "np_arr = np.arange(10)\n",
    "print(np_arr)"
   ]
  },
  {
   "cell_type": "markdown",
   "metadata": {
    "id": "8y49vlWhWECE"
   },
   "source": [
    "3 - Extraia todos os números pares do array que criou anteriormente."
   ]
  },
  {
   "cell_type": "code",
   "execution_count": 3,
   "metadata": {},
   "outputs": [
    {
     "name": "stdout",
     "output_type": "stream",
     "text": [
      "[0 2 4 6 8]\n"
     ]
    }
   ],
   "source": [
    "np_arr_even = np_arr[(np_arr % 2 == 0)]\n",
    "print(np_arr_even)"
   ]
  },
  {
   "cell_type": "markdown",
   "metadata": {
    "id": "yJtW8UeSWECH"
   },
   "source": [
    "4 - Substitua todos os números pares por zero."
   ]
  },
  {
   "cell_type": "code",
   "execution_count": 7,
   "metadata": {},
   "outputs": [
    {
     "data": {
      "text/plain": [
       "array([0, 0, 0, 0, 0])"
      ]
     },
     "execution_count": 7,
     "metadata": {},
     "output_type": "execute_result"
    }
   ],
   "source": [
    "np_arr[np_arr%2 == 0]"
   ]
  },
  {
   "cell_type": "code",
   "execution_count": 8,
   "metadata": {},
   "outputs": [
    {
     "name": "stdout",
     "output_type": "stream",
     "text": [
      "[0 1 0 3 0 5 0 7 0 9]\n"
     ]
    }
   ],
   "source": [
    "np_arr_z = np_arr.copy()\n",
    "np_arr_z[np_arr_z % 2 == 0] = 0\n",
    "print(np_arr_z)"
   ]
  },
  {
   "cell_type": "markdown",
   "metadata": {
    "id": "gEMzhsSwWECJ"
   },
   "source": [
    "5 - Modifique o array para que este passe a ser um array 2D com 5 rows."
   ]
  },
  {
   "cell_type": "code",
   "execution_count": 10,
   "metadata": {},
   "outputs": [
    {
     "data": {
      "text/plain": [
       "array([[0, 1],\n",
       "       [0, 3],\n",
       "       [0, 5],\n",
       "       [0, 7],\n",
       "       [0, 9]])"
      ]
     },
     "execution_count": 10,
     "metadata": {},
     "output_type": "execute_result"
    }
   ],
   "source": [
    "np_arr_z.reshape([5, 2]) "
   ]
  },
  {
   "cell_type": "markdown",
   "metadata": {
    "id": "gzD4a6NqWECK"
   },
   "source": [
    "6 - Dados dois arrays:\n",
    "\n",
    "a = np.array([1, 2, 3, 4, 4, 1, 2, 5, 5, 6])\n",
    "\n",
    "b = np.array([7, 2, 8, 4, 4, 0, 9, 4, 9, 0])\n",
    "\n",
    "Verifique os elementos comuns entre ambos arrays (valor e posição iguais) e crie um array com o resultado (sem elementos duplicados)."
   ]
  },
  {
   "cell_type": "code",
   "execution_count": 12,
   "metadata": {},
   "outputs": [],
   "source": [
    "a = np.array([1, 2, 3, 4, 4, 1, 2, 5, 5, 6])\n",
    "\n",
    "b = np.array([7, 2, 8, 4, 4, 0, 9, 4, 9, 0])"
   ]
  },
  {
   "cell_type": "code",
   "execution_count": 13,
   "metadata": {},
   "outputs": [
    {
     "data": {
      "text/plain": [
       "array([2, 4, 4])"
      ]
     },
     "execution_count": 13,
     "metadata": {},
     "output_type": "execute_result"
    }
   ],
   "source": [
    "a[a == b]"
   ]
  },
  {
   "cell_type": "code",
   "execution_count": 16,
   "metadata": {},
   "outputs": [
    {
     "data": {
      "text/plain": [
       "array([2, 4])"
      ]
     },
     "execution_count": 16,
     "metadata": {},
     "output_type": "execute_result"
    }
   ],
   "source": [
    "np.unique(a[a == b])"
   ]
  },
  {
   "cell_type": "markdown",
   "metadata": {
    "id": "7nPcFKE-WECO"
   },
   "source": [
    "7 - Elimine do array a todos os elementos que também estão presentes em b."
   ]
  },
  {
   "cell_type": "code",
   "execution_count": 14,
   "metadata": {},
   "outputs": [
    {
     "name": "stdout",
     "output_type": "stream",
     "text": [
      "[1 3 1 2 5 5 6]\n",
      "[1 2 3 5 6]\n"
     ]
    }
   ],
   "source": [
    "print(a[a != b])\n",
    "print(np.unique(a[a != b]))\n"
   ]
  },
  {
   "cell_type": "markdown",
   "metadata": {
    "id": "ELbNpPh3WECS"
   },
   "source": [
    "8 - Returne um array com as posições dos elementos do array a que são comuns ao array b."
   ]
  },
  {
   "cell_type": "markdown",
   "metadata": {
    "id": "cebmG6pmWECb"
   },
   "source": [
    "9 - Crie um array 4x4 com elementos entre 0 e 15."
   ]
  },
  {
   "cell_type": "markdown",
   "metadata": {
    "id": "k5P7M00-WECg"
   },
   "source": [
    "10 - Troque a ordem das colunas 2 e 3 do array anterior."
   ]
  },
  {
   "cell_type": "markdown",
   "metadata": {
    "id": "22QyvmEmWECp"
   },
   "source": [
    "11 - Troque as rows 1 e 2 do array anterior."
   ]
  },
  {
   "cell_type": "markdown",
   "metadata": {
    "id": "tHdNRQf9WEC5"
   },
   "source": [
    "12 - Some os valores para cada coluna."
   ]
  },
  {
   "cell_type": "markdown",
   "metadata": {
    "id": "4LDRaM81WECx"
   },
   "source": [
    "13 - Calcule a média, valor máximo e mínimo e o desvio padrão de cada row."
   ]
  },
  {
   "cell_type": "markdown",
   "metadata": {
    "id": "0lsKtLuHWEC7"
   },
   "source": [
    "14 - Existem elementos repetidos no array?"
   ]
  },
  {
   "cell_type": "markdown",
   "metadata": {
    "id": "AQ71fIfTWEC-"
   },
   "source": [
    "15 - Crie um array 3x2 contendo apenas 1s."
   ]
  },
  {
   "cell_type": "markdown",
   "metadata": {
    "id": "mT7Hx8IPWEDA"
   },
   "source": [
    "16 - Crie um array 3x5 apenas com números random entre 0 e 20."
   ]
  },
  {
   "cell_type": "markdown",
   "metadata": {
    "id": "89D4j_vEchcn"
   },
   "source": [
    "17 - Substraia 2 unidades a cada elemento do array anterior."
   ]
  },
  {
   "cell_type": "markdown",
   "metadata": {
    "id": "07y81JFkWEDg"
   },
   "source": [
    "18 - Crie o array transposto do array anterior."
   ]
  },
  {
   "cell_type": "markdown",
   "metadata": {
    "id": "qdL1Myilc2A7"
   },
   "source": [
    "19 - Divida o array anterior em 3 arrays."
   ]
  },
  {
   "cell_type": "markdown",
   "metadata": {
    "id": "cqTHjzgFWEDz"
   },
   "source": [
    "20 - Calcule o valor ao cubo (valor^3) do array transposto."
   ]
  },
  {
   "cell_type": "markdown",
   "metadata": {
    "id": "bv_KNy5BWED4"
   },
   "source": [
    "21 - Verifique se multiplicar o array seguinte por um outro contendo apenas 1s dá ou não os mesmos valores.\n",
    "\n",
    "arr = [[1,2,3],[6,1,5],[1,2,9]]"
   ]
  },
  {
   "cell_type": "markdown",
   "metadata": {
    "id": "wnMiFRaeWED7"
   },
   "source": [
    "22 - Crie um array de tamanho 8, contendo números random entre 1 e 60, distribuídos seguindo uma distribuição uniforme."
   ]
  }
 ],
 "metadata": {
  "colab": {
   "provenance": []
  },
  "interpreter": {
   "hash": "a890e96c5bc2e34e713687d667dc1e925660c2a0af9c3a409dd6c550ddd944d3"
  },
  "kernelspec": {
   "display_name": "Python 3 (ipykernel)",
   "language": "python",
   "name": "python3"
  },
  "language_info": {
   "codemirror_mode": {
    "name": "ipython",
    "version": 3
   },
   "file_extension": ".py",
   "mimetype": "text/x-python",
   "name": "python",
   "nbconvert_exporter": "python",
   "pygments_lexer": "ipython3",
   "version": "3.10.10"
  },
  "latex_envs": {
   "LaTeX_envs_menu_present": true,
   "autoclose": false,
   "autocomplete": true,
   "bibliofile": "biblio.bib",
   "cite_by": "apalike",
   "current_citInitial": 1,
   "eqLabelWithNumbers": true,
   "eqNumInitial": 1,
   "hotkeys": {
    "equation": "Ctrl-E",
    "itemize": "Ctrl-I"
   },
   "labels_anchors": false,
   "latex_user_defs": false,
   "report_style_numbering": false,
   "user_envs_cfg": false
  },
  "toc": {
   "base_numbering": 1,
   "nav_menu": {},
   "number_sections": true,
   "sideBar": true,
   "skip_h1_title": false,
   "title_cell": "Table of Contents",
   "title_sidebar": "Contents",
   "toc_cell": false,
   "toc_position": {
    "height": "calc(100% - 180px)",
    "left": "10px",
    "top": "150px",
    "width": "418.3831481933594px"
   },
   "toc_section_display": true,
   "toc_window_display": false
  },
  "varInspector": {
   "cols": {
    "lenName": 16,
    "lenType": 16,
    "lenVar": 40
   },
   "kernels_config": {
    "python": {
     "delete_cmd_postfix": "",
     "delete_cmd_prefix": "del ",
     "library": "var_list.py",
     "varRefreshCmd": "print(var_dic_list())"
    },
    "r": {
     "delete_cmd_postfix": ") ",
     "delete_cmd_prefix": "rm(",
     "library": "var_list.r",
     "varRefreshCmd": "cat(var_dic_list()) "
    }
   },
   "types_to_exclude": [
    "module",
    "function",
    "builtin_function_or_method",
    "instance",
    "_Feature"
   ],
   "window_display": false
  }
 },
 "nbformat": 4,
 "nbformat_minor": 4
}
