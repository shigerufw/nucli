{
  "cells": [
    {
      "cell_type": "markdown",
      "source": [
        "![Nuclio logo](https://nuclio.school/wp-content/uploads/2018/12/nucleoDS-newBlack.png)"
      ],
      "metadata": {
        "id": "8-wY_RK-hBvT"
      }
    },
    {
      "cell_type": "markdown",
      "source": [
        "# Exercícios - Pandas Series\n",
        "\n",
        "Neste notebook, encontram 20 exercícios que vos permitirão aprender as bases acerca de Pandas Series."
      ],
      "metadata": {
        "id": "ugeYoNHjhBva"
      }
    },
    {
      "cell_type": "markdown",
      "source": [
        "1 - Importe as bibliotecas numpy e pandas.\n",
        "\n"
      ],
      "metadata": {
        "id": "CvqxRz3IhBvb"
      }
    },
    {
      "cell_type": "markdown",
      "source": [
        "2 - Crie uma Pandas Series através de uma lista contendo números de 0 a 10 guardados como strings."
      ],
      "metadata": {
        "id": "Cei2FQGohBve"
      }
    },
    {
      "cell_type": "markdown",
      "source": [
        "3 - Crie uma serie a partir de um array com números entre 0 e 5."
      ],
      "metadata": {
        "id": "fcj6YDythBvg"
      }
    },
    {
      "cell_type": "markdown",
      "source": [
        "\n",
        "4 - Crie uma serie a partir do seguinte dicionário:\n",
        "\n",
        "dict_1 = {'a':0, 'b':1, 'c':2, 'd':3, 'e':4}"
      ],
      "metadata": {
        "id": "x24a97ZzhBvi"
      }
    },
    {
      "cell_type": "markdown",
      "source": [
        "5 - Dê um nome à serie anterior."
      ],
      "metadata": {
        "id": "-8kqv6Y9hBvm"
      }
    },
    {
      "cell_type": "markdown",
      "source": [
        "6 - Modifique os índices da serie anterior para:\n",
        "\n",
        "['label1', 'label2', 'label3', 'label4', 'label5']"
      ],
      "metadata": {
        "id": "oJ90bHlyhBvj"
      }
    },
    {
      "cell_type": "markdown",
      "source": [
        "7 - Dadas as seguintes listas:\n",
        "\n",
        "a = np.array([1, 2, 3, 4, 5, 6])\n",
        "\n",
        "b = np.array([4, 5, 6, 7, 8, 9])\n",
        "\n",
        "Converta as listas em series e, em seguida, crie uma nova serie que contenha os elementos que são comuns a ambas as séries 'a' e 'b', ou seja, os elementos que estão presentes em ambas as listas."
      ],
      "metadata": {
        "id": "PHhum-FAhBvo"
      }
    },
    {
      "cell_type": "markdown",
      "source": [
        "8 - Encontre os elementos que não são comuns entre 'a' e 'b'."
      ],
      "metadata": {
        "id": "igtlh28fhBvq"
      }
    },
    {
      "cell_type": "markdown",
      "source": [
        "9 - Calcule o mínimo, máximo e percentis 25 e 75 da series 'b'."
      ],
      "metadata": {
        "id": "nq92hsKZhBvr"
      }
    },
    {
      "cell_type": "markdown",
      "source": [
        "10 - Calcule a frequência de cada elemento único da seguinte series:\n",
        "\n",
        "ser = pd.Series(np.take(list('abcdefgh'), np.random.randint(8, size = 30)))"
      ],
      "metadata": {
        "ExecuteTime": {
          "end_time": "2020-03-02T07:30:12.381136Z",
          "start_time": "2020-03-02T07:30:12.374105Z"
        },
        "id": "9NoIuQeMhBvt"
      }
    },
    {
      "cell_type": "markdown",
      "source": [
        "11 - A partir da series anterior, mantenha os 3 elementos mais frequentes e altere os restantes para \"...\"."
      ],
      "metadata": {
        "id": "DSKrpXjghBvv"
      }
    },
    {
      "cell_type": "markdown",
      "source": [
        "12 - Encontre as posições dos números da series que se segue que são múltiplos de 2.\n",
        "\n",
        "ser = pd.Series(np.random.randint (1, 10, 10))"
      ],
      "metadata": {
        "id": "bbW0INWmhBvz"
      }
    },
    {
      "cell_type": "markdown",
      "source": [
        "13 - Extraia os elementos da seguinte series que se encontram nas posições especificadas.\n",
        "\n",
        "ser = pd.Series(list('abcdefghijklmnopqrstuvwxyz'))\n",
        "\n",
        "pos = [0, 5, 9, 16, 21]"
      ],
      "metadata": {
        "id": "YHV7IDd_hBv2"
      }
    },
    {
      "cell_type": "markdown",
      "source": [
        "14 - Empilhe (stack) as series series_1 e series_2 tanto horizontalmente como verticalmente.\n",
        "\n",
        "series_1 = pd.Series(np.arange(0, 5, 1))\n",
        "\n",
        "series_2 = pd.Series(list('abcde'))"
      ],
      "metadata": {
        "id": "vBvivux4hBv5"
      }
    },
    {
      "cell_type": "markdown",
      "source": [
        "15 - Filtre os elementos de series_1 que também se entram na series_2.\n",
        "\n",
        "series_1 = pd.Series ([9, 11, 6, 10, 3, 1, 15, 8, 13])\n",
        "\n",
        "series_2 = pd.Series ([1, 3, 11, 14])"
      ],
      "metadata": {
        "ExecuteTime": {
          "end_time": "2020-03-02T07:51:22.858003Z",
          "start_time": "2020-03-02T07:51:22.848319Z"
        },
        "id": "8XCFAfhJhBv-"
      }
    },
    {
      "cell_type": "markdown",
      "source": [
        "16 - Capitalize a primeira letra de cada elemento da seguinte series:\n",
        "\n",
        "my_phrase = pd.Series(['como', 'domina', 'a', 'programação', 'em', 'Python?'])\n"
      ],
      "metadata": {
        "id": "HC3qzXTMhBwD"
      }
    },
    {
      "cell_type": "markdown",
      "source": [
        "17 - Calcule o número de caracteres de cada elemento da serie anterior."
      ],
      "metadata": {
        "id": "ZeHZ8vyDhBwE"
      }
    },
    {
      "cell_type": "markdown",
      "source": [
        "18 - Calcule o número de valores únicos da seguinte series:\n",
        "\n",
        "numbers = pd.Series([2, 8, 3, 5, 8, 10, 2, 2, 3])"
      ],
      "metadata": {
        "ExecuteTime": {
          "end_time": "2020-03-02T07:59:28.860357Z",
          "start_time": "2020-03-02T07:59:28.853633Z"
        },
        "id": "80o7ytoOhBwH"
      }
    },
    {
      "cell_type": "markdown",
      "source": [
        "19 - Tendo em conta a series anterior, calcule a diferença entre elementos consecutivos."
      ],
      "metadata": {
        "id": "UGgAQVxIhBwI"
      }
    },
    {
      "cell_type": "markdown",
      "source": [
        "20 - Tendo em conta o texto que se segue, liste os caracteres que menos ocorrem no texto.\n",
        "\n",
        "text = \"Explorar a vastidão do universo é uma tarefa desafiadora, mas fascinante. Na imensidão do espaço, descobrimos mistérios que nos intrigam e nos fazem questionar nosso lugar no cosmos.\""
      ],
      "metadata": {
        "id": "4lTG8JVUhBwJ"
      }
    }
  ],
  "metadata": {
    "kernelspec": {
      "name": "python3",
      "display_name": "Python 3.8.8 64-bit ('base': conda)"
    },
    "language_info": {
      "codemirror_mode": {
        "name": "ipython",
        "version": 3
      },
      "file_extension": ".py",
      "mimetype": "text/x-python",
      "name": "python",
      "nbconvert_exporter": "python",
      "pygments_lexer": "ipython3",
      "version": "3.8.8"
    },
    "latex_envs": {
      "LaTeX_envs_menu_present": true,
      "autoclose": false,
      "autocomplete": true,
      "bibliofile": "biblio.bib",
      "cite_by": "apalike",
      "current_citInitial": 1,
      "eqLabelWithNumbers": true,
      "eqNumInitial": 1,
      "hotkeys": {
        "equation": "Ctrl-E",
        "itemize": "Ctrl-I"
      },
      "labels_anchors": false,
      "latex_user_defs": false,
      "report_style_numbering": false,
      "user_envs_cfg": false
    },
    "toc": {
      "base_numbering": 1,
      "nav_menu": {},
      "number_sections": true,
      "sideBar": true,
      "skip_h1_title": false,
      "title_cell": "Table of Contents",
      "title_sidebar": "Contents",
      "toc_cell": false,
      "toc_position": {
        "height": "calc(100% - 180px)",
        "left": "10px",
        "top": "150px",
        "width": "418.3831481933594px"
      },
      "toc_section_display": true,
      "toc_window_display": false
    },
    "varInspector": {
      "cols": {
        "lenName": 16,
        "lenType": 16,
        "lenVar": 40
      },
      "kernels_config": {
        "python": {
          "delete_cmd_postfix": "",
          "delete_cmd_prefix": "del ",
          "library": "var_list.py",
          "varRefreshCmd": "print(var_dic_list())"
        },
        "r": {
          "delete_cmd_postfix": ") ",
          "delete_cmd_prefix": "rm(",
          "library": "var_list.r",
          "varRefreshCmd": "cat(var_dic_list()) "
        }
      },
      "types_to_exclude": [
        "module",
        "function",
        "builtin_function_or_method",
        "instance",
        "_Feature"
      ],
      "window_display": false
    },
    "interpreter": {
      "hash": "a890e96c5bc2e34e713687d667dc1e925660c2a0af9c3a409dd6c550ddd944d3"
    },
    "colab": {
      "provenance": []
    }
  },
  "nbformat": 4,
  "nbformat_minor": 0
}