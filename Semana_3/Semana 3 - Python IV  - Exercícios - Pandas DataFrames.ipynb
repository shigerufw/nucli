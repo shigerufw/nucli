{
  "cells": [
    {
      "cell_type": "markdown",
      "metadata": {
        "id": "_wTQ3Q9XC1xG"
      },
      "source": [
        "![Nuclio logo](https://nuclio.school/wp-content/uploads/2018/12/nucleoDS-newBlack.png)"
      ]
    },
    {
      "cell_type": "markdown",
      "metadata": {
        "id": "g4cGJCqPC1xJ"
      },
      "source": [
        "# Exercícios - Pandas DataFrames"
      ]
    },
    {
      "cell_type": "markdown",
      "metadata": {
        "id": "1m8Eqhlx7ymO"
      },
      "source": [
        "Este notebook contm 27 exercícios focados em Pandas DataFrames."
      ]
    },
    {
      "cell_type": "code",
      "execution_count": null,
      "metadata": {
        "id": "b7XUvcr3WG2t"
      },
      "outputs": [],
      "source": [
        "import pandas as pd\n",
        "import numpy as np"
      ]
    },
    {
      "cell_type": "markdown",
      "metadata": {
        "id": "jmqIZWCPC1xK"
      },
      "source": [
        "1 - Converta a seguinte série num dataframe com 6 colunas e 8 linhas.\n",
        "\n",
        "series_a = pd.Series(np.random.randint (1, 10, 48))"
      ]
    },
    {
      "cell_type": "markdown",
      "metadata": {
        "id": "RiXzARvzC1xK"
      },
      "source": [
        "2 - Combine as seguintes séries e forme um dataframe.\n",
        "\n",
        "ser1 = pd.Series(np.arange(20))\n",
        "\n",
        "ser2 = pd.Series(list('abcedfghijklmnop'))\n"
      ]
    },
    {
      "cell_type": "markdown",
      "metadata": {
        "id": "2sr11NekC1xL"
      },
      "source": [
        "3 - Crie um dataframe a partir do seguinte dicionário\n",
        "\n",
        "student_info = {\n",
        "    'name': ['Alice', 'Bob', 'Charlie', 'David', 'Eve'],\n",
        "    'age': [21, 22, 20, 23, 22],\n",
        "    'grade': [85, 92, 78, 95, 88],\n",
        "    'city': ['New York', 'Los Angeles', 'Chicago', 'Houston', 'Miami']\n",
        "}"
      ]
    },
    {
      "cell_type": "markdown",
      "metadata": {
        "id": "uDXej3eVtsWo"
      },
      "source": [
        "4 - Especifique as seguintes etiquetas no dataframe anterior:\n",
        "\n",
        "tags = ['a', 'b', 'c', 'd', 'e', 'f', 'g', 'h', 'i', 'j']"
      ]
    },
    {
      "cell_type": "markdown",
      "metadata": {
        "id": "s6SEFKUCC1xL"
      },
      "source": [
        "5 - Obtenha um resumo descritivo do dataframe anterior."
      ]
    },
    {
      "cell_type": "markdown",
      "metadata": {
        "id": "FfS8avV0C1xM"
      },
      "source": [
        "6 - Obtenha um resumo estatístico do dataframe anterior.\n",
        "\n"
      ]
    },
    {
      "cell_type": "markdown",
      "metadata": {
        "id": "u01_bRwnC1xN"
      },
      "source": [
        "7 - Quantas filas e colunas tem o dataframe?"
      ]
    },
    {
      "cell_type": "markdown",
      "metadata": {
        "id": "m9VYz3cMC1xP"
      },
      "source": [
        "8 - Imprima o nome de todas as colunas do dataframe."
      ]
    },
    {
      "cell_type": "markdown",
      "metadata": {
        "id": "ldUa_m7sC1xL"
      },
      "source": [
        "9 - Extraia as 2 primeiras linhas do dataframe."
      ]
    },
    {
      "cell_type": "markdown",
      "metadata": {
        "id": "Ax-9tcGTC1xM"
      },
      "source": [
        "10 - Escreva um programa que imprima as colunas 'a' e 'b' do dataframe."
      ]
    },
    {
      "cell_type": "markdown",
      "metadata": {
        "id": "c-TNQ84UC1xN"
      },
      "source": [
        "11 - Substitua todos os valores da coluna 'a' por 'H' quando a coluna 'b' tem valor igual ou maior que 22."
      ]
    },
    {
      "cell_type": "markdown",
      "metadata": {
        "ExecuteTime": {
          "end_time": "2020-03-02T07:30:12.381136Z",
          "start_time": "2020-03-02T07:30:12.374105Z"
        },
        "id": "aguwZS7pC1xN"
      },
      "source": [
        "12 - Selecione os casos em que a coluna 'c' tem valor acima de 90 e ordene esses casos consoante o conteúdo da coluna 'd'."
      ]
    },
    {
      "cell_type": "markdown",
      "metadata": {
        "id": "sz_g0ZXIC1xN"
      },
      "source": [
        "13 - Selecione os casos em que a coluna 'a' é diferente de 'H' ou a coluna 'c' é maior que 88."
      ]
    },
    {
      "cell_type": "markdown",
      "metadata": {
        "id": "swFZP7i4C1xN"
      },
      "source": [
        "14 - Crie um novo dataframe com o dicionário seguinte. Depois, verifique os casos em que a coluna 'B' não tem valores atribuídos.\n",
        "\n",
        "data = {'A': [1, 2, 3, 4],\n",
        "        'B': [5, np.nan, np.nan, 8],\n",
        "        'C': [9, 10, 11, 12]}"
      ]
    },
    {
      "cell_type": "markdown",
      "metadata": {
        "id": "HJqatDFxC1xO"
      },
      "source": [
        "15 - Calcule a soma do total da coluna 'A'."
      ]
    },
    {
      "cell_type": "markdown",
      "metadata": {
        "ExecuteTime": {
          "end_time": "2020-03-02T14:08:56.429102Z",
          "start_time": "2020-03-02T14:08:56.422858Z"
        },
        "id": "lJTdxyDtC1xO"
      },
      "source": [
        "16 - Calcule a média dos valores da coluna 'C'."
      ]
    },
    {
      "cell_type": "markdown",
      "metadata": {
        "id": "or7_oeW8z1Sz"
      },
      "source": [
        "17 - Adicione a seguinte linha ao dataframe anterior.\n",
        "\n",
        "new_row = {'A': 5, 'B': 6, 'C': 7}"
      ]
    },
    {
      "cell_type": "markdown",
      "metadata": {
        "ExecuteTime": {
          "end_time": "2020-03-02T14:12:23.764496Z",
          "start_time": "2020-03-02T14:12:23.758161Z"
        },
        "id": "y4Kx_KcqC1xO"
      },
      "source": [
        "18 - Elimine a coluna 'B'."
      ]
    },
    {
      "cell_type": "markdown",
      "metadata": {
        "id": "6--CRC5MC1xO"
      },
      "source": [
        "19 - Ordene o dataframe em ordem decrescente relativamente à coluna 'A' e em ordem ascendente relativamente à coluna 'D'."
      ]
    },
    {
      "cell_type": "markdown",
      "metadata": {
        "ExecuteTime": {
          "end_time": "2020-03-02T14:15:05.707698Z",
          "start_time": "2020-03-02T14:15:05.700176Z"
        },
        "id": "YZheLwb0C1xO"
      },
      "source": [
        "20 - Adicione uma coluna 'D' com os seguintes valores: [10, 20, 30, 40]"
      ]
    },
    {
      "cell_type": "markdown",
      "metadata": {
        "id": "bzdj-l16C1xP"
      },
      "source": [
        "21 - Itere sobre cada coluna do dataframe para obter o resultado da seguinte operação para cada linha: **A * C / D**."
      ]
    },
    {
      "cell_type": "markdown",
      "metadata": {
        "id": "eyt9V0ThC1xP"
      },
      "source": [
        "22 - Renomeie a coluna \"A\" para \"B\"."
      ]
    },
    {
      "cell_type": "markdown",
      "metadata": {
        "id": "a_4GlBLUC1xP"
      },
      "source": [
        "23 - Para cada coluna, conte o número de nulls."
      ]
    },
    {
      "cell_type": "markdown",
      "metadata": {
        "id": "s1sih9e_C1xP"
      },
      "source": [
        "24 - Adicione uma nova coluna 'E' apenas com NaNs. Depois,substituia todos esses valores nulos por 0."
      ]
    },
    {
      "cell_type": "markdown",
      "metadata": {
        "id": "Qk3Kiup5C1xP"
      },
      "source": [
        "25 - Esconda os índices de dataframe."
      ]
    },
    {
      "cell_type": "markdown",
      "metadata": {
        "ExecuteTime": {
          "end_time": "2020-03-02T14:39:43.717882Z",
          "start_time": "2020-03-02T14:39:43.712329Z"
        },
        "id": "sJBNeOwtC1xQ"
      },
      "source": [
        "26 - Dado o seguinte dataframe, selecione a linha com índice 2.\n",
        "\n",
        "col1 col2 col3\n",
        "\n",
        "0 1 4 7\n",
        "\n",
        "1 4 5 8\n",
        "\n",
        "2 3 6 9\n",
        "\n",
        "3 4 7 0\n",
        "\n",
        "4 5 8 1"
      ]
    },
    {
      "cell_type": "markdown",
      "metadata": {
        "id": "qT7baZc8C1xQ"
      },
      "source": [
        "27 - Crie o seguinte dataframe e selecione a linha que contém o valor máximo na coluna 2.\n",
        "\n",
        "d = {'col1': [1, 2, 3, 4, 7], 'col2': [4, 5, 6, 9, 5], 'col3': [7, 8, 12, 1, 11]}"
      ]
    }
  ],
  "metadata": {
    "colab": {
      "provenance": [],
      "toc_visible": true
    },
    "interpreter": {
      "hash": "a890e96c5bc2e34e713687d667dc1e925660c2a0af9c3a409dd6c550ddd944d3"
    },
    "kernelspec": {
      "display_name": "Python 3.8.8 64-bit ('base': conda)",
      "name": "python3"
    },
    "language_info": {
      "codemirror_mode": {
        "name": "ipython",
        "version": 3
      },
      "file_extension": ".py",
      "mimetype": "text/x-python",
      "name": "python",
      "nbconvert_exporter": "python",
      "pygments_lexer": "ipython3",
      "version": "3.8.8"
    },
    "latex_envs": {
      "LaTeX_envs_menu_present": true,
      "autoclose": false,
      "autocomplete": true,
      "bibliofile": "biblio.bib",
      "cite_by": "apalike",
      "current_citInitial": 1,
      "eqLabelWithNumbers": true,
      "eqNumInitial": 1,
      "hotkeys": {
        "equation": "Ctrl-E",
        "itemize": "Ctrl-I"
      },
      "labels_anchors": false,
      "latex_user_defs": false,
      "report_style_numbering": false,
      "user_envs_cfg": false
    },
    "toc": {
      "base_numbering": 1,
      "nav_menu": {},
      "number_sections": true,
      "sideBar": true,
      "skip_h1_title": false,
      "title_cell": "Table of Contents",
      "title_sidebar": "Contents",
      "toc_cell": false,
      "toc_position": {
        "height": "calc(100% - 180px)",
        "left": "10px",
        "top": "150px",
        "width": "418.3831481933594px"
      },
      "toc_section_display": true,
      "toc_window_display": false
    },
    "varInspector": {
      "cols": {
        "lenName": 16,
        "lenType": 16,
        "lenVar": 40
      },
      "kernels_config": {
        "python": {
          "delete_cmd_postfix": "",
          "delete_cmd_prefix": "del ",
          "library": "var_list.py",
          "varRefreshCmd": "print(var_dic_list())"
        },
        "r": {
          "delete_cmd_postfix": ") ",
          "delete_cmd_prefix": "rm(",
          "library": "var_list.r",
          "varRefreshCmd": "cat(var_dic_list()) "
        }
      },
      "types_to_exclude": [
        "module",
        "function",
        "builtin_function_or_method",
        "instance",
        "_Feature"
      ],
      "window_display": false
    }
  },
  "nbformat": 4,
  "nbformat_minor": 0
}
