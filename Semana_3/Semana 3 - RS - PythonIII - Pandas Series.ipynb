{
 "cells": [
  {
   "cell_type": "markdown",
   "metadata": {
    "id": "SVLiVr5zJ0Xh"
   },
   "source": [
    "![Nuclio logo](https://nuclio.school/wp-content/uploads/2018/12/nucleoDS-newBlack.png)"
   ]
  },
  {
   "cell_type": "markdown",
   "metadata": {
    "id": "bE7lZikMJ0Xi"
   },
   "source": [
    "# Pandas"
   ]
  },
  {
   "cell_type": "markdown",
   "metadata": {
    "id": "IUqotENjJ0Xj"
   },
   "source": [
    "Pandas é uma biblioteca de Python usada para análise de dados.\n",
    "\n",
    "Embora Python seja uma linguagem útil para a preparação de dados, nunca foi considerado excepcional para análise, com a preferência muitas vezes dada a outras ferramentas como R, SQL ou até mesmo o Excel.\n",
    "\n",
    "No entanto, com o aparecimento do Pandas, essa dinâmica mudou significativamente!"
   ]
  },
  {
   "cell_type": "markdown",
   "metadata": {
    "id": "tFMFIKgYJ0Xj"
   },
   "source": [
    "Pandas oferece:\n",
    "\n",
    "- Um desempenho excepcional\n",
    "- Uma estrutura de dados de fácil utilização, semelhante a tabelas (comparável às Séries e DataFrames em R)\n",
    "- Excelentes ferramentas para análise de dados, incluindo recursos para reformatar, concatenar, adicionar, ordenar, segmentar, entre outros\n",
    "- Capacidades avançadas de tratamento de dados ausentes (ou nulos)"
   ]
  },
  {
   "cell_type": "code",
   "execution_count": 1,
   "metadata": {
    "ExecuteTime": {
     "end_time": "2020-02-12T07:43:19.684217Z",
     "start_time": "2020-02-12T07:43:18.338568Z"
    },
    "executionInfo": {
     "elapsed": 1926,
     "status": "ok",
     "timestamp": 1694683409150,
     "user": {
      "displayName": "Sara Fernandes",
      "userId": "11122184483201700096"
     },
     "user_tz": -60
    },
    "id": "I41VF4TgJ0Xk"
   },
   "outputs": [],
   "source": [
    "import pandas as pd"
   ]
  },
  {
   "cell_type": "markdown",
   "metadata": {
    "id": "laPPtATFJ0Xl"
   },
   "source": [
    "\n",
    "## Estruturas de dados dos Pandas"
   ]
  },
  {
   "cell_type": "markdown",
   "metadata": {
    "id": "rTyhAfvTJ0Xm"
   },
   "source": [
    "Pandas apresenta duas novas estruturas de dados no Python:\n",
    "\n",
    "- **Series:** estruturas unidimensionais\n",
    "- **DataFrames:** estruturas multidimensionais\n"
   ]
  },
  {
   "cell_type": "markdown",
   "metadata": {
    "id": "cCafnjnkJ0Xm"
   },
   "source": [
    "Resumidamente, uma **Serie** é uma coluna,\n",
    "e uma **DataFrame** é uma tabela multi-dimensional gerada a partir de um conjunto de **Series**."
   ]
  },
  {
   "cell_type": "markdown",
   "metadata": {
    "id": "VnllpQaFJ0Xm"
   },
   "source": [
    "![title](https://storage.googleapis.com/lds-media/images/series-and-dataframe.width-1200.png)"
   ]
  },
  {
   "cell_type": "markdown",
   "metadata": {
    "id": "HGtn3yz9J0Xn"
   },
   "source": [
    "# Pandas Series"
   ]
  },
  {
   "cell_type": "markdown",
   "metadata": {
    "id": "g7GxLSCoJ0Xn"
   },
   "source": [
    "Uma serie é um array unidimensional que pode conter diversos tipos de dados, podendo ser comparada a uma coluna de uma planilha do Excel.\n",
    "\n",
    "Os rótulos dos itens em uma serie são chamados de índices, e cada item na serie é associado a um índice rotulado.\n",
    "\n",
    "Normalmente, cada elemento é rotulado com um índice numérico que vai de 0 a N."
   ]
  },
  {
   "cell_type": "markdown",
   "metadata": {
    "id": "71A0zkceJ0Xo"
   },
   "source": [
    "## Criação de uma serie: **pd.Series()**"
   ]
  },
  {
   "cell_type": "markdown",
   "metadata": {
    "id": "Kr8mxMvxJ0Xp"
   },
   "source": [
    "Consegue-se criar uma serie através do método: **pd.series()**"
   ]
  },
  {
   "cell_type": "code",
   "execution_count": null,
   "metadata": {
    "ExecuteTime": {
     "end_time": "2021-02-04T20:27:06.996671Z",
     "start_time": "2021-02-04T20:27:06.422329Z"
    },
    "id": "pX-1TIZjJ0Xp"
   },
   "outputs": [],
   "source": [
    "import pandas as pd"
   ]
  },
  {
   "cell_type": "code",
   "execution_count": 2,
   "metadata": {
    "ExecuteTime": {
     "end_time": "2021-02-04T20:27:07.108772Z",
     "start_time": "2021-02-04T20:27:07.031663Z"
    },
    "executionInfo": {
     "elapsed": 335,
     "status": "ok",
     "timestamp": 1694683520645,
     "user": {
      "displayName": "Sara Fernandes",
      "userId": "11122184483201700096"
     },
     "user_tz": -60
    },
    "id": "S9rdAdzsJ0Xp"
   },
   "outputs": [],
   "source": [
    "pd.Series?"
   ]
  },
  {
   "cell_type": "markdown",
   "metadata": {
    "id": "rT2O1pseJ0Xq"
   },
   "source": [
    "**pd.Series(data, index=index)**"
   ]
  },
  {
   "cell_type": "markdown",
   "metadata": {
    "id": "s1gmxCg6J0Xq"
   },
   "source": [
    "- O primeiro argumento, **data**, pode conter diferentes tipos de dados (dicionário, ndarray, valor escalar, etc).\n",
    "\n",
    "- O segundo item, **index**, é uma lista de keys para cada item da lista."
   ]
  },
  {
   "cell_type": "markdown",
   "metadata": {
    "id": "QcioM68EJ0Xq"
   },
   "source": [
    "Há muitas formas de criar uma serie. As mais comuns são:\n",
    "\n",
    "- A partir de uma lista ([ ])\n",
    "- De um array NumPy (ndarray)\n",
    "- De uma constante\n",
    "- De um Dicionário Python (dict)"
   ]
  },
  {
   "cell_type": "markdown",
   "metadata": {
    "id": "A7GCjopZJ0Xq"
   },
   "source": [
    "### Criação de uma serie a partir de uma lista"
   ]
  },
  {
   "cell_type": "code",
   "execution_count": 3,
   "metadata": {
    "ExecuteTime": {
     "end_time": "2021-02-04T20:30:22.905685Z",
     "start_time": "2021-02-04T20:30:22.898683Z"
    },
    "executionInfo": {
     "elapsed": 340,
     "status": "ok",
     "timestamp": 1694683615978,
     "user": {
      "displayName": "Sara Fernandes",
      "userId": "11122184483201700096"
     },
     "user_tz": -60
    },
    "id": "LBwrsnotJ0Xq"
   },
   "outputs": [],
   "source": [
    "names = [\"Abc\", \"Def\", \" Ghi\", \"Jkl\", \"Mno\"]"
   ]
  },
  {
   "cell_type": "code",
   "execution_count": 5,
   "metadata": {
    "ExecuteTime": {
     "end_time": "2021-02-04T20:30:37.907452Z",
     "start_time": "2021-02-04T20:30:37.895469Z"
    },
    "executionInfo": {
     "elapsed": 380,
     "status": "ok",
     "timestamp": 1694683639462,
     "user": {
      "displayName": "Sara Fernandes",
      "userId": "11122184483201700096"
     },
     "user_tz": -60
    },
    "id": "6-z0r6rpJ0Xr"
   },
   "outputs": [],
   "source": [
    "my_series = pd.Series(names)"
   ]
  },
  {
   "cell_type": "code",
   "execution_count": 6,
   "metadata": {
    "ExecuteTime": {
     "end_time": "2020-03-02T18:41:39.962804Z",
     "start_time": "2020-03-02T18:41:39.950149Z"
    },
    "colab": {
     "base_uri": "https://localhost:8080/"
    },
    "executionInfo": {
     "elapsed": 16,
     "status": "ok",
     "timestamp": 1694683642039,
     "user": {
      "displayName": "Sara Fernandes",
      "userId": "11122184483201700096"
     },
     "user_tz": -60
    },
    "id": "V5GiGZWXJ0Xr",
    "outputId": "9f5128bb-7bfe-4019-b3c8-fda02354b96c"
   },
   "outputs": [
    {
     "data": {
      "text/plain": [
       "0     Abc\n",
       "1     Def\n",
       "2     Ghi\n",
       "3     Jkl\n",
       "4     Mno\n",
       "dtype: object"
      ]
     },
     "execution_count": 6,
     "metadata": {},
     "output_type": "execute_result"
    }
   ],
   "source": [
    "my_series"
   ]
  },
  {
   "cell_type": "markdown",
   "metadata": {
    "id": "5qrIipBrJ0Xr"
   },
   "source": [
    "**Nota:** Se não especificarmos uma etiqueta (*index*) para a serie, Python atribui-lhe uma etiqueta com o índice da posição de cada elemento."
   ]
  },
  {
   "cell_type": "markdown",
   "metadata": {
    "id": "0CSjoe3_J0Xr"
   },
   "source": [
    "Mas podemos atribuir rótulos aos elementos das series:"
   ]
  },
  {
   "cell_type": "code",
   "execution_count": 7,
   "metadata": {
    "ExecuteTime": {
     "end_time": "2021-02-04T20:30:26.067373Z",
     "start_time": "2021-02-04T20:30:26.053368Z"
    },
    "executionInfo": {
     "elapsed": 363,
     "status": "ok",
     "timestamp": 1694683684406,
     "user": {
      "displayName": "Sara Fernandes",
      "userId": "11122184483201700096"
     },
     "user_tz": -60
    },
    "id": "yPzXRaEFJ0Xs"
   },
   "outputs": [],
   "source": [
    "list_students = [\"Student 1\", \"Student 2\",\"Student 3\",\"Student 4\",\"Student 5\"]"
   ]
  },
  {
   "cell_type": "code",
   "execution_count": 8,
   "metadata": {
    "ExecuteTime": {
     "end_time": "2021-02-04T20:30:27.544830Z",
     "start_time": "2021-02-04T20:30:27.525826Z"
    },
    "executionInfo": {
     "elapsed": 726,
     "status": "ok",
     "timestamp": 1694683688198,
     "user": {
      "displayName": "Sara Fernandes",
      "userId": "11122184483201700096"
     },
     "user_tz": -60
    },
    "id": "HpD1P_qfJ0Xs"
   },
   "outputs": [],
   "source": [
    "my_series2 = pd.Series(data=names, index = list_students)"
   ]
  },
  {
   "cell_type": "code",
   "execution_count": 9,
   "metadata": {
    "ExecuteTime": {
     "end_time": "2021-02-04T20:30:42.475390Z",
     "start_time": "2021-02-04T20:30:42.456388Z"
    },
    "colab": {
     "base_uri": "https://localhost:8080/"
    },
    "executionInfo": {
     "elapsed": 8,
     "status": "ok",
     "timestamp": 1694683689392,
     "user": {
      "displayName": "Sara Fernandes",
      "userId": "11122184483201700096"
     },
     "user_tz": -60
    },
    "id": "HwdKwlp9J0Xs",
    "outputId": "9df7e1b4-8071-4c1b-8400-668eab732b02"
   },
   "outputs": [
    {
     "data": {
      "text/plain": [
       "Student 1     Abc\n",
       "Student 2     Def\n",
       "Student 3     Ghi\n",
       "Student 4     Jkl\n",
       "Student 5     Mno\n",
       "dtype: object"
      ]
     },
     "execution_count": 9,
     "metadata": {},
     "output_type": "execute_result"
    }
   ],
   "source": [
    "my_series2"
   ]
  },
  {
   "cell_type": "markdown",
   "metadata": {
    "id": "BGJAOI-YJ0Xs"
   },
   "source": [
    "\n",
    "\n",
    "### Criação de uma serie a partir de um *ndarray*"
   ]
  },
  {
   "cell_type": "markdown",
   "metadata": {
    "id": "1jjBdbc6J0Xt"
   },
   "source": [
    "**Nota:** Se criarmos uma serie a partir de um **ndarray**, o índice deve ter o mesmo tamanho do array passado.\n"
   ]
  },
  {
   "cell_type": "markdown",
   "metadata": {
    "id": "-WmsoW5oJ0Xt"
   },
   "source": [
    "#### Sem índice"
   ]
  },
  {
   "cell_type": "markdown",
   "metadata": {
    "id": "bYHwfiRmJ0Xt"
   },
   "source": [
    "Se não especificarmos índices, é atribuído um índice automaticamente."
   ]
  },
  {
   "cell_type": "code",
   "execution_count": 10,
   "metadata": {
    "executionInfo": {
     "elapsed": 314,
     "status": "ok",
     "timestamp": 1694683728852,
     "user": {
      "displayName": "Sara Fernandes",
      "userId": "11122184483201700096"
     },
     "user_tz": -60
    },
    "id": "CJqbWw6gJ0Xt"
   },
   "outputs": [],
   "source": [
    "import numpy as np"
   ]
  },
  {
   "cell_type": "code",
   "execution_count": 11,
   "metadata": {
    "ExecuteTime": {
     "end_time": "2020-03-02T18:50:25.684695Z",
     "start_time": "2020-03-02T18:50:25.674419Z"
    },
    "executionInfo": {
     "elapsed": 374,
     "status": "ok",
     "timestamp": 1694683754020,
     "user": {
      "displayName": "Sara Fernandes",
      "userId": "11122184483201700096"
     },
     "user_tz": -60
    },
    "id": "EwjztkVBJ0Xt"
   },
   "outputs": [],
   "source": [
    "array_5_items = np.random.randn(5)"
   ]
  },
  {
   "cell_type": "code",
   "execution_count": 14,
   "metadata": {
    "colab": {
     "base_uri": "https://localhost:8080/"
    },
    "executionInfo": {
     "elapsed": 328,
     "status": "ok",
     "timestamp": 1694683772310,
     "user": {
      "displayName": "Sara Fernandes",
      "userId": "11122184483201700096"
     },
     "user_tz": -60
    },
    "id": "oT9-a0qQBhY1",
    "outputId": "74f0feee-af71-442d-da2f-88a5fed92b15"
   },
   "outputs": [
    {
     "data": {
      "text/plain": [
       "array([ 0.836991  , -0.81862529, -0.92437501, -1.30110204,  1.2260815 ])"
      ]
     },
     "execution_count": 14,
     "metadata": {},
     "output_type": "execute_result"
    }
   ],
   "source": [
    "array_5_items"
   ]
  },
  {
   "cell_type": "code",
   "execution_count": 12,
   "metadata": {
    "ExecuteTime": {
     "end_time": "2020-03-02T18:50:35.978160Z",
     "start_time": "2020-03-02T18:50:35.974220Z"
    },
    "executionInfo": {
     "elapsed": 311,
     "status": "ok",
     "timestamp": 1694683757599,
     "user": {
      "displayName": "Sara Fernandes",
      "userId": "11122184483201700096"
     },
     "user_tz": -60
    },
    "id": "nya76QXzJ0Xt"
   },
   "outputs": [],
   "source": [
    "s_wo_ind = pd.Series(data = array_5_items)"
   ]
  },
  {
   "cell_type": "code",
   "execution_count": 13,
   "metadata": {
    "ExecuteTime": {
     "end_time": "2020-03-02T18:50:36.484024Z",
     "start_time": "2020-03-02T18:50:36.477089Z"
    },
    "colab": {
     "base_uri": "https://localhost:8080/"
    },
    "executionInfo": {
     "elapsed": 450,
     "status": "ok",
     "timestamp": 1694683761080,
     "user": {
      "displayName": "Sara Fernandes",
      "userId": "11122184483201700096"
     },
     "user_tz": -60
    },
    "id": "EHUl7bB6J0Xt",
    "outputId": "a7a9d0cd-7ac0-4de6-c9ef-ddf7a908df1b"
   },
   "outputs": [
    {
     "data": {
      "text/plain": [
       "0    0.836991\n",
       "1   -0.818625\n",
       "2   -0.924375\n",
       "3   -1.301102\n",
       "4    1.226082\n",
       "dtype: float64"
      ]
     },
     "execution_count": 13,
     "metadata": {},
     "output_type": "execute_result"
    }
   ],
   "source": [
    "s_wo_ind"
   ]
  },
  {
   "cell_type": "markdown",
   "metadata": {
    "id": "O5SxVYmyJ0Xu"
   },
   "source": [
    "#### Com o índice especificado"
   ]
  },
  {
   "cell_type": "code",
   "execution_count": 15,
   "metadata": {
    "ExecuteTime": {
     "end_time": "2020-02-15T11:23:09.974736Z",
     "start_time": "2020-02-15T11:23:09.963905Z"
    },
    "colab": {
     "base_uri": "https://localhost:8080/"
    },
    "executionInfo": {
     "elapsed": 330,
     "status": "ok",
     "timestamp": 1694683835213,
     "user": {
      "displayName": "Sara Fernandes",
      "userId": "11122184483201700096"
     },
     "user_tz": -60
    },
    "id": "7RaA6UzSJ0Xu",
    "outputId": "272c683c-1019-4696-a28c-49c8094e94be"
   },
   "outputs": [
    {
     "data": {
      "text/plain": [
       "array([ 1.71313679,  0.44874719, -1.69812115, -0.64469534, -0.47940206])"
      ]
     },
     "execution_count": 15,
     "metadata": {},
     "output_type": "execute_result"
    }
   ],
   "source": [
    "array_5_items = np.random.randn(5)\n",
    "array_5_items"
   ]
  },
  {
   "cell_type": "code",
   "execution_count": 16,
   "metadata": {
    "ExecuteTime": {
     "end_time": "2020-03-02T18:51:59.618015Z",
     "start_time": "2020-03-02T18:51:59.613095Z"
    },
    "colab": {
     "base_uri": "https://localhost:8080/"
    },
    "executionInfo": {
     "elapsed": 461,
     "status": "ok",
     "timestamp": 1694683839560,
     "user": {
      "displayName": "Sara Fernandes",
      "userId": "11122184483201700096"
     },
     "user_tz": -60
    },
    "id": "lPLdOLvwJ0Xu",
    "outputId": "3d98870b-34fa-4b55-e855-17e2773c3931"
   },
   "outputs": [
    {
     "name": "stdout",
     "output_type": "stream",
     "text": [
      "['1', '10', '100', '1000', '10000']\n"
     ]
    }
   ],
   "source": [
    "list_5_indices = ['1', '10', '100', '1000', '10000']\n",
    "print(list_5_indices)"
   ]
  },
  {
   "cell_type": "code",
   "execution_count": 17,
   "metadata": {
    "ExecuteTime": {
     "end_time": "2020-03-02T18:52:05.928643Z",
     "start_time": "2020-03-02T18:52:05.919540Z"
    },
    "code_folding": [],
    "colab": {
     "base_uri": "https://localhost:8080/"
    },
    "executionInfo": {
     "elapsed": 13,
     "status": "ok",
     "timestamp": 1694683842131,
     "user": {
      "displayName": "Sara Fernandes",
      "userId": "11122184483201700096"
     },
     "user_tz": -60
    },
    "id": "QOSC_qUbJ0Xu",
    "outputId": "694550b7-76db-4149-923b-437366e7b43c"
   },
   "outputs": [
    {
     "data": {
      "text/plain": [
       "1        1.713137\n",
       "10       0.448747\n",
       "100     -1.698121\n",
       "1000    -0.644695\n",
       "10000   -0.479402\n",
       "dtype: float64"
      ]
     },
     "execution_count": 17,
     "metadata": {},
     "output_type": "execute_result"
    }
   ],
   "source": [
    "s = pd.Series(data = array_5_items, index=list_5_indices)\n",
    "s"
   ]
  },
  {
   "cell_type": "code",
   "execution_count": 18,
   "metadata": {
    "colab": {
     "base_uri": "https://localhost:8080/",
     "height": 351
    },
    "executionInfo": {
     "elapsed": 588,
     "status": "error",
     "timestamp": 1694683880679,
     "user": {
      "displayName": "Sara Fernandes",
      "userId": "11122184483201700096"
     },
     "user_tz": -60
    },
    "id": "EN8R7cYXB1s-",
    "outputId": "e90b6821-aac6-443f-aa5b-3df738ebf3c7"
   },
   "outputs": [
    {
     "ename": "ValueError",
     "evalue": "ignored",
     "output_type": "error",
     "traceback": [
      "\u001b[0;31m---------------------------------------------------------------------------\u001b[0m",
      "\u001b[0;31mValueError\u001b[0m                                Traceback (most recent call last)",
      "\u001b[0;32m<ipython-input-18-11d8fda991d0>\u001b[0m in \u001b[0;36m<cell line: 2>\u001b[0;34m()\u001b[0m\n\u001b[1;32m      1\u001b[0m \u001b[0mlist_indices\u001b[0m \u001b[0;34m=\u001b[0m \u001b[0;34m[\u001b[0m\u001b[0;34m\"ola\"\u001b[0m\u001b[0;34m]\u001b[0m\u001b[0;34m\u001b[0m\u001b[0;34m\u001b[0m\u001b[0m\n\u001b[0;32m----> 2\u001b[0;31m \u001b[0ms2\u001b[0m \u001b[0;34m=\u001b[0m \u001b[0mpd\u001b[0m\u001b[0;34m.\u001b[0m\u001b[0mSeries\u001b[0m\u001b[0;34m(\u001b[0m\u001b[0mdata\u001b[0m \u001b[0;34m=\u001b[0m \u001b[0marray_5_items\u001b[0m\u001b[0;34m,\u001b[0m \u001b[0mindex\u001b[0m\u001b[0;34m=\u001b[0m\u001b[0mlist_indices\u001b[0m\u001b[0;34m)\u001b[0m\u001b[0;34m\u001b[0m\u001b[0;34m\u001b[0m\u001b[0m\n\u001b[0m\u001b[1;32m      3\u001b[0m \u001b[0ms2\u001b[0m\u001b[0;34m\u001b[0m\u001b[0;34m\u001b[0m\u001b[0m\n",
      "\u001b[0;32m/usr/local/lib/python3.10/dist-packages/pandas/core/series.py\u001b[0m in \u001b[0;36m__init__\u001b[0;34m(self, data, index, dtype, name, copy, fastpath)\u001b[0m\n\u001b[1;32m    459\u001b[0m                 \u001b[0mindex\u001b[0m \u001b[0;34m=\u001b[0m \u001b[0mdefault_index\u001b[0m\u001b[0;34m(\u001b[0m\u001b[0mlen\u001b[0m\u001b[0;34m(\u001b[0m\u001b[0mdata\u001b[0m\u001b[0;34m)\u001b[0m\u001b[0;34m)\u001b[0m\u001b[0;34m\u001b[0m\u001b[0;34m\u001b[0m\u001b[0m\n\u001b[1;32m    460\u001b[0m             \u001b[0;32melif\u001b[0m \u001b[0mis_list_like\u001b[0m\u001b[0;34m(\u001b[0m\u001b[0mdata\u001b[0m\u001b[0;34m)\u001b[0m\u001b[0;34m:\u001b[0m\u001b[0;34m\u001b[0m\u001b[0;34m\u001b[0m\u001b[0m\n\u001b[0;32m--> 461\u001b[0;31m                 \u001b[0mcom\u001b[0m\u001b[0;34m.\u001b[0m\u001b[0mrequire_length_match\u001b[0m\u001b[0;34m(\u001b[0m\u001b[0mdata\u001b[0m\u001b[0;34m,\u001b[0m \u001b[0mindex\u001b[0m\u001b[0;34m)\u001b[0m\u001b[0;34m\u001b[0m\u001b[0;34m\u001b[0m\u001b[0m\n\u001b[0m\u001b[1;32m    462\u001b[0m \u001b[0;34m\u001b[0m\u001b[0m\n\u001b[1;32m    463\u001b[0m             \u001b[0;31m# create/copy the manager\u001b[0m\u001b[0;34m\u001b[0m\u001b[0;34m\u001b[0m\u001b[0m\n",
      "\u001b[0;32m/usr/local/lib/python3.10/dist-packages/pandas/core/common.py\u001b[0m in \u001b[0;36mrequire_length_match\u001b[0;34m(data, index)\u001b[0m\n\u001b[1;32m    569\u001b[0m     \"\"\"\n\u001b[1;32m    570\u001b[0m     \u001b[0;32mif\u001b[0m \u001b[0mlen\u001b[0m\u001b[0;34m(\u001b[0m\u001b[0mdata\u001b[0m\u001b[0;34m)\u001b[0m \u001b[0;34m!=\u001b[0m \u001b[0mlen\u001b[0m\u001b[0;34m(\u001b[0m\u001b[0mindex\u001b[0m\u001b[0;34m)\u001b[0m\u001b[0;34m:\u001b[0m\u001b[0;34m\u001b[0m\u001b[0;34m\u001b[0m\u001b[0m\n\u001b[0;32m--> 571\u001b[0;31m         raise ValueError(\n\u001b[0m\u001b[1;32m    572\u001b[0m             \u001b[0;34m\"Length of values \"\u001b[0m\u001b[0;34m\u001b[0m\u001b[0;34m\u001b[0m\u001b[0m\n\u001b[1;32m    573\u001b[0m             \u001b[0;34mf\"({len(data)}) \"\u001b[0m\u001b[0;34m\u001b[0m\u001b[0;34m\u001b[0m\u001b[0m\n",
      "\u001b[0;31mValueError\u001b[0m: Length of values (5) does not match length of index (1)"
     ]
    }
   ],
   "source": [
    "list_indices = [\"ola\"]\n",
    "s2 = pd.Series(data = array_5_items, index=list_indices)\n",
    "s2"
   ]
  },
  {
   "cell_type": "markdown",
   "metadata": {
    "id": "wi0ydiROJ0Xv"
   },
   "source": [
    "#### ATENÇÃO!\n",
    "\n",
    "Pandas **permite valores de índice duplicados**. Isto porque, pd.Series() permite operações de alto desempenho usando métodos que não dependem do índice da serie."
   ]
  },
  {
   "cell_type": "markdown",
   "metadata": {
    "id": "Hr3nP9OnJ0Xv"
   },
   "source": [
    "### Criação de uma serie a partir de uma constante"
   ]
  },
  {
   "cell_type": "markdown",
   "metadata": {
    "id": "mPbxndqZJ0Xv"
   },
   "source": [
    "Sim, é verdade! Também conseguimos gerar uma serie através de um valor constante, desde que lhe seja atribuído um índice."
   ]
  },
  {
   "cell_type": "code",
   "execution_count": 19,
   "metadata": {
    "ExecuteTime": {
     "end_time": "2020-03-02T18:53:12.684024Z",
     "start_time": "2020-03-02T18:53:12.676396Z"
    },
    "colab": {
     "base_uri": "https://localhost:8080/"
    },
    "executionInfo": {
     "elapsed": 359,
     "status": "ok",
     "timestamp": 1694683971555,
     "user": {
      "displayName": "Sara Fernandes",
      "userId": "11122184483201700096"
     },
     "user_tz": -60
    },
    "id": "gUgY9fPUJ0Xv",
    "outputId": "3f34743a-968f-4d65-9f34-f229a4d94d70"
   },
   "outputs": [
    {
     "data": {
      "text/plain": [
       "num    10\n",
       "dtype: int64"
      ]
     },
     "execution_count": 19,
     "metadata": {},
     "output_type": "execute_result"
    }
   ],
   "source": [
    "num_series = pd.Series(data = 10, index = ['num'])\n",
    "num_series"
   ]
  },
  {
   "cell_type": "code",
   "execution_count": 20,
   "metadata": {
    "ExecuteTime": {
     "end_time": "2020-02-14T20:53:02.665412Z",
     "start_time": "2020-02-14T20:53:02.656934Z"
    },
    "colab": {
     "base_uri": "https://localhost:8080/"
    },
    "executionInfo": {
     "elapsed": 516,
     "status": "ok",
     "timestamp": 1694684006457,
     "user": {
      "displayName": "Sara Fernandes",
      "userId": "11122184483201700096"
     },
     "user_tz": -60
    },
    "id": "DwHS3p8qJ0Xv",
    "outputId": "aa609338-e9ad-4ecd-af92-f515dfc99faa"
   },
   "outputs": [
    {
     "data": {
      "text/plain": [
       "num1    5\n",
       "num2    5\n",
       "num3    5\n",
       "num4    5\n",
       "dtype: int64"
      ]
     },
     "execution_count": 20,
     "metadata": {},
     "output_type": "execute_result"
    }
   ],
   "source": [
    "num_series = pd.Series(5, index=['num1', 'num2','num3','num4'])\n",
    "num_series"
   ]
  },
  {
   "cell_type": "code",
   "execution_count": 21,
   "metadata": {
    "colab": {
     "base_uri": "https://localhost:8080/"
    },
    "executionInfo": {
     "elapsed": 308,
     "status": "ok",
     "timestamp": 1694684044617,
     "user": {
      "displayName": "Sara Fernandes",
      "userId": "11122184483201700096"
     },
     "user_tz": -60
    },
    "id": "7EtglxkfCfmQ",
    "outputId": "75dd2ad8-a191-4b1d-a027-49728dcffffc"
   },
   "outputs": [
    {
     "data": {
      "text/plain": [
       "num1    10\n",
       "num2    10\n",
       "num3    10\n",
       "num4    10\n",
       "num1    10\n",
       "num2    10\n",
       "num3    10\n",
       "num4    10\n",
       "num1    10\n",
       "num2    10\n",
       "num3    10\n",
       "num4    10\n",
       "num1    10\n",
       "num2    10\n",
       "num3    10\n",
       "num4    10\n",
       "dtype: int64"
      ]
     },
     "execution_count": 21,
     "metadata": {},
     "output_type": "execute_result"
    }
   ],
   "source": [
    "num_series = pd.Series(10, index=['num1', 'num2','num3','num4','num1', 'num2','num3','num4','num1', 'num2','num3','num4','num1', 'num2','num3','num4'])\n",
    "num_series"
   ]
  },
  {
   "cell_type": "markdown",
   "metadata": {
    "id": "eeHjag9rJ0Xv"
   },
   "source": [
    "### Criação de uma serie a partir de um dicionário\n",
    "\n"
   ]
  },
  {
   "cell_type": "markdown",
   "metadata": {
    "id": "VTrjrJX4J0Xv"
   },
   "source": [
    "Também podemos criar uma serie através de um dicionário. Neste caso, as keys do dicionário serão os índices da serie."
   ]
  },
  {
   "cell_type": "code",
   "execution_count": 22,
   "metadata": {
    "ExecuteTime": {
     "end_time": "2020-02-15T11:08:42.573471Z",
     "start_time": "2020-02-15T11:08:42.565534Z"
    },
    "colab": {
     "base_uri": "https://localhost:8080/"
    },
    "executionInfo": {
     "elapsed": 361,
     "status": "ok",
     "timestamp": 1694684093507,
     "user": {
      "displayName": "Sara Fernandes",
      "userId": "11122184483201700096"
     },
     "user_tz": -60
    },
    "id": "Htvw9bsTJ0Xw",
    "outputId": "0ba1c005-18e4-4bb0-f658-925d29d6714e"
   },
   "outputs": [
    {
     "data": {
      "text/plain": [
       "Paris        1100.0\n",
       "New York     1000.0\n",
       "Madrid       1300.0\n",
       "London        900.0\n",
       "Bangalore    1450.0\n",
       "Rio             NaN\n",
       "dtype: float64"
      ]
     },
     "execution_count": 22,
     "metadata": {},
     "output_type": "execute_result"
    }
   ],
   "source": [
    "d = {'Paris': 1100, 'New York': 1000, 'Madrid': 1300, 'London': 900,\n",
    "     'Bangalore': 1450, 'Rio': None}\n",
    "cities = pd.Series(d)\n",
    "cities"
   ]
  },
  {
   "cell_type": "markdown",
   "metadata": {
    "id": "xLOQidvtJ0Xw"
   },
   "source": [
    "## Princípios Básicos de Pandas Series"
   ]
  },
  {
   "cell_type": "markdown",
   "metadata": {
    "id": "3ALCw9QQJ0Xw"
   },
   "source": [
    "### Índices e Valores"
   ]
  },
  {
   "cell_type": "markdown",
   "metadata": {
    "id": "tRQIrgmTJ0Xw"
   },
   "source": [
    "Uma serie é composta por dois elementos:\n",
    "\n",
    "- Etiquetas ou Índices\n",
    "- Valores da série"
   ]
  },
  {
   "cell_type": "markdown",
   "metadata": {
    "id": "tMd61j3sJ0Xw"
   },
   "source": [
    "#### Índices"
   ]
  },
  {
   "cell_type": "markdown",
   "metadata": {
    "id": "zRoCF8p_J0Xx"
   },
   "source": [
    "Índices são o nome que acompanha cada valor de uma serie.\n",
    "\n",
    "Conseguimos obter os índices de uma serie ao usar a propriedade **index**."
   ]
  },
  {
   "cell_type": "code",
   "execution_count": 23,
   "metadata": {
    "ExecuteTime": {
     "end_time": "2021-02-04T20:45:02.323630Z",
     "start_time": "2021-02-04T20:45:02.312616Z"
    },
    "colab": {
     "base_uri": "https://localhost:8080/"
    },
    "executionInfo": {
     "elapsed": 337,
     "status": "ok",
     "timestamp": 1694684212290,
     "user": {
      "displayName": "Sara Fernandes",
      "userId": "11122184483201700096"
     },
     "user_tz": -60
    },
    "id": "zeNMptnwJ0Xx",
    "outputId": "84712990-b190-4e73-fdd2-54856e79a179"
   },
   "outputs": [
    {
     "name": "stdout",
     "output_type": "stream",
     "text": [
      "Index(['Paris', 'New York', 'Madrid', 'London', 'Bangalore', 'Rio'], dtype='object')\n"
     ]
    }
   ],
   "source": [
    "d = {'Paris': 1100, 'New York': 1000, 'Madrid': 1300, 'London': 900,\n",
    "     'Bangalore': 1450, 'Rio': None}\n",
    "cities = pd.Series(d)\n",
    "print(cities.index)"
   ]
  },
  {
   "cell_type": "markdown",
   "metadata": {
    "id": "KKaGi4RTJ0Xx"
   },
   "source": [
    "#### Valores"
   ]
  },
  {
   "cell_type": "markdown",
   "metadata": {
    "id": "fZIf0XxnJ0Xx"
   },
   "source": [
    "Os valores de uma serie são os elementos que a compõem.\n",
    "\n",
    "Conseguimos obter os valores de uma serie ao usar a propriedade **value**."
   ]
  },
  {
   "cell_type": "code",
   "execution_count": null,
   "metadata": {
    "ExecuteTime": {
     "end_time": "2021-02-04T20:45:05.703168Z",
     "start_time": "2021-02-04T20:45:05.695168Z"
    },
    "colab": {
     "base_uri": "https://localhost:8080/"
    },
    "id": "TqYvkzpGJ0Xx",
    "outputId": "789afe3e-0c64-4dc3-d247-9365fc03f45a"
   },
   "outputs": [
    {
     "data": {
      "text/plain": [
       "Paris        1100.0\n",
       "New York     1000.0\n",
       "Madrid       1300.0\n",
       "London        900.0\n",
       "Bangalore    1450.0\n",
       "Rio             NaN\n",
       "dtype: float64"
      ]
     },
     "execution_count": 46,
     "metadata": {},
     "output_type": "execute_result"
    }
   ],
   "source": [
    "cities"
   ]
  },
  {
   "cell_type": "code",
   "execution_count": null,
   "metadata": {
    "ExecuteTime": {
     "end_time": "2021-02-04T20:45:06.356227Z",
     "start_time": "2021-02-04T20:45:06.347681Z"
    },
    "colab": {
     "base_uri": "https://localhost:8080/"
    },
    "id": "Yuzvxiq_J0Xy",
    "outputId": "2efc89a6-0747-4e3b-e3b4-e11bc64fcb0f"
   },
   "outputs": [
    {
     "data": {
      "text/plain": [
       "array([1100., 1000., 1300.,  900., 1450.,   nan])"
      ]
     },
     "execution_count": 49,
     "metadata": {},
     "output_type": "execute_result"
    }
   ],
   "source": [
    "cities.values"
   ]
  },
  {
   "cell_type": "markdown",
   "metadata": {
    "id": "SAN-JF-ZJ0Xy"
   },
   "source": [
    "### Aceder a elementos\n",
    "\n",
    "Podemos aceder aos elementos de uma serie através dos seus **índices** ou **rótulos**."
   ]
  },
  {
   "cell_type": "markdown",
   "metadata": {
    "id": "HcGaIwc9J0Xy"
   },
   "source": [
    "\n",
    "\n",
    "#### Por um índice"
   ]
  },
  {
   "cell_type": "code",
   "execution_count": 24,
   "metadata": {
    "ExecuteTime": {
     "end_time": "2021-02-04T20:46:33.704503Z",
     "start_time": "2021-02-04T20:46:33.691499Z"
    },
    "colab": {
     "base_uri": "https://localhost:8080/"
    },
    "executionInfo": {
     "elapsed": 387,
     "status": "ok",
     "timestamp": 1694684316501,
     "user": {
      "displayName": "Sara Fernandes",
      "userId": "11122184483201700096"
     },
     "user_tz": -60
    },
    "id": "J7v1K0AgJ0Xy",
    "outputId": "c24827b9-e0ee-4620-97ce-44ec681cba98"
   },
   "outputs": [
    {
     "data": {
      "text/plain": [
       "Paris        1100.0\n",
       "New York     1000.0\n",
       "Madrid       1300.0\n",
       "London        900.0\n",
       "Bangalore    1450.0\n",
       "Rio             NaN\n",
       "dtype: float64"
      ]
     },
     "execution_count": 24,
     "metadata": {},
     "output_type": "execute_result"
    }
   ],
   "source": [
    "cities"
   ]
  },
  {
   "cell_type": "code",
   "execution_count": null,
   "metadata": {
    "ExecuteTime": {
     "end_time": "2021-02-04T20:46:34.494877Z",
     "start_time": "2021-02-04T20:46:34.486896Z"
    },
    "colab": {
     "base_uri": "https://localhost:8080/"
    },
    "id": "lMihGBjLJ0Xy",
    "outputId": "81f19350-d978-4f24-e00e-09df191e1bd7"
   },
   "outputs": [
    {
     "data": {
      "text/plain": [
       "1300.0"
      ]
     },
     "execution_count": 53,
     "metadata": {},
     "output_type": "execute_result"
    }
   ],
   "source": [
    "cities[2]"
   ]
  },
  {
   "cell_type": "markdown",
   "metadata": {
    "id": "StEVwiV3J0Xz"
   },
   "source": [
    "\n",
    "\n",
    "#### Por um rótulo"
   ]
  },
  {
   "cell_type": "code",
   "execution_count": 26,
   "metadata": {
    "ExecuteTime": {
     "end_time": "2020-02-15T11:41:00.473212Z",
     "start_time": "2020-02-15T11:41:00.468120Z"
    },
    "colab": {
     "base_uri": "https://localhost:8080/"
    },
    "executionInfo": {
     "elapsed": 336,
     "status": "ok",
     "timestamp": 1694684367324,
     "user": {
      "displayName": "Sara Fernandes",
      "userId": "11122184483201700096"
     },
     "user_tz": -60
    },
    "id": "larILdgaJ0Xz",
    "outputId": "d69873b3-bc05-4a06-98cc-b2480f62bba2"
   },
   "outputs": [
    {
     "data": {
      "text/plain": [
       "900.0"
      ]
     },
     "execution_count": 26,
     "metadata": {},
     "output_type": "execute_result"
    }
   ],
   "source": [
    "cities['London']"
   ]
  },
  {
   "cell_type": "code",
   "execution_count": 27,
   "metadata": {
    "ExecuteTime": {
     "end_time": "2021-02-04T20:46:36.421149Z",
     "start_time": "2021-02-04T20:46:36.407142Z"
    },
    "colab": {
     "base_uri": "https://localhost:8080/"
    },
    "executionInfo": {
     "elapsed": 16,
     "status": "ok",
     "timestamp": 1694684369696,
     "user": {
      "displayName": "Sara Fernandes",
      "userId": "11122184483201700096"
     },
     "user_tz": -60
    },
    "id": "2z0Oetd8J0X2",
    "outputId": "a104cc43-2d80-46a5-a57d-881cb122ab34"
   },
   "outputs": [
    {
     "data": {
      "text/plain": [
       "1000.0"
      ]
     },
     "execution_count": 27,
     "metadata": {},
     "output_type": "execute_result"
    }
   ],
   "source": [
    "cities[\"New York\"]"
   ]
  },
  {
   "cell_type": "markdown",
   "metadata": {
    "id": "OtcQU-mAJ0X2"
   },
   "source": [
    "### Modificar índices"
   ]
  },
  {
   "cell_type": "markdown",
   "metadata": {
    "id": "uq8ZSWfHJ0X2"
   },
   "source": [
    "#### Modificar automaticamente todos os índices"
   ]
  },
  {
   "cell_type": "markdown",
   "metadata": {
    "id": "F3K4M0-zJ0X3"
   },
   "source": [
    "##### Reatribuindo a Serie com novos índices\n",
    "\n"
   ]
  },
  {
   "cell_type": "code",
   "execution_count": 28,
   "metadata": {
    "ExecuteTime": {
     "end_time": "2021-02-04T20:48:08.981858Z",
     "start_time": "2021-02-04T20:48:08.967200Z"
    },
    "colab": {
     "base_uri": "https://localhost:8080/"
    },
    "executionInfo": {
     "elapsed": 399,
     "status": "ok",
     "timestamp": 1694684402729,
     "user": {
      "displayName": "Sara Fernandes",
      "userId": "11122184483201700096"
     },
     "user_tz": -60
    },
    "id": "0uA2ZzJ0J0X3",
    "outputId": "f7c9b53b-7d94-42ab-9e1e-ba8e6cf82c92"
   },
   "outputs": [
    {
     "data": {
      "text/plain": [
       "Paris        1100.0\n",
       "New York     1000.0\n",
       "Madrid       1300.0\n",
       "London        900.0\n",
       "Bangalore    1450.0\n",
       "Rio             NaN\n",
       "dtype: float64"
      ]
     },
     "execution_count": 28,
     "metadata": {},
     "output_type": "execute_result"
    }
   ],
   "source": [
    "cities"
   ]
  },
  {
   "cell_type": "code",
   "execution_count": 29,
   "metadata": {
    "ExecuteTime": {
     "end_time": "2021-02-04T20:48:10.978770Z",
     "start_time": "2021-02-04T20:48:10.968203Z"
    },
    "executionInfo": {
     "elapsed": 352,
     "status": "ok",
     "timestamp": 1694684406550,
     "user": {
      "displayName": "Sara Fernandes",
      "userId": "11122184483201700096"
     },
     "user_tz": -60
    },
    "id": "a53jEYKpJ0X3"
   },
   "outputs": [],
   "source": [
    "new_ind = ['Val 1', 'Val 1', 'Val 3', 'Val 4', 'Val 5', 'Val 6']"
   ]
  },
  {
   "cell_type": "code",
   "execution_count": 30,
   "metadata": {
    "ExecuteTime": {
     "end_time": "2021-02-04T20:48:14.172211Z",
     "start_time": "2021-02-04T20:48:14.156224Z"
    },
    "colab": {
     "base_uri": "https://localhost:8080/"
    },
    "executionInfo": {
     "elapsed": 473,
     "status": "ok",
     "timestamp": 1694684420188,
     "user": {
      "displayName": "Sara Fernandes",
      "userId": "11122184483201700096"
     },
     "user_tz": -60
    },
    "id": "BQGH5_YjJ0X3",
    "outputId": "38fc0bb4-8534-4cad-a531-07079f811daa"
   },
   "outputs": [
    {
     "data": {
      "text/plain": [
       "Val 1    1100.0\n",
       "Val 1    1000.0\n",
       "Val 3    1300.0\n",
       "Val 4     900.0\n",
       "Val 5    1450.0\n",
       "Val 6       NaN\n",
       "dtype: float64"
      ]
     },
     "execution_count": 30,
     "metadata": {},
     "output_type": "execute_result"
    }
   ],
   "source": [
    "cities_2 = pd.Series(cities.values, index=new_ind)\n",
    "cities_2"
   ]
  },
  {
   "cell_type": "code",
   "execution_count": 31,
   "metadata": {
    "colab": {
     "base_uri": "https://localhost:8080/"
    },
    "executionInfo": {
     "elapsed": 14,
     "status": "ok",
     "timestamp": 1694684451657,
     "user": {
      "displayName": "Sara Fernandes",
      "userId": "11122184483201700096"
     },
     "user_tz": -60
    },
    "id": "9QR4lqqzEFIW",
    "outputId": "d7604c71-6491-48af-fc8f-6f608000202e"
   },
   "outputs": [
    {
     "data": {
      "text/plain": [
       "Val 1    1100.0\n",
       "Val 1    1000.0\n",
       "dtype: float64"
      ]
     },
     "execution_count": 31,
     "metadata": {},
     "output_type": "execute_result"
    }
   ],
   "source": [
    "cities_2[\"Val 1\"]"
   ]
  },
  {
   "cell_type": "markdown",
   "metadata": {
    "id": "6oUNgGwVJ0X3"
   },
   "source": [
    "##### Modificando índices diretamente"
   ]
  },
  {
   "cell_type": "code",
   "execution_count": 32,
   "metadata": {
    "ExecuteTime": {
     "end_time": "2021-02-04T20:48:28.309921Z",
     "start_time": "2021-02-04T20:48:28.295382Z"
    },
    "colab": {
     "base_uri": "https://localhost:8080/"
    },
    "executionInfo": {
     "elapsed": 820,
     "status": "ok",
     "timestamp": 1694684499937,
     "user": {
      "displayName": "Sara Fernandes",
      "userId": "11122184483201700096"
     },
     "user_tz": -60
    },
    "id": "PTqe3QI3J0X3",
    "outputId": "bf653084-f6df-4558-e2cb-7fe3a5a91238"
   },
   "outputs": [
    {
     "data": {
      "text/plain": [
       "Index(['Paris', 'New York', 'Madrid', 'London', 'Bangalore', 'Rio'], dtype='object')"
      ]
     },
     "execution_count": 32,
     "metadata": {},
     "output_type": "execute_result"
    }
   ],
   "source": [
    "cities.index"
   ]
  },
  {
   "cell_type": "code",
   "execution_count": 33,
   "metadata": {
    "ExecuteTime": {
     "end_time": "2021-02-04T20:48:29.835217Z",
     "start_time": "2021-02-04T20:48:29.831219Z"
    },
    "executionInfo": {
     "elapsed": 381,
     "status": "ok",
     "timestamp": 1694684504790,
     "user": {
      "displayName": "Sara Fernandes",
      "userId": "11122184483201700096"
     },
     "user_tz": -60
    },
    "id": "u3youLNVJ0X3"
   },
   "outputs": [],
   "source": [
    "cities.index = new_ind"
   ]
  },
  {
   "cell_type": "code",
   "execution_count": 34,
   "metadata": {
    "ExecuteTime": {
     "end_time": "2021-02-04T20:48:30.424464Z",
     "start_time": "2021-02-04T20:48:30.404834Z"
    },
    "colab": {
     "base_uri": "https://localhost:8080/"
    },
    "executionInfo": {
     "elapsed": 503,
     "status": "ok",
     "timestamp": 1694684507622,
     "user": {
      "displayName": "Sara Fernandes",
      "userId": "11122184483201700096"
     },
     "user_tz": -60
    },
    "id": "MNwftoteJ0X4",
    "outputId": "996fec90-da09-425f-c09d-adb82e132d14"
   },
   "outputs": [
    {
     "data": {
      "text/plain": [
       "Val 1    1100.0\n",
       "Val 1    1000.0\n",
       "Val 3    1300.0\n",
       "Val 4     900.0\n",
       "Val 5    1450.0\n",
       "Val 6       NaN\n",
       "dtype: float64"
      ]
     },
     "execution_count": 34,
     "metadata": {},
     "output_type": "execute_result"
    }
   ],
   "source": [
    "cities"
   ]
  },
  {
   "cell_type": "markdown",
   "metadata": {
    "id": "UixMncAeJ0X4"
   },
   "source": [
    "### Modificar valores"
   ]
  },
  {
   "cell_type": "code",
   "execution_count": 35,
   "metadata": {
    "ExecuteTime": {
     "end_time": "2021-02-04T20:48:45.784662Z",
     "start_time": "2021-02-04T20:48:45.765227Z"
    },
    "colab": {
     "base_uri": "https://localhost:8080/"
    },
    "executionInfo": {
     "elapsed": 367,
     "status": "ok",
     "timestamp": 1694684563254,
     "user": {
      "displayName": "Sara Fernandes",
      "userId": "11122184483201700096"
     },
     "user_tz": -60
    },
    "id": "yz8czoSIJ0X4",
    "outputId": "e1ac4c15-f0c5-4d79-e4f9-7236d6244152"
   },
   "outputs": [
    {
     "name": "stdout",
     "output_type": "stream",
     "text": [
      "Original Val1:\n",
      "Val 1    1100.0\n",
      "Val 1    1000.0\n",
      "dtype: float64\n",
      "New Val1:\n",
      "Val 1    4000.0\n",
      "Val 1    4000.0\n",
      "dtype: float64\n"
     ]
    }
   ],
   "source": [
    "print(\"Original Val1:\")\n",
    "print(cities['Val 1'])\n",
    "\n",
    "cities['Val 1'] = 4000.0\n",
    "\n",
    "print('New Val1:')\n",
    "print(cities['Val 1'])"
   ]
  },
  {
   "cell_type": "code",
   "execution_count": 36,
   "metadata": {
    "executionInfo": {
     "elapsed": 314,
     "status": "ok",
     "timestamp": 1694684603587,
     "user": {
      "displayName": "Sara Fernandes",
      "userId": "11122184483201700096"
     },
     "user_tz": -60
    },
    "id": "uxbnzHzlEphN"
   },
   "outputs": [],
   "source": [
    "cities[\"Val. 4\"] = \"ola mundo!\""
   ]
  },
  {
   "cell_type": "code",
   "execution_count": 37,
   "metadata": {
    "colab": {
     "base_uri": "https://localhost:8080/"
    },
    "executionInfo": {
     "elapsed": 381,
     "status": "ok",
     "timestamp": 1694684614652,
     "user": {
      "displayName": "Sara Fernandes",
      "userId": "11122184483201700096"
     },
     "user_tz": -60
    },
    "id": "HeeUc3HPEu7Y",
    "outputId": "bb3672df-5152-4f24-b7f9-c2529b58693e"
   },
   "outputs": [
    {
     "data": {
      "text/plain": [
       "Val 1         4000.0\n",
       "Val 1         4000.0\n",
       "Val 3         1300.0\n",
       "Val 4          900.0\n",
       "Val 5         1450.0\n",
       "Val 6            NaN\n",
       "Val. 4    ola mundo!\n",
       "dtype: object"
      ]
     },
     "execution_count": 37,
     "metadata": {},
     "output_type": "execute_result"
    }
   ],
   "source": [
    "cities"
   ]
  },
  {
   "cell_type": "markdown",
   "metadata": {
    "id": "q5BbdrTsJ0X4"
   },
   "source": [
    "### Verificar se um elemento existe\n",
    "\n"
   ]
  },
  {
   "cell_type": "markdown",
   "metadata": {
    "id": "Al_L0xdFJ0X4"
   },
   "source": [
    "Para verificar se um elemento existe, temos que verificar se o seu rótulo aparece na serie."
   ]
  },
  {
   "cell_type": "code",
   "execution_count": 38,
   "metadata": {
    "ExecuteTime": {
     "end_time": "2020-02-15T11:49:20.539587Z",
     "start_time": "2020-02-15T11:49:20.532920Z"
    },
    "colab": {
     "base_uri": "https://localhost:8080/"
    },
    "executionInfo": {
     "elapsed": 388,
     "status": "ok",
     "timestamp": 1694684669667,
     "user": {
      "displayName": "Sara Fernandes",
      "userId": "11122184483201700096"
     },
     "user_tz": -60
    },
    "id": "nJ2w57AZJ0X4",
    "outputId": "78e93f46-1611-4c06-dc49-c7e7faa24d51"
   },
   "outputs": [
    {
     "data": {
      "text/plain": [
       "Val 1         4000.0\n",
       "Val 1         4000.0\n",
       "Val 3         1300.0\n",
       "Val 4          900.0\n",
       "Val 5         1450.0\n",
       "Val 6            NaN\n",
       "Val. 4    ola mundo!\n",
       "dtype: object"
      ]
     },
     "execution_count": 38,
     "metadata": {},
     "output_type": "execute_result"
    }
   ],
   "source": [
    "cities"
   ]
  },
  {
   "cell_type": "code",
   "execution_count": 39,
   "metadata": {
    "ExecuteTime": {
     "end_time": "2020-02-15T11:49:34.155229Z",
     "start_time": "2020-02-15T11:49:34.150178Z"
    },
    "colab": {
     "base_uri": "https://localhost:8080/"
    },
    "executionInfo": {
     "elapsed": 342,
     "status": "ok",
     "timestamp": 1694684720628,
     "user": {
      "displayName": "Sara Fernandes",
      "userId": "11122184483201700096"
     },
     "user_tz": -60
    },
    "id": "zGL3vonbJ0X7",
    "outputId": "73007b0c-265a-41ca-d208-8f74b9efc965"
   },
   "outputs": [
    {
     "name": "stdout",
     "output_type": "stream",
     "text": [
      "True\n"
     ]
    }
   ],
   "source": [
    "print('Val 3' in cities)"
   ]
  },
  {
   "cell_type": "code",
   "execution_count": 40,
   "metadata": {
    "ExecuteTime": {
     "end_time": "2020-02-15T11:50:42.686777Z",
     "start_time": "2020-02-15T11:50:42.682491Z"
    },
    "colab": {
     "base_uri": "https://localhost:8080/"
    },
    "executionInfo": {
     "elapsed": 819,
     "status": "ok",
     "timestamp": 1694684724266,
     "user": {
      "displayName": "Sara Fernandes",
      "userId": "11122184483201700096"
     },
     "user_tz": -60
    },
    "id": "rxurKayvJ0X7",
    "outputId": "6d62dc52-b76c-4b9b-bd1b-aec3811e2051",
    "scrolled": true
   },
   "outputs": [
    {
     "name": "stdout",
     "output_type": "stream",
     "text": [
      "False\n"
     ]
    }
   ],
   "source": [
    "print('Val 2' in cities)"
   ]
  },
  {
   "cell_type": "code",
   "execution_count": 42,
   "metadata": {
    "colab": {
     "base_uri": "https://localhost:8080/"
    },
    "executionInfo": {
     "elapsed": 376,
     "status": "ok",
     "timestamp": 1694684757304,
     "user": {
      "displayName": "Sara Fernandes",
      "userId": "11122184483201700096"
     },
     "user_tz": -60
    },
    "id": "32J64m4JFM2E",
    "outputId": "68dfb41b-0851-4ebf-c619-a39fa0ff29ae"
   },
   "outputs": [
    {
     "name": "stdout",
     "output_type": "stream",
     "text": [
      "True\n"
     ]
    }
   ],
   "source": [
    "print(4000.0 in cities.values)"
   ]
  },
  {
   "cell_type": "code",
   "execution_count": 48,
   "metadata": {
    "colab": {
     "base_uri": "https://localhost:8080/"
    },
    "executionInfo": {
     "elapsed": 16,
     "status": "ok",
     "timestamp": 1694684896942,
     "user": {
      "displayName": "Sara Fernandes",
      "userId": "11122184483201700096"
     },
     "user_tz": -60
    },
    "id": "Q_Jfl_s2FggI",
    "outputId": "bf774124-ae7c-4569-fdcf-d2fb6aa7a205"
   },
   "outputs": [
    {
     "name": "stdout",
     "output_type": "stream",
     "text": [
      "False\n"
     ]
    }
   ],
   "source": [
    "print(np.nan in cities.values)"
   ]
  },
  {
   "cell_type": "code",
   "execution_count": 45,
   "metadata": {
    "colab": {
     "base_uri": "https://localhost:8080/"
    },
    "executionInfo": {
     "elapsed": 328,
     "status": "ok",
     "timestamp": 1694684861982,
     "user": {
      "displayName": "Sara Fernandes",
      "userId": "11122184483201700096"
     },
     "user_tz": -60
    },
    "id": "IpQnC3ohFr5f",
    "outputId": "3e631e10-7d33-4e77-c5d0-3508999c9bdd"
   },
   "outputs": [
    {
     "data": {
      "text/plain": [
       "array([4000.0, 4000.0, 1300.0, 900.0, 1450.0, nan, 'ola mundo!'],\n",
       "      dtype=object)"
      ]
     },
     "execution_count": 45,
     "metadata": {},
     "output_type": "execute_result"
    }
   ],
   "source": [
    "cities.values"
   ]
  },
  {
   "cell_type": "markdown",
   "metadata": {
    "id": "hRtbVVBbJ0X7"
   },
   "source": [
    "### Nomeando uma série"
   ]
  },
  {
   "cell_type": "markdown",
   "metadata": {
    "id": "y3gUSzRnJ0X7"
   },
   "source": [
    "Podemos também dar um nome a uma serie.\n",
    "\n",
    "Podemos fazê-lo diretamente quando criamos a serie:"
   ]
  },
  {
   "cell_type": "code",
   "execution_count": 49,
   "metadata": {
    "ExecuteTime": {
     "end_time": "2020-02-15T13:11:15.137911Z",
     "start_time": "2020-02-15T13:11:15.133864Z"
    },
    "executionInfo": {
     "elapsed": 339,
     "status": "ok",
     "timestamp": 1694684945732,
     "user": {
      "displayName": "Sara Fernandes",
      "userId": "11122184483201700096"
     },
     "user_tz": -60
    },
    "id": "8cqfzyM-J0X7"
   },
   "outputs": [],
   "source": [
    "s = pd.Series(np.random.randn(5), name='Index trabalhado')"
   ]
  },
  {
   "cell_type": "code",
   "execution_count": 50,
   "metadata": {
    "ExecuteTime": {
     "end_time": "2020-02-15T13:11:15.325944Z",
     "start_time": "2020-02-15T13:11:15.319373Z"
    },
    "colab": {
     "base_uri": "https://localhost:8080/"
    },
    "executionInfo": {
     "elapsed": 340,
     "status": "ok",
     "timestamp": 1694684949952,
     "user": {
      "displayName": "Sara Fernandes",
      "userId": "11122184483201700096"
     },
     "user_tz": -60
    },
    "id": "6NgMiQRsJ0X7",
    "outputId": "2b8db859-a97f-443d-d5a5-cb8a131c9ee0",
    "scrolled": true
   },
   "outputs": [
    {
     "data": {
      "text/plain": [
       "0   -0.140613\n",
       "1   -0.339738\n",
       "2    0.461039\n",
       "3    1.596906\n",
       "4    2.706980\n",
       "Name: Index trabalhado, dtype: float64"
      ]
     },
     "execution_count": 50,
     "metadata": {},
     "output_type": "execute_result"
    }
   ],
   "source": [
    "s"
   ]
  },
  {
   "cell_type": "markdown",
   "metadata": {
    "id": "vs6ih7QQJ0X8"
   },
   "source": [
    "E podemos obter esse nome invocando o atributo **name**."
   ]
  },
  {
   "cell_type": "code",
   "execution_count": 51,
   "metadata": {
    "ExecuteTime": {
     "end_time": "2020-02-15T13:11:59.623088Z",
     "start_time": "2020-02-15T13:11:59.617736Z"
    },
    "colab": {
     "base_uri": "https://localhost:8080/",
     "height": 35
    },
    "executionInfo": {
     "elapsed": 809,
     "status": "ok",
     "timestamp": 1694684953255,
     "user": {
      "displayName": "Sara Fernandes",
      "userId": "11122184483201700096"
     },
     "user_tz": -60
    },
    "id": "cBadLJuQJ0X8",
    "outputId": "63c2125b-e1bc-4eb6-a75b-128b8fc30283"
   },
   "outputs": [
    {
     "data": {
      "application/vnd.google.colaboratory.intrinsic+json": {
       "type": "string"
      },
      "text/plain": [
       "'Index trabalhado'"
      ]
     },
     "execution_count": 51,
     "metadata": {},
     "output_type": "execute_result"
    }
   ],
   "source": [
    "s.name"
   ]
  },
  {
   "cell_type": "code",
   "execution_count": 52,
   "metadata": {
    "executionInfo": {
     "elapsed": 1033,
     "status": "ok",
     "timestamp": 1694684970482,
     "user": {
      "displayName": "Sara Fernandes",
      "userId": "11122184483201700096"
     },
     "user_tz": -60
    },
    "id": "SHxNpnadGET3"
   },
   "outputs": [],
   "source": [
    "cities.name = \"Olá\""
   ]
  },
  {
   "cell_type": "code",
   "execution_count": 53,
   "metadata": {
    "colab": {
     "base_uri": "https://localhost:8080/"
    },
    "executionInfo": {
     "elapsed": 528,
     "status": "ok",
     "timestamp": 1694684984056,
     "user": {
      "displayName": "Sara Fernandes",
      "userId": "11122184483201700096"
     },
     "user_tz": -60
    },
    "id": "lH3NwqzwGI7t",
    "outputId": "fae97126-6d69-455f-92fb-df7aa5a3bd28"
   },
   "outputs": [
    {
     "data": {
      "text/plain": [
       "Val 1         4000.0\n",
       "Val 1         4000.0\n",
       "Val 3         1300.0\n",
       "Val 4          900.0\n",
       "Val 5         1450.0\n",
       "Val 6            NaN\n",
       "Val. 4    ola mundo!\n",
       "Name: Olá, dtype: object"
      ]
     },
     "execution_count": 53,
     "metadata": {},
     "output_type": "execute_result"
    }
   ],
   "source": [
    "cities"
   ]
  },
  {
   "cell_type": "markdown",
   "metadata": {
    "id": "A-MwQ0O9J0X8"
   },
   "source": [
    "E podemos, ainda, renomear a serie usando o método **rename()**:"
   ]
  },
  {
   "cell_type": "code",
   "execution_count": 54,
   "metadata": {
    "ExecuteTime": {
     "end_time": "2020-02-15T13:12:51.239877Z",
     "start_time": "2020-02-15T13:12:51.233608Z"
    },
    "colab": {
     "base_uri": "https://localhost:8080/"
    },
    "executionInfo": {
     "elapsed": 361,
     "status": "ok",
     "timestamp": 1694685023342,
     "user": {
      "displayName": "Sara Fernandes",
      "userId": "11122184483201700096"
     },
     "user_tz": -60
    },
    "id": "YEpxFHLDJ0X8",
    "outputId": "aa80d747-43cb-40ee-e11a-9e7f38e73c1d"
   },
   "outputs": [
    {
     "data": {
      "text/plain": [
       "0   -0.140613\n",
       "1   -0.339738\n",
       "2    0.461039\n",
       "3    1.596906\n",
       "4    2.706980\n",
       "Name: My SUPER function, dtype: float64"
      ]
     },
     "execution_count": 54,
     "metadata": {},
     "output_type": "execute_result"
    }
   ],
   "source": [
    "s = s.rename(\"My SUPER function\")\n",
    "#s2.name\n",
    "s"
   ]
  },
  {
   "cell_type": "code",
   "execution_count": 55,
   "metadata": {
    "colab": {
     "base_uri": "https://localhost:8080/"
    },
    "executionInfo": {
     "elapsed": 340,
     "status": "ok",
     "timestamp": 1694685042710,
     "user": {
      "displayName": "Sara Fernandes",
      "userId": "11122184483201700096"
     },
     "user_tz": -60
    },
    "id": "wtf-YnhxGWd6",
    "outputId": "7feeff4e-5785-49fa-ba6d-43a469ce8ed2"
   },
   "outputs": [
    {
     "data": {
      "text/plain": [
       "0   -0.140613\n",
       "1   -0.339738\n",
       "2    0.461039\n",
       "3    1.596906\n",
       "4    2.706980\n",
       "Name: Novo nome, dtype: float64"
      ]
     },
     "execution_count": 55,
     "metadata": {},
     "output_type": "execute_result"
    }
   ],
   "source": [
    "s.name = \"Novo nome\"\n",
    "s"
   ]
  },
  {
   "cell_type": "markdown",
   "metadata": {
    "id": "45MGS5JxJ0X8"
   },
   "source": [
    "## Funções próprias de Pandas Series"
   ]
  },
  {
   "cell_type": "markdown",
   "metadata": {
    "id": "xPvdagzHJ0X9"
   },
   "source": [
    "Uma vez que as series se comportam de forma semelhante aos *ndarrays* de NumPy, muitos dos métodos e funções de NumPy também se aplicam a Pandas Series."
   ]
  },
  {
   "cell_type": "markdown",
   "metadata": {
    "id": "RJU5YYfdJ0X9"
   },
   "source": [
    "### Funções de exploração"
   ]
  },
  {
   "cell_type": "markdown",
   "metadata": {
    "id": "qCQqAeRsJ0X9"
   },
   "source": [
    "\n",
    "#### Dimensões - shape, count(), len()"
   ]
  },
  {
   "cell_type": "markdown",
   "metadata": {
    "id": "BFrCJFPAJ0X9"
   },
   "source": [
    "O atributo **shape** retorna um tuplo com o tamanho da serie."
   ]
  },
  {
   "cell_type": "code",
   "execution_count": 56,
   "metadata": {
    "ExecuteTime": {
     "end_time": "2020-02-15T10:16:15.633649Z",
     "start_time": "2020-02-15T10:16:15.625168Z"
    },
    "colab": {
     "base_uri": "https://localhost:8080/"
    },
    "executionInfo": {
     "elapsed": 334,
     "status": "ok",
     "timestamp": 1694685163148,
     "user": {
      "displayName": "Sara Fernandes",
      "userId": "11122184483201700096"
     },
     "user_tz": -60
    },
    "id": "nEV-_EIoJ0X9",
    "outputId": "aafe2f78-5cc6-4aec-9f3f-7fa1811e4a76"
   },
   "outputs": [
    {
     "data": {
      "text/plain": [
       "a   -0.695058\n",
       "b   -1.921043\n",
       "c    0.102043\n",
       "d    1.593018\n",
       "e    0.000971\n",
       "dtype: float64"
      ]
     },
     "execution_count": 56,
     "metadata": {},
     "output_type": "execute_result"
    }
   ],
   "source": [
    "s = pd.Series(np.random.randn(5), ['a','b','c','d','e'])\n",
    "s"
   ]
  },
  {
   "cell_type": "code",
   "execution_count": 57,
   "metadata": {
    "ExecuteTime": {
     "end_time": "2020-02-15T10:16:16.571384Z",
     "start_time": "2020-02-15T10:16:16.565867Z"
    },
    "colab": {
     "base_uri": "https://localhost:8080/"
    },
    "executionInfo": {
     "elapsed": 365,
     "status": "ok",
     "timestamp": 1694685174661,
     "user": {
      "displayName": "Sara Fernandes",
      "userId": "11122184483201700096"
     },
     "user_tz": -60
    },
    "id": "EJ7uNVejJ0X9",
    "outputId": "07df7423-b84e-43d6-e640-4d78605ddadc"
   },
   "outputs": [
    {
     "data": {
      "text/plain": [
       "(5,)"
      ]
     },
     "execution_count": 57,
     "metadata": {},
     "output_type": "execute_result"
    }
   ],
   "source": [
    "s.shape"
   ]
  },
  {
   "cell_type": "markdown",
   "metadata": {
    "id": "gcYlMuKuJ0X9"
   },
   "source": [
    "Os métodos **count()** e **len()** também retornam o tamanho da serie. Contudo, **count()** não contabiliza os elementos cujo valor seja NaN.\n",
    "\n"
   ]
  },
  {
   "cell_type": "code",
   "execution_count": 58,
   "metadata": {
    "ExecuteTime": {
     "end_time": "2020-02-15T10:16:18.021931Z",
     "start_time": "2020-02-15T10:16:18.015737Z"
    },
    "colab": {
     "base_uri": "https://localhost:8080/"
    },
    "executionInfo": {
     "elapsed": 401,
     "status": "ok",
     "timestamp": 1694685235369,
     "user": {
      "displayName": "Sara Fernandes",
      "userId": "11122184483201700096"
     },
     "user_tz": -60
    },
    "id": "dpkFiNrmJ0X9",
    "outputId": "8716d66e-fcd6-4687-ed80-d8f9073ee0db"
   },
   "outputs": [
    {
     "data": {
      "text/plain": [
       "5"
      ]
     },
     "execution_count": 58,
     "metadata": {},
     "output_type": "execute_result"
    }
   ],
   "source": [
    "s.count()"
   ]
  },
  {
   "cell_type": "code",
   "execution_count": 59,
   "metadata": {
    "ExecuteTime": {
     "end_time": "2020-03-02T19:30:14.277880Z",
     "start_time": "2020-03-02T19:30:14.272206Z"
    },
    "colab": {
     "base_uri": "https://localhost:8080/"
    },
    "executionInfo": {
     "elapsed": 15,
     "status": "ok",
     "timestamp": 1694685238567,
     "user": {
      "displayName": "Sara Fernandes",
      "userId": "11122184483201700096"
     },
     "user_tz": -60
    },
    "id": "D7K8ZJCEJ0X9",
    "outputId": "e58d80b2-8a3e-4671-8a0d-f70e2d06f530"
   },
   "outputs": [
    {
     "data": {
      "text/plain": [
       "5"
      ]
     },
     "execution_count": 59,
     "metadata": {},
     "output_type": "execute_result"
    }
   ],
   "source": [
    "len(s)"
   ]
  },
  {
   "cell_type": "code",
   "execution_count": 60,
   "metadata": {
    "colab": {
     "base_uri": "https://localhost:8080/"
    },
    "executionInfo": {
     "elapsed": 469,
     "status": "ok",
     "timestamp": 1694685241763,
     "user": {
      "displayName": "Sara Fernandes",
      "userId": "11122184483201700096"
     },
     "user_tz": -60
    },
    "id": "KEj97MGGJ0X9",
    "outputId": "005f081f-b299-4934-d32e-15c5cf18af55"
   },
   "outputs": [
    {
     "data": {
      "text/plain": [
       "Val 1         4000.0\n",
       "Val 1         4000.0\n",
       "Val 3         1300.0\n",
       "Val 4          900.0\n",
       "Val 5         1450.0\n",
       "Val 6            NaN\n",
       "Val. 4    ola mundo!\n",
       "Name: Olá, dtype: object"
      ]
     },
     "execution_count": 60,
     "metadata": {},
     "output_type": "execute_result"
    }
   ],
   "source": [
    "cities"
   ]
  },
  {
   "cell_type": "code",
   "execution_count": 61,
   "metadata": {
    "colab": {
     "base_uri": "https://localhost:8080/"
    },
    "executionInfo": {
     "elapsed": 454,
     "status": "ok",
     "timestamp": 1694685247769,
     "user": {
      "displayName": "Sara Fernandes",
      "userId": "11122184483201700096"
     },
     "user_tz": -60
    },
    "id": "XRYfjJmWJ0X-",
    "outputId": "36fb81eb-e5fb-40b2-cfaf-448b3cf096a2"
   },
   "outputs": [
    {
     "data": {
      "text/plain": [
       "7"
      ]
     },
     "execution_count": 61,
     "metadata": {},
     "output_type": "execute_result"
    }
   ],
   "source": [
    "len(cities)"
   ]
  },
  {
   "cell_type": "code",
   "execution_count": 62,
   "metadata": {
    "colab": {
     "base_uri": "https://localhost:8080/"
    },
    "executionInfo": {
     "elapsed": 301,
     "status": "ok",
     "timestamp": 1694685258101,
     "user": {
      "displayName": "Sara Fernandes",
      "userId": "11122184483201700096"
     },
     "user_tz": -60
    },
    "id": "uqdALbarJ0X-",
    "outputId": "19923025-4361-4e75-baea-1f2834f7a827"
   },
   "outputs": [
    {
     "data": {
      "text/plain": [
       "6"
      ]
     },
     "execution_count": 62,
     "metadata": {},
     "output_type": "execute_result"
    }
   ],
   "source": [
    "cities.count()"
   ]
  },
  {
   "cell_type": "code",
   "execution_count": 66,
   "metadata": {
    "colab": {
     "base_uri": "https://localhost:8080/"
    },
    "executionInfo": {
     "elapsed": 15,
     "status": "ok",
     "timestamp": 1694685390483,
     "user": {
      "displayName": "Sara Fernandes",
      "userId": "11122184483201700096"
     },
     "user_tz": -60
    },
    "id": "fRAGbcEAHTHH",
    "outputId": "ec8c1f33-de30-4b57-bf83-f54efcdfbd4f"
   },
   "outputs": [
    {
     "data": {
      "text/plain": [
       "a   NaN\n",
       "b   NaN\n",
       "c   NaN\n",
       "d   NaN\n",
       "e   NaN\n",
       "dtype: float64"
      ]
     },
     "execution_count": 66,
     "metadata": {},
     "output_type": "execute_result"
    }
   ],
   "source": [
    "s['a'] = np.nan\n",
    "s['b'] = np.nan\n",
    "s['c'] = np.nan\n",
    "s['d'] = np.nan\n",
    "s['e'] = np.nan\n",
    "s"
   ]
  },
  {
   "cell_type": "code",
   "execution_count": 67,
   "metadata": {
    "colab": {
     "base_uri": "https://localhost:8080/"
    },
    "executionInfo": {
     "elapsed": 13,
     "status": "ok",
     "timestamp": 1694685398590,
     "user": {
      "displayName": "Sara Fernandes",
      "userId": "11122184483201700096"
     },
     "user_tz": -60
    },
    "id": "QAQvpH9jHvSs",
    "outputId": "7b070890-297b-4013-cb1a-6a10ff25951a"
   },
   "outputs": [
    {
     "data": {
      "text/plain": [
       "5"
      ]
     },
     "execution_count": 67,
     "metadata": {},
     "output_type": "execute_result"
    }
   ],
   "source": [
    "len(s)"
   ]
  },
  {
   "cell_type": "code",
   "execution_count": 68,
   "metadata": {
    "colab": {
     "base_uri": "https://localhost:8080/"
    },
    "executionInfo": {
     "elapsed": 15,
     "status": "ok",
     "timestamp": 1694685414796,
     "user": {
      "displayName": "Sara Fernandes",
      "userId": "11122184483201700096"
     },
     "user_tz": -60
    },
    "id": "wT0Qo9FWHxNP",
    "outputId": "46363d14-79a1-409b-9e21-9c8c6ef6ecfd"
   },
   "outputs": [
    {
     "data": {
      "text/plain": [
       "0"
      ]
     },
     "execution_count": 68,
     "metadata": {},
     "output_type": "execute_result"
    }
   ],
   "source": [
    "s.count()"
   ]
  },
  {
   "cell_type": "code",
   "execution_count": 69,
   "metadata": {
    "colab": {
     "base_uri": "https://localhost:8080/"
    },
    "executionInfo": {
     "elapsed": 383,
     "status": "ok",
     "timestamp": 1694685468311,
     "user": {
      "displayName": "Sara Fernandes",
      "userId": "11122184483201700096"
     },
     "user_tz": -60
    },
    "id": "AEX1nTOoH_Gq",
    "outputId": "2ed2f7db-f022-4e2b-8cfc-1a3c73af2468"
   },
   "outputs": [
    {
     "data": {
      "text/plain": [
       "False"
      ]
     },
     "execution_count": 69,
     "metadata": {},
     "output_type": "execute_result"
    }
   ],
   "source": [
    "len(s) == s.count()"
   ]
  },
  {
   "cell_type": "markdown",
   "metadata": {
    "id": "Zp6YtEOeJ0X-"
   },
   "source": [
    "\n",
    "\n",
    "#### Imprimir linhas - head(), tail()"
   ]
  },
  {
   "cell_type": "markdown",
   "metadata": {
    "id": "XRNJ95ZkJ0X-"
   },
   "source": [
    "- O método **head()** imprime as primeiras x linhas da Pandas Series\n",
    "\n",
    "- O método **tail()** imprime as últimas x linhas da Pandas Series"
   ]
  },
  {
   "cell_type": "code",
   "execution_count": 70,
   "metadata": {
    "ExecuteTime": {
     "end_time": "2020-02-15T10:16:27.051197Z",
     "start_time": "2020-02-15T10:16:27.044583Z"
    },
    "colab": {
     "base_uri": "https://localhost:8080/"
    },
    "executionInfo": {
     "elapsed": 350,
     "status": "ok",
     "timestamp": 1694685506390,
     "user": {
      "displayName": "Sara Fernandes",
      "userId": "11122184483201700096"
     },
     "user_tz": -60
    },
    "id": "V-FGzQTqJ0X-",
    "outputId": "d4c77984-dce2-4ee1-906e-352fee6c2e5c"
   },
   "outputs": [
    {
     "data": {
      "text/plain": [
       "a   -0.887581\n",
       "b    1.966279\n",
       "c   -0.374105\n",
       "d    1.563167\n",
       "e    0.082537\n",
       "dtype: float64"
      ]
     },
     "execution_count": 70,
     "metadata": {},
     "output_type": "execute_result"
    }
   ],
   "source": [
    "s = pd.Series(np.random.randn(5), ['a','b','c','d','e'])\n",
    "s"
   ]
  },
  {
   "cell_type": "code",
   "execution_count": 71,
   "metadata": {
    "ExecuteTime": {
     "end_time": "2020-03-02T19:31:13.367689Z",
     "start_time": "2020-03-02T19:31:13.360896Z"
    },
    "colab": {
     "base_uri": "https://localhost:8080/"
    },
    "executionInfo": {
     "elapsed": 892,
     "status": "ok",
     "timestamp": 1694685536255,
     "user": {
      "displayName": "Sara Fernandes",
      "userId": "11122184483201700096"
     },
     "user_tz": -60
    },
    "id": "9gbPTLmYJ0X-",
    "outputId": "d72a5a8a-d952-465a-a417-3635c29d049e"
   },
   "outputs": [
    {
     "data": {
      "text/plain": [
       "a   -0.887581\n",
       "b    1.966279\n",
       "c   -0.374105\n",
       "dtype: float64"
      ]
     },
     "execution_count": 71,
     "metadata": {},
     "output_type": "execute_result"
    }
   ],
   "source": [
    "s.head(3)"
   ]
  },
  {
   "cell_type": "code",
   "execution_count": 72,
   "metadata": {
    "ExecuteTime": {
     "end_time": "2020-03-02T19:31:21.214011Z",
     "start_time": "2020-03-02T19:31:21.206552Z"
    },
    "colab": {
     "base_uri": "https://localhost:8080/"
    },
    "executionInfo": {
     "elapsed": 811,
     "status": "ok",
     "timestamp": 1694685541324,
     "user": {
      "displayName": "Sara Fernandes",
      "userId": "11122184483201700096"
     },
     "user_tz": -60
    },
    "id": "4VlK3wH5J0X-",
    "outputId": "6d96e2e7-f997-45d0-efe1-67be2ce48a68"
   },
   "outputs": [
    {
     "data": {
      "text/plain": [
       "e    0.082537\n",
       "dtype: float64"
      ]
     },
     "execution_count": 72,
     "metadata": {},
     "output_type": "execute_result"
    }
   ],
   "source": [
    "s.tail(1)"
   ]
  },
  {
   "cell_type": "code",
   "execution_count": 73,
   "metadata": {
    "colab": {
     "base_uri": "https://localhost:8080/"
    },
    "executionInfo": {
     "elapsed": 13,
     "status": "ok",
     "timestamp": 1694685555325,
     "user": {
      "displayName": "Sara Fernandes",
      "userId": "11122184483201700096"
     },
     "user_tz": -60
    },
    "id": "ILnIvWSRIVDx",
    "outputId": "6110c5fb-c9a2-42c3-84e1-b47f03222f92"
   },
   "outputs": [
    {
     "data": {
      "text/plain": [
       "a   -0.887581\n",
       "b    1.966279\n",
       "c   -0.374105\n",
       "d    1.563167\n",
       "e    0.082537\n",
       "dtype: float64"
      ]
     },
     "execution_count": 73,
     "metadata": {},
     "output_type": "execute_result"
    }
   ],
   "source": [
    "s.head()"
   ]
  },
  {
   "cell_type": "code",
   "execution_count": 74,
   "metadata": {
    "colab": {
     "base_uri": "https://localhost:8080/"
    },
    "executionInfo": {
     "elapsed": 14,
     "status": "ok",
     "timestamp": 1694685581636,
     "user": {
      "displayName": "Sara Fernandes",
      "userId": "11122184483201700096"
     },
     "user_tz": -60
    },
    "id": "8XuJVF_QIbjC",
    "outputId": "ab0a09e9-2715-4aad-de85-bd9272b65b84"
   },
   "outputs": [
    {
     "data": {
      "text/plain": [
       "a   -0.887581\n",
       "b    1.966279\n",
       "c   -0.374105\n",
       "d    1.563167\n",
       "e    0.082537\n",
       "dtype: float64"
      ]
     },
     "execution_count": 74,
     "metadata": {},
     "output_type": "execute_result"
    }
   ],
   "source": [
    "s.tail()"
   ]
  },
  {
   "cell_type": "markdown",
   "metadata": {
    "id": "uX2obix7J0X_"
   },
   "source": [
    "#### Operações estatísticas"
   ]
  },
  {
   "cell_type": "markdown",
   "metadata": {
    "id": "1EzzcaDgJ0X_"
   },
   "source": [
    "- Mínimo"
   ]
  },
  {
   "cell_type": "code",
   "execution_count": 75,
   "metadata": {
    "ExecuteTime": {
     "end_time": "2020-02-15T10:16:20.673265Z",
     "start_time": "2020-02-15T10:16:20.665199Z"
    },
    "colab": {
     "base_uri": "https://localhost:8080/"
    },
    "executionInfo": {
     "elapsed": 349,
     "status": "ok",
     "timestamp": 1694685619897,
     "user": {
      "displayName": "Sara Fernandes",
      "userId": "11122184483201700096"
     },
     "user_tz": -60
    },
    "id": "b54nozJHJ0X_",
    "outputId": "dc3ed6d1-8cab-4e08-9d1e-655acbb7306e"
   },
   "outputs": [
    {
     "data": {
      "text/plain": [
       "-0.8875805082295913"
      ]
     },
     "execution_count": 75,
     "metadata": {},
     "output_type": "execute_result"
    }
   ],
   "source": [
    "s.min()"
   ]
  },
  {
   "cell_type": "markdown",
   "metadata": {
    "id": "ovy1UOXTJ0X_"
   },
   "source": [
    "- Máximo"
   ]
  },
  {
   "cell_type": "code",
   "execution_count": 76,
   "metadata": {
    "ExecuteTime": {
     "end_time": "2020-02-15T10:16:21.023698Z",
     "start_time": "2020-02-15T10:16:21.016471Z"
    },
    "colab": {
     "base_uri": "https://localhost:8080/"
    },
    "executionInfo": {
     "elapsed": 332,
     "status": "ok",
     "timestamp": 1694685629846,
     "user": {
      "displayName": "Sara Fernandes",
      "userId": "11122184483201700096"
     },
     "user_tz": -60
    },
    "id": "-E4S0pzdJ0X_",
    "outputId": "8726dfc5-c61d-402c-d757-bb43beac6134"
   },
   "outputs": [
    {
     "data": {
      "text/plain": [
       "1.9662790274300226"
      ]
     },
     "execution_count": 76,
     "metadata": {},
     "output_type": "execute_result"
    }
   ],
   "source": [
    "s.max()"
   ]
  },
  {
   "cell_type": "markdown",
   "metadata": {
    "id": "WNXtUAefJ0X_"
   },
   "source": [
    "- Média"
   ]
  },
  {
   "cell_type": "code",
   "execution_count": 77,
   "metadata": {
    "ExecuteTime": {
     "end_time": "2020-02-15T10:16:21.368305Z",
     "start_time": "2020-02-15T10:16:21.361294Z"
    },
    "colab": {
     "base_uri": "https://localhost:8080/"
    },
    "executionInfo": {
     "elapsed": 308,
     "status": "ok",
     "timestamp": 1694685651319,
     "user": {
      "displayName": "Sara Fernandes",
      "userId": "11122184483201700096"
     },
     "user_tz": -60
    },
    "id": "1ssauKqSJ0X_",
    "outputId": "38f7ae0c-8ee6-45ea-c9ff-3f7f624d8c9a"
   },
   "outputs": [
    {
     "data": {
      "text/plain": [
       "0.4700593900859672"
      ]
     },
     "execution_count": 77,
     "metadata": {},
     "output_type": "execute_result"
    }
   ],
   "source": [
    "s.mean()"
   ]
  },
  {
   "cell_type": "markdown",
   "metadata": {
    "id": "DiMJerloJ0X_"
   },
   "source": [
    "- Desvio padrão"
   ]
  },
  {
   "cell_type": "code",
   "execution_count": 78,
   "metadata": {
    "ExecuteTime": {
     "end_time": "2020-02-15T10:16:22.241454Z",
     "start_time": "2020-02-15T10:16:22.235719Z"
    },
    "colab": {
     "base_uri": "https://localhost:8080/"
    },
    "executionInfo": {
     "elapsed": 408,
     "status": "ok",
     "timestamp": 1694685663853,
     "user": {
      "displayName": "Sara Fernandes",
      "userId": "11122184483201700096"
     },
     "user_tz": -60
    },
    "id": "25HvKgGkJ0YA",
    "outputId": "7be037ca-8702-458a-c89a-30cb5322e154"
   },
   "outputs": [
    {
     "data": {
      "text/plain": [
       "1.238903914705416"
      ]
     },
     "execution_count": 78,
     "metadata": {},
     "output_type": "execute_result"
    }
   ],
   "source": [
    "s.std()"
   ]
  },
  {
   "cell_type": "markdown",
   "metadata": {
    "id": "gWvUKSrTJ0YA"
   },
   "source": [
    "#### Método describe()"
   ]
  },
  {
   "cell_type": "markdown",
   "metadata": {
    "id": "KUkkAcW9J0YA"
   },
   "source": [
    "Conseguimos obter algumas informações estatísticas acerca de uma serie através do método **describe()**."
   ]
  },
  {
   "cell_type": "code",
   "execution_count": 81,
   "metadata": {
    "ExecuteTime": {
     "end_time": "2020-02-15T10:16:26.218859Z",
     "start_time": "2020-02-15T10:16:26.209132Z"
    },
    "colab": {
     "base_uri": "https://localhost:8080/"
    },
    "executionInfo": {
     "elapsed": 575,
     "status": "ok",
     "timestamp": 1694685775820,
     "user": {
      "displayName": "Sara Fernandes",
      "userId": "11122184483201700096"
     },
     "user_tz": -60
    },
    "id": "a5edWdsYJ0YA",
    "outputId": "81ce4bf0-9346-43a7-c2a8-35ec88e0ee38"
   },
   "outputs": [
    {
     "data": {
      "text/plain": [
       "count    5.000000\n",
       "mean     0.470059\n",
       "std      1.238904\n",
       "min     -0.887581\n",
       "25%     -0.374105\n",
       "50%      0.082537\n",
       "75%      1.563167\n",
       "max      1.966279\n",
       "dtype: float64"
      ]
     },
     "execution_count": 81,
     "metadata": {},
     "output_type": "execute_result"
    }
   ],
   "source": [
    "describe = s.describe()\n",
    "describe"
   ]
  },
  {
   "cell_type": "code",
   "execution_count": 82,
   "metadata": {
    "colab": {
     "base_uri": "https://localhost:8080/"
    },
    "executionInfo": {
     "elapsed": 547,
     "status": "ok",
     "timestamp": 1694685781972,
     "user": {
      "displayName": "Sara Fernandes",
      "userId": "11122184483201700096"
     },
     "user_tz": -60
    },
    "id": "_Swuf6pXJFfY",
    "outputId": "138e1f00-f626-46ab-b538-b9bbe7870a67"
   },
   "outputs": [
    {
     "data": {
      "text/plain": [
       "1.5631670417247954"
      ]
     },
     "execution_count": 82,
     "metadata": {},
     "output_type": "execute_result"
    }
   ],
   "source": [
    "describe[\"75%\"]"
   ]
  },
  {
   "cell_type": "code",
   "execution_count": 83,
   "metadata": {
    "colab": {
     "base_uri": "https://localhost:8080/"
    },
    "executionInfo": {
     "elapsed": 341,
     "status": "ok",
     "timestamp": 1694685801172,
     "user": {
      "displayName": "Sara Fernandes",
      "userId": "11122184483201700096"
     },
     "user_tz": -60
    },
    "id": "IA12-ut5JQmi",
    "outputId": "c6f79e98-2c8e-4c71-c775-13b85f287962"
   },
   "outputs": [
    {
     "data": {
      "text/plain": [
       "1.9662790274300226"
      ]
     },
     "execution_count": 83,
     "metadata": {},
     "output_type": "execute_result"
    }
   ],
   "source": [
    "describe[\"max\"]"
   ]
  },
  {
   "cell_type": "markdown",
   "metadata": {
    "id": "FdsIdHpEJ0YA"
   },
   "source": [
    "### Operações vetorizadas\n",
    "\n"
   ]
  },
  {
   "cell_type": "markdown",
   "metadata": {
    "id": "TvCHe7v9J0YA"
   },
   "source": [
    "No NumPy, conseguimos efetuar operações vetorizadas (elemento a elemento). O mesmo conseguimos fazer com Pandas Series."
   ]
  },
  {
   "cell_type": "markdown",
   "metadata": {
    "id": "3_PZTkwgJ0YA"
   },
   "source": [
    "#### Operações com constantes"
   ]
  },
  {
   "cell_type": "code",
   "execution_count": 84,
   "metadata": {
    "ExecuteTime": {
     "end_time": "2020-02-15T12:53:36.287273Z",
     "start_time": "2020-02-15T12:53:36.282218Z"
    },
    "colab": {
     "base_uri": "https://localhost:8080/"
    },
    "executionInfo": {
     "elapsed": 375,
     "status": "ok",
     "timestamp": 1694685867284,
     "user": {
      "displayName": "Sara Fernandes",
      "userId": "11122184483201700096"
     },
     "user_tz": -60
    },
    "id": "xiDwm8UTJ0YB",
    "outputId": "62b2d41b-77c3-42e0-dc01-b342d27386ec"
   },
   "outputs": [
    {
     "data": {
      "text/plain": [
       "a    57\n",
       "b    29\n",
       "c    98\n",
       "d    64\n",
       "e    46\n",
       "dtype: int64"
      ]
     },
     "execution_count": 84,
     "metadata": {},
     "output_type": "execute_result"
    }
   ],
   "source": [
    "s = pd.Series(np.random.randint(1,100,size=(5,)), index=['a', 'b', 'c', 'd', 'e'])\n",
    "s"
   ]
  },
  {
   "cell_type": "code",
   "execution_count": 85,
   "metadata": {
    "ExecuteTime": {
     "end_time": "2020-02-15T12:53:42.529672Z",
     "start_time": "2020-02-15T12:53:42.523051Z"
    },
    "colab": {
     "base_uri": "https://localhost:8080/"
    },
    "executionInfo": {
     "elapsed": 295,
     "status": "ok",
     "timestamp": 1694685899873,
     "user": {
      "displayName": "Sara Fernandes",
      "userId": "11122184483201700096"
     },
     "user_tz": -60
    },
    "id": "3AzbofFSJ0YB",
    "outputId": "d860aa32-03e7-4fea-c74e-4dffc4ee3b1a"
   },
   "outputs": [
    {
     "data": {
      "text/plain": [
       "a     59\n",
       "b     31\n",
       "c    100\n",
       "d     66\n",
       "e     48\n",
       "dtype: int64"
      ]
     },
     "execution_count": 85,
     "metadata": {},
     "output_type": "execute_result"
    }
   ],
   "source": [
    "s + 2"
   ]
  },
  {
   "cell_type": "code",
   "execution_count": 86,
   "metadata": {
    "ExecuteTime": {
     "end_time": "2020-02-15T12:53:47.049567Z",
     "start_time": "2020-02-15T12:53:47.041381Z"
    },
    "colab": {
     "base_uri": "https://localhost:8080/"
    },
    "executionInfo": {
     "elapsed": 456,
     "status": "ok",
     "timestamp": 1694685912927,
     "user": {
      "displayName": "Sara Fernandes",
      "userId": "11122184483201700096"
     },
     "user_tz": -60
    },
    "id": "5qRI_nKUJ0YB",
    "outputId": "4f3eede9-95de-4ff5-cbd9-4c8109216d41"
   },
   "outputs": [
    {
     "data": {
      "text/plain": [
       "a    114\n",
       "b     58\n",
       "c    196\n",
       "d    128\n",
       "e     92\n",
       "dtype: int64"
      ]
     },
     "execution_count": 86,
     "metadata": {},
     "output_type": "execute_result"
    }
   ],
   "source": [
    "s * 2"
   ]
  },
  {
   "cell_type": "code",
   "execution_count": 87,
   "metadata": {
    "ExecuteTime": {
     "end_time": "2020-02-15T12:54:26.500227Z",
     "start_time": "2020-02-15T12:54:26.493329Z"
    },
    "colab": {
     "base_uri": "https://localhost:8080/"
    },
    "executionInfo": {
     "elapsed": 915,
     "status": "ok",
     "timestamp": 1694685917200,
     "user": {
      "displayName": "Sara Fernandes",
      "userId": "11122184483201700096"
     },
     "user_tz": -60
    },
    "id": "OW__K8nHJ0YB",
    "outputId": "0af1a63e-00e8-4d3a-f886-f3b6f61db6a7"
   },
   "outputs": [
    {
     "data": {
      "text/plain": [
       "a    19.000000\n",
       "b     9.666667\n",
       "c    32.666667\n",
       "d    21.333333\n",
       "e    15.333333\n",
       "dtype: float64"
      ]
     },
     "execution_count": 87,
     "metadata": {},
     "output_type": "execute_result"
    }
   ],
   "source": [
    "s / 3"
   ]
  },
  {
   "cell_type": "code",
   "execution_count": 88,
   "metadata": {
    "colab": {
     "base_uri": "https://localhost:8080/"
    },
    "executionInfo": {
     "elapsed": 1078,
     "status": "ok",
     "timestamp": 1694685928273,
     "user": {
      "displayName": "Sara Fernandes",
      "userId": "11122184483201700096"
     },
     "user_tz": -60
    },
    "id": "mFbZQLiBJvee",
    "outputId": "68a185b6-bd4c-49c3-81c3-dd14f6938a7f"
   },
   "outputs": [
    {
     "data": {
      "text/plain": [
       "a    19\n",
       "b     9\n",
       "c    32\n",
       "d    21\n",
       "e    15\n",
       "dtype: int64"
      ]
     },
     "execution_count": 88,
     "metadata": {},
     "output_type": "execute_result"
    }
   ],
   "source": [
    "s // 3"
   ]
  },
  {
   "cell_type": "code",
   "execution_count": 89,
   "metadata": {
    "colab": {
     "base_uri": "https://localhost:8080/"
    },
    "executionInfo": {
     "elapsed": 303,
     "status": "ok",
     "timestamp": 1694685947887,
     "user": {
      "displayName": "Sara Fernandes",
      "userId": "11122184483201700096"
     },
     "user_tz": -60
    },
    "id": "rtL-f9QJJ04M",
    "outputId": "266f111c-11e1-45c7-d3d6-e595574e1791"
   },
   "outputs": [
    {
     "data": {
      "text/plain": [
       "a    0\n",
       "b    2\n",
       "c    2\n",
       "d    1\n",
       "e    1\n",
       "dtype: int64"
      ]
     },
     "execution_count": 89,
     "metadata": {},
     "output_type": "execute_result"
    }
   ],
   "source": [
    "s % 3"
   ]
  },
  {
   "cell_type": "markdown",
   "metadata": {
    "id": "uvv9M48AJ0YB"
   },
   "source": [
    "#### Funções NumPy"
   ]
  },
  {
   "cell_type": "markdown",
   "metadata": {
    "id": "8pHW-nDDJ0YC"
   },
   "source": [
    "Como já mencionado, conseguimos aplicar as funções NumPy em Pandas Series."
   ]
  },
  {
   "cell_type": "code",
   "execution_count": 90,
   "metadata": {
    "ExecuteTime": {
     "end_time": "2020-02-15T12:55:16.176226Z",
     "start_time": "2020-02-15T12:55:16.165104Z"
    },
    "colab": {
     "base_uri": "https://localhost:8080/"
    },
    "executionInfo": {
     "elapsed": 365,
     "status": "ok",
     "timestamp": 1694685984217,
     "user": {
      "displayName": "Sara Fernandes",
      "userId": "11122184483201700096"
     },
     "user_tz": -60
    },
    "id": "kQFwFet2J0YC",
    "outputId": "3fdba0ed-5d08-4c98-bcab-8ed7ebd78655"
   },
   "outputs": [
    {
     "data": {
      "text/plain": [
       "a    5.685720e+24\n",
       "b    3.931334e+12\n",
       "c    3.637971e+42\n",
       "d    6.235149e+27\n",
       "e    9.496119e+19\n",
       "dtype: float64"
      ]
     },
     "execution_count": 90,
     "metadata": {},
     "output_type": "execute_result"
    }
   ],
   "source": [
    "np.exp(s)"
   ]
  },
  {
   "cell_type": "markdown",
   "metadata": {
    "id": "eC2tTaCwJ0YC"
   },
   "source": [
    "#### Funções vetorizadas"
   ]
  },
  {
   "cell_type": "markdown",
   "metadata": {
    "id": "6PUHpRHTJ0YC"
   },
   "source": [
    "#### Exemplo - Adicionar series com os mesmos índices"
   ]
  },
  {
   "cell_type": "code",
   "execution_count": 91,
   "metadata": {
    "ExecuteTime": {
     "end_time": "2020-02-15T13:07:56.096315Z",
     "start_time": "2020-02-15T13:07:56.090343Z"
    },
    "executionInfo": {
     "elapsed": 621,
     "status": "ok",
     "timestamp": 1694686029904,
     "user": {
      "displayName": "Sara Fernandes",
      "userId": "11122184483201700096"
     },
     "user_tz": -60
    },
    "id": "DqR52ql8J0YC"
   },
   "outputs": [],
   "source": [
    "s = pd.Series(np.random.randint(1,10,size=(5,)), index=['a', 'b', 'c', 'd', 'e'])"
   ]
  },
  {
   "cell_type": "code",
   "execution_count": 92,
   "metadata": {
    "colab": {
     "base_uri": "https://localhost:8080/"
    },
    "executionInfo": {
     "elapsed": 390,
     "status": "ok",
     "timestamp": 1694686032580,
     "user": {
      "displayName": "Sara Fernandes",
      "userId": "11122184483201700096"
     },
     "user_tz": -60
    },
    "id": "JYayRGf7J0YC",
    "outputId": "23ab6d9b-f6df-48b9-8490-2466b598692c"
   },
   "outputs": [
    {
     "data": {
      "text/plain": [
       "a    5\n",
       "b    8\n",
       "c    8\n",
       "d    9\n",
       "e    8\n",
       "dtype: int64"
      ]
     },
     "execution_count": 92,
     "metadata": {},
     "output_type": "execute_result"
    }
   ],
   "source": [
    "s"
   ]
  },
  {
   "cell_type": "code",
   "execution_count": 93,
   "metadata": {
    "ExecuteTime": {
     "end_time": "2020-02-15T13:07:56.432644Z",
     "start_time": "2020-02-15T13:07:56.425605Z"
    },
    "colab": {
     "base_uri": "https://localhost:8080/"
    },
    "executionInfo": {
     "elapsed": 580,
     "status": "ok",
     "timestamp": 1694686036337,
     "user": {
      "displayName": "Sara Fernandes",
      "userId": "11122184483201700096"
     },
     "user_tz": -60
    },
    "id": "2ZYFBpivJ0YC",
    "outputId": "ef6d349b-dd2e-45be-8db7-f1a0785cd56e"
   },
   "outputs": [
    {
     "data": {
      "text/plain": [
       "a    10\n",
       "b    16\n",
       "c    16\n",
       "d    18\n",
       "e    16\n",
       "dtype: int64"
      ]
     },
     "execution_count": 93,
     "metadata": {},
     "output_type": "execute_result"
    }
   ],
   "source": [
    "s+s"
   ]
  },
  {
   "cell_type": "code",
   "execution_count": 94,
   "metadata": {
    "colab": {
     "base_uri": "https://localhost:8080/"
    },
    "executionInfo": {
     "elapsed": 31,
     "status": "ok",
     "timestamp": 1694686051079,
     "user": {
      "displayName": "Sara Fernandes",
      "userId": "11122184483201700096"
     },
     "user_tz": -60
    },
    "id": "MSmggf8KKOI0",
    "outputId": "04e3d906-8d3e-46e8-9c72-eaf5df6125a6"
   },
   "outputs": [
    {
     "data": {
      "text/plain": [
       "a    25\n",
       "b    64\n",
       "c    64\n",
       "d    81\n",
       "e    64\n",
       "dtype: int64"
      ]
     },
     "execution_count": 94,
     "metadata": {},
     "output_type": "execute_result"
    }
   ],
   "source": [
    "s*s"
   ]
  },
  {
   "cell_type": "markdown",
   "metadata": {
    "id": "DGVp_X4tJ0YC"
   },
   "source": [
    "#### Exemplo - Adicionar series com índices *incompatíveis*"
   ]
  },
  {
   "cell_type": "code",
   "execution_count": 95,
   "metadata": {
    "ExecuteTime": {
     "end_time": "2020-03-02T19:44:34.640084Z",
     "start_time": "2020-03-02T19:44:34.632830Z"
    },
    "colab": {
     "base_uri": "https://localhost:8080/"
    },
    "executionInfo": {
     "elapsed": 359,
     "status": "ok",
     "timestamp": 1694686074492,
     "user": {
      "displayName": "Sara Fernandes",
      "userId": "11122184483201700096"
     },
     "user_tz": -60
    },
    "id": "9mowy3GsJ0YD",
    "outputId": "cee719d1-08fa-4b73-bb1d-2540e03fa131"
   },
   "outputs": [
    {
     "data": {
      "text/plain": [
       "a    4\n",
       "b    4\n",
       "c    5\n",
       "d    9\n",
       "e    8\n",
       "dtype: int64"
      ]
     },
     "execution_count": 95,
     "metadata": {},
     "output_type": "execute_result"
    }
   ],
   "source": [
    "s = pd.Series(np.random.randint(1,10,size=(5,)), index=['a', 'b', 'c', 'd', 'e'])\n",
    "s"
   ]
  },
  {
   "cell_type": "code",
   "execution_count": 96,
   "metadata": {
    "ExecuteTime": {
     "end_time": "2020-03-02T19:44:35.553435Z",
     "start_time": "2020-03-02T19:44:35.543940Z"
    },
    "colab": {
     "base_uri": "https://localhost:8080/"
    },
    "executionInfo": {
     "elapsed": 369,
     "status": "ok",
     "timestamp": 1694686082891,
     "user": {
      "displayName": "Sara Fernandes",
      "userId": "11122184483201700096"
     },
     "user_tz": -60
    },
    "id": "wJ-h1EwQJ0YD",
    "outputId": "76c05ae1-1d72-4a54-ba0e-d87cfa6aedc8"
   },
   "outputs": [
    {
     "data": {
      "text/plain": [
       "h    2\n",
       "b    8\n",
       "c    4\n",
       "d    2\n",
       "e    7\n",
       "dtype: int64"
      ]
     },
     "execution_count": 96,
     "metadata": {},
     "output_type": "execute_result"
    }
   ],
   "source": [
    "p = pd.Series(np.random.randint(1,10,size=(5,)), index=['h', 'b', 'c', 'd', 'e'])\n",
    "p"
   ]
  },
  {
   "cell_type": "code",
   "execution_count": 99,
   "metadata": {
    "ExecuteTime": {
     "end_time": "2020-03-02T19:44:47.036169Z",
     "start_time": "2020-03-02T19:44:47.027870Z"
    },
    "executionInfo": {
     "elapsed": 11,
     "status": "ok",
     "timestamp": 1694686148596,
     "user": {
      "displayName": "Sara Fernandes",
      "userId": "11122184483201700096"
     },
     "user_tz": -60
    },
    "id": "lSxxTtynJ0YD"
   },
   "outputs": [],
   "source": [
    "l = s + p"
   ]
  },
  {
   "cell_type": "code",
   "execution_count": 100,
   "metadata": {
    "colab": {
     "base_uri": "https://localhost:8080/"
    },
    "executionInfo": {
     "elapsed": 336,
     "status": "ok",
     "timestamp": 1694686153383,
     "user": {
      "displayName": "Sara Fernandes",
      "userId": "11122184483201700096"
     },
     "user_tz": -60
    },
    "id": "NBrM2GapKj3M",
    "outputId": "322cb69a-1758-4ba7-df73-0607551637f3"
   },
   "outputs": [
    {
     "data": {
      "text/plain": [
       "False"
      ]
     },
     "execution_count": 100,
     "metadata": {},
     "output_type": "execute_result"
    }
   ],
   "source": [
    "len(l) == l.count()"
   ]
  },
  {
   "cell_type": "code",
   "execution_count": null,
   "metadata": {
    "ExecuteTime": {
     "end_time": "2020-02-15T13:08:26.136654Z",
     "start_time": "2020-02-15T13:08:26.128437Z"
    },
    "colab": {
     "base_uri": "https://localhost:8080/"
    },
    "id": "9BfrDBevJ0YD",
    "outputId": "5b0096d8-6013-4985-b290-fb04ee2faddf"
   },
   "outputs": [
    {
     "data": {
      "text/plain": [
       "a    NaN\n",
       "b   -1.0\n",
       "c    1.0\n",
       "d   -7.0\n",
       "e    0.0\n",
       "h    NaN\n",
       "dtype: float64"
      ]
     },
     "execution_count": 96,
     "metadata": {},
     "output_type": "execute_result"
    }
   ],
   "source": [
    "s - p"
   ]
  },
  {
   "cell_type": "markdown",
   "metadata": {
    "id": "WkY6YzVUJ0YD"
   },
   "source": [
    "\n",
    "## Filtragem numa serie"
   ]
  },
  {
   "cell_type": "markdown",
   "metadata": {
    "id": "jKi6_uTMJ0YD"
   },
   "source": [
    "### Por marcadores"
   ]
  },
  {
   "cell_type": "code",
   "execution_count": 101,
   "metadata": {
    "ExecuteTime": {
     "end_time": "2021-02-04T21:06:56.002086Z",
     "start_time": "2021-02-04T21:06:55.986087Z"
    },
    "colab": {
     "base_uri": "https://localhost:8080/"
    },
    "executionInfo": {
     "elapsed": 363,
     "status": "ok",
     "timestamp": 1694686194885,
     "user": {
      "displayName": "Sara Fernandes",
      "userId": "11122184483201700096"
     },
     "user_tz": -60
    },
    "id": "Mvi_quqYJ0YD",
    "outputId": "32453f57-f477-4c65-d081-ebfc05ac3551"
   },
   "outputs": [
    {
     "data": {
      "text/plain": [
       "0    1.0\n",
       "1    2.0\n",
       "2    3.0\n",
       "3    4.0\n",
       "dtype: float64"
      ]
     },
     "execution_count": 101,
     "metadata": {},
     "output_type": "execute_result"
    }
   ],
   "source": [
    "li = [1.0,2.0,3.0, 4.0]\n",
    "my_series = pd.Series(data = li)\n",
    "my_series"
   ]
  },
  {
   "cell_type": "code",
   "execution_count": 102,
   "metadata": {
    "ExecuteTime": {
     "end_time": "2021-02-04T21:06:56.507946Z",
     "start_time": "2021-02-04T21:06:56.493397Z"
    },
    "colab": {
     "base_uri": "https://localhost:8080/"
    },
    "executionInfo": {
     "elapsed": 373,
     "status": "ok",
     "timestamp": 1694686198230,
     "user": {
      "displayName": "Sara Fernandes",
      "userId": "11122184483201700096"
     },
     "user_tz": -60
    },
    "id": "b0eN6w0HJ0YD",
    "outputId": "78b1676c-1e15-4099-e1d2-75926be3fdd4"
   },
   "outputs": [
    {
     "data": {
      "text/plain": [
       "1.0"
      ]
     },
     "execution_count": 102,
     "metadata": {},
     "output_type": "execute_result"
    }
   ],
   "source": [
    "my_series[0]"
   ]
  },
  {
   "cell_type": "markdown",
   "metadata": {
    "id": "cwA0g36eJ0YE"
   },
   "source": [
    "#### filter()"
   ]
  },
  {
   "cell_type": "code",
   "execution_count": 103,
   "metadata": {
    "ExecuteTime": {
     "end_time": "2021-02-04T21:06:57.781171Z",
     "start_time": "2021-02-04T21:06:57.767105Z"
    },
    "colab": {
     "base_uri": "https://localhost:8080/"
    },
    "executionInfo": {
     "elapsed": 326,
     "status": "ok",
     "timestamp": 1694686205733,
     "user": {
      "displayName": "Sara Fernandes",
      "userId": "11122184483201700096"
     },
     "user_tz": -60
    },
    "id": "D8QDU9VRJ0YE",
    "outputId": "fbd8d541-cbef-4edf-eb98-5b2e12e2a5f8"
   },
   "outputs": [
    {
     "name": "stdout",
     "output_type": "stream",
     "text": [
      "1    2.0\n",
      "2    3.0\n",
      "dtype: float64\n"
     ]
    }
   ],
   "source": [
    "print (my_series.filter(items=[1, 2]))\n"
   ]
  },
  {
   "cell_type": "markdown",
   "metadata": {
    "ExecuteTime": {
     "end_time": "2020-02-15T09:49:49.483261Z",
     "start_time": "2020-02-15T09:49:49.477191Z"
    },
    "id": "wMng32bbJ0YE"
   },
   "source": [
    "Esta operação é análoga a especificar a lista de índices que queremos manter:"
   ]
  },
  {
   "cell_type": "code",
   "execution_count": 104,
   "metadata": {
    "ExecuteTime": {
     "end_time": "2021-02-04T21:09:04.405185Z",
     "start_time": "2021-02-04T21:09:04.389189Z"
    },
    "colab": {
     "base_uri": "https://localhost:8080/"
    },
    "executionInfo": {
     "elapsed": 548,
     "status": "ok",
     "timestamp": 1694686212393,
     "user": {
      "displayName": "Sara Fernandes",
      "userId": "11122184483201700096"
     },
     "user_tz": -60
    },
    "id": "kKV_txupJ0YE",
    "outputId": "ff2ee459-cc94-4c50-82e1-3e7e25de2dda"
   },
   "outputs": [
    {
     "data": {
      "text/plain": [
       "2    3.0\n",
       "dtype: float64"
      ]
     },
     "execution_count": 104,
     "metadata": {},
     "output_type": "execute_result"
    }
   ],
   "source": [
    "my_series.filter(like='2')"
   ]
  },
  {
   "cell_type": "code",
   "execution_count": null,
   "metadata": {
    "colab": {
     "base_uri": "https://localhost:8080/"
    },
    "id": "99HIQV-IJ0YE",
    "outputId": "dada5de6-eb26-4ec3-cb61-069a8407fe3a"
   },
   "outputs": [
    {
     "data": {
      "text/plain": [
       "Val 1    2000.0\n",
       "Val 1    2000.0\n",
       "Val 3    1300.0\n",
       "Val 4     900.0\n",
       "Val 5    1450.0\n",
       "Val 6       NaN\n",
       "dtype: float64"
      ]
     },
     "execution_count": 101,
     "metadata": {},
     "output_type": "execute_result"
    }
   ],
   "source": [
    "cities"
   ]
  },
  {
   "cell_type": "code",
   "execution_count": 105,
   "metadata": {
    "colab": {
     "base_uri": "https://localhost:8080/"
    },
    "executionInfo": {
     "elapsed": 12,
     "status": "ok",
     "timestamp": 1694686240497,
     "user": {
      "displayName": "Sara Fernandes",
      "userId": "11122184483201700096"
     },
     "user_tz": -60
    },
    "id": "lvQEXFCGJ0YE",
    "outputId": "1b7969bd-88e3-4fe4-f793-853777bb13f0"
   },
   "outputs": [
    {
     "data": {
      "text/plain": [
       "Val 1         4000.0\n",
       "Val 1         4000.0\n",
       "Val 3         1300.0\n",
       "Val 4          900.0\n",
       "Val 5         1450.0\n",
       "Val 6            NaN\n",
       "Val. 4    ola mundo!\n",
       "Name: Olá, dtype: object"
      ]
     },
     "execution_count": 105,
     "metadata": {},
     "output_type": "execute_result"
    }
   ],
   "source": [
    "cities.filter(like='Val')"
   ]
  },
  {
   "cell_type": "code",
   "execution_count": 106,
   "metadata": {
    "colab": {
     "base_uri": "https://localhost:8080/"
    },
    "executionInfo": {
     "elapsed": 13,
     "status": "ok",
     "timestamp": 1694686265895,
     "user": {
      "displayName": "Sara Fernandes",
      "userId": "11122184483201700096"
     },
     "user_tz": -60
    },
    "id": "ocy-2IKVLBCv",
    "outputId": "9a26eb99-3e04-4f51-a9ad-a2da92f0b2fd"
   },
   "outputs": [
    {
     "data": {
      "text/plain": [
       "Val 1    4000.0\n",
       "Val 1    4000.0\n",
       "Val 3    1300.0\n",
       "Val 4     900.0\n",
       "Val 5    1450.0\n",
       "Val 6       NaN\n",
       "Name: Olá, dtype: object"
      ]
     },
     "execution_count": 106,
     "metadata": {},
     "output_type": "execute_result"
    }
   ],
   "source": [
    "cities.filter(like='Val ')"
   ]
  },
  {
   "cell_type": "code",
   "execution_count": 107,
   "metadata": {
    "colab": {
     "base_uri": "https://localhost:8080/"
    },
    "executionInfo": {
     "elapsed": 332,
     "status": "ok",
     "timestamp": 1694686276270,
     "user": {
      "displayName": "Sara Fernandes",
      "userId": "11122184483201700096"
     },
     "user_tz": -60
    },
    "id": "sfC6pqeqLFLq",
    "outputId": "6f10d60b-cca4-4e54-cf5b-220d3806e008"
   },
   "outputs": [
    {
     "data": {
      "text/plain": [
       "Val. 4    ola mundo!\n",
       "Name: Olá, dtype: object"
      ]
     },
     "execution_count": 107,
     "metadata": {},
     "output_type": "execute_result"
    }
   ],
   "source": [
    "cities.filter(like='Val.')"
   ]
  },
  {
   "cell_type": "markdown",
   "metadata": {
    "id": "qBnZL-itJ0YE"
   },
   "source": [
    "#### slicing [ ]"
   ]
  },
  {
   "cell_type": "code",
   "execution_count": 108,
   "metadata": {
    "ExecuteTime": {
     "end_time": "2020-03-02T19:48:00.389463Z",
     "start_time": "2020-03-02T19:48:00.383160Z"
    },
    "colab": {
     "base_uri": "https://localhost:8080/"
    },
    "executionInfo": {
     "elapsed": 390,
     "status": "ok",
     "timestamp": 1694686304057,
     "user": {
      "displayName": "Sara Fernandes",
      "userId": "11122184483201700096"
     },
     "user_tz": -60
    },
    "id": "jbFOBRhlJ0YE",
    "outputId": "1826e72d-54f8-41fd-a23a-2dd01ff8cbb7"
   },
   "outputs": [
    {
     "name": "stdout",
     "output_type": "stream",
     "text": [
      "Filtrando tudo exceto os valores dos rótulos 1,2 =>\n",
      "\n",
      "1    2.0\n",
      "2    3.0\n",
      "dtype: float64\n"
     ]
    }
   ],
   "source": [
    "print ('Filtrando tudo exceto os valores dos rótulos 1,2 =>\\n')\n",
    "print (my_series[[1, 2]])\n"
   ]
  },
  {
   "cell_type": "code",
   "execution_count": 110,
   "metadata": {
    "ExecuteTime": {
     "end_time": "2020-02-15T09:50:23.968114Z",
     "start_time": "2020-02-15T09:50:23.962410Z"
    },
    "colab": {
     "base_uri": "https://localhost:8080/"
    },
    "executionInfo": {
     "elapsed": 309,
     "status": "ok",
     "timestamp": 1694686359666,
     "user": {
      "displayName": "Sara Fernandes",
      "userId": "11122184483201700096"
     },
     "user_tz": -60
    },
    "id": "vGse3W3BJ0YE",
    "outputId": "99b9fb46-aeee-4671-fc07-ee3b89043606"
   },
   "outputs": [
    {
     "name": "stdout",
     "output_type": "stream",
     "text": [
      "0    1.0\n",
      "2    3.0\n",
      "3    4.0\n",
      "dtype: float64\n"
     ]
    }
   ],
   "source": [
    "subset_indices = [0,2,3]\n",
    "print (my_series[subset_indices])"
   ]
  },
  {
   "cell_type": "markdown",
   "metadata": {
    "id": "DXs5DmzRJ0YF"
   },
   "source": [
    "### Por índices"
   ]
  },
  {
   "cell_type": "markdown",
   "metadata": {
    "id": "hF5sj2wOJ0YG"
   },
   "source": [
    "É possível filtrar uma serie pela posição (índices) dos elementos na mesma.\n",
    "\n"
   ]
  },
  {
   "cell_type": "code",
   "execution_count": 111,
   "metadata": {
    "ExecuteTime": {
     "end_time": "2021-02-04T21:18:37.828823Z",
     "start_time": "2021-02-04T21:18:37.787614Z"
    },
    "colab": {
     "base_uri": "https://localhost:8080/"
    },
    "executionInfo": {
     "elapsed": 557,
     "status": "ok",
     "timestamp": 1694686383958,
     "user": {
      "displayName": "Sara Fernandes",
      "userId": "11122184483201700096"
     },
     "user_tz": -60
    },
    "id": "23j-khOVJ0YG",
    "outputId": "c47e57c2-58e9-4776-fd21-b49b7a2a10a0"
   },
   "outputs": [
    {
     "data": {
      "text/plain": [
       "a   -0.163443\n",
       "b   -0.346062\n",
       "c   -0.163844\n",
       "d   -0.641877\n",
       "e   -1.681161\n",
       "f   -0.156816\n",
       "g   -0.396900\n",
       "h   -1.139532\n",
       "i    0.015397\n",
       "j    0.742026\n",
       "dtype: float64"
      ]
     },
     "execution_count": 111,
     "metadata": {},
     "output_type": "execute_result"
    }
   ],
   "source": [
    "s = pd.Series(np.random.randn(10), ['a','b','c','d','e','f','g','h','i','j'])\n",
    "s"
   ]
  },
  {
   "cell_type": "code",
   "execution_count": 112,
   "metadata": {
    "ExecuteTime": {
     "end_time": "2021-02-04T21:18:38.068698Z",
     "start_time": "2021-02-04T21:18:38.056136Z"
    },
    "colab": {
     "base_uri": "https://localhost:8080/"
    },
    "executionInfo": {
     "elapsed": 20,
     "status": "ok",
     "timestamp": 1694686386268,
     "user": {
      "displayName": "Sara Fernandes",
      "userId": "11122184483201700096"
     },
     "user_tz": -60
    },
    "id": "6YWQuwaoJ0YG",
    "outputId": "10da22b6-e7ad-47a5-c1c5-d6b8fc291f27"
   },
   "outputs": [
    {
     "name": "stdout",
     "output_type": "stream",
     "text": [
      "Filtramos e mantemos o 1º e 3º elementos =>\n",
      "\n",
      "a   -0.163443\n",
      "c   -0.163844\n",
      "dtype: float64\n"
     ]
    }
   ],
   "source": [
    "print ('Filtramos e mantemos o 1º e 3º elementos =>\\n')\n",
    "print (s[[0,2]])"
   ]
  },
  {
   "cell_type": "code",
   "execution_count": 113,
   "metadata": {
    "ExecuteTime": {
     "end_time": "2021-02-04T21:18:38.354391Z",
     "start_time": "2021-02-04T21:18:38.340366Z"
    },
    "colab": {
     "base_uri": "https://localhost:8080/"
    },
    "executionInfo": {
     "elapsed": 662,
     "status": "ok",
     "timestamp": 1694686411658,
     "user": {
      "displayName": "Sara Fernandes",
      "userId": "11122184483201700096"
     },
     "user_tz": -60
    },
    "id": "DetuqzFbJ0YG",
    "outputId": "b6db21a7-de09-4700-aed5-9f323f69e94a"
   },
   "outputs": [
    {
     "name": "stdout",
     "output_type": "stream",
     "text": [
      "Filtramos e mantemos um subconjunto até o 4º elemento =>\n",
      "\n",
      "a   -0.163443\n",
      "b   -0.346062\n",
      "c   -0.163844\n",
      "d   -0.641877\n",
      "dtype: float64\n"
     ]
    }
   ],
   "source": [
    "print ('Filtramos e mantemos um subconjunto até o 4º elemento =>\\n')\n",
    "print (s[:4])"
   ]
  },
  {
   "cell_type": "markdown",
   "metadata": {
    "id": "HAocHf3TJ0YG"
   },
   "source": [
    "#### Por condições booleanas nos valores"
   ]
  },
  {
   "cell_type": "code",
   "execution_count": 114,
   "metadata": {
    "ExecuteTime": {
     "end_time": "2021-02-04T21:18:39.563224Z",
     "start_time": "2021-02-04T21:18:39.548434Z"
    },
    "colab": {
     "base_uri": "https://localhost:8080/"
    },
    "executionInfo": {
     "elapsed": 460,
     "status": "ok",
     "timestamp": 1694686445847,
     "user": {
      "displayName": "Sara Fernandes",
      "userId": "11122184483201700096"
     },
     "user_tz": -60
    },
    "id": "nZGeOpX9J0YG",
    "outputId": "a12a7848-6dc7-4495-b80e-e69d4f8ef850"
   },
   "outputs": [
    {
     "data": {
      "text/plain": [
       "a   -0.163443\n",
       "b   -0.346062\n",
       "c   -0.163844\n",
       "d   -0.641877\n",
       "e   -1.681161\n",
       "f   -0.156816\n",
       "g   -0.396900\n",
       "h   -1.139532\n",
       "i    0.015397\n",
       "j    0.742026\n",
       "dtype: float64"
      ]
     },
     "execution_count": 114,
     "metadata": {},
     "output_type": "execute_result"
    }
   ],
   "source": [
    "s"
   ]
  },
  {
   "cell_type": "code",
   "execution_count": 115,
   "metadata": {
    "ExecuteTime": {
     "end_time": "2021-02-04T21:18:41.117700Z",
     "start_time": "2021-02-04T21:18:41.078644Z"
    },
    "colab": {
     "base_uri": "https://localhost:8080/"
    },
    "executionInfo": {
     "elapsed": 362,
     "status": "ok",
     "timestamp": 1694686463628,
     "user": {
      "displayName": "Sara Fernandes",
      "userId": "11122184483201700096"
     },
     "user_tz": -60
    },
    "id": "CPTw5bjHJ0YG",
    "outputId": "83568f64-a875-47cc-834c-b37aed85bc9c"
   },
   "outputs": [
    {
     "data": {
      "text/plain": [
       "a   -0.163443\n",
       "b   -0.346062\n",
       "c   -0.163844\n",
       "d   -0.641877\n",
       "e   -1.681161\n",
       "f   -0.156816\n",
       "g   -0.396900\n",
       "h   -1.139532\n",
       "dtype: float64"
      ]
     },
     "execution_count": 115,
     "metadata": {},
     "output_type": "execute_result"
    }
   ],
   "source": [
    "s[s < 0]"
   ]
  },
  {
   "cell_type": "code",
   "execution_count": 116,
   "metadata": {
    "ExecuteTime": {
     "end_time": "2021-02-04T21:18:50.857306Z",
     "start_time": "2021-02-04T21:18:50.835688Z"
    },
    "colab": {
     "base_uri": "https://localhost:8080/"
    },
    "executionInfo": {
     "elapsed": 475,
     "status": "ok",
     "timestamp": 1694686496333,
     "user": {
      "displayName": "Sara Fernandes",
      "userId": "11122184483201700096"
     },
     "user_tz": -60
    },
    "id": "5MkR6EqIJ0YG",
    "outputId": "94b17f6d-12ea-4a3c-89a6-695ae338db80"
   },
   "outputs": [
    {
     "data": {
      "text/plain": [
       "i    0.015397\n",
       "j    0.742026\n",
       "dtype: float64"
      ]
     },
     "execution_count": 116,
     "metadata": {},
     "output_type": "execute_result"
    }
   ],
   "source": [
    "s[(s > 0) & (s < 2)]  # Operador & funciona da mesma forma que um 'and'"
   ]
  },
  {
   "cell_type": "code",
   "execution_count": 117,
   "metadata": {
    "ExecuteTime": {
     "end_time": "2021-02-04T21:19:01.891281Z",
     "start_time": "2021-02-04T21:19:01.867667Z"
    },
    "colab": {
     "base_uri": "https://localhost:8080/"
    },
    "executionInfo": {
     "elapsed": 357,
     "status": "ok",
     "timestamp": 1694686507287,
     "user": {
      "displayName": "Sara Fernandes",
      "userId": "11122184483201700096"
     },
     "user_tz": -60
    },
    "id": "3puiSKOSJ0YG",
    "outputId": "49391555-c288-4dee-dd24-c58091b75c03"
   },
   "outputs": [
    {
     "data": {
      "text/plain": [
       "a   -0.163443\n",
       "b   -0.346062\n",
       "c   -0.163844\n",
       "d   -0.641877\n",
       "e   -1.681161\n",
       "f   -0.156816\n",
       "g   -0.396900\n",
       "h   -1.139532\n",
       "i    0.015397\n",
       "j    0.742026\n",
       "dtype: float64"
      ]
     },
     "execution_count": 117,
     "metadata": {},
     "output_type": "execute_result"
    }
   ],
   "source": [
    "s[(s > 0) | (s < 2)] # Operador | funciona da mesma forma que um 'or'"
   ]
  },
  {
   "cell_type": "markdown",
   "metadata": {
    "id": "mMBbucSPJ0YG"
   },
   "source": [
    "#### Por um intervalo de valores"
   ]
  },
  {
   "cell_type": "markdown",
   "metadata": {
    "id": "_p46zVVnJ0YG"
   },
   "source": [
    "Com o método **between()** conseguimos obter uma serie de valores booleanos indique indica se cada elemento dessa serie está ou não dentro de um determinado intervalo.\n",
    "\n"
   ]
  },
  {
   "cell_type": "code",
   "execution_count": 118,
   "metadata": {
    "ExecuteTime": {
     "end_time": "2021-02-04T21:19:46.066245Z",
     "start_time": "2021-02-04T21:19:46.054701Z"
    },
    "colab": {
     "base_uri": "https://localhost:8080/"
    },
    "executionInfo": {
     "elapsed": 319,
     "status": "ok",
     "timestamp": 1694686550312,
     "user": {
      "displayName": "Sara Fernandes",
      "userId": "11122184483201700096"
     },
     "user_tz": -60
    },
    "id": "1qCD7R7TJ0YH",
    "outputId": "ada54395-1699-4d8d-c90f-e0a0734d4f89"
   },
   "outputs": [
    {
     "data": {
      "text/plain": [
       "a    2.545681\n",
       "b   -0.405976\n",
       "c   -1.332624\n",
       "d   -2.557766\n",
       "e    0.645326\n",
       "f   -0.797322\n",
       "g    1.727533\n",
       "h   -1.460237\n",
       "i    0.630411\n",
       "j    0.437290\n",
       "dtype: float64"
      ]
     },
     "execution_count": 118,
     "metadata": {},
     "output_type": "execute_result"
    }
   ],
   "source": [
    "s = pd.Series(np.random.randn(10), ['a','b','c','d','e','f','g','h','i','j'])\n",
    "s"
   ]
  },
  {
   "cell_type": "code",
   "execution_count": 119,
   "metadata": {
    "ExecuteTime": {
     "end_time": "2021-02-04T21:19:48.746777Z",
     "start_time": "2021-02-04T21:19:48.735774Z"
    },
    "colab": {
     "base_uri": "https://localhost:8080/"
    },
    "executionInfo": {
     "elapsed": 509,
     "status": "ok",
     "timestamp": 1694686586406,
     "user": {
      "displayName": "Sara Fernandes",
      "userId": "11122184483201700096"
     },
     "user_tz": -60
    },
    "id": "H7Bhb-CFJ0YH",
    "outputId": "1c7f1453-ca86-43ab-f637-8d424e95047c"
   },
   "outputs": [
    {
     "data": {
      "text/plain": [
       "a    False\n",
       "b    False\n",
       "c    False\n",
       "d    False\n",
       "e     True\n",
       "f    False\n",
       "g    False\n",
       "h    False\n",
       "i     True\n",
       "j     True\n",
       "dtype: bool"
      ]
     },
     "execution_count": 119,
     "metadata": {},
     "output_type": "execute_result"
    }
   ],
   "source": [
    "s.between(0,1)"
   ]
  },
  {
   "cell_type": "markdown",
   "metadata": {
    "id": "TnZs9e4zJ0YH"
   },
   "source": [
    "\n",
    "\n",
    "## Concatenar Series"
   ]
  },
  {
   "cell_type": "markdown",
   "metadata": {
    "id": "xwgmsNh2J0YH"
   },
   "source": [
    "### append()"
   ]
  },
  {
   "cell_type": "markdown",
   "metadata": {
    "id": "ateb5rIaJ0YH"
   },
   "source": [
    "\n",
    "\n",
    "É possível adicionar elementos a uma serie através do método **append()**.\n",
    "\n",
    "O argumento para esse método deve ser uma outra serie, uma lista ou um tuplo de series."
   ]
  },
  {
   "cell_type": "code",
   "execution_count": 120,
   "metadata": {
    "ExecuteTime": {
     "end_time": "2021-02-04T21:25:47.019067Z",
     "start_time": "2021-02-04T21:25:46.995981Z"
    },
    "colab": {
     "base_uri": "https://localhost:8080/"
    },
    "executionInfo": {
     "elapsed": 371,
     "status": "ok",
     "timestamp": 1694686622122,
     "user": {
      "displayName": "Sara Fernandes",
      "userId": "11122184483201700096"
     },
     "user_tz": -60
    },
    "id": "9CeZHgjaJ0YH",
    "outputId": "0da1c348-6ee8-4a42-8c19-cb3525ca1f84"
   },
   "outputs": [
    {
     "data": {
      "text/plain": [
       "a    4\n",
       "b    0\n",
       "c    2\n",
       "d    3\n",
       "dtype: int64"
      ]
     },
     "execution_count": 120,
     "metadata": {},
     "output_type": "execute_result"
    }
   ],
   "source": [
    "series_1  = pd.Series(np.random.randint(6,size=4), index = [\"a\",\"b\",\"c\",\"d\"])\n",
    "series_1"
   ]
  },
  {
   "cell_type": "code",
   "execution_count": 121,
   "metadata": {
    "ExecuteTime": {
     "end_time": "2021-02-04T21:23:34.701762Z",
     "start_time": "2021-02-04T21:23:34.679726Z"
    },
    "colab": {
     "base_uri": "https://localhost:8080/"
    },
    "executionInfo": {
     "elapsed": 9,
     "status": "ok",
     "timestamp": 1694686624359,
     "user": {
      "displayName": "Sara Fernandes",
      "userId": "11122184483201700096"
     },
     "user_tz": -60
    },
    "id": "2sBbXJsXJ0YH",
    "outputId": "bc261aa4-c588-4597-c58a-244c2127e3fc"
   },
   "outputs": [
    {
     "data": {
      "text/plain": [
       "a    2000\n",
       "dtype: int64"
      ]
     },
     "execution_count": 121,
     "metadata": {},
     "output_type": "execute_result"
    }
   ],
   "source": [
    "series_2 = pd.Series(2000, index = [\"a\"])\n",
    "series_2"
   ]
  },
  {
   "cell_type": "markdown",
   "metadata": {
    "ExecuteTime": {
     "end_time": "2020-02-15T09:07:09.312146Z",
     "start_time": "2020-02-15T09:07:09.300836Z"
    },
    "id": "-t3jY2FfJ0YI"
   },
   "source": [
    "Agora vamos tentar concatenar ambas as séries em uma.\n",
    "\n"
   ]
  },
  {
   "cell_type": "code",
   "execution_count": 123,
   "metadata": {
    "ExecuteTime": {
     "end_time": "2021-02-04T21:23:38.605278Z",
     "start_time": "2021-02-04T21:23:38.594722Z"
    },
    "colab": {
     "base_uri": "https://localhost:8080/"
    },
    "executionInfo": {
     "elapsed": 332,
     "status": "ok",
     "timestamp": 1694686642708,
     "user": {
      "displayName": "Sara Fernandes",
      "userId": "11122184483201700096"
     },
     "user_tz": -60
    },
    "id": "tmp8C2jdJ0YI",
    "outputId": "07c5fb58-8419-4ea8-e56f-ecd6bc853e7c"
   },
   "outputs": [
    {
     "name": "stderr",
     "output_type": "stream",
     "text": [
      "<ipython-input-123-192fbec252f0>:1: FutureWarning: The series.append method is deprecated and will be removed from pandas in a future version. Use pandas.concat instead.\n",
      "  series_2.append(series_1)\n"
     ]
    },
    {
     "data": {
      "text/plain": [
       "a    2000\n",
       "a       4\n",
       "b       0\n",
       "c       2\n",
       "d       3\n",
       "dtype: int64"
      ]
     },
     "execution_count": 123,
     "metadata": {},
     "output_type": "execute_result"
    }
   ],
   "source": [
    "series_2.append(series_1)"
   ]
  },
  {
   "cell_type": "code",
   "execution_count": null,
   "metadata": {
    "ExecuteTime": {
     "end_time": "2021-02-04T21:23:45.943890Z",
     "start_time": "2021-02-04T21:23:45.933886Z"
    },
    "colab": {
     "base_uri": "https://localhost:8080/"
    },
    "id": "CaZZsSaXJ0YI",
    "outputId": "a81ffbde-a921-46cb-f1c3-59982ef8a97c"
   },
   "outputs": [
    {
     "data": {
      "text/plain": [
       "a       3\n",
       "b       0\n",
       "c       3\n",
       "d       0\n",
       "a    2000\n",
       "dtype: int64"
      ]
     },
     "execution_count": 130,
     "metadata": {},
     "output_type": "execute_result"
    }
   ],
   "source": [
    "series_1.append(series_2)"
   ]
  },
  {
   "cell_type": "markdown",
   "metadata": {
    "id": "_ZuKY_1rJ0YI"
   },
   "source": [
    "**Nota:** Reparem que existem etiquetagem duplicada."
   ]
  },
  {
   "cell_type": "markdown",
   "metadata": {
    "id": "nvaIXDqiJ0YI"
   },
   "source": [
    "### append() com reetiquetagem"
   ]
  },
  {
   "cell_type": "markdown",
   "metadata": {
    "id": "Ez853rcFJ0YI"
   },
   "source": [
    "Etiquetagem duplicada pode ser um problema:"
   ]
  },
  {
   "cell_type": "code",
   "execution_count": 124,
   "metadata": {
    "ExecuteTime": {
     "end_time": "2021-02-04T21:24:39.263679Z",
     "start_time": "2021-02-04T21:24:39.246978Z"
    },
    "colab": {
     "base_uri": "https://localhost:8080/"
    },
    "executionInfo": {
     "elapsed": 362,
     "status": "ok",
     "timestamp": 1694686672915,
     "user": {
      "displayName": "Sara Fernandes",
      "userId": "11122184483201700096"
     },
     "user_tz": -60
    },
    "id": "aBSFM_eyJ0YI",
    "outputId": "de82908d-7dd2-47eb-cd90-fde48a263ccf"
   },
   "outputs": [
    {
     "name": "stderr",
     "output_type": "stream",
     "text": [
      "<ipython-input-124-7c546d55dece>:1: FutureWarning: The series.append method is deprecated and will be removed from pandas in a future version. Use pandas.concat instead.\n",
      "  concat_series = series_1.append(series_2)\n"
     ]
    },
    {
     "data": {
      "text/plain": [
       "a       4\n",
       "a    2000\n",
       "dtype: int64"
      ]
     },
     "execution_count": 124,
     "metadata": {},
     "output_type": "execute_result"
    }
   ],
   "source": [
    "concat_series = series_1.append(series_2)\n",
    "concat_series[['a']]"
   ]
  },
  {
   "cell_type": "markdown",
   "metadata": {
    "id": "yc3vLa7gJ0YI"
   },
   "source": [
    "Para evitar este problema, ao concatenar series devemos epecificar a reetiquetagem através do parâmetro **ignore_index = True**.\n",
    "\n"
   ]
  },
  {
   "cell_type": "code",
   "execution_count": 125,
   "metadata": {
    "ExecuteTime": {
     "end_time": "2021-02-04T21:22:23.442013Z",
     "start_time": "2021-02-04T21:22:23.421808Z"
    },
    "colab": {
     "base_uri": "https://localhost:8080/"
    },
    "executionInfo": {
     "elapsed": 615,
     "status": "ok",
     "timestamp": 1694686697139,
     "user": {
      "displayName": "Sara Fernandes",
      "userId": "11122184483201700096"
     },
     "user_tz": -60
    },
    "id": "_Nn5vaMTJ0YI",
    "outputId": "2ed87044-565e-49f0-9150-c733c7832cb7"
   },
   "outputs": [
    {
     "name": "stderr",
     "output_type": "stream",
     "text": [
      "<ipython-input-125-c1ece5d425ea>:1: FutureWarning: The series.append method is deprecated and will be removed from pandas in a future version. Use pandas.concat instead.\n",
      "  series_1.append(series_2,ignore_index=True)\n"
     ]
    },
    {
     "data": {
      "text/plain": [
       "0       4\n",
       "1       0\n",
       "2       2\n",
       "3       3\n",
       "4    2000\n",
       "dtype: int64"
      ]
     },
     "execution_count": 125,
     "metadata": {},
     "output_type": "execute_result"
    }
   ],
   "source": [
    "series_1.append(series_2,ignore_index=True)"
   ]
  },
  {
   "cell_type": "code",
   "execution_count": 126,
   "metadata": {
    "ExecuteTime": {
     "end_time": "2021-02-04T21:25:17.108182Z",
     "start_time": "2021-02-04T21:25:17.100181Z"
    },
    "colab": {
     "base_uri": "https://localhost:8080/"
    },
    "executionInfo": {
     "elapsed": 848,
     "status": "ok",
     "timestamp": 1694686723595,
     "user": {
      "displayName": "Sara Fernandes",
      "userId": "11122184483201700096"
     },
     "user_tz": -60
    },
    "id": "C0LzwA0WJ0YI",
    "outputId": "f4b097ae-0abd-4b35-eea9-e18905a38d4c"
   },
   "outputs": [
    {
     "name": "stderr",
     "output_type": "stream",
     "text": [
      "<ipython-input-126-699fbb8b18ea>:1: FutureWarning: The series.append method is deprecated and will be removed from pandas in a future version. Use pandas.concat instead.\n",
      "  series_1.append(series_2, ignore_index=True)[[0]]\n"
     ]
    },
    {
     "data": {
      "text/plain": [
       "0    4\n",
       "dtype: int64"
      ]
     },
     "execution_count": 126,
     "metadata": {},
     "output_type": "execute_result"
    }
   ],
   "source": [
    "series_1.append(series_2, ignore_index=True)[[0]]"
   ]
  },
  {
   "cell_type": "markdown",
   "metadata": {
    "id": "52Avm-XzJ0YI"
   },
   "source": [
    "### append() mantendo índices e evitando duplicados"
   ]
  },
  {
   "cell_type": "markdown",
   "metadata": {
    "id": "MgDEeOuhJ0YI"
   },
   "source": [
    "Se quisermos manter os índices originais das series concatenadas temos que utilizar o parâmetro **verify_integrity = True**. Assim, ao concatenar series com índices iguais, será apresentada uma mensagem de erro.\n"
   ]
  },
  {
   "cell_type": "code",
   "execution_count": 127,
   "metadata": {
    "ExecuteTime": {
     "end_time": "2021-02-04T21:26:17.313040Z",
     "start_time": "2021-02-04T21:26:17.274013Z"
    },
    "colab": {
     "base_uri": "https://localhost:8080/",
     "height": 371
    },
    "executionInfo": {
     "elapsed": 763,
     "status": "error",
     "timestamp": 1694686776638,
     "user": {
      "displayName": "Sara Fernandes",
      "userId": "11122184483201700096"
     },
     "user_tz": -60
    },
    "id": "Kc-2x9WHJ0YI",
    "outputId": "406d9270-0e76-4cd7-8634-079a395a25db"
   },
   "outputs": [
    {
     "name": "stderr",
     "output_type": "stream",
     "text": [
      "<ipython-input-127-31d6c3fbfb1b>:1: FutureWarning: The series.append method is deprecated and will be removed from pandas in a future version. Use pandas.concat instead.\n",
      "  series_1.append(series_2, verify_integrity=True)\n"
     ]
    },
    {
     "ename": "ValueError",
     "evalue": "ignored",
     "output_type": "error",
     "traceback": [
      "\u001b[0;31m---------------------------------------------------------------------------\u001b[0m",
      "\u001b[0;31mValueError\u001b[0m                                Traceback (most recent call last)",
      "\u001b[0;32m<ipython-input-127-31d6c3fbfb1b>\u001b[0m in \u001b[0;36m<cell line: 1>\u001b[0;34m()\u001b[0m\n\u001b[0;32m----> 1\u001b[0;31m \u001b[0mseries_1\u001b[0m\u001b[0;34m.\u001b[0m\u001b[0mappend\u001b[0m\u001b[0;34m(\u001b[0m\u001b[0mseries_2\u001b[0m\u001b[0;34m,\u001b[0m \u001b[0mverify_integrity\u001b[0m\u001b[0;34m=\u001b[0m\u001b[0;32mTrue\u001b[0m\u001b[0;34m)\u001b[0m\u001b[0;34m\u001b[0m\u001b[0;34m\u001b[0m\u001b[0m\n\u001b[0m",
      "\u001b[0;32m/usr/local/lib/python3.10/dist-packages/pandas/core/series.py\u001b[0m in \u001b[0;36mappend\u001b[0;34m(self, to_append, ignore_index, verify_integrity)\u001b[0m\n\u001b[1;32m   3138\u001b[0m         )\n\u001b[1;32m   3139\u001b[0m \u001b[0;34m\u001b[0m\u001b[0m\n\u001b[0;32m-> 3140\u001b[0;31m         \u001b[0;32mreturn\u001b[0m \u001b[0mself\u001b[0m\u001b[0;34m.\u001b[0m\u001b[0m_append\u001b[0m\u001b[0;34m(\u001b[0m\u001b[0mto_append\u001b[0m\u001b[0;34m,\u001b[0m \u001b[0mignore_index\u001b[0m\u001b[0;34m,\u001b[0m \u001b[0mverify_integrity\u001b[0m\u001b[0;34m)\u001b[0m\u001b[0;34m\u001b[0m\u001b[0;34m\u001b[0m\u001b[0m\n\u001b[0m\u001b[1;32m   3141\u001b[0m \u001b[0;34m\u001b[0m\u001b[0m\n\u001b[1;32m   3142\u001b[0m     def _append(\n",
      "\u001b[0;32m/usr/local/lib/python3.10/dist-packages/pandas/core/series.py\u001b[0m in \u001b[0;36m_append\u001b[0;34m(self, to_append, ignore_index, verify_integrity)\u001b[0m\n\u001b[1;32m   3153\u001b[0m             \u001b[0mmsg\u001b[0m \u001b[0;34m=\u001b[0m \u001b[0;34m\"to_append should be a Series or list/tuple of Series, got DataFrame\"\u001b[0m\u001b[0;34m\u001b[0m\u001b[0;34m\u001b[0m\u001b[0m\n\u001b[1;32m   3154\u001b[0m             \u001b[0;32mraise\u001b[0m \u001b[0mTypeError\u001b[0m\u001b[0;34m(\u001b[0m\u001b[0mmsg\u001b[0m\u001b[0;34m)\u001b[0m\u001b[0;34m\u001b[0m\u001b[0;34m\u001b[0m\u001b[0m\n\u001b[0;32m-> 3155\u001b[0;31m         return concat(\n\u001b[0m\u001b[1;32m   3156\u001b[0m             \u001b[0mto_concat\u001b[0m\u001b[0;34m,\u001b[0m \u001b[0mignore_index\u001b[0m\u001b[0;34m=\u001b[0m\u001b[0mignore_index\u001b[0m\u001b[0;34m,\u001b[0m \u001b[0mverify_integrity\u001b[0m\u001b[0;34m=\u001b[0m\u001b[0mverify_integrity\u001b[0m\u001b[0;34m\u001b[0m\u001b[0;34m\u001b[0m\u001b[0m\n\u001b[1;32m   3157\u001b[0m         )\n",
      "\u001b[0;32m/usr/local/lib/python3.10/dist-packages/pandas/util/_decorators.py\u001b[0m in \u001b[0;36mwrapper\u001b[0;34m(*args, **kwargs)\u001b[0m\n\u001b[1;32m    329\u001b[0m                     \u001b[0mstacklevel\u001b[0m\u001b[0;34m=\u001b[0m\u001b[0mfind_stack_level\u001b[0m\u001b[0;34m(\u001b[0m\u001b[0;34m)\u001b[0m\u001b[0;34m,\u001b[0m\u001b[0;34m\u001b[0m\u001b[0;34m\u001b[0m\u001b[0m\n\u001b[1;32m    330\u001b[0m                 )\n\u001b[0;32m--> 331\u001b[0;31m             \u001b[0;32mreturn\u001b[0m \u001b[0mfunc\u001b[0m\u001b[0;34m(\u001b[0m\u001b[0;34m*\u001b[0m\u001b[0margs\u001b[0m\u001b[0;34m,\u001b[0m \u001b[0;34m**\u001b[0m\u001b[0mkwargs\u001b[0m\u001b[0;34m)\u001b[0m\u001b[0;34m\u001b[0m\u001b[0;34m\u001b[0m\u001b[0m\n\u001b[0m\u001b[1;32m    332\u001b[0m \u001b[0;34m\u001b[0m\u001b[0m\n\u001b[1;32m    333\u001b[0m         \u001b[0;31m# error: \"Callable[[VarArg(Any), KwArg(Any)], Any]\" has no\u001b[0m\u001b[0;34m\u001b[0m\u001b[0;34m\u001b[0m\u001b[0m\n",
      "\u001b[0;32m/usr/local/lib/python3.10/dist-packages/pandas/core/reshape/concat.py\u001b[0m in \u001b[0;36mconcat\u001b[0;34m(objs, axis, join, ignore_index, keys, levels, names, verify_integrity, sort, copy)\u001b[0m\n\u001b[1;32m    366\u001b[0m     \u001b[0;36m1\u001b[0m   \u001b[0;36m3\u001b[0m   \u001b[0;36m4\u001b[0m\u001b[0;34m\u001b[0m\u001b[0;34m\u001b[0m\u001b[0m\n\u001b[1;32m    367\u001b[0m     \"\"\"\n\u001b[0;32m--> 368\u001b[0;31m     op = _Concatenator(\n\u001b[0m\u001b[1;32m    369\u001b[0m         \u001b[0mobjs\u001b[0m\u001b[0;34m,\u001b[0m\u001b[0;34m\u001b[0m\u001b[0;34m\u001b[0m\u001b[0m\n\u001b[1;32m    370\u001b[0m         \u001b[0maxis\u001b[0m\u001b[0;34m=\u001b[0m\u001b[0maxis\u001b[0m\u001b[0;34m,\u001b[0m\u001b[0;34m\u001b[0m\u001b[0;34m\u001b[0m\u001b[0m\n",
      "\u001b[0;32m/usr/local/lib/python3.10/dist-packages/pandas/core/reshape/concat.py\u001b[0m in \u001b[0;36m__init__\u001b[0;34m(self, objs, axis, join, keys, levels, names, ignore_index, verify_integrity, copy, sort)\u001b[0m\n\u001b[1;32m    561\u001b[0m         \u001b[0mself\u001b[0m\u001b[0;34m.\u001b[0m\u001b[0mcopy\u001b[0m \u001b[0;34m=\u001b[0m \u001b[0mcopy\u001b[0m\u001b[0;34m\u001b[0m\u001b[0;34m\u001b[0m\u001b[0m\n\u001b[1;32m    562\u001b[0m \u001b[0;34m\u001b[0m\u001b[0m\n\u001b[0;32m--> 563\u001b[0;31m         \u001b[0mself\u001b[0m\u001b[0;34m.\u001b[0m\u001b[0mnew_axes\u001b[0m \u001b[0;34m=\u001b[0m \u001b[0mself\u001b[0m\u001b[0;34m.\u001b[0m\u001b[0m_get_new_axes\u001b[0m\u001b[0;34m(\u001b[0m\u001b[0;34m)\u001b[0m\u001b[0;34m\u001b[0m\u001b[0;34m\u001b[0m\u001b[0m\n\u001b[0m\u001b[1;32m    564\u001b[0m \u001b[0;34m\u001b[0m\u001b[0m\n\u001b[1;32m    565\u001b[0m     \u001b[0;32mdef\u001b[0m \u001b[0mget_result\u001b[0m\u001b[0;34m(\u001b[0m\u001b[0mself\u001b[0m\u001b[0;34m)\u001b[0m\u001b[0;34m:\u001b[0m\u001b[0;34m\u001b[0m\u001b[0;34m\u001b[0m\u001b[0m\n",
      "\u001b[0;32m/usr/local/lib/python3.10/dist-packages/pandas/core/reshape/concat.py\u001b[0m in \u001b[0;36m_get_new_axes\u001b[0;34m(self)\u001b[0m\n\u001b[1;32m    631\u001b[0m     \u001b[0;32mdef\u001b[0m \u001b[0m_get_new_axes\u001b[0m\u001b[0;34m(\u001b[0m\u001b[0mself\u001b[0m\u001b[0;34m)\u001b[0m \u001b[0;34m->\u001b[0m \u001b[0mlist\u001b[0m\u001b[0;34m[\u001b[0m\u001b[0mIndex\u001b[0m\u001b[0;34m]\u001b[0m\u001b[0;34m:\u001b[0m\u001b[0;34m\u001b[0m\u001b[0;34m\u001b[0m\u001b[0m\n\u001b[1;32m    632\u001b[0m         \u001b[0mndim\u001b[0m \u001b[0;34m=\u001b[0m \u001b[0mself\u001b[0m\u001b[0;34m.\u001b[0m\u001b[0m_get_result_dim\u001b[0m\u001b[0;34m(\u001b[0m\u001b[0;34m)\u001b[0m\u001b[0;34m\u001b[0m\u001b[0;34m\u001b[0m\u001b[0m\n\u001b[0;32m--> 633\u001b[0;31m         return [\n\u001b[0m\u001b[1;32m    634\u001b[0m             \u001b[0mself\u001b[0m\u001b[0;34m.\u001b[0m\u001b[0m_get_concat_axis\u001b[0m \u001b[0;32mif\u001b[0m \u001b[0mi\u001b[0m \u001b[0;34m==\u001b[0m \u001b[0mself\u001b[0m\u001b[0;34m.\u001b[0m\u001b[0mbm_axis\u001b[0m \u001b[0;32melse\u001b[0m \u001b[0mself\u001b[0m\u001b[0;34m.\u001b[0m\u001b[0m_get_comb_axis\u001b[0m\u001b[0;34m(\u001b[0m\u001b[0mi\u001b[0m\u001b[0;34m)\u001b[0m\u001b[0;34m\u001b[0m\u001b[0;34m\u001b[0m\u001b[0m\n\u001b[1;32m    635\u001b[0m             \u001b[0;32mfor\u001b[0m \u001b[0mi\u001b[0m \u001b[0;32min\u001b[0m \u001b[0mrange\u001b[0m\u001b[0;34m(\u001b[0m\u001b[0mndim\u001b[0m\u001b[0;34m)\u001b[0m\u001b[0;34m\u001b[0m\u001b[0;34m\u001b[0m\u001b[0m\n",
      "\u001b[0;32m/usr/local/lib/python3.10/dist-packages/pandas/core/reshape/concat.py\u001b[0m in \u001b[0;36m<listcomp>\u001b[0;34m(.0)\u001b[0m\n\u001b[1;32m    632\u001b[0m         \u001b[0mndim\u001b[0m \u001b[0;34m=\u001b[0m \u001b[0mself\u001b[0m\u001b[0;34m.\u001b[0m\u001b[0m_get_result_dim\u001b[0m\u001b[0;34m(\u001b[0m\u001b[0;34m)\u001b[0m\u001b[0;34m\u001b[0m\u001b[0;34m\u001b[0m\u001b[0m\n\u001b[1;32m    633\u001b[0m         return [\n\u001b[0;32m--> 634\u001b[0;31m             \u001b[0mself\u001b[0m\u001b[0;34m.\u001b[0m\u001b[0m_get_concat_axis\u001b[0m \u001b[0;32mif\u001b[0m \u001b[0mi\u001b[0m \u001b[0;34m==\u001b[0m \u001b[0mself\u001b[0m\u001b[0;34m.\u001b[0m\u001b[0mbm_axis\u001b[0m \u001b[0;32melse\u001b[0m \u001b[0mself\u001b[0m\u001b[0;34m.\u001b[0m\u001b[0m_get_comb_axis\u001b[0m\u001b[0;34m(\u001b[0m\u001b[0mi\u001b[0m\u001b[0;34m)\u001b[0m\u001b[0;34m\u001b[0m\u001b[0;34m\u001b[0m\u001b[0m\n\u001b[0m\u001b[1;32m    635\u001b[0m             \u001b[0;32mfor\u001b[0m \u001b[0mi\u001b[0m \u001b[0;32min\u001b[0m \u001b[0mrange\u001b[0m\u001b[0;34m(\u001b[0m\u001b[0mndim\u001b[0m\u001b[0;34m)\u001b[0m\u001b[0;34m\u001b[0m\u001b[0;34m\u001b[0m\u001b[0m\n\u001b[1;32m    636\u001b[0m         ]\n",
      "\u001b[0;32m/usr/local/lib/python3.10/dist-packages/pandas/_libs/properties.pyx\u001b[0m in \u001b[0;36mpandas._libs.properties.CachedProperty.__get__\u001b[0;34m()\u001b[0m\n",
      "\u001b[0;32m/usr/local/lib/python3.10/dist-packages/pandas/core/reshape/concat.py\u001b[0m in \u001b[0;36m_get_concat_axis\u001b[0;34m(self)\u001b[0m\n\u001b[1;32m    695\u001b[0m             )\n\u001b[1;32m    696\u001b[0m \u001b[0;34m\u001b[0m\u001b[0m\n\u001b[0;32m--> 697\u001b[0;31m         \u001b[0mself\u001b[0m\u001b[0;34m.\u001b[0m\u001b[0m_maybe_check_integrity\u001b[0m\u001b[0;34m(\u001b[0m\u001b[0mconcat_axis\u001b[0m\u001b[0;34m)\u001b[0m\u001b[0;34m\u001b[0m\u001b[0;34m\u001b[0m\u001b[0m\n\u001b[0m\u001b[1;32m    698\u001b[0m \u001b[0;34m\u001b[0m\u001b[0m\n\u001b[1;32m    699\u001b[0m         \u001b[0;32mreturn\u001b[0m \u001b[0mconcat_axis\u001b[0m\u001b[0;34m\u001b[0m\u001b[0;34m\u001b[0m\u001b[0m\n",
      "\u001b[0;32m/usr/local/lib/python3.10/dist-packages/pandas/core/reshape/concat.py\u001b[0m in \u001b[0;36m_maybe_check_integrity\u001b[0;34m(self, concat_index)\u001b[0m\n\u001b[1;32m    703\u001b[0m             \u001b[0;32mif\u001b[0m \u001b[0;32mnot\u001b[0m \u001b[0mconcat_index\u001b[0m\u001b[0;34m.\u001b[0m\u001b[0mis_unique\u001b[0m\u001b[0;34m:\u001b[0m\u001b[0;34m\u001b[0m\u001b[0;34m\u001b[0m\u001b[0m\n\u001b[1;32m    704\u001b[0m                 \u001b[0moverlap\u001b[0m \u001b[0;34m=\u001b[0m \u001b[0mconcat_index\u001b[0m\u001b[0;34m[\u001b[0m\u001b[0mconcat_index\u001b[0m\u001b[0;34m.\u001b[0m\u001b[0mduplicated\u001b[0m\u001b[0;34m(\u001b[0m\u001b[0;34m)\u001b[0m\u001b[0;34m]\u001b[0m\u001b[0;34m.\u001b[0m\u001b[0munique\u001b[0m\u001b[0;34m(\u001b[0m\u001b[0;34m)\u001b[0m\u001b[0;34m\u001b[0m\u001b[0;34m\u001b[0m\u001b[0m\n\u001b[0;32m--> 705\u001b[0;31m                 \u001b[0;32mraise\u001b[0m \u001b[0mValueError\u001b[0m\u001b[0;34m(\u001b[0m\u001b[0;34mf\"Indexes have overlapping values: {overlap}\"\u001b[0m\u001b[0;34m)\u001b[0m\u001b[0;34m\u001b[0m\u001b[0;34m\u001b[0m\u001b[0m\n\u001b[0m\u001b[1;32m    706\u001b[0m \u001b[0;34m\u001b[0m\u001b[0m\n\u001b[1;32m    707\u001b[0m \u001b[0;34m\u001b[0m\u001b[0m\n",
      "\u001b[0;31mValueError\u001b[0m: Indexes have overlapping values: Index(['a'], dtype='object')"
     ]
    }
   ],
   "source": [
    "series_1.append(series_2, verify_integrity=True)"
   ]
  },
  {
   "cell_type": "markdown",
   "metadata": {
    "id": "MbNUa3N6J0YJ"
   },
   "source": [
    "## Ordenação de series"
   ]
  },
  {
   "cell_type": "markdown",
   "metadata": {
    "id": "0VD4KIdOJ0YJ"
   },
   "source": [
    "Podemos ordenar uma serie através dos seus índices ou valores."
   ]
  },
  {
   "cell_type": "markdown",
   "metadata": {
    "id": "AEz-VKDHJ0YJ"
   },
   "source": [
    "### Por índices"
   ]
  },
  {
   "cell_type": "markdown",
   "metadata": {
    "id": "EAgL_18uJ0YJ"
   },
   "source": [
    "Se os rótulos forem alfabéticos estes serão ordenados por ordem alfabética. Se forem numéricos, serão ordenados por ordem numérica crescente.\n",
    "\n"
   ]
  },
  {
   "cell_type": "markdown",
   "metadata": {
    "id": "K15mcBaMJ0YJ"
   },
   "source": [
    "Contudo, podemos especificar uma ordem diferente usando o parâmetro:\n",
    "- *ascending* = True ou False"
   ]
  },
  {
   "cell_type": "markdown",
   "metadata": {
    "id": "4ZOyp0M4J0YJ"
   },
   "source": [
    "#### Ordenar alfabeticamente"
   ]
  },
  {
   "cell_type": "code",
   "execution_count": 128,
   "metadata": {
    "ExecuteTime": {
     "end_time": "2020-03-02T20:06:55.973844Z",
     "start_time": "2020-03-02T20:06:55.954038Z"
    },
    "colab": {
     "base_uri": "https://localhost:8080/"
    },
    "executionInfo": {
     "elapsed": 285,
     "status": "ok",
     "timestamp": 1694686823990,
     "user": {
      "displayName": "Sara Fernandes",
      "userId": "11122184483201700096"
     },
     "user_tz": -60
    },
    "id": "ooGpCUAiJ0YJ",
    "outputId": "e83ea517-5a1b-4899-fd9f-0dd5ae709a50"
   },
   "outputs": [
    {
     "data": {
      "text/plain": [
       "a    0.206528\n",
       "c   -0.535488\n",
       "b    0.518351\n",
       "f   -0.204870\n",
       "d   -0.707768\n",
       "g   -0.478337\n",
       "e    1.505821\n",
       "h   -0.021018\n",
       "i    0.529129\n",
       "j   -1.704381\n",
       "dtype: float64"
      ]
     },
     "execution_count": 128,
     "metadata": {},
     "output_type": "execute_result"
    }
   ],
   "source": [
    "import numpy as np\n",
    "s = pd.Series(np.random.randn(10), ['a','c','b','f','d','g','e','h','i','j'])\n",
    "s"
   ]
  },
  {
   "cell_type": "code",
   "execution_count": 129,
   "metadata": {
    "ExecuteTime": {
     "end_time": "2020-03-02T20:17:39.056591Z",
     "start_time": "2020-03-02T20:17:39.047309Z"
    },
    "colab": {
     "base_uri": "https://localhost:8080/"
    },
    "executionInfo": {
     "elapsed": 390,
     "status": "ok",
     "timestamp": 1694686870407,
     "user": {
      "displayName": "Sara Fernandes",
      "userId": "11122184483201700096"
     },
     "user_tz": -60
    },
    "id": "Fb4RryFIJ0YJ",
    "outputId": "728f1a78-43c0-43d0-e070-a94a06b8b999"
   },
   "outputs": [
    {
     "name": "stdout",
     "output_type": "stream",
     "text": [
      "Reverse Alphabetical Sorting =>\n",
      "\n",
      "j   -1.704381\n",
      "i    0.529129\n",
      "h   -0.021018\n",
      "g   -0.478337\n",
      "f   -0.204870\n",
      "e    1.505821\n",
      "d   -0.707768\n",
      "c   -0.535488\n",
      "b    0.518351\n",
      "a    0.206528\n",
      "dtype: float64\n"
     ]
    }
   ],
   "source": [
    "print ('Reverse Alphabetical Sorting =>\\n')\n",
    "\n",
    "print(s.sort_index(ascending = False))"
   ]
  },
  {
   "cell_type": "code",
   "execution_count": 130,
   "metadata": {
    "ExecuteTime": {
     "end_time": "2020-02-15T10:45:00.498821Z",
     "start_time": "2020-02-15T10:45:00.491050Z"
    },
    "colab": {
     "base_uri": "https://localhost:8080/"
    },
    "executionInfo": {
     "elapsed": 317,
     "status": "ok",
     "timestamp": 1694686888388,
     "user": {
      "displayName": "Sara Fernandes",
      "userId": "11122184483201700096"
     },
     "user_tz": -60
    },
    "id": "D_uUtvxsJ0YJ",
    "outputId": "2773ab28-a507-4c63-dbcd-f107d5e76f30"
   },
   "outputs": [
    {
     "data": {
      "text/plain": [
       "a    0.206528\n",
       "b    0.518351\n",
       "c   -0.535488\n",
       "d   -0.707768\n",
       "e    1.505821\n",
       "f   -0.204870\n",
       "g   -0.478337\n",
       "h   -0.021018\n",
       "i    0.529129\n",
       "j   -1.704381\n",
       "dtype: float64"
      ]
     },
     "execution_count": 130,
     "metadata": {},
     "output_type": "execute_result"
    }
   ],
   "source": [
    "s.sort_index(ascending=True)"
   ]
  },
  {
   "cell_type": "markdown",
   "metadata": {
    "id": "m5qgMO7XJ0YJ"
   },
   "source": [
    "#### Ordenar numericamente"
   ]
  },
  {
   "cell_type": "code",
   "execution_count": 131,
   "metadata": {
    "ExecuteTime": {
     "end_time": "2020-03-02T20:07:42.037428Z",
     "start_time": "2020-03-02T20:07:42.023892Z"
    },
    "colab": {
     "base_uri": "https://localhost:8080/"
    },
    "executionInfo": {
     "elapsed": 314,
     "status": "ok",
     "timestamp": 1694686902752,
     "user": {
      "displayName": "Sara Fernandes",
      "userId": "11122184483201700096"
     },
     "user_tz": -60
    },
    "id": "J7i_DdzkJ0YK",
    "outputId": "46afe61d-4ef5-44c8-bf1f-4e314665cf2a"
   },
   "outputs": [
    {
     "data": {
      "text/plain": [
       "2    -0.073700\n",
       "3    -1.709192\n",
       "49   -1.656363\n",
       "10   -0.470246\n",
       "dtype: float64"
      ]
     },
     "execution_count": 131,
     "metadata": {},
     "output_type": "execute_result"
    }
   ],
   "source": [
    "x = pd.Series(np.random.randn(4), [2,3,49,10])\n",
    "x"
   ]
  },
  {
   "cell_type": "code",
   "execution_count": 132,
   "metadata": {
    "ExecuteTime": {
     "end_time": "2020-03-02T20:07:54.108820Z",
     "start_time": "2020-03-02T20:07:54.093047Z"
    },
    "colab": {
     "base_uri": "https://localhost:8080/"
    },
    "executionInfo": {
     "elapsed": 386,
     "status": "ok",
     "timestamp": 1694686908296,
     "user": {
      "displayName": "Sara Fernandes",
      "userId": "11122184483201700096"
     },
     "user_tz": -60
    },
    "id": "_EMow944J0YK",
    "outputId": "86a6a190-3f5e-4f4d-b1f0-e98e0eebd4a2"
   },
   "outputs": [
    {
     "name": "stdout",
     "output_type": "stream",
     "text": [
      "Descending Numerical Sorting: =>\n",
      "\n",
      "49   -1.656363\n",
      "10   -0.470246\n",
      "3    -1.709192\n",
      "2    -0.073700\n",
      "dtype: float64\n"
     ]
    }
   ],
   "source": [
    "print ('Descending Numerical Sorting: =>\\n')\n",
    "\n",
    "print(x.sort_index(ascending = False))"
   ]
  },
  {
   "cell_type": "code",
   "execution_count": 133,
   "metadata": {
    "colab": {
     "base_uri": "https://localhost:8080/"
    },
    "executionInfo": {
     "elapsed": 18,
     "status": "ok",
     "timestamp": 1694686931983,
     "user": {
      "displayName": "Sara Fernandes",
      "userId": "11122184483201700096"
     },
     "user_tz": -60
    },
    "id": "eoL9v4AcNi1L",
    "outputId": "eaad0a67-92d7-412b-d952-85d120513f5a"
   },
   "outputs": [
    {
     "name": "stdout",
     "output_type": "stream",
     "text": [
      "2    -0.073700\n",
      "3    -1.709192\n",
      "10   -0.470246\n",
      "49   -1.656363\n",
      "dtype: float64\n"
     ]
    }
   ],
   "source": [
    "print(x.sort_index(ascending = True))"
   ]
  },
  {
   "cell_type": "markdown",
   "metadata": {
    "id": "vKd8sH1xJ0YK"
   },
   "source": [
    "### Por Valores"
   ]
  },
  {
   "cell_type": "markdown",
   "metadata": {
    "id": "Bry1oqaHJ0YK"
   },
   "source": [
    "Com o método **sort_values()** podemos ordenar uma serie consoante o valor dos seus elementos.\n",
    "\n",
    "Neste caso, também podemos utilizar o **ascending** para alterar o tipo de ordenação."
   ]
  },
  {
   "cell_type": "code",
   "execution_count": 134,
   "metadata": {
    "ExecuteTime": {
     "end_time": "2020-03-02T20:08:24.314089Z",
     "start_time": "2020-03-02T20:08:24.295955Z"
    },
    "colab": {
     "base_uri": "https://localhost:8080/"
    },
    "executionInfo": {
     "elapsed": 404,
     "status": "ok",
     "timestamp": 1694686956972,
     "user": {
      "displayName": "Sara Fernandes",
      "userId": "11122184483201700096"
     },
     "user_tz": -60
    },
    "id": "EXNcbUo6J0YK",
    "outputId": "6b9de830-f71f-4975-f002-225e6b8264b2"
   },
   "outputs": [
    {
     "name": "stdout",
     "output_type": "stream",
     "text": [
      "Sort values in ascending order: =>\n",
      "\n",
      "3    -1.709192\n",
      "49   -1.656363\n",
      "10   -0.470246\n",
      "2    -0.073700\n",
      "dtype: float64\n"
     ]
    }
   ],
   "source": [
    "print ('Sort values in ascending order: =>\\n')\n",
    "\n",
    "print(x.sort_values())"
   ]
  },
  {
   "cell_type": "code",
   "execution_count": 135,
   "metadata": {
    "ExecuteTime": {
     "end_time": "2020-03-02T20:08:37.284032Z",
     "start_time": "2020-03-02T20:08:37.267337Z"
    },
    "colab": {
     "base_uri": "https://localhost:8080/"
    },
    "executionInfo": {
     "elapsed": 323,
     "status": "ok",
     "timestamp": 1694686984034,
     "user": {
      "displayName": "Sara Fernandes",
      "userId": "11122184483201700096"
     },
     "user_tz": -60
    },
    "id": "QVzHSmSlJ0YK",
    "outputId": "8d9c4d1e-7f13-48b0-965c-2634b749e420"
   },
   "outputs": [
    {
     "name": "stdout",
     "output_type": "stream",
     "text": [
      "Sort values in descending order: =>\n",
      "\n",
      "2    -0.073700\n",
      "10   -0.470246\n",
      "49   -1.656363\n",
      "3    -1.709192\n",
      "dtype: float64\n"
     ]
    }
   ],
   "source": [
    "print ('Sort values in descending order: =>\\n')\n",
    "\n",
    "print(x.sort_values(ascending = False))"
   ]
  },
  {
   "cell_type": "markdown",
   "metadata": {
    "id": "HXA4vm_dJ0YK"
   },
   "source": [
    "## Eliminar elementos de uma serie"
   ]
  },
  {
   "cell_type": "markdown",
   "metadata": {
    "id": "R1T6FWYFJ0YL"
   },
   "source": [
    "Conseguimos eliminar elementos de uma serie de diferentes formas."
   ]
  },
  {
   "cell_type": "markdown",
   "metadata": {
    "id": "UM3wHDk1J0YL"
   },
   "source": [
    "\n",
    "\n",
    "### Eliminar por rótulo"
   ]
  },
  {
   "cell_type": "markdown",
   "metadata": {
    "id": "0qoDdRNNJ0YL"
   },
   "source": [
    "Com o método **drop()** conseguimos especificar um rótulo ou conjunto de rótulos a serem removidos, juntamente com o valor que lhe está atribuído.\n",
    "\n"
   ]
  },
  {
   "cell_type": "code",
   "execution_count": 136,
   "metadata": {
    "ExecuteTime": {
     "end_time": "2021-02-04T21:28:04.627383Z",
     "start_time": "2021-02-04T21:28:04.608081Z"
    },
    "colab": {
     "base_uri": "https://localhost:8080/"
    },
    "executionInfo": {
     "elapsed": 12,
     "status": "ok",
     "timestamp": 1694687000379,
     "user": {
      "displayName": "Sara Fernandes",
      "userId": "11122184483201700096"
     },
     "user_tz": -60
    },
    "id": "J2S5qENcJ0YL",
    "outputId": "be608874-6adb-4bf5-da05-09617c5df877"
   },
   "outputs": [
    {
     "data": {
      "text/plain": [
       "a    3\n",
       "b    0\n",
       "c    2\n",
       "d    4\n",
       "e    3\n",
       "dtype: int64"
      ]
     },
     "execution_count": 136,
     "metadata": {},
     "output_type": "execute_result"
    }
   ],
   "source": [
    "a = pd.Series(np.random.randint(5,size=5), index = [\"a\",\"b\",\"c\",\"d\",\"e\"])\n",
    "a"
   ]
  },
  {
   "cell_type": "code",
   "execution_count": 137,
   "metadata": {
    "ExecuteTime": {
     "end_time": "2021-02-04T21:28:17.058855Z",
     "start_time": "2021-02-04T21:28:17.041195Z"
    },
    "executionInfo": {
     "elapsed": 291,
     "status": "ok",
     "timestamp": 1694687008733,
     "user": {
      "displayName": "Sara Fernandes",
      "userId": "11122184483201700096"
     },
     "user_tz": -60
    },
    "id": "RDdvMtw4J0YL"
   },
   "outputs": [],
   "source": [
    "a = a.drop([\"d\"])"
   ]
  },
  {
   "cell_type": "code",
   "execution_count": 138,
   "metadata": {
    "ExecuteTime": {
     "end_time": "2021-02-04T21:28:17.819986Z",
     "start_time": "2021-02-04T21:28:17.805942Z"
    },
    "colab": {
     "base_uri": "https://localhost:8080/"
    },
    "executionInfo": {
     "elapsed": 14,
     "status": "ok",
     "timestamp": 1694687014174,
     "user": {
      "displayName": "Sara Fernandes",
      "userId": "11122184483201700096"
     },
     "user_tz": -60
    },
    "id": "kMaX2Xr2J0YL",
    "outputId": "a4ad451b-9528-42a3-861f-87d2c859a19b"
   },
   "outputs": [
    {
     "data": {
      "text/plain": [
       "a    3\n",
       "b    0\n",
       "c    2\n",
       "e    3\n",
       "dtype: int64"
      ]
     },
     "execution_count": 138,
     "metadata": {},
     "output_type": "execute_result"
    }
   ],
   "source": [
    "a"
   ]
  },
  {
   "cell_type": "code",
   "execution_count": 139,
   "metadata": {
    "ExecuteTime": {
     "end_time": "2021-02-04T21:29:12.105149Z",
     "start_time": "2021-02-04T21:29:12.091137Z"
    },
    "executionInfo": {
     "elapsed": 332,
     "status": "ok",
     "timestamp": 1694687031325,
     "user": {
      "displayName": "Sara Fernandes",
      "userId": "11122184483201700096"
     },
     "user_tz": -60
    },
    "id": "5-vX1eMNJ0YL"
   },
   "outputs": [],
   "source": [
    "a = a.drop(['a','c','e'])"
   ]
  },
  {
   "cell_type": "code",
   "execution_count": 140,
   "metadata": {
    "colab": {
     "base_uri": "https://localhost:8080/"
    },
    "executionInfo": {
     "elapsed": 395,
     "status": "ok",
     "timestamp": 1694687033993,
     "user": {
      "displayName": "Sara Fernandes",
      "userId": "11122184483201700096"
     },
     "user_tz": -60
    },
    "id": "KdFE-3HHFiyO",
    "outputId": "c27c7873-4f39-4641-e5d8-856849e509ba"
   },
   "outputs": [
    {
     "data": {
      "text/plain": [
       "b    0\n",
       "dtype: int64"
      ]
     },
     "execution_count": 140,
     "metadata": {},
     "output_type": "execute_result"
    }
   ],
   "source": [
    "a"
   ]
  },
  {
   "cell_type": "markdown",
   "metadata": {
    "id": "dsabmd2VJ0YL"
   },
   "source": [
    "### Eliminar duplicados"
   ]
  },
  {
   "cell_type": "markdown",
   "metadata": {
    "id": "W4A-jK7iJ0YM"
   },
   "source": [
    "Para remover valores duplicados, podemos utilizar o método **drop_duplicates()**.\n",
    "\n",
    "Por padrão, este método mantém a primeira cópia do valor duplicado, removendo as subsequentes.\n",
    "\n",
    "Se quisermos remover todos os itens duplicados, incluindo a primeira ocorrência, temos de especificar o parâmetro **keep = False**"
   ]
  },
  {
   "cell_type": "code",
   "execution_count": 143,
   "metadata": {
    "ExecuteTime": {
     "end_time": "2021-02-04T21:29:22.954993Z",
     "start_time": "2021-02-04T21:29:22.938227Z"
    },
    "colab": {
     "base_uri": "https://localhost:8080/"
    },
    "executionInfo": {
     "elapsed": 316,
     "status": "ok",
     "timestamp": 1694687105426,
     "user": {
      "displayName": "Sara Fernandes",
      "userId": "11122184483201700096"
     },
     "user_tz": -60
    },
    "id": "yvn4TZqlJ0YM",
    "outputId": "c2742155-19bf-4429-c294-18b5d80c6a10"
   },
   "outputs": [
    {
     "data": {
      "text/plain": [
       "0    1\n",
       "1    2\n",
       "2    2\n",
       "3    4\n",
       "4    5\n",
       "5    7\n",
       "6    3\n",
       "7    4\n",
       "dtype: int64"
      ]
     },
     "execution_count": 143,
     "metadata": {},
     "output_type": "execute_result"
    }
   ],
   "source": [
    "x = pd.Series([1, 2, 2, 4, 5, 7, 3, 4])\n",
    "x"
   ]
  },
  {
   "cell_type": "code",
   "execution_count": 142,
   "metadata": {
    "ExecuteTime": {
     "end_time": "2021-02-04T21:29:27.819670Z",
     "start_time": "2021-02-04T21:29:27.810176Z"
    },
    "colab": {
     "base_uri": "https://localhost:8080/"
    },
    "executionInfo": {
     "elapsed": 1042,
     "status": "ok",
     "timestamp": 1694687068996,
     "user": {
      "displayName": "Sara Fernandes",
      "userId": "11122184483201700096"
     },
     "user_tz": -60
    },
    "id": "t_3hcI3fJ0YM",
    "outputId": "903d8985-41bb-4b40-a803-16871a15faba"
   },
   "outputs": [
    {
     "name": "stdout",
     "output_type": "stream",
     "text": [
      "0    1\n",
      "1    2\n",
      "3    4\n",
      "4    5\n",
      "5    7\n",
      "6    3\n",
      "dtype: int64\n"
     ]
    }
   ],
   "source": [
    "print(x.drop_duplicates())"
   ]
  },
  {
   "cell_type": "code",
   "execution_count": 144,
   "metadata": {
    "ExecuteTime": {
     "end_time": "2021-02-04T21:29:50.409494Z",
     "start_time": "2021-02-04T21:29:50.393190Z"
    },
    "colab": {
     "base_uri": "https://localhost:8080/"
    },
    "executionInfo": {
     "elapsed": 276,
     "status": "ok",
     "timestamp": 1694687111449,
     "user": {
      "displayName": "Sara Fernandes",
      "userId": "11122184483201700096"
     },
     "user_tz": -60
    },
    "id": "2vMdh69LJ0YM",
    "outputId": "b4167303-884b-4eb7-f648-384d959e2a9d"
   },
   "outputs": [
    {
     "data": {
      "text/plain": [
       "0    1\n",
       "4    5\n",
       "5    7\n",
       "6    3\n",
       "dtype: int64"
      ]
     },
     "execution_count": 144,
     "metadata": {},
     "output_type": "execute_result"
    }
   ],
   "source": [
    "x.drop_duplicates(keep=False)"
   ]
  },
  {
   "cell_type": "markdown",
   "metadata": {
    "id": "uk-c6wYcJ0YM"
   },
   "source": [
    "## Valores nulos"
   ]
  },
  {
   "cell_type": "code",
   "execution_count": 145,
   "metadata": {
    "ExecuteTime": {
     "end_time": "2021-02-04T21:31:25.755975Z",
     "start_time": "2021-02-04T21:31:25.734258Z"
    },
    "colab": {
     "base_uri": "https://localhost:8080/"
    },
    "executionInfo": {
     "elapsed": 325,
     "status": "ok",
     "timestamp": 1694687146706,
     "user": {
      "displayName": "Sara Fernandes",
      "userId": "11122184483201700096"
     },
     "user_tz": -60
    },
    "id": "g_i61o2-J0YM",
    "outputId": "80bc22ec-a882-44ef-f826-0a1af19ecb24"
   },
   "outputs": [
    {
     "data": {
      "text/plain": [
       "Paris        1100.0\n",
       "New York     1000.0\n",
       "Madrid       1300.0\n",
       "London        900.0\n",
       "Bangalore    1450.0\n",
       "Rio             NaN\n",
       "dtype: float64"
      ]
     },
     "execution_count": 145,
     "metadata": {},
     "output_type": "execute_result"
    }
   ],
   "source": [
    "d = {'Paris': 1100, 'New York': 1000, 'Madrid': 1300, 'London': 900,\n",
    "     'Bangalore': 1450, 'Rio': None}\n",
    "cities = pd.Series(d)\n",
    "cities"
   ]
  },
  {
   "cell_type": "markdown",
   "metadata": {
    "id": "XmeiIqAeGf8p"
   },
   "source": [
    "Podemos verificar se existem elementos nulos de diferentes formas:"
   ]
  },
  {
   "cell_type": "code",
   "execution_count": 146,
   "metadata": {
    "colab": {
     "base_uri": "https://localhost:8080/"
    },
    "executionInfo": {
     "elapsed": 383,
     "status": "ok",
     "timestamp": 1694687150165,
     "user": {
      "displayName": "Sara Fernandes",
      "userId": "11122184483201700096"
     },
     "user_tz": -60
    },
    "id": "NoDGqu51J0YN",
    "outputId": "e0dcddef-dfb3-49ba-9a14-62296df81c20"
   },
   "outputs": [
    {
     "data": {
      "text/plain": [
       "False"
      ]
     },
     "execution_count": 146,
     "metadata": {},
     "output_type": "execute_result"
    }
   ],
   "source": [
    "cities.count() == len(cities)"
   ]
  },
  {
   "cell_type": "code",
   "execution_count": 147,
   "metadata": {
    "ExecuteTime": {
     "end_time": "2021-02-04T21:31:27.233792Z",
     "start_time": "2021-02-04T21:31:27.225278Z"
    },
    "colab": {
     "base_uri": "https://localhost:8080/"
    },
    "executionInfo": {
     "elapsed": 375,
     "status": "ok",
     "timestamp": 1694687175794,
     "user": {
      "displayName": "Sara Fernandes",
      "userId": "11122184483201700096"
     },
     "user_tz": -60
    },
    "id": "S_udfIOxJ0YN",
    "outputId": "efcfe5a1-175b-4a45-d633-c54b9c28cf3f"
   },
   "outputs": [
    {
     "name": "stdout",
     "output_type": "stream",
     "text": [
      "Paris        False\n",
      "New York     False\n",
      "Madrid       False\n",
      "London       False\n",
      "Bangalore    False\n",
      "Rio           True\n",
      "dtype: bool\n"
     ]
    }
   ],
   "source": [
    "print(cities.isnull())"
   ]
  },
  {
   "cell_type": "code",
   "execution_count": 148,
   "metadata": {
    "ExecuteTime": {
     "end_time": "2021-02-04T21:32:31.211397Z",
     "start_time": "2021-02-04T21:32:31.195320Z"
    },
    "colab": {
     "base_uri": "https://localhost:8080/"
    },
    "executionInfo": {
     "elapsed": 370,
     "status": "ok",
     "timestamp": 1694687236771,
     "user": {
      "displayName": "Sara Fernandes",
      "userId": "11122184483201700096"
     },
     "user_tz": -60
    },
    "id": "LsSrmKLcJ0YN",
    "outputId": "50e9e38a-4d7f-453b-9a92-cac5e8f17e86"
   },
   "outputs": [
    {
     "data": {
      "text/plain": [
       "1"
      ]
     },
     "execution_count": 148,
     "metadata": {},
     "output_type": "execute_result"
    }
   ],
   "source": [
    "cities.isnull().sum()"
   ]
  },
  {
   "cell_type": "code",
   "execution_count": null,
   "metadata": {
    "ExecuteTime": {
     "end_time": "2021-02-04T21:31:31.943255Z",
     "start_time": "2021-02-04T21:31:31.933266Z"
    },
    "colab": {
     "base_uri": "https://localhost:8080/"
    },
    "id": "k6LHJGvyJ0YN",
    "outputId": "cbd7e8c9-0859-4918-b923-dbebae2fb952"
   },
   "outputs": [
    {
     "name": "stdout",
     "output_type": "stream",
     "text": [
      "Paris         True\n",
      "New York      True\n",
      "Madrid        True\n",
      "London        True\n",
      "Bangalore     True\n",
      "Rio          False\n",
      "dtype: bool\n"
     ]
    }
   ],
   "source": [
    "print(cities.notnull())"
   ]
  },
  {
   "cell_type": "code",
   "execution_count": 149,
   "metadata": {
    "colab": {
     "base_uri": "https://localhost:8080/"
    },
    "executionInfo": {
     "elapsed": 286,
     "status": "ok",
     "timestamp": 1694687265962,
     "user": {
      "displayName": "Sara Fernandes",
      "userId": "11122184483201700096"
     },
     "user_tz": -60
    },
    "id": "JxST53UpO1HQ",
    "outputId": "d0e9f810-edb1-4e23-dfcf-1539703756ce"
   },
   "outputs": [
    {
     "data": {
      "text/plain": [
       "5"
      ]
     },
     "execution_count": 149,
     "metadata": {},
     "output_type": "execute_result"
    }
   ],
   "source": [
    "cities.notnull().sum()"
   ]
  },
  {
   "cell_type": "markdown",
   "metadata": {
    "id": "rs6vYuUEJ0YN"
   },
   "source": [
    "### Eliminar valores nulos"
   ]
  },
  {
   "cell_type": "markdown",
   "metadata": {
    "id": "Ux_2NVSSJ0YN"
   },
   "source": [
    "Para remover elementos sem valor de uma serie, devemos usar o método **dropna()**."
   ]
  },
  {
   "cell_type": "code",
   "execution_count": 150,
   "metadata": {
    "ExecuteTime": {
     "end_time": "2021-02-04T21:33:24.123352Z",
     "start_time": "2021-02-04T21:33:24.109690Z"
    },
    "executionInfo": {
     "elapsed": 535,
     "status": "ok",
     "timestamp": 1694687288080,
     "user": {
      "displayName": "Sara Fernandes",
      "userId": "11122184483201700096"
     },
     "user_tz": -60
    },
    "id": "dOiNDFXYJ0YN"
   },
   "outputs": [],
   "source": [
    "y = pd.Series([1, 2, 3, 4, np.nan, 5, 6])"
   ]
  },
  {
   "cell_type": "code",
   "execution_count": 151,
   "metadata": {
    "ExecuteTime": {
     "end_time": "2021-02-04T21:33:26.111897Z",
     "start_time": "2021-02-04T21:33:26.103345Z"
    },
    "colab": {
     "base_uri": "https://localhost:8080/"
    },
    "executionInfo": {
     "elapsed": 351,
     "status": "ok",
     "timestamp": 1694687292199,
     "user": {
      "displayName": "Sara Fernandes",
      "userId": "11122184483201700096"
     },
     "user_tz": -60
    },
    "id": "Q_6j8SqnJ0YN",
    "outputId": "d1ee7915-1809-4a38-d0a9-beb32bfb7ee7"
   },
   "outputs": [
    {
     "data": {
      "text/plain": [
       "0    1.0\n",
       "1    2.0\n",
       "2    3.0\n",
       "3    4.0\n",
       "4    NaN\n",
       "5    5.0\n",
       "6    6.0\n",
       "dtype: float64"
      ]
     },
     "execution_count": 151,
     "metadata": {},
     "output_type": "execute_result"
    }
   ],
   "source": [
    "y"
   ]
  },
  {
   "cell_type": "code",
   "execution_count": 152,
   "metadata": {
    "ExecuteTime": {
     "end_time": "2021-02-04T21:33:39.494545Z",
     "start_time": "2021-02-04T21:33:39.474364Z"
    },
    "colab": {
     "base_uri": "https://localhost:8080/"
    },
    "executionInfo": {
     "elapsed": 352,
     "status": "ok",
     "timestamp": 1694687300820,
     "user": {
      "displayName": "Sara Fernandes",
      "userId": "11122184483201700096"
     },
     "user_tz": -60
    },
    "id": "qSpgjG4xJ0YO",
    "outputId": "1d7d9ece-ba05-4097-b54d-a28256cc4ad8"
   },
   "outputs": [
    {
     "name": "stdout",
     "output_type": "stream",
     "text": [
      "0    1.0\n",
      "1    2.0\n",
      "2    3.0\n",
      "3    4.0\n",
      "5    5.0\n",
      "6    6.0\n",
      "dtype: float64\n"
     ]
    }
   ],
   "source": [
    "print(y.dropna())"
   ]
  },
  {
   "cell_type": "markdown",
   "metadata": {
    "id": "m3kobheKJ0YO"
   },
   "source": [
    "### Substituir valores nulos"
   ]
  },
  {
   "cell_type": "markdown",
   "metadata": {
    "id": "wPq4O84AJ0YO"
   },
   "source": [
    "Conseguimos substituir valores nulos de uma serie usando o método **fillna()**."
   ]
  },
  {
   "cell_type": "code",
   "execution_count": 153,
   "metadata": {
    "ExecuteTime": {
     "end_time": "2021-02-04T21:33:56.312002Z",
     "start_time": "2021-02-04T21:33:56.293373Z"
    },
    "colab": {
     "base_uri": "https://localhost:8080/"
    },
    "executionInfo": {
     "elapsed": 371,
     "status": "ok",
     "timestamp": 1694687323484,
     "user": {
      "displayName": "Sara Fernandes",
      "userId": "11122184483201700096"
     },
     "user_tz": -60
    },
    "id": "fn3TM2vnJ0YO",
    "outputId": "1c44836e-a706-4711-fa93-e92b47fc5ebd"
   },
   "outputs": [
    {
     "data": {
      "text/plain": [
       "0    1.0\n",
       "1    2.0\n",
       "2    3.0\n",
       "3    4.0\n",
       "4    NaN\n",
       "5    5.0\n",
       "6    6.0\n",
       "dtype: float64"
      ]
     },
     "execution_count": 153,
     "metadata": {},
     "output_type": "execute_result"
    }
   ],
   "source": [
    "y"
   ]
  },
  {
   "cell_type": "code",
   "execution_count": 154,
   "metadata": {
    "ExecuteTime": {
     "end_time": "2021-02-04T21:33:58.370010Z",
     "start_time": "2021-02-04T21:33:58.349364Z"
    },
    "colab": {
     "base_uri": "https://localhost:8080/"
    },
    "executionInfo": {
     "elapsed": 527,
     "status": "ok",
     "timestamp": 1694687345152,
     "user": {
      "displayName": "Sara Fernandes",
      "userId": "11122184483201700096"
     },
     "user_tz": -60
    },
    "id": "_lEbp_zdJ0YO",
    "outputId": "4920f7b0-3184-4544-c13c-75844fa3fe8d"
   },
   "outputs": [
    {
     "name": "stdout",
     "output_type": "stream",
     "text": [
      "0    1.0\n",
      "1    2.0\n",
      "2    3.0\n",
      "3    4.0\n",
      "4    0.0\n",
      "5    5.0\n",
      "6    6.0\n",
      "dtype: float64\n"
     ]
    }
   ],
   "source": [
    "print(y.fillna(0))"
   ]
  },
  {
   "cell_type": "code",
   "execution_count": 157,
   "metadata": {
    "ExecuteTime": {
     "end_time": "2021-02-04T21:34:03.968379Z",
     "start_time": "2021-02-04T21:34:03.956390Z"
    },
    "colab": {
     "base_uri": "https://localhost:8080/"
    },
    "executionInfo": {
     "elapsed": 487,
     "status": "ok",
     "timestamp": 1694687373579,
     "user": {
      "displayName": "Sara Fernandes",
      "userId": "11122184483201700096"
     },
     "user_tz": -60
    },
    "id": "A7WoXXg4J0YO",
    "outputId": "f87e3505-0495-4a1f-cc64-c94b63e2c884"
   },
   "outputs": [
    {
     "data": {
      "text/plain": [
       "0    1.0\n",
       "1    NaN\n",
       "2    3.0\n",
       "3    4.0\n",
       "4    NaN\n",
       "5    5.0\n",
       "6    6.0\n",
       "dtype: float64"
      ]
     },
     "execution_count": 157,
     "metadata": {},
     "output_type": "execute_result"
    }
   ],
   "source": [
    "z = pd.Series([1, np.nan, 3, 4, np.nan, 5, 6])\n",
    "z"
   ]
  },
  {
   "cell_type": "code",
   "execution_count": 158,
   "metadata": {
    "ExecuteTime": {
     "end_time": "2021-02-04T21:34:17.523909Z",
     "start_time": "2021-02-04T21:34:17.503381Z"
    },
    "colab": {
     "base_uri": "https://localhost:8080/"
    },
    "executionInfo": {
     "elapsed": 14,
     "status": "ok",
     "timestamp": 1694687379947,
     "user": {
      "displayName": "Sara Fernandes",
      "userId": "11122184483201700096"
     },
     "user_tz": -60
    },
    "id": "YN4kJQdcJ0YO",
    "outputId": "2be223b3-5d00-4684-926a-7f2032b4911c"
   },
   "outputs": [
    {
     "name": "stdout",
     "output_type": "stream",
     "text": [
      "0     1.0\n",
      "1    None\n",
      "2     3.0\n",
      "3     4.0\n",
      "4    None\n",
      "5     5.0\n",
      "6     6.0\n",
      "dtype: object\n"
     ]
    }
   ],
   "source": [
    "print(z.fillna(\"None\"))"
   ]
  },
  {
   "cell_type": "markdown",
   "metadata": {
    "id": "WsUnWXPzJ0YP"
   },
   "source": [
    "\n",
    "\n",
    "# Resumo dos métodos incluídos em Pandas Series"
   ]
  },
  {
   "cell_type": "markdown",
   "metadata": {
    "id": "-2ukJfSoJ0YP"
   },
   "source": [
    "\n",
    "\n",
    "## Métodos matemáticos"
   ]
  },
  {
   "cell_type": "markdown",
   "metadata": {
    "id": "u4NT-K1HJ0YP"
   },
   "source": [
    "| Método   | Descrição                                                     |\n",
    "|:---------|:--------------------------------------------------------------|\n",
    "| add()    | Adiciona series ou objetos semelhantes a listas com o mesmo comprimento à serie original |\n",
    "| sub()    | Subtrai series ou objetos semelhantes a listas com o mesmo comprimento da serie original |\n",
    "| mul()    | Multiplica series ou objetos semelhantes a listas com o mesmo comprimento pela serie original |\n",
    "| div()    | Divide a serie original por series ou objetos semelhantes a listas com o mesmo comprimento |\n",
    "| sum()    | Retorna a soma dos valores para o eixo solicitado |\n",
    "| prod()   | Retorna o produto dos valores para o eixo solicitado |\n",
    "| mean()   | Retorna a média dos valores para o eixo solicitado |\n",
    "| pow()    | Elevar cada elemento da serie passada como potência exponencial da serie original e retorna os resultados |\n",
    "| abs()    | Obtem o valor numérico absoluto de cada elemento na serie |\n",
    "| cov()    | Encontrar a covariância de duas series |\n"
   ]
  },
  {
   "cell_type": "code",
   "execution_count": 159,
   "metadata": {
    "ExecuteTime": {
     "end_time": "2020-03-01T12:26:05.621236Z",
     "start_time": "2020-03-01T12:26:05.613536Z"
    },
    "colab": {
     "base_uri": "https://localhost:8080/"
    },
    "executionInfo": {
     "elapsed": 351,
     "status": "ok",
     "timestamp": 1694687439752,
     "user": {
      "displayName": "Sara Fernandes",
      "userId": "11122184483201700096"
     },
     "user_tz": -60
    },
    "id": "lEigRh1cJ0YP",
    "outputId": "f3b36aaf-e3c2-4334-cb9b-6c08fedd2ba3"
   },
   "outputs": [
    {
     "data": {
      "text/plain": [
       "a    1\n",
       "b    2\n",
       "c    4\n",
       "d    5\n",
       "dtype: int64"
      ]
     },
     "execution_count": 159,
     "metadata": {},
     "output_type": "execute_result"
    }
   ],
   "source": [
    "x = pd.Series([1,2,4,5], ['a','b','c','d'])\n",
    "x"
   ]
  },
  {
   "cell_type": "code",
   "execution_count": 160,
   "metadata": {
    "ExecuteTime": {
     "end_time": "2020-03-01T12:26:06.806926Z",
     "start_time": "2020-03-01T12:26:06.798628Z"
    },
    "colab": {
     "base_uri": "https://localhost:8080/"
    },
    "executionInfo": {
     "elapsed": 373,
     "status": "ok",
     "timestamp": 1694687443663,
     "user": {
      "displayName": "Sara Fernandes",
      "userId": "11122184483201700096"
     },
     "user_tz": -60
    },
    "id": "ZVvZlkQxJ0YP",
    "outputId": "fec65762-81de-4a9b-bf9a-c7cbb9f6b4c0"
   },
   "outputs": [
    {
     "data": {
      "text/plain": [
       "a    2\n",
       "b    3\n",
       "c    5\n",
       "d    6\n",
       "dtype: int64"
      ]
     },
     "execution_count": 160,
     "metadata": {},
     "output_type": "execute_result"
    }
   ],
   "source": [
    "x.add(1)"
   ]
  },
  {
   "cell_type": "code",
   "execution_count": 161,
   "metadata": {
    "ExecuteTime": {
     "end_time": "2020-03-01T12:26:24.323325Z",
     "start_time": "2020-03-01T12:26:24.316388Z"
    },
    "colab": {
     "base_uri": "https://localhost:8080/"
    },
    "executionInfo": {
     "elapsed": 489,
     "status": "ok",
     "timestamp": 1694687448498,
     "user": {
      "displayName": "Sara Fernandes",
      "userId": "11122184483201700096"
     },
     "user_tz": -60
    },
    "id": "uFSwvLtaJ0YP",
    "outputId": "736f372e-2d28-4d6c-e80b-118e25313774"
   },
   "outputs": [
    {
     "data": {
      "text/plain": [
       "a    0\n",
       "b    1\n",
       "c    3\n",
       "d    4\n",
       "dtype: int64"
      ]
     },
     "execution_count": 161,
     "metadata": {},
     "output_type": "execute_result"
    }
   ],
   "source": [
    "x.sub(1)"
   ]
  },
  {
   "cell_type": "code",
   "execution_count": 162,
   "metadata": {
    "ExecuteTime": {
     "end_time": "2020-03-01T12:26:31.718234Z",
     "start_time": "2020-03-01T12:26:31.709285Z"
    },
    "colab": {
     "base_uri": "https://localhost:8080/"
    },
    "executionInfo": {
     "elapsed": 375,
     "status": "ok",
     "timestamp": 1694687452667,
     "user": {
      "displayName": "Sara Fernandes",
      "userId": "11122184483201700096"
     },
     "user_tz": -60
    },
    "id": "JKT3JyCJJ0YP",
    "outputId": "39b7ef66-f617-4db6-b315-f50b81763cf9"
   },
   "outputs": [
    {
     "data": {
      "text/plain": [
       "a     2\n",
       "b     4\n",
       "c     8\n",
       "d    10\n",
       "dtype: int64"
      ]
     },
     "execution_count": 162,
     "metadata": {},
     "output_type": "execute_result"
    }
   ],
   "source": [
    "x.mul(2)"
   ]
  },
  {
   "cell_type": "code",
   "execution_count": 163,
   "metadata": {
    "ExecuteTime": {
     "end_time": "2020-03-01T12:26:48.040159Z",
     "start_time": "2020-03-01T12:26:48.033146Z"
    },
    "colab": {
     "base_uri": "https://localhost:8080/"
    },
    "executionInfo": {
     "elapsed": 303,
     "status": "ok",
     "timestamp": 1694687456332,
     "user": {
      "displayName": "Sara Fernandes",
      "userId": "11122184483201700096"
     },
     "user_tz": -60
    },
    "id": "-sBguaICJ0YP",
    "outputId": "9639bf79-2ada-4be2-e87c-405bf9babf5d"
   },
   "outputs": [
    {
     "data": {
      "text/plain": [
       "a   -1.0\n",
       "b   -2.0\n",
       "c   -4.0\n",
       "d   -5.0\n",
       "dtype: float64"
      ]
     },
     "execution_count": 163,
     "metadata": {},
     "output_type": "execute_result"
    }
   ],
   "source": [
    "x.div(-1)"
   ]
  },
  {
   "cell_type": "code",
   "execution_count": 164,
   "metadata": {
    "ExecuteTime": {
     "end_time": "2020-03-01T12:27:49.461427Z",
     "start_time": "2020-03-01T12:27:49.453756Z"
    },
    "colab": {
     "base_uri": "https://localhost:8080/"
    },
    "executionInfo": {
     "elapsed": 380,
     "status": "ok",
     "timestamp": 1694687462699,
     "user": {
      "displayName": "Sara Fernandes",
      "userId": "11122184483201700096"
     },
     "user_tz": -60
    },
    "id": "NNzlqgaIJ0YP",
    "outputId": "e48f5c05-43de-4b76-e567-40b28cb713df"
   },
   "outputs": [
    {
     "data": {
      "text/plain": [
       "a     1\n",
       "b     4\n",
       "c    16\n",
       "d    25\n",
       "dtype: int64"
      ]
     },
     "execution_count": 164,
     "metadata": {},
     "output_type": "execute_result"
    }
   ],
   "source": [
    "x.pow(2)"
   ]
  },
  {
   "cell_type": "code",
   "execution_count": 165,
   "metadata": {
    "ExecuteTime": {
     "end_time": "2020-03-01T12:28:10.441737Z",
     "start_time": "2020-03-01T12:28:10.430325Z"
    },
    "colab": {
     "base_uri": "https://localhost:8080/"
    },
    "executionInfo": {
     "elapsed": 359,
     "status": "ok",
     "timestamp": 1694687467180,
     "user": {
      "displayName": "Sara Fernandes",
      "userId": "11122184483201700096"
     },
     "user_tz": -60
    },
    "id": "nBjDSi15J0YQ",
    "outputId": "500f1d71-0119-49be-98c8-1728f3e38b18"
   },
   "outputs": [
    {
     "data": {
      "text/plain": [
       "a    1\n",
       "b    2\n",
       "c    4\n",
       "d    5\n",
       "dtype: int64"
      ]
     },
     "execution_count": 165,
     "metadata": {},
     "output_type": "execute_result"
    }
   ],
   "source": [
    "x.abs()"
   ]
  },
  {
   "cell_type": "code",
   "execution_count": 166,
   "metadata": {
    "ExecuteTime": {
     "end_time": "2020-03-01T12:27:17.728429Z",
     "start_time": "2020-03-01T12:27:17.722504Z"
    },
    "colab": {
     "base_uri": "https://localhost:8080/"
    },
    "executionInfo": {
     "elapsed": 15,
     "status": "ok",
     "timestamp": 1694687472735,
     "user": {
      "displayName": "Sara Fernandes",
      "userId": "11122184483201700096"
     },
     "user_tz": -60
    },
    "id": "-tWPWLVqJ0YQ",
    "outputId": "0907f135-3673-43c1-ee6a-ce0c4e9ba38e"
   },
   "outputs": [
    {
     "data": {
      "text/plain": [
       "12"
      ]
     },
     "execution_count": 166,
     "metadata": {},
     "output_type": "execute_result"
    }
   ],
   "source": [
    "x.sum()"
   ]
  },
  {
   "cell_type": "code",
   "execution_count": 167,
   "metadata": {
    "ExecuteTime": {
     "end_time": "2020-03-01T12:27:28.299574Z",
     "start_time": "2020-03-01T12:27:28.293767Z"
    },
    "colab": {
     "base_uri": "https://localhost:8080/"
    },
    "executionInfo": {
     "elapsed": 41,
     "status": "ok",
     "timestamp": 1694687475143,
     "user": {
      "displayName": "Sara Fernandes",
      "userId": "11122184483201700096"
     },
     "user_tz": -60
    },
    "id": "iDXgWm15J0YQ",
    "outputId": "b97cdb3a-4525-4707-eee8-df7e2801c39c"
   },
   "outputs": [
    {
     "data": {
      "text/plain": [
       "40"
      ]
     },
     "execution_count": 167,
     "metadata": {},
     "output_type": "execute_result"
    }
   ],
   "source": [
    "x.prod()"
   ]
  },
  {
   "cell_type": "code",
   "execution_count": 168,
   "metadata": {
    "ExecuteTime": {
     "end_time": "2020-03-01T12:27:35.064117Z",
     "start_time": "2020-03-01T12:27:35.057148Z"
    },
    "colab": {
     "base_uri": "https://localhost:8080/"
    },
    "executionInfo": {
     "elapsed": 18,
     "status": "ok",
     "timestamp": 1694687480877,
     "user": {
      "displayName": "Sara Fernandes",
      "userId": "11122184483201700096"
     },
     "user_tz": -60
    },
    "id": "tYdppS56J0YQ",
    "outputId": "760625c9-b9d9-4c98-cb39-b8d10b0515e3"
   },
   "outputs": [
    {
     "data": {
      "text/plain": [
       "3.0"
      ]
     },
     "execution_count": 168,
     "metadata": {},
     "output_type": "execute_result"
    }
   ],
   "source": [
    "x.mean()"
   ]
  },
  {
   "cell_type": "code",
   "execution_count": 169,
   "metadata": {
    "ExecuteTime": {
     "end_time": "2020-03-01T12:29:32.910221Z",
     "start_time": "2020-03-01T12:29:32.903395Z"
    },
    "colab": {
     "base_uri": "https://localhost:8080/"
    },
    "executionInfo": {
     "elapsed": 379,
     "status": "ok",
     "timestamp": 1694687484396,
     "user": {
      "displayName": "Sara Fernandes",
      "userId": "11122184483201700096"
     },
     "user_tz": -60
    },
    "id": "_cc-ORKPJ0YQ",
    "outputId": "fedd169c-11c5-4c4e-8ed4-2b47ba8825db"
   },
   "outputs": [
    {
     "data": {
      "text/plain": [
       "a    1\n",
       "b    2\n",
       "c    4\n",
       "d    5\n",
       "dtype: int64"
      ]
     },
     "execution_count": 169,
     "metadata": {},
     "output_type": "execute_result"
    }
   ],
   "source": [
    "y= pd.Series([1,2,4,5], ['a','b','c','d'])\n",
    "y"
   ]
  },
  {
   "cell_type": "code",
   "execution_count": 170,
   "metadata": {
    "ExecuteTime": {
     "end_time": "2020-03-01T12:29:33.148048Z",
     "start_time": "2020-03-01T12:29:33.122841Z"
    },
    "colab": {
     "base_uri": "https://localhost:8080/"
    },
    "executionInfo": {
     "elapsed": 44,
     "status": "ok",
     "timestamp": 1694687486529,
     "user": {
      "displayName": "Sara Fernandes",
      "userId": "11122184483201700096"
     },
     "user_tz": -60
    },
    "id": "PkYCW4GBJ0YQ",
    "outputId": "d8c4c0b0-6273-4b2d-afa5-4b974cf8d8fc"
   },
   "outputs": [
    {
     "data": {
      "text/plain": [
       "3.333333333333333"
      ]
     },
     "execution_count": 170,
     "metadata": {},
     "output_type": "execute_result"
    }
   ],
   "source": [
    "x.cov(y)"
   ]
  },
  {
   "cell_type": "markdown",
   "metadata": {
    "id": "pCvxmTlVJ0YQ"
   },
   "source": [
    "## Métodos exploratórios"
   ]
  },
  {
   "cell_type": "markdown",
   "metadata": {
    "id": "awQhQZCsJ0YQ"
   },
   "source": [
    "| Função         | Descrição                                                                                   |\n",
    "|:-------------- |:-------------------------------------------------------------------------------------------|\n",
    "| combine_first()| Combina duas series numa só                                        |\n",
    "| count()        | Retorna o número de observações não nulas na serie                                          |\n",
    "| size()         | Retorna o número de elementos nos dados subjacentes                                        |\n",
    "| name()         | Permite dar um nome a uma serie                          |\n",
    "| is_unique()    | Retorna um booleano se os valores no objeto são únicos                              |\n",
    "| idxmax()       | Extrai as posições dos índices dos valores mais altos numa serie            |\n",
    "| idxmin()       | Extrai as posições dos índices dos valores mais baixos numa serie           |\n",
    "| sort_values()  | Ordena os valores por ordem ascendente ou descendente|\n",
    "| sort_index()   | Ordena pelo índice em vez de ordenar por valores  |\n",
    "| head()         | Retorna um número especificado de linhas do início de uma serie |\n",
    "| tail()         | Retorna um número especificado de linhas do final de uma serie |\n",
    "| le()           | Compara cada elemento da serie original com a serie passada. Retorna True para cada elemento que é menor ou igual |\n",
    "| ne()           | Compara cada elemento da serie original com a serie passada. Retorna True para cada elemento que é diferente |\n",
    "| ge()           | Compara cada elemento da serie original com a serie passada. Retorna True para cada elemento que é maior ou igual |\n",
    "| eq()           | Compara cada elemento da serie original com a serie passada. Retorna True para cada elemento que é igual |\n",
    "| gt()           | Compara cada elemento da serie original com a serie passada. Retorna True para cada elemento que é maior |\n",
    "| lt()           | Compara cada elemento da serie original com a serie passada. Retorna True para cada elemento que é menor |\n",
    "| clip()         | Restringe valores abaixo e acima dos valores mínimo e máximo passados |\n",
    "| clip_lower()   | Restringe valores abaixo de um valor mínimo passado |\n",
    "| clip_upper()   | Restringe valores acima de um valor máximo passado |\n",
    "| astype()       | Altera o tipo de dados de uma serie |\n",
    "| tolist()       | Converte uma serie numa lista |\n",
    "| get()          | Extrai valores específicos de uma serie |\n",
    "| unique()       | Verifica os valores únicos numa coluna específica |\n",
    "| nunique()      | Obtem a contagem de valores únicos |\n",
    "| value_counts() | Conta quantas vezes cada valor único ocorre numa serie |\n",
    "| factorize()    | Obtem a representação numérica de um array identificando valores distintos |\n",
    "| map()          | Associaa valores de um objeto a outro |\n",
    "| between()      | Verificaa quais são os valores que estão entre o primeiro e o segundo argumento |\n",
    "| apply()        | Executa operações personalizadas que não estão incluídas no pandas ou numpy |\n"
   ]
  },
  {
   "cell_type": "code",
   "execution_count": 171,
   "metadata": {
    "ExecuteTime": {
     "end_time": "2021-02-04T21:49:15.591083Z",
     "start_time": "2021-02-04T21:49:15.575080Z"
    },
    "colab": {
     "base_uri": "https://localhost:8080/"
    },
    "executionInfo": {
     "elapsed": 358,
     "status": "ok",
     "timestamp": 1694687544832,
     "user": {
      "displayName": "Sara Fernandes",
      "userId": "11122184483201700096"
     },
     "user_tz": -60
    },
    "id": "wSx4cy1HJ0YQ",
    "outputId": "da54732b-5ce9-4804-ad84-abf96094fbaa"
   },
   "outputs": [
    {
     "data": {
      "text/plain": [
       "0    5\n",
       "1    4\n",
       "2    7\n",
       "3    8\n",
       "4    0\n",
       "dtype: int64"
      ]
     },
     "execution_count": 171,
     "metadata": {},
     "output_type": "execute_result"
    }
   ],
   "source": [
    "sr = pd.Series(np.random.randint(0, 10, 20))\n",
    "sr.head()"
   ]
  },
  {
   "cell_type": "code",
   "execution_count": null,
   "metadata": {
    "colab": {
     "base_uri": "https://localhost:8080/"
    },
    "id": "GpK2ymVGJ0YR",
    "outputId": "c9109987-7478-46fc-9ee2-ff127b99b9ad"
   },
   "outputs": [
    {
     "data": {
      "text/plain": [
       "0     1\n",
       "1     5\n",
       "2     7\n",
       "3     0\n",
       "4     3\n",
       "5     2\n",
       "6     1\n",
       "7     3\n",
       "8     3\n",
       "9     7\n",
       "10    5\n",
       "11    6\n",
       "12    1\n",
       "13    0\n",
       "14    8\n",
       "15    9\n",
       "16    9\n",
       "17    1\n",
       "18    6\n",
       "19    6\n",
       "dtype: int64"
      ]
     },
     "execution_count": 55,
     "metadata": {},
     "output_type": "execute_result"
    }
   ],
   "source": [
    "sr"
   ]
  },
  {
   "cell_type": "code",
   "execution_count": 172,
   "metadata": {
    "ExecuteTime": {
     "end_time": "2021-02-04T21:49:15.989174Z",
     "start_time": "2021-02-04T21:49:15.983174Z"
    },
    "colab": {
     "base_uri": "https://localhost:8080/"
    },
    "executionInfo": {
     "elapsed": 467,
     "status": "ok",
     "timestamp": 1694687565930,
     "user": {
      "displayName": "Sara Fernandes",
      "userId": "11122184483201700096"
     },
     "user_tz": -60
    },
    "id": "ZfJBXErdJ0YR",
    "outputId": "3c19002a-fbe3-4933-9fbf-83309f5971a3"
   },
   "outputs": [
    {
     "data": {
      "text/plain": [
       "array([5, 4, 7, 8, 0, 6, 1, 3, 2])"
      ]
     },
     "execution_count": 172,
     "metadata": {},
     "output_type": "execute_result"
    }
   ],
   "source": [
    "sr.unique()"
   ]
  },
  {
   "cell_type": "code",
   "execution_count": 173,
   "metadata": {
    "ExecuteTime": {
     "end_time": "2021-02-04T21:49:16.384559Z",
     "start_time": "2021-02-04T21:49:16.366546Z"
    },
    "colab": {
     "base_uri": "https://localhost:8080/"
    },
    "executionInfo": {
     "elapsed": 426,
     "status": "ok",
     "timestamp": 1694687571135,
     "user": {
      "displayName": "Sara Fernandes",
      "userId": "11122184483201700096"
     },
     "user_tz": -60
    },
    "id": "CnItlWQ_J0YR",
    "outputId": "2fdd6999-6707-4ca2-e42a-6671aa2cecb6"
   },
   "outputs": [
    {
     "data": {
      "text/plain": [
       "9"
      ]
     },
     "execution_count": 173,
     "metadata": {},
     "output_type": "execute_result"
    }
   ],
   "source": [
    "sr.nunique()"
   ]
  },
  {
   "cell_type": "code",
   "execution_count": 174,
   "metadata": {
    "ExecuteTime": {
     "end_time": "2021-02-04T21:49:18.742127Z",
     "start_time": "2021-02-04T21:49:18.733127Z"
    },
    "colab": {
     "base_uri": "https://localhost:8080/"
    },
    "executionInfo": {
     "elapsed": 524,
     "status": "ok",
     "timestamp": 1694687576308,
     "user": {
      "displayName": "Sara Fernandes",
      "userId": "11122184483201700096"
     },
     "user_tz": -60
    },
    "id": "K2bRmE6YJ0YR",
    "outputId": "688a96e5-7f4b-4b60-d26b-4a95689140d2"
   },
   "outputs": [
    {
     "data": {
      "text/plain": [
       "4    4\n",
       "0    4\n",
       "5    3\n",
       "6    3\n",
       "8    2\n",
       "7    1\n",
       "1    1\n",
       "3    1\n",
       "2    1\n",
       "dtype: int64"
      ]
     },
     "execution_count": 174,
     "metadata": {},
     "output_type": "execute_result"
    }
   ],
   "source": [
    "sr.value_counts()"
   ]
  },
  {
   "cell_type": "code",
   "execution_count": null,
   "metadata": {
    "ExecuteTime": {
     "end_time": "2021-02-04T21:50:33.759181Z",
     "start_time": "2021-02-04T21:50:33.744183Z"
    },
    "colab": {
     "base_uri": "https://localhost:8080/"
    },
    "id": "llqWtaQMJ0YR",
    "outputId": "4e3588f8-0674-4205-8b3f-60874cfac8d2"
   },
   "outputs": [
    {
     "data": {
      "text/plain": [
       "(-0.009999999999999998, 3.0]    0.50\n",
       "(3.0, 6.0]                      0.25\n",
       "(6.0, 9.0]                      0.25\n",
       "dtype: float64"
      ]
     },
     "execution_count": 59,
     "metadata": {},
     "output_type": "execute_result"
    }
   ],
   "source": [
    "sr.value_counts(normalize=True, bins=3)"
   ]
  },
  {
   "cell_type": "code",
   "execution_count": 175,
   "metadata": {
    "ExecuteTime": {
     "end_time": "2021-02-04T21:51:27.431176Z",
     "start_time": "2021-02-04T21:51:27.421176Z"
    },
    "colab": {
     "base_uri": "https://localhost:8080/"
    },
    "executionInfo": {
     "elapsed": 22,
     "status": "ok",
     "timestamp": 1694687619000,
     "user": {
      "displayName": "Sara Fernandes",
      "userId": "11122184483201700096"
     },
     "user_tz": -60
    },
    "id": "KLYlTgjbJ0YR",
    "outputId": "3da74f9d-2b6a-4343-9ede-7cf701c42f6a"
   },
   "outputs": [
    {
     "data": {
      "text/plain": [
       "0     5\n",
       "1     4\n",
       "2     7\n",
       "3     8\n",
       "4     0\n",
       "5     6\n",
       "6     8\n",
       "7     5\n",
       "8     6\n",
       "9     1\n",
       "10    3\n",
       "11    0\n",
       "12    4\n",
       "13    5\n",
       "14    0\n",
       "15    6\n",
       "16    4\n",
       "17    4\n",
       "18    2\n",
       "19    0\n",
       "dtype: object"
      ]
     },
     "execution_count": 175,
     "metadata": {},
     "output_type": "execute_result"
    }
   ],
   "source": [
    "sr.astype(str)"
   ]
  },
  {
   "cell_type": "code",
   "execution_count": 176,
   "metadata": {
    "ExecuteTime": {
     "end_time": "2021-02-04T21:53:12.214038Z",
     "start_time": "2021-02-04T21:53:12.200045Z"
    },
    "colab": {
     "base_uri": "https://localhost:8080/"
    },
    "executionInfo": {
     "elapsed": 350,
     "status": "ok",
     "timestamp": 1694687626346,
     "user": {
      "displayName": "Sara Fernandes",
      "userId": "11122184483201700096"
     },
     "user_tz": -60
    },
    "id": "0GfRLiU_J0YR",
    "outputId": "4d9d20ad-d94d-40c9-e86b-252cf0429a38"
   },
   "outputs": [
    {
     "data": {
      "text/plain": [
       "0      NaN\n",
       "1      NaN\n",
       "2      NaN\n",
       "3      NaN\n",
       "4      NaN\n",
       "5      NaN\n",
       "6      NaN\n",
       "7      NaN\n",
       "8      NaN\n",
       "9      NaN\n",
       "10    6.55\n",
       "11     NaN\n",
       "12     NaN\n",
       "13     NaN\n",
       "14     NaN\n",
       "15     NaN\n",
       "16     NaN\n",
       "17     NaN\n",
       "18     NaN\n",
       "19     NaN\n",
       "dtype: float64"
      ]
     },
     "execution_count": 176,
     "metadata": {},
     "output_type": "execute_result"
    }
   ],
   "source": [
    "sr.map({3:6.55})"
   ]
  },
  {
   "cell_type": "code",
   "execution_count": 177,
   "metadata": {
    "ExecuteTime": {
     "end_time": "2021-02-04T22:00:03.906169Z",
     "start_time": "2021-02-04T22:00:03.902168Z"
    },
    "executionInfo": {
     "elapsed": 11,
     "status": "ok",
     "timestamp": 1694687652065,
     "user": {
      "displayName": "Sara Fernandes",
      "userId": "11122184483201700096"
     },
     "user_tz": -60
    },
    "id": "5DR0NsrBJ0YS"
   },
   "outputs": [],
   "source": [
    "def fun(x):\n",
    "    return x**2 + np.pi"
   ]
  },
  {
   "cell_type": "code",
   "execution_count": 178,
   "metadata": {
    "ExecuteTime": {
     "end_time": "2021-02-04T22:00:15.516589Z",
     "start_time": "2021-02-04T22:00:15.505595Z"
    },
    "colab": {
     "base_uri": "https://localhost:8080/"
    },
    "executionInfo": {
     "elapsed": 398,
     "status": "ok",
     "timestamp": 1694687656483,
     "user": {
      "displayName": "Sara Fernandes",
      "userId": "11122184483201700096"
     },
     "user_tz": -60
    },
    "id": "dNEPTPXfJ0YS",
    "outputId": "5f7ab8ca-11fd-43d8-a381-9557bda19d55"
   },
   "outputs": [
    {
     "data": {
      "text/plain": [
       "0     28.141593\n",
       "1     19.141593\n",
       "2     52.141593\n",
       "3     67.141593\n",
       "4      3.141593\n",
       "5     39.141593\n",
       "6     67.141593\n",
       "7     28.141593\n",
       "8     39.141593\n",
       "9      4.141593\n",
       "10    12.141593\n",
       "11     3.141593\n",
       "12    19.141593\n",
       "13    28.141593\n",
       "14     3.141593\n",
       "15    39.141593\n",
       "16    19.141593\n",
       "17    19.141593\n",
       "18     7.141593\n",
       "19     3.141593\n",
       "dtype: float64"
      ]
     },
     "execution_count": 178,
     "metadata": {},
     "output_type": "execute_result"
    }
   ],
   "source": [
    "sr.apply(fun)"
   ]
  },
  {
   "cell_type": "markdown",
   "metadata": {
    "id": "uaUu9cMhJ0YS"
   },
   "source": [
    "# Links Úteis"
   ]
  },
  {
   "cell_type": "markdown",
   "metadata": {
    "id": "DHJjPtOdJ0YS"
   },
   "source": [
    "Indexação e seleção de dados: https://pandas.pydata.org/pandas-docs/stable/user_guide/indexing.html"
   ]
  },
  {
   "cell_type": "markdown",
   "metadata": {
    "ExecuteTime": {
     "end_time": "2020-02-15T12:29:36.193638Z",
     "start_time": "2020-02-15T12:29:36.185337Z"
    },
    "id": "Au9Eq8jXJ0YS"
   },
   "source": [
    "Referência da API do Pandas: https://pandas.pydata.org/pandas-docs/version/0.23.4/generated/pandas.Series.html"
   ]
  },
  {
   "cell_type": "markdown",
   "metadata": {
    "id": "ukybAUJKJ0YS"
   },
   "source": [
    "Valores não aplicáveis ​​(NA) ou ausentes em Python: https://www.geeksforgeeks.org/working-with-missing-data-in-pandas/"
   ]
  },
  {
   "cell_type": "markdown",
   "metadata": {
    "id": "dOGRMdcfJ0YS"
   },
   "source": [
    "Funções do Python Lambda: https://towardsdatascience.com/lambda-functions-with-practical-examples-in-python-45934f3653a8"
   ]
  }
 ],
 "metadata": {
  "colab": {
   "collapsed_sections": [
    "wi0ydiROJ0Xv"
   ],
   "provenance": [],
   "toc_visible": true
  },
  "hide_input": false,
  "interpreter": {
   "hash": "a890e96c5bc2e34e713687d667dc1e925660c2a0af9c3a409dd6c550ddd944d3"
  },
  "kernelspec": {
   "display_name": "Python 3 (ipykernel)",
   "language": "python",
   "name": "python3"
  },
  "language_info": {
   "codemirror_mode": {
    "name": "ipython",
    "version": 3
   },
   "file_extension": ".py",
   "mimetype": "text/x-python",
   "name": "python",
   "nbconvert_exporter": "python",
   "pygments_lexer": "ipython3",
   "version": "3.10.10"
  },
  "latex_envs": {
   "LaTeX_envs_menu_present": true,
   "autoclose": false,
   "autocomplete": true,
   "bibliofile": "biblio.bib",
   "cite_by": "apalike",
   "current_citInitial": 1,
   "eqLabelWithNumbers": true,
   "eqNumInitial": 1,
   "hotkeys": {
    "equation": "Ctrl-E",
    "itemize": "Ctrl-I"
   },
   "labels_anchors": false,
   "latex_user_defs": false,
   "report_style_numbering": false,
   "user_envs_cfg": false
  },
  "toc": {
   "base_numbering": 1,
   "nav_menu": {},
   "number_sections": true,
   "sideBar": true,
   "skip_h1_title": false,
   "title_cell": "Table of Contents",
   "title_sidebar": "Contents",
   "toc_cell": false,
   "toc_position": {},
   "toc_section_display": true,
   "toc_window_display": false
  },
  "varInspector": {
   "cols": {
    "lenName": 16,
    "lenType": 16,
    "lenVar": 40
   },
   "kernels_config": {
    "python": {
     "delete_cmd_postfix": "",
     "delete_cmd_prefix": "del ",
     "library": "var_list.py",
     "varRefreshCmd": "print(var_dic_list())"
    },
    "r": {
     "delete_cmd_postfix": ") ",
     "delete_cmd_prefix": "rm(",
     "library": "var_list.r",
     "varRefreshCmd": "cat(var_dic_list()) "
    }
   },
   "types_to_exclude": [
    "module",
    "function",
    "builtin_function_or_method",
    "instance",
    "_Feature"
   ],
   "window_display": false
  }
 },
 "nbformat": 4,
 "nbformat_minor": 4
}
