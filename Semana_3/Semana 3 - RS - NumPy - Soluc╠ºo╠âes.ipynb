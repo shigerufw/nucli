{
 "cells": [
  {
   "cell_type": "markdown",
   "metadata": {
    "id": "6bkRUOcOWEB3"
   },
   "source": [
    "![Nuclio logo](https://nuclio.school/wp-content/uploads/2018/12/nucleoDS-newBlack.png)"
   ]
  },
  {
   "cell_type": "markdown",
   "metadata": {
    "id": "DrBzzG9gWEB9"
   },
   "source": [
    "# Exercícios - NumPy Arrays\n",
    "\n",
    "Neste notebook, encontram 20 exercícios que vos permitirão aprender as bases acerca de NumPy Arrays."
   ]
  },
  {
   "cell_type": "markdown",
   "metadata": {
    "id": "4TpGLtMYWEB9"
   },
   "source": [
    "1 - Importe a biblioteca numpy."
   ]
  },
  {
   "cell_type": "code",
   "execution_count": 1,
   "metadata": {
    "ExecuteTime": {
     "end_time": "2021-01-20T20:00:31.688693Z",
     "start_time": "2021-01-20T20:00:31.680159Z"
    },
    "id": "XSAxsfxIWEB_"
   },
   "outputs": [],
   "source": [
    "import numpy as np"
   ]
  },
  {
   "cell_type": "markdown",
   "metadata": {
    "id": "XzaZ-Tl0WECC"
   },
   "source": [
    "2 - Crie um numpy array com valores inteiros entre 0 e 9."
   ]
  },
  {
   "cell_type": "code",
   "execution_count": 8,
   "metadata": {
    "ExecuteTime": {
     "end_time": "2021-01-20T20:02:15.023304Z",
     "start_time": "2021-01-20T20:02:15.013305Z"
    },
    "colab": {
     "base_uri": "https://localhost:8080/"
    },
    "id": "o47JKiUTWECC",
    "outputId": "a0d3457f-cca5-4143-9596-db34bb1e81fc"
   },
   "outputs": [
    {
     "name": "stdout",
     "output_type": "stream",
     "text": [
      "[0 1 2 3 4 5 6 7 8 9]\n"
     ]
    }
   ],
   "source": [
    "arr = np.arange(10)\n",
    "print(arr)"
   ]
  },
  {
   "cell_type": "markdown",
   "metadata": {
    "id": "8y49vlWhWECE"
   },
   "source": [
    "3 - Extraia todos os números pares do array que criou anteriormente."
   ]
  },
  {
   "cell_type": "code",
   "execution_count": 9,
   "metadata": {
    "ExecuteTime": {
     "end_time": "2021-01-20T20:07:17.884559Z",
     "start_time": "2021-01-20T20:07:17.875557Z"
    },
    "colab": {
     "base_uri": "https://localhost:8080/"
    },
    "id": "SnhOXOKJWECG",
    "outputId": "2cc7df9d-bc45-41ae-a6e7-6fa832a5f51f"
   },
   "outputs": [
    {
     "name": "stdout",
     "output_type": "stream",
     "text": [
      "[0 2 4 6 8]\n"
     ]
    }
   ],
   "source": [
    "array_even = arr[arr % 2 == 0]\n",
    "print(array_even)"
   ]
  },
  {
   "cell_type": "markdown",
   "metadata": {
    "id": "yJtW8UeSWECH"
   },
   "source": [
    "4 - Substitua todos os números pares por zero."
   ]
  },
  {
   "cell_type": "code",
   "execution_count": 10,
   "metadata": {
    "ExecuteTime": {
     "end_time": "2021-01-20T20:08:30.767759Z",
     "start_time": "2021-01-20T20:08:30.759365Z"
    },
    "colab": {
     "base_uri": "https://localhost:8080/"
    },
    "id": "MmaQZbGYWECI",
    "outputId": "f8e86f36-d3a8-4a35-9de8-f28b2461000b"
   },
   "outputs": [
    {
     "name": "stdout",
     "output_type": "stream",
     "text": [
      "[0 1 0 3 0 5 0 7 0 9]\n"
     ]
    }
   ],
   "source": [
    "arr[arr % 2 == 0] = 0\n",
    "print(arr)"
   ]
  },
  {
   "cell_type": "markdown",
   "metadata": {
    "id": "gEMzhsSwWECJ"
   },
   "source": [
    "5 - Modifique o array para que este passe a ser um array 2D com 5 rows."
   ]
  },
  {
   "cell_type": "code",
   "execution_count": 12,
   "metadata": {
    "ExecuteTime": {
     "end_time": "2021-01-20T20:11:01.215872Z",
     "start_time": "2021-01-20T20:11:01.207351Z"
    },
    "colab": {
     "base_uri": "https://localhost:8080/"
    },
    "id": "9jc5anvFWECJ",
    "outputId": "0befed44-644f-4b48-b46e-063133565a10"
   },
   "outputs": [
    {
     "data": {
      "text/plain": [
       "array([[0, 1],\n",
       "       [0, 3],\n",
       "       [0, 5],\n",
       "       [0, 7],\n",
       "       [0, 9]])"
      ]
     },
     "execution_count": 12,
     "metadata": {},
     "output_type": "execute_result"
    }
   ],
   "source": [
    "arr.reshape([5, 2]) # cada row deve ter 2 elementos\n"
   ]
  },
  {
   "cell_type": "markdown",
   "metadata": {
    "id": "gzD4a6NqWECK"
   },
   "source": [
    "6 - Dados dois arrays:\n",
    "\n",
    "a = np.array([1, 2, 3, 4, 4, 1, 2, 5, 5, 6])\n",
    "\n",
    "b = np.array([7, 2, 8, 4, 4, 0, 9, 4, 9, 0])\n",
    "\n",
    "Verifique os elementos comuns entre ambos arrays (valor e posição iguais) e crie um array com o resultado (sem elementos duplicados)."
   ]
  },
  {
   "cell_type": "code",
   "execution_count": 15,
   "metadata": {
    "ExecuteTime": {
     "end_time": "2021-01-20T20:11:59.229800Z",
     "start_time": "2021-01-20T20:11:59.217759Z"
    },
    "id": "UQDBID5hWECL"
   },
   "outputs": [],
   "source": [
    "a = np.array([1, 2, 3, 4, 4, 1, 2, 5, 5, 6])\n",
    "\n",
    "b = np.array([7, 2, 8, 4, 4, 0, 9, 4, 9, 0])"
   ]
  },
  {
   "cell_type": "code",
   "execution_count": 16,
   "metadata": {
    "ExecuteTime": {
     "end_time": "2021-01-20T20:15:41.020747Z",
     "start_time": "2021-01-20T20:15:41.003940Z"
    },
    "colab": {
     "base_uri": "https://localhost:8080/"
    },
    "id": "0jyrBrnhWECM",
    "outputId": "c802abac-95b4-4669-e0ca-afd6d9142466"
   },
   "outputs": [
    {
     "data": {
      "text/plain": [
       "array([2, 4, 4])"
      ]
     },
     "execution_count": 16,
     "metadata": {},
     "output_type": "execute_result"
    }
   ],
   "source": [
    "a[a == b]"
   ]
  },
  {
   "cell_type": "code",
   "execution_count": 17,
   "metadata": {
    "ExecuteTime": {
     "end_time": "2021-01-20T20:15:45.975742Z",
     "start_time": "2021-01-20T20:15:45.955918Z"
    },
    "colab": {
     "base_uri": "https://localhost:8080/"
    },
    "id": "uPQfyUtUWECN",
    "outputId": "4317a041-887e-4984-bf93-72cd377e48b6"
   },
   "outputs": [
    {
     "data": {
      "text/plain": [
       "array([2, 4])"
      ]
     },
     "execution_count": 17,
     "metadata": {},
     "output_type": "execute_result"
    }
   ],
   "source": [
    "np.unique(a[a==b])\n"
   ]
  },
  {
   "cell_type": "markdown",
   "metadata": {
    "id": "7nPcFKE-WECO"
   },
   "source": [
    "7 - Elimine do array a todos os elementos que também estão presentes em b."
   ]
  },
  {
   "cell_type": "code",
   "execution_count": 19,
   "metadata": {
    "colab": {
     "base_uri": "https://localhost:8080/"
    },
    "id": "seI5riSPWECP",
    "outputId": "cecb723f-a16b-498e-e43b-618e21c082ae"
   },
   "outputs": [
    {
     "name": "stdout",
     "output_type": "stream",
     "text": [
      "[1 3 1 2 5 5 6]\n",
      "[1 2 3 5 6]\n",
      "[1 3 1 5 5 6]\n",
      "[1 3 5 6]\n"
     ]
    }
   ],
   "source": [
    "print(a[a != b])\n",
    "print(np.unique(a[a != b]))\n",
    "\n",
    "#segunda opção\n",
    "#print(a[np.isin(a,b) == False])\n",
    "#print(np.unique(a[np.isin(a,b) == False]))\n"
   ]
  },
  {
   "cell_type": "markdown",
   "metadata": {
    "id": "ELbNpPh3WECS"
   },
   "source": [
    "8 - Returne um array com as posições dos elementos do array a que são comuns ao array b."
   ]
  },
  {
   "cell_type": "code",
   "execution_count": 20,
   "metadata": {
    "ExecuteTime": {
     "end_time": "2021-01-20T20:23:53.047234Z",
     "start_time": "2021-01-20T20:23:53.029291Z"
    },
    "colab": {
     "base_uri": "https://localhost:8080/"
    },
    "id": "Vx9alIqgWECT",
    "outputId": "05f68577-616a-4a55-a40f-e5a9d808cdc3"
   },
   "outputs": [
    {
     "data": {
      "text/plain": [
       "array([1, 2, 3, 4, 4, 1, 2, 5, 5, 6])"
      ]
     },
     "execution_count": 20,
     "metadata": {},
     "output_type": "execute_result"
    }
   ],
   "source": [
    "a"
   ]
  },
  {
   "cell_type": "code",
   "execution_count": 21,
   "metadata": {
    "ExecuteTime": {
     "end_time": "2021-01-20T20:25:10.197375Z",
     "start_time": "2021-01-20T20:25:10.182374Z"
    },
    "colab": {
     "base_uri": "https://localhost:8080/"
    },
    "id": "moP9a6eHWECa",
    "outputId": "4ecb5515-6337-437a-a906-7dfcc98fd511"
   },
   "outputs": [
    {
     "data": {
      "text/plain": [
       "(array([1, 3, 4]),)"
      ]
     },
     "execution_count": 21,
     "metadata": {},
     "output_type": "execute_result"
    }
   ],
   "source": [
    "np.where(a == b)"
   ]
  },
  {
   "cell_type": "markdown",
   "metadata": {
    "id": "cebmG6pmWECb"
   },
   "source": [
    "9 - Crie um array 4x4 com elementos entre 0 e 15."
   ]
  },
  {
   "cell_type": "code",
   "execution_count": 26,
   "metadata": {
    "ExecuteTime": {
     "end_time": "2021-01-20T20:31:02.035122Z",
     "start_time": "2021-01-20T20:31:02.016647Z"
    },
    "colab": {
     "base_uri": "https://localhost:8080/"
    },
    "id": "yqhHfKlpWECe",
    "outputId": "9431f245-6274-4d00-b76a-fb0e3f2c680d"
   },
   "outputs": [
    {
     "data": {
      "text/plain": [
       "array([ 0,  1,  2,  3,  4,  5,  6,  7,  8,  9, 10, 11, 12, 13, 14, 15])"
      ]
     },
     "execution_count": 26,
     "metadata": {},
     "output_type": "execute_result"
    }
   ],
   "source": [
    "arr = np.array(np.arange(16))\n",
    "arr"
   ]
  },
  {
   "cell_type": "code",
   "execution_count": 27,
   "metadata": {
    "ExecuteTime": {
     "end_time": "2021-01-20T20:35:15.404805Z",
     "start_time": "2021-01-20T20:35:15.384922Z"
    },
    "colab": {
     "base_uri": "https://localhost:8080/"
    },
    "id": "piK70u_zWECf",
    "outputId": "cd339ad9-c3ec-43a3-d145-4d2f3dca92a7"
   },
   "outputs": [
    {
     "data": {
      "text/plain": [
       "array([[ 0,  1,  2,  3],\n",
       "       [ 4,  5,  6,  7],\n",
       "       [ 8,  9, 10, 11],\n",
       "       [12, 13, 14, 15]])"
      ]
     },
     "execution_count": 27,
     "metadata": {},
     "output_type": "execute_result"
    }
   ],
   "source": [
    "my_arr = arr.reshape([4,4])\n",
    "my_arr"
   ]
  },
  {
   "cell_type": "markdown",
   "metadata": {
    "id": "k5P7M00-WECg"
   },
   "source": [
    "10 - Troque a ordem das colunas 2 e 3 do array anterior."
   ]
  },
  {
   "cell_type": "code",
   "execution_count": 28,
   "metadata": {
    "ExecuteTime": {
     "end_time": "2021-01-20T20:37:24.507930Z",
     "start_time": "2021-01-20T20:37:24.501927Z"
    },
    "id": "7GqAowlNWECh"
   },
   "outputs": [],
   "source": [
    "col1 = my_arr[:,2].copy()\n",
    "col2 = my_arr[:,3].copy()\n",
    "\n"
   ]
  },
  {
   "cell_type": "code",
   "execution_count": 29,
   "metadata": {
    "ExecuteTime": {
     "end_time": "2021-01-20T20:37:56.109991Z",
     "start_time": "2021-01-20T20:37:56.088981Z"
    },
    "colab": {
     "base_uri": "https://localhost:8080/"
    },
    "id": "QUCRsIMLWECm",
    "outputId": "b2327563-b2eb-41c4-bb85-0adc9558016f"
   },
   "outputs": [
    {
     "data": {
      "text/plain": [
       "array([[ 0,  1,  3,  2],\n",
       "       [ 4,  5,  7,  6],\n",
       "       [ 8,  9, 11, 10],\n",
       "       [12, 13, 15, 14]])"
      ]
     },
     "execution_count": 29,
     "metadata": {},
     "output_type": "execute_result"
    }
   ],
   "source": [
    "my_arr[:,2], my_arr[:,3] = col2, col1\n",
    "my_arr"
   ]
  },
  {
   "cell_type": "markdown",
   "metadata": {
    "id": "22QyvmEmWECp"
   },
   "source": [
    "11 - Troque as rows 1 e 2 do array anterior."
   ]
  },
  {
   "cell_type": "code",
   "execution_count": 30,
   "metadata": {
    "ExecuteTime": {
     "end_time": "2021-01-20T20:38:48.275087Z",
     "start_time": "2021-01-20T20:38:48.261982Z"
    },
    "id": "cawP9nokWECq"
   },
   "outputs": [],
   "source": [
    "row1 = my_arr[1,:].copy()\n",
    "row2 = my_arr[2,:].copy()"
   ]
  },
  {
   "cell_type": "code",
   "execution_count": 31,
   "metadata": {
    "ExecuteTime": {
     "end_time": "2021-01-20T20:39:37.597958Z",
     "start_time": "2021-01-20T20:39:37.577051Z"
    },
    "colab": {
     "base_uri": "https://localhost:8080/"
    },
    "id": "QKdFUc0PWECt",
    "outputId": "0e90b887-9859-478d-afd4-acc2a031b76c"
   },
   "outputs": [
    {
     "data": {
      "text/plain": [
       "array([[ 0,  1,  3,  2],\n",
       "       [ 8,  9, 11, 10],\n",
       "       [ 4,  5,  7,  6],\n",
       "       [12, 13, 15, 14]])"
      ]
     },
     "execution_count": 31,
     "metadata": {},
     "output_type": "execute_result"
    }
   ],
   "source": [
    "my_arr[1,:], my_arr[2,:] = row2, row1\n",
    "my_arr"
   ]
  },
  {
   "cell_type": "markdown",
   "metadata": {
    "id": "tHdNRQf9WEC5"
   },
   "source": [
    "12 - Some os valores para cada coluna."
   ]
  },
  {
   "cell_type": "code",
   "execution_count": 38,
   "metadata": {
    "ExecuteTime": {
     "end_time": "2021-01-20T20:44:02.467825Z",
     "start_time": "2021-01-20T20:44:02.458871Z"
    },
    "colab": {
     "base_uri": "https://localhost:8080/"
    },
    "id": "fwAhhRWZWEC6",
    "outputId": "926e98e2-446c-476d-8cf6-691ee6fc7fff"
   },
   "outputs": [
    {
     "data": {
      "text/plain": [
       "array([24, 28, 36, 32])"
      ]
     },
     "execution_count": 38,
     "metadata": {},
     "output_type": "execute_result"
    }
   ],
   "source": [
    "my_arr.sum(axis = 0)"
   ]
  },
  {
   "cell_type": "code",
   "execution_count": 37,
   "metadata": {
    "ExecuteTime": {
     "end_time": "2021-01-20T20:49:13.705002Z",
     "start_time": "2021-01-20T20:49:13.687490Z"
    },
    "colab": {
     "base_uri": "https://localhost:8080/"
    },
    "id": "SE4GO5pFWEC6",
    "outputId": "c087a505-a1b6-41e6-a000-5ca1cb78e437"
   },
   "outputs": [
    {
     "name": "stdout",
     "output_type": "stream",
     "text": [
      "Coluna 0 :  [ 0  8  4 12] : sum= 24\n",
      "Coluna 1 :  [ 1  9  5 13] : sum= 28\n",
      "Coluna 2 :  [ 3 11  7 15] : sum= 36\n",
      "Coluna 3 :  [ 2 10  6 14] : sum= 32\n"
     ]
    }
   ],
   "source": [
    "for i in range(my_arr.shape[1]):\n",
    "    print(\"Coluna\",i,\": \",my_arr[:,i],\": sum=\",my_arr[:,i].sum())"
   ]
  },
  {
   "cell_type": "markdown",
   "metadata": {
    "id": "4LDRaM81WECx"
   },
   "source": [
    "13 - Calcule a média, valor máximo e mínimo e o desvio padrão de cada row."
   ]
  },
  {
   "cell_type": "code",
   "execution_count": 32,
   "metadata": {
    "ExecuteTime": {
     "end_time": "2021-01-20T20:41:38.871781Z",
     "start_time": "2021-01-20T20:41:38.854120Z"
    },
    "colab": {
     "base_uri": "https://localhost:8080/"
    },
    "id": "ID-rCLv5WEC0",
    "outputId": "80be2d9d-6ced-4092-e3a8-9a8f4b67df97"
   },
   "outputs": [
    {
     "data": {
      "text/plain": [
       "array([ 1.5,  9.5,  5.5, 13.5])"
      ]
     },
     "execution_count": 32,
     "metadata": {},
     "output_type": "execute_result"
    }
   ],
   "source": [
    "my_arr.mean(axis = 1) #média"
   ]
  },
  {
   "cell_type": "code",
   "execution_count": 34,
   "metadata": {
    "ExecuteTime": {
     "end_time": "2021-01-20T20:42:23.129872Z",
     "start_time": "2021-01-20T20:42:23.118342Z"
    },
    "colab": {
     "base_uri": "https://localhost:8080/"
    },
    "id": "Q6ZnDQZYWEC2",
    "outputId": "e72c79ad-275c-44d3-e66f-2007f6e1514c"
   },
   "outputs": [
    {
     "data": {
      "text/plain": [
       "array([ 3, 11,  7, 15])"
      ]
     },
     "execution_count": 34,
     "metadata": {},
     "output_type": "execute_result"
    }
   ],
   "source": [
    "my_arr.max(axis = 1) #máximo"
   ]
  },
  {
   "cell_type": "code",
   "execution_count": 35,
   "metadata": {
    "ExecuteTime": {
     "end_time": "2021-01-20T20:43:09.360896Z",
     "start_time": "2021-01-20T20:43:09.342232Z"
    },
    "colab": {
     "base_uri": "https://localhost:8080/"
    },
    "id": "Ks8aqXQ1WEC3",
    "outputId": "ddaca98e-d1a3-47b8-a44f-a6f174040320"
   },
   "outputs": [
    {
     "data": {
      "text/plain": [
       "array([ 0,  8,  4, 12])"
      ]
     },
     "execution_count": 35,
     "metadata": {},
     "output_type": "execute_result"
    }
   ],
   "source": [
    "my_arr.min(axis = 1) #mínimo"
   ]
  },
  {
   "cell_type": "code",
   "execution_count": 36,
   "metadata": {
    "ExecuteTime": {
     "end_time": "2021-01-20T20:43:31.895491Z",
     "start_time": "2021-01-20T20:43:31.878266Z"
    },
    "colab": {
     "base_uri": "https://localhost:8080/"
    },
    "id": "ByhrCQBsWEC4",
    "outputId": "56591a27-9a07-467a-a839-6657b841ce4a"
   },
   "outputs": [
    {
     "data": {
      "text/plain": [
       "array([1.11803399, 1.11803399, 1.11803399, 1.11803399])"
      ]
     },
     "execution_count": 36,
     "metadata": {},
     "output_type": "execute_result"
    }
   ],
   "source": [
    "my_arr.std(axis = 1) #desvio padrão"
   ]
  },
  {
   "cell_type": "code",
   "execution_count": 39,
   "metadata": {
    "ExecuteTime": {
     "end_time": "2021-01-20T20:47:30.407649Z",
     "start_time": "2021-01-20T20:47:30.387391Z"
    },
    "colab": {
     "base_uri": "https://localhost:8080/"
    },
    "id": "uzLlJLyVWEC4",
    "outputId": "b47c45d7-61a1-415d-8a5b-3537baf34201"
   },
   "outputs": [
    {
     "name": "stdout",
     "output_type": "stream",
     "text": [
      "Row  0 :  [0 1 3 2] : mean= 1.5 , max= 3 , min= 0 , sdev= 1.118033988749895\n",
      "Row  1 :  [ 8  9 11 10] : mean= 9.5 , max= 11 , min= 8 , sdev= 1.118033988749895\n",
      "Row  2 :  [4 5 7 6] : mean= 5.5 , max= 7 , min= 4 , sdev= 1.118033988749895\n",
      "Row  3 :  [12 13 15 14] : mean= 13.5 , max= 15 , min= 12 , sdev= 1.118033988749895\n"
     ]
    }
   ],
   "source": [
    "for i in range(my_arr.shape[0]):\n",
    "    print(\"Row \",i,\": \",my_arr[i],\": mean=\",my_arr[i].mean(), \", max=\",my_arr[i].max(),\", min=\",my_arr[i].min(),\", sdev=\",my_arr[i].std())"
   ]
  },
  {
   "cell_type": "markdown",
   "metadata": {
    "id": "0lsKtLuHWEC7"
   },
   "source": [
    "14 - Existem elementos repetidos no array?"
   ]
  },
  {
   "cell_type": "code",
   "execution_count": 40,
   "metadata": {
    "ExecuteTime": {
     "end_time": "2021-01-20T20:54:06.525870Z",
     "start_time": "2021-01-20T20:54:06.518878Z"
    },
    "colab": {
     "base_uri": "https://localhost:8080/"
    },
    "id": "b8wX8x0kWEC8",
    "outputId": "624946c7-237a-4b64-841a-dc7fa6c44d01"
   },
   "outputs": [
    {
     "name": "stdout",
     "output_type": "stream",
     "text": [
      "[ 0  1  2  3  4  5  6  7  8  9 10 11 12 13 14 15]\n",
      "[1 1 1 1 1 1 1 1 1 1 1 1 1 1 1 1]\n"
     ]
    }
   ],
   "source": [
    "elems_unique, freq = np.unique(my_arr, return_counts=True)\n",
    "print(elems_unique)\n",
    "print(freq )\n"
   ]
  },
  {
   "cell_type": "code",
   "execution_count": 42,
   "metadata": {
    "ExecuteTime": {
     "end_time": "2021-01-20T20:53:56.770042Z",
     "start_time": "2021-01-20T20:53:56.762513Z"
    },
    "colab": {
     "base_uri": "https://localhost:8080/"
    },
    "id": "Z1TZtKFGWEC9",
    "outputId": "5ed64212-2525-4d5c-f035-7c726155d303"
   },
   "outputs": [
    {
     "name": "stdout",
     "output_type": "stream",
     "text": [
      "Não existem elementos repetidos!!!\n"
     ]
    }
   ],
   "source": [
    "if freq[freq != 1].size != 0:\n",
    "    print('Existem elementos repetidos!!!')\n",
    "else:\n",
    "    print('Não existem elementos repetidos!!!')\n"
   ]
  },
  {
   "cell_type": "markdown",
   "metadata": {
    "id": "AQ71fIfTWEC-"
   },
   "source": [
    "15 - Crie um array 3x2 contendo apenas 1s."
   ]
  },
  {
   "cell_type": "code",
   "execution_count": 43,
   "metadata": {
    "ExecuteTime": {
     "end_time": "2021-01-20T20:56:12.161726Z",
     "start_time": "2021-01-20T20:56:12.143848Z"
    },
    "colab": {
     "base_uri": "https://localhost:8080/"
    },
    "id": "HARzC1mbWEC_",
    "outputId": "377b1c56-a9ab-4a49-875a-2b385e20bc2d"
   },
   "outputs": [
    {
     "data": {
      "text/plain": [
       "array([[1, 1],\n",
       "       [1, 1],\n",
       "       [1, 1]])"
      ]
     },
     "execution_count": 43,
     "metadata": {},
     "output_type": "execute_result"
    }
   ],
   "source": [
    "arr_0 = np.ones([3,2], dtype=int)\n",
    "arr_0"
   ]
  },
  {
   "cell_type": "markdown",
   "metadata": {
    "id": "mT7Hx8IPWEDA"
   },
   "source": [
    "16 - Crie um array 3x5 apenas com números random entre 0 e 20."
   ]
  },
  {
   "cell_type": "code",
   "execution_count": 44,
   "metadata": {
    "ExecuteTime": {
     "end_time": "2021-01-20T21:00:48.322009Z",
     "start_time": "2021-01-20T21:00:48.303007Z"
    },
    "colab": {
     "base_uri": "https://localhost:8080/"
    },
    "id": "Y5p7yXSoWEDc",
    "outputId": "cd661245-feea-400c-eef0-7debe1354866"
   },
   "outputs": [
    {
     "name": "stdout",
     "output_type": "stream",
     "text": [
      "[[ 1  8 16  8  5]\n",
      " [ 9  6  8 10 19]\n",
      " [ 9 16 10 14 16]]\n"
     ]
    }
   ],
   "source": [
    "arr_r = np.random.randint(0,20,size=(3,5))\n",
    "print(arr_r)"
   ]
  },
  {
   "cell_type": "markdown",
   "metadata": {
    "id": "89D4j_vEchcn"
   },
   "source": [
    "17 - Substraia 2 unidades a cada elemento do array anterior."
   ]
  },
  {
   "cell_type": "code",
   "execution_count": 45,
   "metadata": {
    "colab": {
     "base_uri": "https://localhost:8080/"
    },
    "id": "rxqx9IO5cm19",
    "outputId": "7d003e4f-b0e2-4c60-cad7-e1189ac58172"
   },
   "outputs": [
    {
     "name": "stdout",
     "output_type": "stream",
     "text": [
      "[[-1  6 14  6  3]\n",
      " [ 7  4  6  8 17]\n",
      " [ 7 14  8 12 14]]\n"
     ]
    }
   ],
   "source": [
    "arr_r = arr_r - 2\n",
    "print(arr_r)"
   ]
  },
  {
   "cell_type": "markdown",
   "metadata": {
    "id": "07y81JFkWEDg"
   },
   "source": [
    "18 - Crie o array transposto do array anterior."
   ]
  },
  {
   "cell_type": "code",
   "execution_count": 46,
   "metadata": {
    "ExecuteTime": {
     "end_time": "2021-01-20T21:00:49.534190Z",
     "start_time": "2021-01-20T21:00:49.523088Z"
    },
    "colab": {
     "base_uri": "https://localhost:8080/"
    },
    "id": "DgIw9-nYWEDs",
    "outputId": "1c0e68fb-19d3-4a8c-c56e-e2a26aae45a1"
   },
   "outputs": [
    {
     "data": {
      "text/plain": [
       "array([[-1,  7,  7],\n",
       "       [ 6,  4, 14],\n",
       "       [14,  6,  8],\n",
       "       [ 6,  8, 12],\n",
       "       [ 3, 17, 14]])"
      ]
     },
     "execution_count": 46,
     "metadata": {},
     "output_type": "execute_result"
    }
   ],
   "source": [
    "arr_r_t = arr_r.T\n",
    "arr_r_t"
   ]
  },
  {
   "cell_type": "markdown",
   "metadata": {
    "id": "qdL1Myilc2A7"
   },
   "source": [
    "19 - Divida o array anterior em 3 arrays."
   ]
  },
  {
   "cell_type": "code",
   "execution_count": 47,
   "metadata": {
    "ExecuteTime": {
     "end_time": "2021-01-20T21:02:10.017672Z",
     "start_time": "2021-01-20T21:02:10.011097Z"
    },
    "id": "eHEmFSu5WEDv"
   },
   "outputs": [],
   "source": [
    "arr_a, arr_b, arr_c = np.array_split(arr_r_t, 3)"
   ]
  },
  {
   "cell_type": "code",
   "execution_count": 48,
   "metadata": {
    "ExecuteTime": {
     "end_time": "2021-01-20T21:02:19.248745Z",
     "start_time": "2021-01-20T21:02:19.232143Z"
    },
    "colab": {
     "base_uri": "https://localhost:8080/"
    },
    "id": "0nb1in6qWEDv",
    "outputId": "8ea15803-dd35-4b07-a91c-f78d3c28bafb"
   },
   "outputs": [
    {
     "name": "stdout",
     "output_type": "stream",
     "text": [
      "[[-1  7  7]\n",
      " [ 6  4 14]]\n"
     ]
    }
   ],
   "source": [
    "print(arr_a)"
   ]
  },
  {
   "cell_type": "code",
   "execution_count": 49,
   "metadata": {
    "ExecuteTime": {
     "end_time": "2021-01-20T21:02:26.114693Z",
     "start_time": "2021-01-20T21:02:26.107683Z"
    },
    "colab": {
     "base_uri": "https://localhost:8080/"
    },
    "id": "PDoYji8XWEDx",
    "outputId": "cd6368ef-80b5-4df4-b3d9-6128eedd8ab1"
   },
   "outputs": [
    {
     "name": "stdout",
     "output_type": "stream",
     "text": [
      "[[14  6  8]\n",
      " [ 6  8 12]]\n"
     ]
    }
   ],
   "source": [
    "print(arr_b)"
   ]
  },
  {
   "cell_type": "code",
   "execution_count": 50,
   "metadata": {
    "colab": {
     "base_uri": "https://localhost:8080/"
    },
    "id": "k2VPYEwuc-xO",
    "outputId": "b15b1abe-61ff-4c31-de28-ffbd7e9adeb9"
   },
   "outputs": [
    {
     "name": "stdout",
     "output_type": "stream",
     "text": [
      "[[ 3 17 14]]\n"
     ]
    }
   ],
   "source": [
    "print(arr_c)"
   ]
  },
  {
   "cell_type": "markdown",
   "metadata": {
    "id": "cqTHjzgFWEDz"
   },
   "source": [
    "20 - Calcule o valor ao cubo (valor^3) do array transposto."
   ]
  },
  {
   "cell_type": "code",
   "execution_count": 51,
   "metadata": {
    "ExecuteTime": {
     "end_time": "2021-01-20T21:03:01.813794Z",
     "start_time": "2021-01-20T21:03:01.803280Z"
    },
    "colab": {
     "base_uri": "https://localhost:8080/"
    },
    "id": "agNjRdQnWED2",
    "outputId": "aa3eface-8787-4dc6-8ff9-a7d6cad8e8fd"
   },
   "outputs": [
    {
     "data": {
      "text/plain": [
       "array([[  -1,  343,  343],\n",
       "       [ 216,   64, 2744],\n",
       "       [2744,  216,  512],\n",
       "       [ 216,  512, 1728],\n",
       "       [  27, 4913, 2744]])"
      ]
     },
     "execution_count": 51,
     "metadata": {},
     "output_type": "execute_result"
    }
   ],
   "source": [
    "arr_r_t ** 3"
   ]
  },
  {
   "cell_type": "markdown",
   "metadata": {
    "id": "bv_KNy5BWED4"
   },
   "source": [
    "21 - Verifique se multiplicar o array seguinte por um outro contendo apenas 1s dá ou não os mesmos valores.\n",
    "\n",
    "arr = [[1,2,3],[6,1,5],[1,2,9]]"
   ]
  },
  {
   "cell_type": "code",
   "execution_count": 52,
   "metadata": {
    "ExecuteTime": {
     "end_time": "2021-01-20T21:15:57.437855Z",
     "start_time": "2021-01-20T21:15:57.424745Z"
    },
    "colab": {
     "base_uri": "https://localhost:8080/"
    },
    "id": "loU-sNO8WED5",
    "outputId": "45b50fa8-f7e0-4666-cae5-4063e3795c7e"
   },
   "outputs": [
    {
     "data": {
      "text/plain": [
       "array([[1, 2, 3],\n",
       "       [6, 1, 5],\n",
       "       [1, 2, 9]])"
      ]
     },
     "execution_count": 52,
     "metadata": {},
     "output_type": "execute_result"
    }
   ],
   "source": [
    "list_nums = [[1,2,3],[6,1,5],[1,2,9]]\n",
    "arr = np.array(list_nums)\n",
    "arr"
   ]
  },
  {
   "cell_type": "code",
   "execution_count": 53,
   "metadata": {
    "ExecuteTime": {
     "end_time": "2021-01-20T21:16:40.004780Z",
     "start_time": "2021-01-20T21:16:39.996777Z"
    },
    "colab": {
     "base_uri": "https://localhost:8080/"
    },
    "id": "tMi_gWRJWED6",
    "outputId": "58055553-34dc-4ec0-eb04-b8442d6c82aa"
   },
   "outputs": [
    {
     "data": {
      "text/plain": [
       "array([[ True,  True,  True],\n",
       "       [ True,  True,  True],\n",
       "       [ True,  True,  True]])"
      ]
     },
     "execution_count": 53,
     "metadata": {},
     "output_type": "execute_result"
    }
   ],
   "source": [
    "np.multiply(arr, np.ones(arr.shape)) == arr"
   ]
  },
  {
   "cell_type": "markdown",
   "metadata": {
    "id": "wnMiFRaeWED7"
   },
   "source": [
    "22 - Crie um array de tamanho 8, contendo números random entre 1 e 60, distribuídos seguindo uma distribuição uniforme."
   ]
  },
  {
   "cell_type": "code",
   "execution_count": 59,
   "metadata": {
    "ExecuteTime": {
     "end_time": "2021-01-20T21:25:37.663223Z",
     "start_time": "2021-01-20T21:25:37.656221Z"
    },
    "colab": {
     "base_uri": "https://localhost:8080/"
    },
    "id": "ZE451aLhWED7",
    "outputId": "66d4e789-de1d-4afe-ffaa-4bb8ae9f66b9"
   },
   "outputs": [
    {
     "data": {
      "text/plain": [
       "array([46.50791795,  2.22436501, 38.38524586, 45.17942907, 30.41191373,\n",
       "       14.26300209, 12.68570902, 45.87131202])"
      ]
     },
     "execution_count": 59,
     "metadata": {},
     "output_type": "execute_result"
    }
   ],
   "source": [
    "np.random.seed(10)\n",
    "arr = np.random.uniform(1,60,8)\n",
    "arr\n",
    "\n"
   ]
  }
 ],
 "metadata": {
  "colab": {
   "provenance": []
  },
  "interpreter": {
   "hash": "a890e96c5bc2e34e713687d667dc1e925660c2a0af9c3a409dd6c550ddd944d3"
  },
  "kernelspec": {
   "display_name": "Python 3 (ipykernel)",
   "language": "python",
   "name": "python3"
  },
  "language_info": {
   "codemirror_mode": {
    "name": "ipython",
    "version": 3
   },
   "file_extension": ".py",
   "mimetype": "text/x-python",
   "name": "python",
   "nbconvert_exporter": "python",
   "pygments_lexer": "ipython3",
   "version": "3.10.10"
  },
  "latex_envs": {
   "LaTeX_envs_menu_present": true,
   "autoclose": false,
   "autocomplete": true,
   "bibliofile": "biblio.bib",
   "cite_by": "apalike",
   "current_citInitial": 1,
   "eqLabelWithNumbers": true,
   "eqNumInitial": 1,
   "hotkeys": {
    "equation": "Ctrl-E",
    "itemize": "Ctrl-I"
   },
   "labels_anchors": false,
   "latex_user_defs": false,
   "report_style_numbering": false,
   "user_envs_cfg": false
  },
  "toc": {
   "base_numbering": 1,
   "nav_menu": {},
   "number_sections": true,
   "sideBar": true,
   "skip_h1_title": false,
   "title_cell": "Table of Contents",
   "title_sidebar": "Contents",
   "toc_cell": false,
   "toc_position": {
    "height": "calc(100% - 180px)",
    "left": "10px",
    "top": "150px",
    "width": "418.3831481933594px"
   },
   "toc_section_display": true,
   "toc_window_display": false
  },
  "varInspector": {
   "cols": {
    "lenName": 16,
    "lenType": 16,
    "lenVar": 40
   },
   "kernels_config": {
    "python": {
     "delete_cmd_postfix": "",
     "delete_cmd_prefix": "del ",
     "library": "var_list.py",
     "varRefreshCmd": "print(var_dic_list())"
    },
    "r": {
     "delete_cmd_postfix": ") ",
     "delete_cmd_prefix": "rm(",
     "library": "var_list.r",
     "varRefreshCmd": "cat(var_dic_list()) "
    }
   },
   "types_to_exclude": [
    "module",
    "function",
    "builtin_function_or_method",
    "instance",
    "_Feature"
   ],
   "window_display": false
  }
 },
 "nbformat": 4,
 "nbformat_minor": 4
}
