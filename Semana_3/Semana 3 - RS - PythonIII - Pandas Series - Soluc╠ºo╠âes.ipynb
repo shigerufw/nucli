{
  "cells": [
    {
      "cell_type": "markdown",
      "source": [
        "![Nuclio logo](https://nuclio.school/wp-content/uploads/2018/12/nucleoDS-newBlack.png)"
      ],
      "metadata": {
        "id": "8-wY_RK-hBvT"
      }
    },
    {
      "cell_type": "markdown",
      "source": [
        "# Exercícios - Pandas Series\n",
        "\n",
        "Neste notebook, encontram 20 exercícios que vos permitirão aprender as bases acerca de Pandas Series."
      ],
      "metadata": {
        "id": "ugeYoNHjhBva"
      }
    },
    {
      "cell_type": "markdown",
      "source": [
        "1 - Importe as bibliotecas numpy e pandas.\n",
        "\n"
      ],
      "metadata": {
        "id": "CvqxRz3IhBvb"
      }
    },
    {
      "cell_type": "code",
      "execution_count": 4,
      "source": [
        "import numpy as np\n",
        "import pandas as pd"
      ],
      "outputs": [],
      "metadata": {
        "ExecuteTime": {
          "end_time": "2021-01-21T19:19:40.412032Z",
          "start_time": "2021-01-21T19:19:39.550006Z"
        },
        "id": "maizz2PihBvc"
      }
    },
    {
      "cell_type": "markdown",
      "source": [
        "2 - Crie uma Pandas Series através de uma lista contendo números de 0 a 10 guardados como strings."
      ],
      "metadata": {
        "id": "Cei2FQGohBve"
      }
    },
    {
      "cell_type": "code",
      "execution_count": 3,
      "source": [
        "list_a = ['0','1','2','3','4','5','6','7','8','9','10']\n",
        "my_series = pd.Series(list_a)\n",
        "my_series"
      ],
      "outputs": [
        {
          "output_type": "execute_result",
          "data": {
            "text/plain": [
              "0      0\n",
              "1      1\n",
              "2      2\n",
              "3      3\n",
              "4      4\n",
              "5      5\n",
              "6      6\n",
              "7      7\n",
              "8      8\n",
              "9      9\n",
              "10    10\n",
              "dtype: object"
            ]
          },
          "metadata": {},
          "execution_count": 3
        }
      ],
      "metadata": {
        "ExecuteTime": {
          "end_time": "2021-01-21T19:21:36.249239Z",
          "start_time": "2021-01-21T19:21:36.224099Z"
        },
        "colab": {
          "base_uri": "https://localhost:8080/"
        },
        "id": "yltSYAWPhBve",
        "outputId": "a29705d1-182e-4b29-c4aa-6c27e510f7ea"
      }
    },
    {
      "cell_type": "markdown",
      "source": [
        "3 - Crie uma serie a partir de um array com números entre 0 e 5."
      ],
      "metadata": {
        "id": "fcj6YDythBvg"
      }
    },
    {
      "cell_type": "code",
      "execution_count": 5,
      "source": [
        "arr = np.arange(6)\n",
        "series_1 = pd.Series(arr)\n",
        "series_1"
      ],
      "outputs": [
        {
          "output_type": "execute_result",
          "data": {
            "text/plain": [
              "0    0\n",
              "1    1\n",
              "2    2\n",
              "3    3\n",
              "4    4\n",
              "5    5\n",
              "dtype: int64"
            ]
          },
          "metadata": {},
          "execution_count": 5
        }
      ],
      "metadata": {
        "ExecuteTime": {
          "end_time": "2021-01-21T19:23:24.230740Z",
          "start_time": "2021-01-21T19:23:24.212178Z"
        },
        "colab": {
          "base_uri": "https://localhost:8080/"
        },
        "id": "pSzS9GeZhBvh",
        "outputId": "108760b7-34ca-41b2-b17e-31c576617424"
      }
    },
    {
      "cell_type": "markdown",
      "source": [
        "\n",
        "4 - Crie uma serie a partir do seguinte dicionário:\n",
        "\n",
        "dict_1 = {'a':0, 'b':1, 'c':2, 'd':3, 'e':4}"
      ],
      "metadata": {
        "id": "x24a97ZzhBvi"
      }
    },
    {
      "cell_type": "code",
      "execution_count": 6,
      "source": [
        "dict_1 = {'a':0, 'b':1, 'c':2, 'd':3, 'e':4}\n",
        "series_2 = pd.Series(dict_1)\n",
        "series_2"
      ],
      "outputs": [
        {
          "output_type": "execute_result",
          "data": {
            "text/plain": [
              "a    0\n",
              "b    1\n",
              "c    2\n",
              "d    3\n",
              "e    4\n",
              "dtype: int64"
            ]
          },
          "metadata": {},
          "execution_count": 6
        }
      ],
      "metadata": {
        "ExecuteTime": {
          "end_time": "2021-01-21T19:26:31.447729Z",
          "start_time": "2021-01-21T19:26:31.404333Z"
        },
        "colab": {
          "base_uri": "https://localhost:8080/"
        },
        "id": "4btt8ZwRhBvi",
        "outputId": "dccb3d71-4012-4c34-ffd1-f15a8ad791bf"
      }
    },
    {
      "cell_type": "markdown",
      "source": [
        "5 - Dê um nome à serie anterior."
      ],
      "metadata": {
        "id": "-8kqv6Y9hBvm"
      }
    },
    {
      "cell_type": "code",
      "execution_count": 8,
      "source": [
        "series_2.name = 'Labels'\n",
        "series_2"
      ],
      "outputs": [
        {
          "output_type": "execute_result",
          "data": {
            "text/plain": [
              "label1    0\n",
              "label2    1\n",
              "label3    2\n",
              "label4    3\n",
              "label5    4\n",
              "Name: Labels, dtype: int64"
            ]
          },
          "metadata": {},
          "execution_count": 8
        }
      ],
      "metadata": {
        "ExecuteTime": {
          "end_time": "2021-01-21T19:37:27.879435Z",
          "start_time": "2021-01-21T19:37:27.860852Z"
        },
        "colab": {
          "base_uri": "https://localhost:8080/"
        },
        "id": "zb9rk-0thBvn",
        "outputId": "e9e47474-9b1d-4084-b2f4-f35e73058310"
      }
    },
    {
      "cell_type": "markdown",
      "source": [
        "6 - Modifique os índices da serie anterior para:\n",
        "\n",
        "['label1', 'label2', 'label3', 'label4', 'label5']"
      ],
      "metadata": {
        "id": "oJ90bHlyhBvj"
      }
    },
    {
      "cell_type": "code",
      "execution_count": 7,
      "source": [
        "series_2.index = ['label1', 'label2', 'label3', 'label4', 'label5']\n",
        "series_2"
      ],
      "outputs": [
        {
          "output_type": "execute_result",
          "data": {
            "text/plain": [
              "label1    0\n",
              "label2    1\n",
              "label3    2\n",
              "label4    3\n",
              "label5    4\n",
              "dtype: int64"
            ]
          },
          "metadata": {},
          "execution_count": 7
        }
      ],
      "metadata": {
        "ExecuteTime": {
          "end_time": "2021-01-21T19:32:13.076438Z",
          "start_time": "2021-01-21T19:32:13.060554Z"
        },
        "colab": {
          "base_uri": "https://localhost:8080/"
        },
        "id": "xAWcvRj9hBvl",
        "outputId": "f3bb2cbc-b173-4adf-a09d-214516fa1f70"
      }
    },
    {
      "cell_type": "markdown",
      "source": [
        "7 - Dadas as seguintes listas:\n",
        "\n",
        "a = np.array([1, 2, 3, 4, 5, 6])\n",
        "\n",
        "b = np.array([4, 5, 6, 7, 8, 9])\n",
        "\n",
        "Converta as listas em series e, em seguida, crie uma nova serie que contenha os elementos que são comuns a ambas as séries 'a' e 'b', ou seja, os elementos que estão presentes em ambas as listas."
      ],
      "metadata": {
        "id": "PHhum-FAhBvo"
      }
    },
    {
      "cell_type": "code",
      "execution_count": 9,
      "source": [
        "a = np.array([1, 2, 3, 4, 5, 6])\n",
        "b = np.array([4, 5, 6, 7, 8, 9])"
      ],
      "outputs": [],
      "metadata": {
        "ExecuteTime": {
          "end_time": "2021-01-21T19:38:59.043000Z",
          "start_time": "2021-01-21T19:38:59.036992Z"
        },
        "id": "XZFFUli0hBvo"
      }
    },
    {
      "cell_type": "code",
      "execution_count": 10,
      "source": [
        "series_a = pd.Series(a)\n",
        "series_b = pd.Series(b)"
      ],
      "outputs": [],
      "metadata": {
        "ExecuteTime": {
          "end_time": "2021-01-21T19:41:26.547666Z",
          "start_time": "2021-01-21T19:41:26.528966Z"
        },
        "id": "qbxnlmhuhBvp"
      }
    },
    {
      "cell_type": "code",
      "execution_count": 11,
      "source": [
        "new_series = series_a[series_a.isin(series_b)]\n",
        "new_series"
      ],
      "outputs": [
        {
          "output_type": "execute_result",
          "data": {
            "text/plain": [
              "3    4\n",
              "4    5\n",
              "5    6\n",
              "dtype: int64"
            ]
          },
          "metadata": {},
          "execution_count": 11
        }
      ],
      "metadata": {
        "ExecuteTime": {
          "end_time": "2021-01-21T19:44:53.847831Z",
          "start_time": "2021-01-21T19:44:53.830194Z"
        },
        "colab": {
          "base_uri": "https://localhost:8080/"
        },
        "id": "Rq5qRG8XhBvp",
        "outputId": "ab8dabf9-b1d1-4f54-c73a-84153d4e36c6"
      }
    },
    {
      "cell_type": "markdown",
      "source": [
        "8 - Encontre os elementos que não são comuns entre 'a' e 'b'."
      ],
      "metadata": {
        "id": "igtlh28fhBvq"
      }
    },
    {
      "cell_type": "code",
      "execution_count": 12,
      "source": [
        "no_com_a = series_a[~series_a.isin(series_b)]\n",
        "no_com_b = series_b[~series_b.isin(series_a)]\n",
        "\n",
        "no_com = no_com_a.append(no_com_b, ignore_index=True)\n",
        "no_com"
      ],
      "outputs": [
        {
          "output_type": "stream",
          "name": "stderr",
          "text": [
            "<ipython-input-12-5e8162238088>:4: FutureWarning: The series.append method is deprecated and will be removed from pandas in a future version. Use pandas.concat instead.\n",
            "  no_com = no_com_a.append(no_com_b, ignore_index=True)\n"
          ]
        },
        {
          "output_type": "execute_result",
          "data": {
            "text/plain": [
              "0    1\n",
              "1    2\n",
              "2    3\n",
              "3    7\n",
              "4    8\n",
              "5    9\n",
              "dtype: int64"
            ]
          },
          "metadata": {},
          "execution_count": 12
        }
      ],
      "metadata": {
        "ExecuteTime": {
          "end_time": "2021-01-21T19:49:02.837967Z",
          "start_time": "2021-01-21T19:49:02.827373Z"
        },
        "colab": {
          "base_uri": "https://localhost:8080/"
        },
        "id": "Ms8FraXwhBvq",
        "outputId": "ac85bfe3-d7f0-4a5f-b78e-e935767146d3"
      }
    },
    {
      "cell_type": "markdown",
      "source": [
        "9 - Calcule o mínimo, máximo e percentis 25 e 75 da series 'b'."
      ],
      "metadata": {
        "id": "nq92hsKZhBvr"
      }
    },
    {
      "cell_type": "code",
      "execution_count": 13,
      "source": [
        "print('minimum =', series_b.min(), 'maximum =', series_b.max(), 'percentile 25 =', series_b.quantile(q=0.25), 'percentile 75 =', series_b.quantile(q=0.75))"
      ],
      "outputs": [
        {
          "output_type": "stream",
          "name": "stdout",
          "text": [
            "minimum = 4 maximum = 9 percentile 25 = 5.25 percentile 75 = 7.75\n"
          ]
        }
      ],
      "metadata": {
        "ExecuteTime": {
          "end_time": "2021-01-21T19:52:35.067114Z",
          "start_time": "2021-01-21T19:52:35.053555Z"
        },
        "colab": {
          "base_uri": "https://localhost:8080/"
        },
        "id": "QEs727arhBvr",
        "outputId": "62b02bd4-e0e5-4ffe-889c-ee8e46deab74"
      }
    },
    {
      "cell_type": "code",
      "execution_count": 14,
      "source": [
        "series_b.describe()"
      ],
      "outputs": [
        {
          "output_type": "execute_result",
          "data": {
            "text/plain": [
              "count    6.000000\n",
              "mean     6.500000\n",
              "std      1.870829\n",
              "min      4.000000\n",
              "25%      5.250000\n",
              "50%      6.500000\n",
              "75%      7.750000\n",
              "max      9.000000\n",
              "dtype: float64"
            ]
          },
          "metadata": {},
          "execution_count": 14
        }
      ],
      "metadata": {
        "ExecuteTime": {
          "end_time": "2021-01-21T19:53:51.656239Z",
          "start_time": "2021-01-21T19:53:51.613602Z"
        },
        "colab": {
          "base_uri": "https://localhost:8080/"
        },
        "id": "P2jwZFlQhBvs",
        "outputId": "ef30623f-8bec-449c-d1e0-9e694cfa6dbe"
      }
    },
    {
      "cell_type": "markdown",
      "source": [
        "10 - Calcule a frequência de cada elemento único da seguinte series:\n",
        "\n",
        "ser = pd.Series(np.take(list('abcdefgh'), np.random.randint(8, size = 30)))"
      ],
      "metadata": {
        "ExecuteTime": {
          "end_time": "2020-03-02T07:30:12.381136Z",
          "start_time": "2020-03-02T07:30:12.374105Z"
        },
        "id": "9NoIuQeMhBvt"
      }
    },
    {
      "cell_type": "code",
      "execution_count": 15,
      "source": [
        "ser = pd.Series(np.take(list('abcdefgh'), np.random.randint(8, size=30)))\n",
        "ser"
      ],
      "outputs": [
        {
          "output_type": "execute_result",
          "data": {
            "text/plain": [
              "0     h\n",
              "1     h\n",
              "2     f\n",
              "3     f\n",
              "4     h\n",
              "5     f\n",
              "6     h\n",
              "7     d\n",
              "8     f\n",
              "9     b\n",
              "10    h\n",
              "11    e\n",
              "12    d\n",
              "13    g\n",
              "14    c\n",
              "15    d\n",
              "16    a\n",
              "17    h\n",
              "18    c\n",
              "19    b\n",
              "20    d\n",
              "21    d\n",
              "22    e\n",
              "23    c\n",
              "24    e\n",
              "25    e\n",
              "26    c\n",
              "27    b\n",
              "28    d\n",
              "29    g\n",
              "dtype: object"
            ]
          },
          "metadata": {},
          "execution_count": 15
        }
      ],
      "metadata": {
        "ExecuteTime": {
          "end_time": "2021-01-21T20:00:12.836909Z",
          "start_time": "2021-01-21T20:00:12.813904Z"
        },
        "colab": {
          "base_uri": "https://localhost:8080/"
        },
        "id": "Km2KQUQ4hBvt",
        "outputId": "e2ebe58a-3b88-4b72-f3a9-3d4155deaa78"
      }
    },
    {
      "cell_type": "code",
      "execution_count": 16,
      "source": [
        "ser.value_counts()"
      ],
      "outputs": [
        {
          "output_type": "execute_result",
          "data": {
            "text/plain": [
              "h    6\n",
              "d    6\n",
              "f    4\n",
              "e    4\n",
              "c    4\n",
              "b    3\n",
              "g    2\n",
              "a    1\n",
              "dtype: int64"
            ]
          },
          "metadata": {},
          "execution_count": 16
        }
      ],
      "metadata": {
        "ExecuteTime": {
          "end_time": "2021-01-21T20:02:03.634443Z",
          "start_time": "2021-01-21T20:02:03.594294Z"
        },
        "colab": {
          "base_uri": "https://localhost:8080/"
        },
        "id": "6Fd0R5fohBvu",
        "outputId": "6f9d3580-6caf-4bbd-fc06-a4324134bbc2"
      }
    },
    {
      "cell_type": "markdown",
      "source": [
        "11 - A partir da series anterior, mantenha os 3 elementos mais frequentes e altere os restantes para \"...\"."
      ],
      "metadata": {
        "id": "DSKrpXjghBvv"
      }
    },
    {
      "cell_type": "code",
      "execution_count": 19,
      "source": [
        "freq_indx_top_3 = ser.value_counts(sort=True, ascending=False)[:3].index\n"
      ],
      "outputs": [],
      "metadata": {
        "ExecuteTime": {
          "end_time": "2021-01-21T20:12:57.511040Z",
          "start_time": "2021-01-21T20:12:57.500485Z"
        },
        "id": "yH4fx2MDhBvw"
      }
    },
    {
      "cell_type": "code",
      "execution_count": 20,
      "source": [
        "ser[~ser.isin(freq_indx_top_3)] = '...'\n",
        "ser"
      ],
      "outputs": [
        {
          "output_type": "execute_result",
          "data": {
            "text/plain": [
              "0       h\n",
              "1       h\n",
              "2     ...\n",
              "3     ...\n",
              "4       h\n",
              "5     ...\n",
              "6       h\n",
              "7       d\n",
              "8     ...\n",
              "9     ...\n",
              "10      h\n",
              "11    ...\n",
              "12      d\n",
              "13    ...\n",
              "14    ...\n",
              "15      d\n",
              "16    ...\n",
              "17      h\n",
              "18    ...\n",
              "19    ...\n",
              "20      d\n",
              "21      d\n",
              "22    ...\n",
              "23    ...\n",
              "24    ...\n",
              "25    ...\n",
              "26    ...\n",
              "27    ...\n",
              "28      d\n",
              "29    ...\n",
              "dtype: object"
            ]
          },
          "metadata": {},
          "execution_count": 20
        }
      ],
      "metadata": {
        "ExecuteTime": {
          "end_time": "2021-01-21T20:12:58.180938Z",
          "start_time": "2021-01-21T20:12:58.158271Z"
        },
        "colab": {
          "base_uri": "https://localhost:8080/"
        },
        "id": "4ywFDnkvhBvx",
        "outputId": "58a8c851-b6e0-43f1-f85f-616eae10f6c3"
      }
    },
    {
      "cell_type": "markdown",
      "source": [
        "12 - Encontre as posições dos números da series que se segue que são múltiplos de 2.\n",
        "\n",
        "ser = pd.Series(np.random.randint (1, 10, 10))"
      ],
      "metadata": {
        "id": "bbW0INWmhBvz"
      }
    },
    {
      "cell_type": "code",
      "execution_count": 21,
      "source": [
        "np.random.seed(100)\n",
        "ser = pd.Series(np.random.randint (1, 10, 10))\n",
        "ser"
      ],
      "outputs": [
        {
          "output_type": "execute_result",
          "data": {
            "text/plain": [
              "0    9\n",
              "1    9\n",
              "2    4\n",
              "3    8\n",
              "4    8\n",
              "5    1\n",
              "6    5\n",
              "7    3\n",
              "8    6\n",
              "9    3\n",
              "dtype: int64"
            ]
          },
          "metadata": {},
          "execution_count": 21
        }
      ],
      "metadata": {
        "ExecuteTime": {
          "end_time": "2021-01-21T20:22:30.664472Z",
          "start_time": "2021-01-21T20:22:30.651953Z"
        },
        "colab": {
          "base_uri": "https://localhost:8080/"
        },
        "id": "Dy1X4WXYhBv0",
        "outputId": "38b49c71-89a8-4e76-c06e-5d52a5ec18e1"
      }
    },
    {
      "cell_type": "code",
      "execution_count": 22,
      "source": [
        "ser[ser % 2 == 0].index.to_list()"
      ],
      "outputs": [
        {
          "output_type": "execute_result",
          "data": {
            "text/plain": [
              "[2, 3, 4, 8]"
            ]
          },
          "metadata": {},
          "execution_count": 22
        }
      ],
      "metadata": {
        "ExecuteTime": {
          "end_time": "2021-01-21T20:23:11.454000Z",
          "start_time": "2021-01-21T20:23:11.443996Z"
        },
        "colab": {
          "base_uri": "https://localhost:8080/"
        },
        "id": "mUlBVW-whBv1",
        "outputId": "14ed827d-b4bd-4f9b-ff87-fd8306aeea7a"
      }
    },
    {
      "cell_type": "markdown",
      "source": [
        "13 - Extraia os elementos da seguinte series que se encontram nas posições especificadas.\n",
        "\n",
        "ser = pd.Series(list('abcdefghijklmnopqrstuvwxyz'))\n",
        "\n",
        "pos = [0, 5, 9, 16, 21]"
      ],
      "metadata": {
        "id": "YHV7IDd_hBv2"
      }
    },
    {
      "cell_type": "code",
      "execution_count": 23,
      "source": [
        "ser = pd.Series(list('abcdefghijklmnopqrstuvwxyz'))\n",
        "\n",
        "pos = [0, 5, 9, 16, 21]\n",
        "\n",
        "ser.take(pos)\n"
      ],
      "outputs": [
        {
          "output_type": "execute_result",
          "data": {
            "text/plain": [
              "0     a\n",
              "5     f\n",
              "9     j\n",
              "16    q\n",
              "21    v\n",
              "dtype: object"
            ]
          },
          "metadata": {},
          "execution_count": 23
        }
      ],
      "metadata": {
        "ExecuteTime": {
          "end_time": "2021-01-21T20:28:56.111329Z",
          "start_time": "2021-01-21T20:28:56.092282Z"
        },
        "colab": {
          "base_uri": "https://localhost:8080/"
        },
        "id": "g15uxOW2hBv3",
        "outputId": "e09f3d4e-ed20-468b-dc1f-bbe55aa65d4e"
      }
    },
    {
      "cell_type": "code",
      "execution_count": 24,
      "source": [
        "ser[pos]"
      ],
      "outputs": [
        {
          "output_type": "execute_result",
          "data": {
            "text/plain": [
              "0     a\n",
              "5     f\n",
              "9     j\n",
              "16    q\n",
              "21    v\n",
              "dtype: object"
            ]
          },
          "metadata": {},
          "execution_count": 24
        }
      ],
      "metadata": {
        "ExecuteTime": {
          "end_time": "2021-01-21T20:29:14.264489Z",
          "start_time": "2021-01-21T20:29:14.243293Z"
        },
        "colab": {
          "base_uri": "https://localhost:8080/"
        },
        "id": "HxvRlgsshBv4",
        "outputId": "a5d977e7-da09-468e-abd0-e1a6b02dd94a"
      }
    },
    {
      "cell_type": "markdown",
      "source": [
        "14 - Empilhe (stack) as series series_1 e series_2 tanto horizontalmente como verticalmente.\n",
        "\n",
        "series_1 = pd.Series(np.arange(0, 5, 1))\n",
        "\n",
        "series_2 = pd.Series(list('abcde'))"
      ],
      "metadata": {
        "id": "vBvivux4hBv5"
      }
    },
    {
      "cell_type": "code",
      "execution_count": 25,
      "source": [
        "series_1 = pd.Series(np.arange(0, 5, 1))\n",
        "series_1"
      ],
      "outputs": [
        {
          "output_type": "execute_result",
          "data": {
            "text/plain": [
              "0    0\n",
              "1    1\n",
              "2    2\n",
              "3    3\n",
              "4    4\n",
              "dtype: int64"
            ]
          },
          "metadata": {},
          "execution_count": 25
        }
      ],
      "metadata": {
        "ExecuteTime": {
          "end_time": "2021-01-21T20:31:26.502464Z",
          "start_time": "2021-01-21T20:31:26.484405Z"
        },
        "colab": {
          "base_uri": "https://localhost:8080/"
        },
        "id": "30pov60VhBv6",
        "outputId": "7e81fe88-1478-4488-c8d2-fc192bb633c5"
      }
    },
    {
      "cell_type": "code",
      "execution_count": 26,
      "source": [
        "series_2 = pd.Series(list('abcde'))\n",
        "series_2"
      ],
      "outputs": [
        {
          "output_type": "execute_result",
          "data": {
            "text/plain": [
              "0    a\n",
              "1    b\n",
              "2    c\n",
              "3    d\n",
              "4    e\n",
              "dtype: object"
            ]
          },
          "metadata": {},
          "execution_count": 26
        }
      ],
      "metadata": {
        "ExecuteTime": {
          "end_time": "2021-01-21T20:32:12.709495Z",
          "start_time": "2021-01-21T20:32:12.692441Z"
        },
        "colab": {
          "base_uri": "https://localhost:8080/"
        },
        "id": "SyTIjemhhBv7",
        "outputId": "babf3083-eefc-4911-da97-c2ea4276daa0"
      }
    },
    {
      "cell_type": "code",
      "execution_count": 27,
      "source": [
        "series_h = pd.concat([series_1, series_2], axis=1) #horizontal\n",
        "series_h"
      ],
      "outputs": [
        {
          "output_type": "execute_result",
          "data": {
            "text/plain": [
              "   0  1\n",
              "0  0  a\n",
              "1  1  b\n",
              "2  2  c\n",
              "3  3  d\n",
              "4  4  e"
            ],
            "text/html": [
              "\n",
              "  <div id=\"df-54f7b0f1-49d9-447b-b794-f82aaebfd837\" class=\"colab-df-container\">\n",
              "    <div>\n",
              "<style scoped>\n",
              "    .dataframe tbody tr th:only-of-type {\n",
              "        vertical-align: middle;\n",
              "    }\n",
              "\n",
              "    .dataframe tbody tr th {\n",
              "        vertical-align: top;\n",
              "    }\n",
              "\n",
              "    .dataframe thead th {\n",
              "        text-align: right;\n",
              "    }\n",
              "</style>\n",
              "<table border=\"1\" class=\"dataframe\">\n",
              "  <thead>\n",
              "    <tr style=\"text-align: right;\">\n",
              "      <th></th>\n",
              "      <th>0</th>\n",
              "      <th>1</th>\n",
              "    </tr>\n",
              "  </thead>\n",
              "  <tbody>\n",
              "    <tr>\n",
              "      <th>0</th>\n",
              "      <td>0</td>\n",
              "      <td>a</td>\n",
              "    </tr>\n",
              "    <tr>\n",
              "      <th>1</th>\n",
              "      <td>1</td>\n",
              "      <td>b</td>\n",
              "    </tr>\n",
              "    <tr>\n",
              "      <th>2</th>\n",
              "      <td>2</td>\n",
              "      <td>c</td>\n",
              "    </tr>\n",
              "    <tr>\n",
              "      <th>3</th>\n",
              "      <td>3</td>\n",
              "      <td>d</td>\n",
              "    </tr>\n",
              "    <tr>\n",
              "      <th>4</th>\n",
              "      <td>4</td>\n",
              "      <td>e</td>\n",
              "    </tr>\n",
              "  </tbody>\n",
              "</table>\n",
              "</div>\n",
              "    <div class=\"colab-df-buttons\">\n",
              "\n",
              "  <div class=\"colab-df-container\">\n",
              "    <button class=\"colab-df-convert\" onclick=\"convertToInteractive('df-54f7b0f1-49d9-447b-b794-f82aaebfd837')\"\n",
              "            title=\"Convert this dataframe to an interactive table.\"\n",
              "            style=\"display:none;\">\n",
              "\n",
              "  <svg xmlns=\"http://www.w3.org/2000/svg\" height=\"24px\" viewBox=\"0 -960 960 960\">\n",
              "    <path d=\"M120-120v-720h720v720H120Zm60-500h600v-160H180v160Zm220 220h160v-160H400v160Zm0 220h160v-160H400v160ZM180-400h160v-160H180v160Zm440 0h160v-160H620v160ZM180-180h160v-160H180v160Zm440 0h160v-160H620v160Z\"/>\n",
              "  </svg>\n",
              "    </button>\n",
              "\n",
              "  <style>\n",
              "    .colab-df-container {\n",
              "      display:flex;\n",
              "      gap: 12px;\n",
              "    }\n",
              "\n",
              "    .colab-df-convert {\n",
              "      background-color: #E8F0FE;\n",
              "      border: none;\n",
              "      border-radius: 50%;\n",
              "      cursor: pointer;\n",
              "      display: none;\n",
              "      fill: #1967D2;\n",
              "      height: 32px;\n",
              "      padding: 0 0 0 0;\n",
              "      width: 32px;\n",
              "    }\n",
              "\n",
              "    .colab-df-convert:hover {\n",
              "      background-color: #E2EBFA;\n",
              "      box-shadow: 0px 1px 2px rgba(60, 64, 67, 0.3), 0px 1px 3px 1px rgba(60, 64, 67, 0.15);\n",
              "      fill: #174EA6;\n",
              "    }\n",
              "\n",
              "    .colab-df-buttons div {\n",
              "      margin-bottom: 4px;\n",
              "    }\n",
              "\n",
              "    [theme=dark] .colab-df-convert {\n",
              "      background-color: #3B4455;\n",
              "      fill: #D2E3FC;\n",
              "    }\n",
              "\n",
              "    [theme=dark] .colab-df-convert:hover {\n",
              "      background-color: #434B5C;\n",
              "      box-shadow: 0px 1px 3px 1px rgba(0, 0, 0, 0.15);\n",
              "      filter: drop-shadow(0px 1px 2px rgba(0, 0, 0, 0.3));\n",
              "      fill: #FFFFFF;\n",
              "    }\n",
              "  </style>\n",
              "\n",
              "    <script>\n",
              "      const buttonEl =\n",
              "        document.querySelector('#df-54f7b0f1-49d9-447b-b794-f82aaebfd837 button.colab-df-convert');\n",
              "      buttonEl.style.display =\n",
              "        google.colab.kernel.accessAllowed ? 'block' : 'none';\n",
              "\n",
              "      async function convertToInteractive(key) {\n",
              "        const element = document.querySelector('#df-54f7b0f1-49d9-447b-b794-f82aaebfd837');\n",
              "        const dataTable =\n",
              "          await google.colab.kernel.invokeFunction('convertToInteractive',\n",
              "                                                    [key], {});\n",
              "        if (!dataTable) return;\n",
              "\n",
              "        const docLinkHtml = 'Like what you see? Visit the ' +\n",
              "          '<a target=\"_blank\" href=https://colab.research.google.com/notebooks/data_table.ipynb>data table notebook</a>'\n",
              "          + ' to learn more about interactive tables.';\n",
              "        element.innerHTML = '';\n",
              "        dataTable['output_type'] = 'display_data';\n",
              "        await google.colab.output.renderOutput(dataTable, element);\n",
              "        const docLink = document.createElement('div');\n",
              "        docLink.innerHTML = docLinkHtml;\n",
              "        element.appendChild(docLink);\n",
              "      }\n",
              "    </script>\n",
              "  </div>\n",
              "\n",
              "\n",
              "<div id=\"df-9e31f90c-bbbc-4304-a32b-175d0dd8912e\">\n",
              "  <button class=\"colab-df-quickchart\" onclick=\"quickchart('df-9e31f90c-bbbc-4304-a32b-175d0dd8912e')\"\n",
              "            title=\"Suggest charts.\"\n",
              "            style=\"display:none;\">\n",
              "\n",
              "<svg xmlns=\"http://www.w3.org/2000/svg\" height=\"24px\"viewBox=\"0 0 24 24\"\n",
              "     width=\"24px\">\n",
              "    <g>\n",
              "        <path d=\"M19 3H5c-1.1 0-2 .9-2 2v14c0 1.1.9 2 2 2h14c1.1 0 2-.9 2-2V5c0-1.1-.9-2-2-2zM9 17H7v-7h2v7zm4 0h-2V7h2v10zm4 0h-2v-4h2v4z\"/>\n",
              "    </g>\n",
              "</svg>\n",
              "  </button>\n",
              "\n",
              "<style>\n",
              "  .colab-df-quickchart {\n",
              "      --bg-color: #E8F0FE;\n",
              "      --fill-color: #1967D2;\n",
              "      --hover-bg-color: #E2EBFA;\n",
              "      --hover-fill-color: #174EA6;\n",
              "      --disabled-fill-color: #AAA;\n",
              "      --disabled-bg-color: #DDD;\n",
              "  }\n",
              "\n",
              "  [theme=dark] .colab-df-quickchart {\n",
              "      --bg-color: #3B4455;\n",
              "      --fill-color: #D2E3FC;\n",
              "      --hover-bg-color: #434B5C;\n",
              "      --hover-fill-color: #FFFFFF;\n",
              "      --disabled-bg-color: #3B4455;\n",
              "      --disabled-fill-color: #666;\n",
              "  }\n",
              "\n",
              "  .colab-df-quickchart {\n",
              "    background-color: var(--bg-color);\n",
              "    border: none;\n",
              "    border-radius: 50%;\n",
              "    cursor: pointer;\n",
              "    display: none;\n",
              "    fill: var(--fill-color);\n",
              "    height: 32px;\n",
              "    padding: 0;\n",
              "    width: 32px;\n",
              "  }\n",
              "\n",
              "  .colab-df-quickchart:hover {\n",
              "    background-color: var(--hover-bg-color);\n",
              "    box-shadow: 0 1px 2px rgba(60, 64, 67, 0.3), 0 1px 3px 1px rgba(60, 64, 67, 0.15);\n",
              "    fill: var(--button-hover-fill-color);\n",
              "  }\n",
              "\n",
              "  .colab-df-quickchart-complete:disabled,\n",
              "  .colab-df-quickchart-complete:disabled:hover {\n",
              "    background-color: var(--disabled-bg-color);\n",
              "    fill: var(--disabled-fill-color);\n",
              "    box-shadow: none;\n",
              "  }\n",
              "\n",
              "  .colab-df-spinner {\n",
              "    border: 2px solid var(--fill-color);\n",
              "    border-color: transparent;\n",
              "    border-bottom-color: var(--fill-color);\n",
              "    animation:\n",
              "      spin 1s steps(1) infinite;\n",
              "  }\n",
              "\n",
              "  @keyframes spin {\n",
              "    0% {\n",
              "      border-color: transparent;\n",
              "      border-bottom-color: var(--fill-color);\n",
              "      border-left-color: var(--fill-color);\n",
              "    }\n",
              "    20% {\n",
              "      border-color: transparent;\n",
              "      border-left-color: var(--fill-color);\n",
              "      border-top-color: var(--fill-color);\n",
              "    }\n",
              "    30% {\n",
              "      border-color: transparent;\n",
              "      border-left-color: var(--fill-color);\n",
              "      border-top-color: var(--fill-color);\n",
              "      border-right-color: var(--fill-color);\n",
              "    }\n",
              "    40% {\n",
              "      border-color: transparent;\n",
              "      border-right-color: var(--fill-color);\n",
              "      border-top-color: var(--fill-color);\n",
              "    }\n",
              "    60% {\n",
              "      border-color: transparent;\n",
              "      border-right-color: var(--fill-color);\n",
              "    }\n",
              "    80% {\n",
              "      border-color: transparent;\n",
              "      border-right-color: var(--fill-color);\n",
              "      border-bottom-color: var(--fill-color);\n",
              "    }\n",
              "    90% {\n",
              "      border-color: transparent;\n",
              "      border-bottom-color: var(--fill-color);\n",
              "    }\n",
              "  }\n",
              "</style>\n",
              "\n",
              "  <script>\n",
              "    async function quickchart(key) {\n",
              "      const quickchartButtonEl =\n",
              "        document.querySelector('#' + key + ' button');\n",
              "      quickchartButtonEl.disabled = true;  // To prevent multiple clicks.\n",
              "      quickchartButtonEl.classList.add('colab-df-spinner');\n",
              "      try {\n",
              "        const charts = await google.colab.kernel.invokeFunction(\n",
              "            'suggestCharts', [key], {});\n",
              "      } catch (error) {\n",
              "        console.error('Error during call to suggestCharts:', error);\n",
              "      }\n",
              "      quickchartButtonEl.classList.remove('colab-df-spinner');\n",
              "      quickchartButtonEl.classList.add('colab-df-quickchart-complete');\n",
              "    }\n",
              "    (() => {\n",
              "      let quickchartButtonEl =\n",
              "        document.querySelector('#df-9e31f90c-bbbc-4304-a32b-175d0dd8912e button');\n",
              "      quickchartButtonEl.style.display =\n",
              "        google.colab.kernel.accessAllowed ? 'block' : 'none';\n",
              "    })();\n",
              "  </script>\n",
              "</div>\n",
              "    </div>\n",
              "  </div>\n"
            ]
          },
          "metadata": {},
          "execution_count": 27
        }
      ],
      "metadata": {
        "ExecuteTime": {
          "end_time": "2021-01-21T20:37:30.992952Z",
          "start_time": "2021-01-21T20:37:30.945801Z"
        },
        "colab": {
          "base_uri": "https://localhost:8080/",
          "height": 204
        },
        "id": "IDAZUm6ohBv8",
        "outputId": "1538a1b5-e77d-4edb-f415-6c13b57bee4a"
      }
    },
    {
      "cell_type": "code",
      "execution_count": 28,
      "source": [
        "series_v = pd.concat([series_1, series_2], axis=0, ignore_index=True) #vertical\n",
        "series_v"
      ],
      "outputs": [
        {
          "output_type": "execute_result",
          "data": {
            "text/plain": [
              "0    0\n",
              "1    1\n",
              "2    2\n",
              "3    3\n",
              "4    4\n",
              "5    a\n",
              "6    b\n",
              "7    c\n",
              "8    d\n",
              "9    e\n",
              "dtype: object"
            ]
          },
          "metadata": {},
          "execution_count": 28
        }
      ],
      "metadata": {
        "ExecuteTime": {
          "end_time": "2021-01-21T20:38:13.104789Z",
          "start_time": "2021-01-21T20:38:13.084688Z"
        },
        "colab": {
          "base_uri": "https://localhost:8080/"
        },
        "id": "oMc0-d1-hBv9",
        "outputId": "c3b9616f-d1df-46ee-9cc2-768a18e8698e"
      }
    },
    {
      "cell_type": "markdown",
      "source": [
        "15 - Filtre os elementos de series_1 que também se entram na series_2.\n",
        "\n",
        "series_1 = pd.Series ([9, 11, 6, 10, 3, 1, 15, 8, 13])\n",
        "\n",
        "series_2 = pd.Series ([1, 3, 11, 14])"
      ],
      "metadata": {
        "ExecuteTime": {
          "end_time": "2020-03-02T07:51:22.858003Z",
          "start_time": "2020-03-02T07:51:22.848319Z"
        },
        "id": "8XCFAfhJhBv-"
      }
    },
    {
      "cell_type": "code",
      "execution_count": 30,
      "source": [
        "series_1 = pd.Series ([9, 11, 6, 10, 3, 1, 15, 8, 13])\n",
        "\n",
        "series_2 = pd.Series ([1, 3, 11, 14])"
      ],
      "outputs": [],
      "metadata": {
        "ExecuteTime": {
          "end_time": "2021-01-21T20:38:47.220403Z",
          "start_time": "2021-01-21T20:38:47.200876Z"
        },
        "id": "3reAgNQGhBv_"
      }
    },
    {
      "cell_type": "code",
      "execution_count": 31,
      "source": [
        "series_1[series_1.isin(series_2)]"
      ],
      "outputs": [
        {
          "output_type": "execute_result",
          "data": {
            "text/plain": [
              "1    11\n",
              "4     3\n",
              "5     1\n",
              "dtype: int64"
            ]
          },
          "metadata": {},
          "execution_count": 31
        }
      ],
      "metadata": {
        "ExecuteTime": {
          "end_time": "2021-01-21T20:49:53.582671Z",
          "start_time": "2021-01-21T20:49:53.573276Z"
        },
        "colab": {
          "base_uri": "https://localhost:8080/"
        },
        "id": "ocU3HUYhhBv_",
        "outputId": "4bdfcc96-5cbe-403d-8705-a945cb5a05d2"
      }
    },
    {
      "cell_type": "markdown",
      "source": [
        "16 - Capitalize a primeira letra de cada elemento da seguinte series:\n",
        "\n",
        "my_phrase = pd.Series(['como', 'domina', 'a', 'programação', 'em', 'Python?'])\n"
      ],
      "metadata": {
        "id": "HC3qzXTMhBwD"
      }
    },
    {
      "cell_type": "code",
      "execution_count": 32,
      "source": [
        "my_phrase = pd.Series(['como', 'domina', 'a', 'programação', 'em', 'Python?'])"
      ],
      "outputs": [],
      "metadata": {
        "ExecuteTime": {
          "end_time": "2021-01-21T21:28:54.733099Z",
          "start_time": "2021-01-21T21:28:54.727100Z"
        },
        "id": "WFmUHEiLhBwD"
      }
    },
    {
      "cell_type": "code",
      "execution_count": 33,
      "source": [
        "my_phrase.str.title()"
      ],
      "outputs": [
        {
          "output_type": "execute_result",
          "data": {
            "text/plain": [
              "0           Como\n",
              "1         Domina\n",
              "2              A\n",
              "3    Programação\n",
              "4             Em\n",
              "5        Python?\n",
              "dtype: object"
            ]
          },
          "metadata": {},
          "execution_count": 33
        }
      ],
      "metadata": {
        "ExecuteTime": {
          "end_time": "2021-01-21T21:29:21.915220Z",
          "start_time": "2021-01-21T21:29:21.899145Z"
        },
        "colab": {
          "base_uri": "https://localhost:8080/"
        },
        "id": "G1AMW9IShBwD",
        "outputId": "93baaff7-6a86-49f1-b6ee-51bf087b1959"
      }
    },
    {
      "cell_type": "code",
      "execution_count": 35,
      "source": [
        "pd.Series([i.title() for i in my_phrase])"
      ],
      "outputs": [
        {
          "output_type": "execute_result",
          "data": {
            "text/plain": [
              "0           Como\n",
              "1         Domina\n",
              "2              A\n",
              "3    Programação\n",
              "4             Em\n",
              "5        Python?\n",
              "dtype: object"
            ]
          },
          "metadata": {},
          "execution_count": 35
        }
      ],
      "metadata": {
        "ExecuteTime": {
          "end_time": "2021-01-21T21:55:10.988850Z",
          "start_time": "2021-01-21T21:55:10.976296Z"
        },
        "colab": {
          "base_uri": "https://localhost:8080/"
        },
        "id": "IO4rGqPahBwE",
        "outputId": "d1dec06f-943f-419b-a10a-e8a141e0dcd8"
      }
    },
    {
      "cell_type": "code",
      "execution_count": 34,
      "source": [
        "my_phrase.map(lambda x : x.title())"
      ],
      "outputs": [
        {
          "output_type": "execute_result",
          "data": {
            "text/plain": [
              "0           Como\n",
              "1         Domina\n",
              "2              A\n",
              "3    Programação\n",
              "4             Em\n",
              "5        Python?\n",
              "dtype: object"
            ]
          },
          "metadata": {},
          "execution_count": 34
        }
      ],
      "metadata": {
        "ExecuteTime": {
          "end_time": "2021-01-21T21:49:50.590686Z",
          "start_time": "2021-01-21T21:49:50.581091Z"
        },
        "colab": {
          "base_uri": "https://localhost:8080/"
        },
        "id": "h5_t8M64hBwE",
        "outputId": "5a3f9f3d-b4a7-4ae4-ccc3-6f7118792617"
      }
    },
    {
      "cell_type": "markdown",
      "source": [
        "17 - Calcule o número de caracteres de cada elemento da serie anterior."
      ],
      "metadata": {
        "id": "ZeHZ8vyDhBwE"
      }
    },
    {
      "cell_type": "code",
      "execution_count": 37,
      "source": [
        "pd.Series([len(i) for i in my_phrase], index=my_phrase)"
      ],
      "outputs": [
        {
          "output_type": "execute_result",
          "data": {
            "text/plain": [
              "como            4\n",
              "domina          6\n",
              "a               1\n",
              "programação    11\n",
              "em              2\n",
              "Python?         7\n",
              "dtype: int64"
            ]
          },
          "metadata": {},
          "execution_count": 37
        }
      ],
      "metadata": {
        "ExecuteTime": {
          "end_time": "2021-01-21T21:58:44.012591Z",
          "start_time": "2021-01-21T21:58:43.997484Z"
        },
        "colab": {
          "base_uri": "https://localhost:8080/"
        },
        "id": "rumfwmg5hBwG",
        "outputId": "78af517f-5431-407f-89c4-bfeaf78d97f0"
      }
    },
    {
      "cell_type": "code",
      "execution_count": 36,
      "source": [
        "my_phrase.map(lambda x: len(x))"
      ],
      "outputs": [
        {
          "output_type": "execute_result",
          "data": {
            "text/plain": [
              "0     4\n",
              "1     6\n",
              "2     1\n",
              "3    11\n",
              "4     2\n",
              "5     7\n",
              "dtype: int64"
            ]
          },
          "metadata": {},
          "execution_count": 36
        }
      ],
      "metadata": {
        "ExecuteTime": {
          "end_time": "2021-01-21T21:56:29.817436Z",
          "start_time": "2021-01-21T21:56:29.804415Z"
        },
        "colab": {
          "base_uri": "https://localhost:8080/"
        },
        "id": "taLagiJhhBwF",
        "outputId": "2c96e4d3-ddde-49ab-8c3e-3ca34cf0daa3"
      }
    },
    {
      "cell_type": "markdown",
      "source": [
        "18 - Calcule o número de valores únicos da seguinte series:\n",
        "\n",
        "numbers = pd.Series([2, 8, 3, 5, 8, 10, 2, 2, 3])"
      ],
      "metadata": {
        "ExecuteTime": {
          "end_time": "2020-03-02T07:59:28.860357Z",
          "start_time": "2020-03-02T07:59:28.853633Z"
        },
        "id": "80o7ytoOhBwH"
      }
    },
    {
      "cell_type": "code",
      "execution_count": 38,
      "source": [
        "numbers = pd.Series([2, 8, 3, 5, 8, 10, 2, 2, 3])"
      ],
      "outputs": [],
      "metadata": {
        "ExecuteTime": {
          "end_time": "2021-01-21T21:59:29.064660Z",
          "start_time": "2021-01-21T21:59:29.048577Z"
        },
        "id": "lE6FF_xDhBwH"
      }
    },
    {
      "cell_type": "code",
      "execution_count": 39,
      "source": [
        "numbers.nunique()"
      ],
      "outputs": [
        {
          "output_type": "execute_result",
          "data": {
            "text/plain": [
              "5"
            ]
          },
          "metadata": {},
          "execution_count": 39
        }
      ],
      "metadata": {
        "ExecuteTime": {
          "end_time": "2021-01-21T21:59:48.006603Z",
          "start_time": "2021-01-21T21:59:47.990557Z"
        },
        "colab": {
          "base_uri": "https://localhost:8080/"
        },
        "id": "ZIYTfnSbhBwI",
        "outputId": "8dd9fffc-2dce-4a43-e1f3-7295d8ff8291"
      }
    },
    {
      "cell_type": "markdown",
      "source": [
        "19 - Tendo em conta a series anterior, calcule a diferença entre elementos consecutivos."
      ],
      "metadata": {
        "id": "UGgAQVxIhBwI"
      }
    },
    {
      "cell_type": "code",
      "execution_count": 40,
      "source": [
        "numbers.diff()"
      ],
      "outputs": [
        {
          "output_type": "execute_result",
          "data": {
            "text/plain": [
              "0    NaN\n",
              "1    6.0\n",
              "2   -5.0\n",
              "3    2.0\n",
              "4    3.0\n",
              "5    2.0\n",
              "6   -8.0\n",
              "7    0.0\n",
              "8    1.0\n",
              "dtype: float64"
            ]
          },
          "metadata": {},
          "execution_count": 40
        }
      ],
      "metadata": {
        "colab": {
          "base_uri": "https://localhost:8080/"
        },
        "id": "7Iv-liurhBwJ",
        "outputId": "d32c7282-bb1b-4b32-bee9-55a5b5b6ac46"
      }
    },
    {
      "cell_type": "markdown",
      "source": [
        "20 - Tendo em conta o texto que se segue, liste os caracteres que menos ocorrem no texto.\n",
        "\n",
        "text = \"Explorar a vastidão do universo é uma tarefa desafiadora, mas fascinante. Na imensidão do espaço, descobrimos mistérios que nos intrigam e nos fazem questionar nosso lugar no cosmos.\""
      ],
      "metadata": {
        "id": "4lTG8JVUhBwJ"
      }
    },
    {
      "cell_type": "code",
      "execution_count": 41,
      "source": [
        "text = \"Explorar a vastidão do universo é uma tarefa desafiadora, mas fascinante. Na imensidão do espaço, descobrimos mistérios que nos intrigam e nos fazem questionar nosso lugar no cosmos.\"\n",
        "sr = pd.Series(list(text))\n",
        "freq = sr.value_counts()\n",
        "print(\"Caracteres menos frequentes:\")\n",
        "print(freq[freq == freq.min()])\n"
      ],
      "outputs": [
        {
          "output_type": "stream",
          "name": "stdout",
          "text": [
            "Caracteres menos frequentes:\n",
            "b    1\n",
            "E    1\n",
            "ç    1\n",
            "N    1\n",
            "x    1\n",
            "z    1\n",
            "dtype: int64\n"
          ]
        }
      ],
      "metadata": {
        "colab": {
          "base_uri": "https://localhost:8080/"
        },
        "id": "on86ZWLYhBwK",
        "outputId": "733f78e6-5179-4e8e-f6c7-1e38799139a5"
      }
    }
  ],
  "metadata": {
    "kernelspec": {
      "name": "python3",
      "display_name": "Python 3.8.8 64-bit ('base': conda)"
    },
    "language_info": {
      "codemirror_mode": {
        "name": "ipython",
        "version": 3
      },
      "file_extension": ".py",
      "mimetype": "text/x-python",
      "name": "python",
      "nbconvert_exporter": "python",
      "pygments_lexer": "ipython3",
      "version": "3.8.8"
    },
    "latex_envs": {
      "LaTeX_envs_menu_present": true,
      "autoclose": false,
      "autocomplete": true,
      "bibliofile": "biblio.bib",
      "cite_by": "apalike",
      "current_citInitial": 1,
      "eqLabelWithNumbers": true,
      "eqNumInitial": 1,
      "hotkeys": {
        "equation": "Ctrl-E",
        "itemize": "Ctrl-I"
      },
      "labels_anchors": false,
      "latex_user_defs": false,
      "report_style_numbering": false,
      "user_envs_cfg": false
    },
    "toc": {
      "base_numbering": 1,
      "nav_menu": {},
      "number_sections": true,
      "sideBar": true,
      "skip_h1_title": false,
      "title_cell": "Table of Contents",
      "title_sidebar": "Contents",
      "toc_cell": false,
      "toc_position": {
        "height": "calc(100% - 180px)",
        "left": "10px",
        "top": "150px",
        "width": "418.3831481933594px"
      },
      "toc_section_display": true,
      "toc_window_display": false
    },
    "varInspector": {
      "cols": {
        "lenName": 16,
        "lenType": 16,
        "lenVar": 40
      },
      "kernels_config": {
        "python": {
          "delete_cmd_postfix": "",
          "delete_cmd_prefix": "del ",
          "library": "var_list.py",
          "varRefreshCmd": "print(var_dic_list())"
        },
        "r": {
          "delete_cmd_postfix": ") ",
          "delete_cmd_prefix": "rm(",
          "library": "var_list.r",
          "varRefreshCmd": "cat(var_dic_list()) "
        }
      },
      "types_to_exclude": [
        "module",
        "function",
        "builtin_function_or_method",
        "instance",
        "_Feature"
      ],
      "window_display": false
    },
    "interpreter": {
      "hash": "a890e96c5bc2e34e713687d667dc1e925660c2a0af9c3a409dd6c550ddd944d3"
    },
    "colab": {
      "provenance": []
    }
  },
  "nbformat": 4,
  "nbformat_minor": 0
}